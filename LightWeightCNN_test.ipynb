{
  "nbformat": 4,
  "nbformat_minor": 0,
  "metadata": {
    "kernelspec": {
      "display_name": "Python 3",
      "language": "python",
      "name": "python3"
    },
    "language_info": {
      "codemirror_mode": {
        "name": "ipython",
        "version": 3
      },
      "file_extension": ".py",
      "mimetype": "text/x-python",
      "name": "python",
      "nbconvert_exporter": "python",
      "pygments_lexer": "ipython3",
      "version": "3.5.2"
    },
    "colab": {
      "name": "LightWeightCNN_test.ipynb",
      "provenance": []
    }
  },
  "cells": [
    {
      "cell_type": "markdown",
      "metadata": {
        "id": "A--2OTz6YhN4",
        "colab_type": "text"
      },
      "source": [
        "### 바벨스피치 - 텐서플로우 음성인식 예제\n",
        "\n",
        "[light_weight_cnn](https://www.kaggle.com/alphasis/light-weight-cnn-lb-0-74)\n",
        "\n",
        "\n",
        "### 1. 특징추출 \n",
        "#### 1-1 slicence - chop_audio 개선  (송치성님)\n",
        "#### 1-2 VAD 추가 (송치성님)\n",
        "#### 1-3 MFC coff, MFCC 추가 (김영범님, 김소윤님)\n",
        "#### 1-4 Kaldi 사용법 (번외, ?)\n",
        "\n",
        "### 2. 분류기\n",
        "#### 2-1 CNN 구조 변경 (박형순님)\n",
        "#### 2-2 다른 분류기 stacking 고민 (엄상원님/이상열님, 128개를 -> 다른 분류기를 사용한다던가?)\n",
        "#### 2-3 CV 개선 ?????????? (?)\n",
        "\n",
        "### 3. 실험 환경\n",
        "#### 3-1 aws-ec2 gpu 머신 실험 (이상열님/박형순님)\n",
        "#### 3-2 aws-emr s3, spark 실험 (내일 화요일 교육)\n",
        "\n",
        "\n",
        "\n",
        "\n",
        "### 머리말\n",
        "- 이 노트북은 light-weight CNN을 만드는 것을 목표로합니다.\n",
        "- 그것은 리샘플링 된 wav 파일 (속도 8000)의 specgram을 입력으로 사용합니다.\n",
        "- LB 0.74를 얻으려면 epoch를 5로 설정하고 chop_audio (num = 1000)을 설정하고 모든 Conv 레이어 매개 변수를 두 배로 설정해야합니다.\n",
        "- 이 스크립트는 Alex Ozerin의 기준선에 약간의 영향을 미치지 만 원본 WAV 파일 (16000 샘플 속도)을 사용하면 더 높은 점수를 얻을 수 있다고 생각합니다.\n",
        "\n",
        "\n",
        "### File Structure\n",
        "- This script assumes data are stored in following strcuture:\n",
        "\n",
        "speech\n",
        "\n",
        "├── test\n",
        "\n",
        "│ └── audio #test wavfiles\n",
        "\n",
        "├── train\n",
        "\n",
        "│ ├── audio #train wavfiles\n",
        "\n",
        "└── model #store models\n",
        "\n",
        "│\n",
        "\n",
        "└── out #store sub.csv\n",
        "\n",
        "### 이 스크립트 개선\n",
        "- 이것은 light-weight CNN이기 때문에 성능이 제한적입니다. 실력을 향상시키는 몇 가지 방법이 있습니다.\n",
        "- 샘플링 된 원본 wav 파일을 대신 사용하십시오.\n",
        "- chop_audio를 사용하여 더 많은 '무음' wav 파일을 만듭니다.\n",
        "- 더 깊은 CNN을 구축하거나 RNN을 사용하십시오.\n",
        "    - Train for longer epochs\n",
        "    - After Words\n",
        "    - It's still a long way to reach LB 0.88.\n",
        "- 사실, 나는 CNN이 그 높은 곳에 도달 할 수 있을지 의심 스럽다.\n",
        "- CNN을 사용하여 wav 파일에 라벨을 붙이는 것에 대한 의견 섹션에서 아이디어를 공유하십시오. "
      ]
    },
    {
      "cell_type": "code",
      "metadata": {
        "id": "J9QGBis2YhN-",
        "colab_type": "code",
        "colab": {},
        "outputId": "c54f75c9-509e-4d1e-b31e-02180c4f98f9"
      },
      "source": [
        "import os\n",
        "import numpy as np\n",
        "from scipy.fftpack import fft\n",
        "from scipy.io import wavfile\n",
        "from scipy import signal\n",
        "from glob import glob\n",
        "import re\n",
        "import pandas as pd\n",
        "import gc\n",
        "from scipy.io import wavfile\n",
        "\n",
        "from keras import optimizers, losses, activations, models\n",
        "from keras.layers import Convolution2D, Dense, Input, Flatten, Dropout, MaxPooling2D, BatchNormalization\n",
        "from sklearn.model_selection import train_test_split\n",
        "import keras"
      ],
      "execution_count": 0,
      "outputs": [
        {
          "output_type": "stream",
          "text": [
            "Using TensorFlow backend.\n"
          ],
          "name": "stderr"
        }
      ]
    },
    {
      "cell_type": "code",
      "metadata": {
        "id": "bU0SufSBYhOI",
        "colab_type": "code",
        "colab": {},
        "outputId": "907667b7-e1c4-498f-c502-70db7b3a31eb"
      },
      "source": [
        "import sys\n",
        "sys.version"
      ],
      "execution_count": 0,
      "outputs": [
        {
          "output_type": "execute_result",
          "data": {
            "text/plain": [
              "'3.5.2 (default, Nov 23 2017, 16:37:01) \\n[GCC 5.4.0 20160609]'"
            ]
          },
          "metadata": {
            "tags": []
          },
          "execution_count": 42
        }
      ]
    },
    {
      "cell_type": "markdown",
      "metadata": {
        "id": "HU5XeeaqYhON",
        "colab_type": "text"
      },
      "source": [
        "- The original sample rate is 16000, and we will resample it to 8000 to reduce data size."
      ]
    },
    {
      "cell_type": "code",
      "metadata": {
        "id": "Kb71AcSXYhOP",
        "colab_type": "code",
        "colab": {}
      },
      "source": [
        "L = 16000\n",
        "legal_labels = 'yes no up down left right on off stop go silence unknown'.split()\n",
        "\n",
        "#src folders\n",
        "root_path = r'.'\n",
        "out_path = r'.'\n",
        "model_path = r'.'\n",
        "train_data_path = os.path.join(root_path, 'input', 'train', 'audio')\n",
        "test_data_path = os.path.join(root_path, 'input', 'test', 'audio')"
      ],
      "execution_count": 0,
      "outputs": []
    },
    {
      "cell_type": "code",
      "metadata": {
        "id": "yi3_pWcCYhOV",
        "colab_type": "code",
        "colab": {},
        "outputId": "e083ee0b-2824-45be-f070-95fa6113f3b5"
      },
      "source": [
        "test_data_path"
      ],
      "execution_count": 0,
      "outputs": [
        {
          "output_type": "execute_result",
          "data": {
            "text/plain": [
              "'./input/test/audio'"
            ]
          },
          "metadata": {
            "tags": []
          },
          "execution_count": 3
        }
      ]
    },
    {
      "cell_type": "code",
      "metadata": {
        "id": "aYDQR1KaYhOb",
        "colab_type": "code",
        "colab": {}
      },
      "source": [
        "def custom_fft(y, fs):\n",
        "    T = 1.0 / fs\n",
        "    N = y.shape[0]\n",
        "    yf = fft(y)\n",
        "    xf = np.linspace(0.0, 1.0/(2.0*T), N//2)\n",
        "    # FFT is simmetrical, so we take just the first half\n",
        "    # FFT is also complex, to we take just the real part (abs)\n",
        "    vals = 2.0/N * np.abs(yf[0:N//2])\n",
        "    return xf, vals\n",
        "\n",
        "def log_specgram(audio, sample_rate, window_size=20,\n",
        "                 step_size=10, eps=1e-10):\n",
        "    nperseg = int(round(window_size * sample_rate / 1e3))\n",
        "    noverlap = int(round(step_size * sample_rate / 1e3))\n",
        "    freqs, times, spec = signal.spectrogram(audio,\n",
        "                                    fs=sample_rate,\n",
        "                                    window='hann',\n",
        "                                    nperseg=nperseg,\n",
        "                                    noverlap=noverlap,\n",
        "                                    detrend=False)\n",
        "    return freqs, times, np.log(spec.T.astype(np.float32) + eps)"
      ],
      "execution_count": 0,
      "outputs": []
    },
    {
      "cell_type": "code",
      "metadata": {
        "id": "X9Bvlz86YhOf",
        "colab_type": "code",
        "colab": {}
      },
      "source": [
        "def list_wavs_fname(dirpath, ext='wav'):\n",
        "    print(dirpath)\n",
        "    fpaths = glob(os.path.join(dirpath, r'*/*' + ext))\n",
        "    pat = r'.+/(\\w+)/\\w+\\.' + ext + '$'\n",
        "    labels = []\n",
        "    for fpath in fpaths:\n",
        "        r = re.match(pat, fpath)\n",
        "        if r:\n",
        "            labels.append(r.group(1))\n",
        "    pat = r'.+/(\\w+\\.' + ext + ')$'\n",
        "    fnames = []\n",
        "    for fpath in fpaths:\n",
        "        r = re.match(pat, fpath)\n",
        "        if r:\n",
        "            fnames.append(r.group(1))\n",
        "    return labels, fnames"
      ],
      "execution_count": 0,
      "outputs": []
    },
    {
      "cell_type": "markdown",
      "metadata": {
        "id": "VMTWxGQ7YhOl",
        "colab_type": "text"
      },
      "source": [
        "- pad_audio는 모두 16000(1 초) 미만의 오디오를 0으로 채워서 모두 길이가 동일하게 만듭니다.\n",
        "\n",
        "- chop_audio는 16000보다 큰 오디오 (예 : 배경 노이즈 폴더의 wav 파일)를 16000 길이로 잘라냅니다. 또한 매개 변수 'num'이 주어지면 하나의 큰 wav 파일에서 여러 개의 청크가 만들어집니다.\n",
        "\n",
        "- label_transform 라벨을 dummies 값으로 변환합니다. softmax와 함께 사용되어 라벨을 예측합니다."
      ]
    },
    {
      "cell_type": "code",
      "metadata": {
        "id": "7A4oSoWgYhOm",
        "colab_type": "code",
        "colab": {}
      },
      "source": [
        "def pad_audio(samples):\n",
        "    if len(samples) >= L: return samples\n",
        "    else: return np.pad(samples, pad_width=(L - len(samples), 0), mode='constant', constant_values=(0, 0))\n",
        "\n",
        "def chop_audio(samples, L=16000, num=20):\n",
        "    for i in range(num):\n",
        "        beg = np.random.randint(0, len(samples) - L)\n",
        "        yield samples[beg: beg + L]\n",
        "\n",
        "def label_transform(labels):\n",
        "    nlabels = []\n",
        "    for label in labels:\n",
        "        if label == '_background_noise_':\n",
        "            nlabels.append('silence')\n",
        "        elif label not in legal_labels:\n",
        "            nlabels.append('unknown')\n",
        "        else:\n",
        "            nlabels.append(label)\n",
        "    return pd.get_dummies(pd.Series(nlabels))"
      ],
      "execution_count": 0,
      "outputs": []
    },
    {
      "cell_type": "markdown",
      "metadata": {
        "id": "u-E3kOejYhOr",
        "colab_type": "text"
      },
      "source": [
        "- 다음으로 위에서 선언 한 함수를 사용하여 x_train과 y_train을 생성합니다.\n",
        "- label_index는 더미 값을 만들기 위해 팬더가 사용하는 인덱스입니다. 나중에 사용할 수 있도록 저장해야 합니다."
      ]
    },
    {
      "cell_type": "code",
      "metadata": {
        "id": "ZkLMXY0mYhOs",
        "colab_type": "code",
        "colab": {},
        "outputId": "90f8d076-e3a4-4265-c495-dd883d060c32"
      },
      "source": [
        "labels, fnames = list_wavs_fname(train_data_path)\n",
        "\n",
        "new_sample_rate = 8000\n",
        "y_train = []\n",
        "x_train = []"
      ],
      "execution_count": 0,
      "outputs": [
        {
          "output_type": "stream",
          "text": [
            "./input/train/audio\n"
          ],
          "name": "stdout"
        }
      ]
    },
    {
      "cell_type": "code",
      "metadata": {
        "id": "w2DYVnbUYhOx",
        "colab_type": "code",
        "colab": {},
        "outputId": "a7c676d1-6920-4fa7-d93f-f8f03ef20ee7"
      },
      "source": [
        "len(labels)"
      ],
      "execution_count": 0,
      "outputs": [
        {
          "output_type": "execute_result",
          "data": {
            "text/plain": [
              "64727"
            ]
          },
          "metadata": {
            "tags": []
          },
          "execution_count": 8
        }
      ]
    },
    {
      "cell_type": "code",
      "metadata": {
        "id": "YZzJzArfYhO6",
        "colab_type": "code",
        "colab": {},
        "outputId": "955f7caa-5c9e-4975-a1eb-91b5eef22eb2"
      },
      "source": [
        "len(fnames)"
      ],
      "execution_count": 0,
      "outputs": [
        {
          "output_type": "execute_result",
          "data": {
            "text/plain": [
              "64727"
            ]
          },
          "metadata": {
            "tags": []
          },
          "execution_count": 9
        }
      ]
    },
    {
      "cell_type": "code",
      "metadata": {
        "id": "WV41yfXLYhPA",
        "colab_type": "code",
        "colab": {},
        "outputId": "62c6f856-6d01-45bd-d3a1-a36fae7e8ac0"
      },
      "source": [
        "for label, fname in zip(labels, fnames):\n",
        "    sample_rate, samples = wavfile.read(os.path.join(train_data_path, label, fname))\n",
        "    samples = pad_audio(samples)\n",
        "    if len(samples) > 16000:\n",
        "        n_samples = chop_audio(samples)\n",
        "    else: n_samples = [samples]\n",
        "    for samples in n_samples:\n",
        "        resampled = signal.resample(samples, int(new_sample_rate / sample_rate * samples.shape[0]))\n",
        "        _, _, specgram = log_specgram(resampled, sample_rate=new_sample_rate)\n",
        "        y_train.append(label)\n",
        "        x_train.append(specgram)"
      ],
      "execution_count": 0,
      "outputs": [
        {
          "output_type": "stream",
          "text": [
            "/usr/local/lib/python3.5/dist-packages/scipy/io/wavfile.py:273: WavFileWarning: Chunk (non-data) not understood, skipping it.\n",
            "  WavFileWarning)\n"
          ],
          "name": "stderr"
        }
      ]
    },
    {
      "cell_type": "code",
      "metadata": {
        "id": "ooFgpSEeYhPN",
        "colab_type": "code",
        "colab": {},
        "outputId": "826d51a7-9580-443a-fba6-d688fd8be2fe"
      },
      "source": [
        "type(y_train)"
      ],
      "execution_count": 0,
      "outputs": [
        {
          "output_type": "execute_result",
          "data": {
            "text/plain": [
              "list"
            ]
          },
          "metadata": {
            "tags": []
          },
          "execution_count": 114
        }
      ]
    },
    {
      "cell_type": "code",
      "metadata": {
        "id": "Xti4iA1vYhPb",
        "colab_type": "code",
        "colab": {},
        "outputId": "e643547f-a31f-4fe9-acd2-ed59edb7bd67"
      },
      "source": [
        "len(x_train)"
      ],
      "execution_count": 0,
      "outputs": [
        {
          "output_type": "execute_result",
          "data": {
            "text/plain": [
              "64841"
            ]
          },
          "metadata": {
            "tags": []
          },
          "execution_count": 11
        }
      ]
    },
    {
      "cell_type": "code",
      "metadata": {
        "id": "XvIXZkhXYhPj",
        "colab_type": "code",
        "colab": {}
      },
      "source": [
        "x_train = np.array(x_train)\n",
        "x_train = x_train.reshape(tuple(list(x_train.shape) + [1]))"
      ],
      "execution_count": 0,
      "outputs": []
    },
    {
      "cell_type": "code",
      "metadata": {
        "id": "bFCgLV9oYhPp",
        "colab_type": "code",
        "colab": {},
        "outputId": "fb148000-ca0f-45ce-880f-bbb1c2c9fa96"
      },
      "source": [
        "x_train.shape"
      ],
      "execution_count": 0,
      "outputs": [
        {
          "output_type": "execute_result",
          "data": {
            "text/plain": [
              "(64841, 99, 81, 1)"
            ]
          },
          "metadata": {
            "tags": []
          },
          "execution_count": 13
        }
      ]
    },
    {
      "cell_type": "code",
      "metadata": {
        "id": "QpY6qgJpYhPt",
        "colab_type": "code",
        "colab": {},
        "outputId": "9174bee3-cc5b-4451-b197-e9cf3bfeed7c"
      },
      "source": [
        "x_train.ndim"
      ],
      "execution_count": 0,
      "outputs": [
        {
          "output_type": "execute_result",
          "data": {
            "text/plain": [
              "4"
            ]
          },
          "metadata": {
            "tags": []
          },
          "execution_count": 14
        }
      ]
    },
    {
      "cell_type": "code",
      "metadata": {
        "id": "Z3GA0kXYYhP4",
        "colab_type": "code",
        "colab": {}
      },
      "source": [
        "y_train = label_transform(y_train)\n",
        "label_index = y_train.columns.values"
      ],
      "execution_count": 0,
      "outputs": []
    },
    {
      "cell_type": "code",
      "metadata": {
        "id": "GSFMMtVQYhP9",
        "colab_type": "code",
        "colab": {},
        "outputId": "c5fa92d6-2f10-4422-a0e3-1beeadbaece0"
      },
      "source": [
        "label_index"
      ],
      "execution_count": 0,
      "outputs": [
        {
          "output_type": "execute_result",
          "data": {
            "text/plain": [
              "array(['down', 'go', 'left', 'no', 'off', 'on', 'right', 'silence', 'stop',\n",
              "       'unknown', 'up', 'yes'], dtype=object)"
            ]
          },
          "metadata": {
            "tags": []
          },
          "execution_count": 16
        }
      ]
    },
    {
      "cell_type": "code",
      "metadata": {
        "id": "vsAZrZluYhQE",
        "colab_type": "code",
        "colab": {}
      },
      "source": [
        "y_train = y_train.values\n",
        "y_train = np.array(y_train)\n",
        "#del labels, fnames\n",
        "#gc.collect()"
      ],
      "execution_count": 0,
      "outputs": []
    },
    {
      "cell_type": "code",
      "metadata": {
        "id": "fjHoBXcmYhQV",
        "colab_type": "code",
        "colab": {},
        "outputId": "8fe5ca2a-29b1-4ae2-bcdd-824b96762b69"
      },
      "source": [
        "y_train"
      ],
      "execution_count": 0,
      "outputs": [
        {
          "output_type": "execute_result",
          "data": {
            "text/plain": [
              "array([[0, 0, 1, ..., 0, 0, 0],\n",
              "       [0, 0, 1, ..., 0, 0, 0],\n",
              "       [0, 0, 1, ..., 0, 0, 0],\n",
              "       ..., \n",
              "       [0, 0, 0, ..., 0, 0, 0],\n",
              "       [0, 0, 0, ..., 0, 0, 0],\n",
              "       [0, 0, 0, ..., 0, 0, 0]], dtype=uint8)"
            ]
          },
          "metadata": {
            "tags": []
          },
          "execution_count": 18
        }
      ]
    },
    {
      "cell_type": "code",
      "metadata": {
        "id": "ZCW_AaGfYhQi",
        "colab_type": "code",
        "colab": {},
        "outputId": "6dcb9d00-5060-4d46-e790-eb1dab855954"
      },
      "source": [
        "y_train.shape"
      ],
      "execution_count": 0,
      "outputs": [
        {
          "output_type": "execute_result",
          "data": {
            "text/plain": [
              "(64841, 12)"
            ]
          },
          "metadata": {
            "tags": []
          },
          "execution_count": 19
        }
      ]
    },
    {
      "cell_type": "code",
      "metadata": {
        "id": "k_g1mWRaYhQm",
        "colab_type": "code",
        "colab": {}
      },
      "source": [
        "input_shape = (99, 81, 1)\n",
        "nclass = 12"
      ],
      "execution_count": 0,
      "outputs": []
    },
    {
      "cell_type": "code",
      "metadata": {
        "id": "GYW_rjEtYhQs",
        "colab_type": "code",
        "colab": {}
      },
      "source": [
        "inp = Input(shape=input_shape)\n",
        "norm_inp = BatchNormalization()(inp)"
      ],
      "execution_count": 0,
      "outputs": []
    },
    {
      "cell_type": "code",
      "metadata": {
        "id": "Q2R2e9BCYhQz",
        "colab_type": "code",
        "colab": {},
        "outputId": "f58b5531-73d4-4b6b-e64d-a7e4ca889829"
      },
      "source": [
        "inp"
      ],
      "execution_count": 0,
      "outputs": [
        {
          "output_type": "execute_result",
          "data": {
            "text/plain": [
              "<tf.Tensor 'input_1:0' shape=(?, 99, 81, 1) dtype=float32>"
            ]
          },
          "metadata": {
            "tags": []
          },
          "execution_count": 22
        }
      ]
    },
    {
      "cell_type": "code",
      "metadata": {
        "id": "2n15ELc6YhQ4",
        "colab_type": "code",
        "colab": {},
        "outputId": "bf15b4f7-2c5d-49b9-abb9-f47698032ad5"
      },
      "source": [
        "norm_inp"
      ],
      "execution_count": 0,
      "outputs": [
        {
          "output_type": "execute_result",
          "data": {
            "text/plain": [
              "<tf.Tensor 'batch_normalization_1/cond/Merge:0' shape=(?, 99, 81, 1) dtype=float32>"
            ]
          },
          "metadata": {
            "tags": []
          },
          "execution_count": 23
        }
      ]
    },
    {
      "cell_type": "code",
      "metadata": {
        "id": "AWRrL2b1YhRA",
        "colab_type": "code",
        "colab": {}
      },
      "source": [
        "img_1 = Convolution2D(8, kernel_size=2, activation=activations.relu)(norm_inp)\n",
        "img_1 = Convolution2D(8, kernel_size=2, activation=activations.relu)(img_1)\n",
        "img_1 = MaxPooling2D(pool_size=(2, 2))(img_1)\n",
        "img_1 = Dropout(rate=0.2)(img_1)\n",
        "img_1 = Convolution2D(16, kernel_size=3, activation=activations.relu)(img_1)\n",
        "img_1 = Convolution2D(16, kernel_size=3, activation=activations.relu)(img_1)\n",
        "img_1 = MaxPooling2D(pool_size=(2, 2))(img_1)\n",
        "img_1 = Dropout(rate=0.2)(img_1)\n",
        "img_1 = Convolution2D(32, kernel_size=3, activation=activations.relu)(img_1)\n",
        "img_1 = MaxPooling2D(pool_size=(2, 2))(img_1)\n",
        "img_1 = Dropout(rate=0.2)(img_1)\n",
        "img_1 = Flatten()(img_1)"
      ],
      "execution_count": 0,
      "outputs": []
    },
    {
      "cell_type": "code",
      "metadata": {
        "id": "qFShtKq0YhRE",
        "colab_type": "code",
        "colab": {},
        "outputId": "07e2b4ae-01e0-4a70-9b71-1d7b4026c6da"
      },
      "source": [
        "img_1"
      ],
      "execution_count": 0,
      "outputs": [
        {
          "output_type": "execute_result",
          "data": {
            "text/plain": [
              "<tf.Tensor 'flatten_1/Reshape:0' shape=(?, ?) dtype=float32>"
            ]
          },
          "metadata": {
            "tags": []
          },
          "execution_count": 25
        }
      ]
    },
    {
      "cell_type": "code",
      "metadata": {
        "id": "nRSmsTnWYhRJ",
        "colab_type": "code",
        "colab": {}
      },
      "source": [
        "dense_1 = BatchNormalization()(Dense(128, activation=activations.relu)(img_1))\n",
        "dense_1 = BatchNormalization()(Dense(128, activation=activations.relu)(dense_1))\n",
        "dense_1 = Dense(nclass, activation=activations.softmax)(dense_1)"
      ],
      "execution_count": 0,
      "outputs": []
    },
    {
      "cell_type": "code",
      "metadata": {
        "id": "lhbzKC2hYhRS",
        "colab_type": "code",
        "colab": {},
        "outputId": "2dfcc7df-6c01-4fa2-99cc-09d473826ab6"
      },
      "source": [
        "dense_1"
      ],
      "execution_count": 0,
      "outputs": [
        {
          "output_type": "execute_result",
          "data": {
            "text/plain": [
              "<tf.Tensor 'dense_3/Softmax:0' shape=(?, 12) dtype=float32>"
            ]
          },
          "metadata": {
            "tags": []
          },
          "execution_count": 27
        }
      ]
    },
    {
      "cell_type": "code",
      "metadata": {
        "id": "1E5GyfhXYhRW",
        "colab_type": "code",
        "colab": {}
      },
      "source": [
        "model = models.Model(inputs=inp, outputs=dense_1)\n",
        "opt = optimizers.Adam()"
      ],
      "execution_count": 0,
      "outputs": []
    },
    {
      "cell_type": "code",
      "metadata": {
        "id": "fjVhZv2zYhRk",
        "colab_type": "code",
        "colab": {},
        "outputId": "63c66504-10da-45d8-e47a-0eaf45d5abab"
      },
      "source": [
        "model"
      ],
      "execution_count": 0,
      "outputs": [
        {
          "output_type": "execute_result",
          "data": {
            "text/plain": [
              "<keras.engine.training.Model at 0x7fc5c7f77cc0>"
            ]
          },
          "metadata": {
            "tags": []
          },
          "execution_count": 29
        }
      ]
    },
    {
      "cell_type": "code",
      "metadata": {
        "id": "wEeRoi-NYhRq",
        "colab_type": "code",
        "colab": {},
        "outputId": "15c3e56f-3ebc-47a2-89a2-8ce3def7084a"
      },
      "source": [
        "opt"
      ],
      "execution_count": 0,
      "outputs": [
        {
          "output_type": "execute_result",
          "data": {
            "text/plain": [
              "<keras.optimizers.Adam at 0x7fc5c7f77a90>"
            ]
          },
          "metadata": {
            "tags": []
          },
          "execution_count": 30
        }
      ]
    },
    {
      "cell_type": "code",
      "metadata": {
        "id": "XV9zAC7iYhR0",
        "colab_type": "code",
        "colab": {},
        "outputId": "6196970e-0cc8-4dd0-b439-6cec9f2803a9"
      },
      "source": [
        "model.compile(optimizer=opt, loss=losses.binary_crossentropy)\n",
        "model.summary()"
      ],
      "execution_count": 0,
      "outputs": [
        {
          "output_type": "stream",
          "text": [
            "_________________________________________________________________\n",
            "Layer (type)                 Output Shape              Param #   \n",
            "=================================================================\n",
            "input_1 (InputLayer)         (None, 99, 81, 1)         0         \n",
            "_________________________________________________________________\n",
            "batch_normalization_1 (Batch (None, 99, 81, 1)         4         \n",
            "_________________________________________________________________\n",
            "conv2d_1 (Conv2D)            (None, 98, 80, 8)         40        \n",
            "_________________________________________________________________\n",
            "conv2d_2 (Conv2D)            (None, 97, 79, 8)         264       \n",
            "_________________________________________________________________\n",
            "max_pooling2d_1 (MaxPooling2 (None, 48, 39, 8)         0         \n",
            "_________________________________________________________________\n",
            "dropout_1 (Dropout)          (None, 48, 39, 8)         0         \n",
            "_________________________________________________________________\n",
            "conv2d_3 (Conv2D)            (None, 46, 37, 16)        1168      \n",
            "_________________________________________________________________\n",
            "conv2d_4 (Conv2D)            (None, 44, 35, 16)        2320      \n",
            "_________________________________________________________________\n",
            "max_pooling2d_2 (MaxPooling2 (None, 22, 17, 16)        0         \n",
            "_________________________________________________________________\n",
            "dropout_2 (Dropout)          (None, 22, 17, 16)        0         \n",
            "_________________________________________________________________\n",
            "conv2d_5 (Conv2D)            (None, 20, 15, 32)        4640      \n",
            "_________________________________________________________________\n",
            "max_pooling2d_3 (MaxPooling2 (None, 10, 7, 32)         0         \n",
            "_________________________________________________________________\n",
            "dropout_3 (Dropout)          (None, 10, 7, 32)         0         \n",
            "_________________________________________________________________\n",
            "flatten_1 (Flatten)          (None, 2240)              0         \n",
            "_________________________________________________________________\n",
            "dense_1 (Dense)              (None, 128)               286848    \n",
            "_________________________________________________________________\n",
            "batch_normalization_2 (Batch (None, 128)               512       \n",
            "_________________________________________________________________\n",
            "dense_2 (Dense)              (None, 128)               16512     \n",
            "_________________________________________________________________\n",
            "batch_normalization_3 (Batch (None, 128)               512       \n",
            "_________________________________________________________________\n",
            "dense_3 (Dense)              (None, 12)                1548      \n",
            "=================================================================\n",
            "Total params: 314,368\n",
            "Trainable params: 313,854\n",
            "Non-trainable params: 514\n",
            "_________________________________________________________________\n"
          ],
          "name": "stdout"
        }
      ]
    },
    {
      "cell_type": "code",
      "metadata": {
        "id": "a3eaJaEfYhR6",
        "colab_type": "code",
        "colab": {}
      },
      "source": [
        "xtrain, xvalid, ytrain, yvalid = train_test_split(x_train, y_train, test_size=0.1, random_state=2017)"
      ],
      "execution_count": 0,
      "outputs": []
    },
    {
      "cell_type": "code",
      "metadata": {
        "id": "Osh4EBW8YhSA",
        "colab_type": "code",
        "colab": {},
        "outputId": "de212a2d-55de-4cfd-c662-5079f566789c"
      },
      "source": [
        "xtrain.shape"
      ],
      "execution_count": 0,
      "outputs": [
        {
          "output_type": "execute_result",
          "data": {
            "text/plain": [
              "(58356, 99, 81, 1)"
            ]
          },
          "metadata": {
            "tags": []
          },
          "execution_count": 44
        }
      ]
    },
    {
      "cell_type": "code",
      "metadata": {
        "id": "KuxJmJe2YhSE",
        "colab_type": "code",
        "colab": {},
        "outputId": "0d6cc8af-a2fb-4c52-ac61-c71faa651a25"
      },
      "source": [
        "xvalid.shape"
      ],
      "execution_count": 0,
      "outputs": [
        {
          "output_type": "execute_result",
          "data": {
            "text/plain": [
              "(6485, 99, 81, 1)"
            ]
          },
          "metadata": {
            "tags": []
          },
          "execution_count": 45
        }
      ]
    },
    {
      "cell_type": "code",
      "metadata": {
        "id": "Dvet09hFYhSI",
        "colab_type": "code",
        "colab": {},
        "outputId": "72988eab-464e-4379-981d-6ef750443ff8"
      },
      "source": [
        "ytrain.shape"
      ],
      "execution_count": 0,
      "outputs": [
        {
          "output_type": "execute_result",
          "data": {
            "text/plain": [
              "(58356, 12)"
            ]
          },
          "metadata": {
            "tags": []
          },
          "execution_count": 46
        }
      ]
    },
    {
      "cell_type": "code",
      "metadata": {
        "id": "RvtJ6TKOYhSg",
        "colab_type": "code",
        "colab": {},
        "outputId": "99ccc477-1521-4378-9a1e-88ef2e6612cf"
      },
      "source": [
        "yvalid.shape"
      ],
      "execution_count": 0,
      "outputs": [
        {
          "output_type": "execute_result",
          "data": {
            "text/plain": [
              "(6485, 12)"
            ]
          },
          "metadata": {
            "tags": []
          },
          "execution_count": 47
        }
      ]
    },
    {
      "cell_type": "code",
      "metadata": {
        "id": "VqxSpALJYhSk",
        "colab_type": "code",
        "colab": {}
      },
      "source": [
        "from keras.utils import multi_gpu_model"
      ],
      "execution_count": 0,
      "outputs": []
    },
    {
      "cell_type": "code",
      "metadata": {
        "id": "w7C_uXnzYhSo",
        "colab_type": "code",
        "colab": {},
        "outputId": "8ea9f4fb-23ac-4fc9-aec6-0ced9a1bccb5"
      },
      "source": [
        "from tensorflow.python.client import device_lib\n",
        "print(device_lib.list_local_devices())"
      ],
      "execution_count": 0,
      "outputs": [
        {
          "output_type": "stream",
          "text": [
            "[name: \"/cpu:0\"\n",
            "device_type: \"CPU\"\n",
            "memory_limit: 268435456\n",
            "locality {\n",
            "}\n",
            "incarnation: 9060370253613549053\n",
            ", name: \"/gpu:0\"\n",
            "device_type: \"GPU\"\n",
            "memory_limit: 7500428084\n",
            "locality {\n",
            "  bus_id: 1\n",
            "}\n",
            "incarnation: 12245172255697124796\n",
            "physical_device_desc: \"device: 0, name: Tesla M60, pci bus id: 0000:00:1d.0\"\n",
            ", name: \"/gpu:1\"\n",
            "device_type: \"GPU\"\n",
            "memory_limit: 7500428084\n",
            "locality {\n",
            "  bus_id: 1\n",
            "}\n",
            "incarnation: 9692446858044313324\n",
            "physical_device_desc: \"device: 1, name: Tesla M60, pci bus id: 0000:00:1e.0\"\n",
            "]\n"
          ],
          "name": "stdout"
        }
      ]
    },
    {
      "cell_type": "code",
      "metadata": {
        "id": "46gCJ4qlYhSx",
        "colab_type": "code",
        "colab": {},
        "outputId": "7ca62c15-2591-4545-86c8-917faba0f6a7"
      },
      "source": [
        "parallel_model = multi_gpu_model(model, gpus=2)\n",
        "parallel_model.compile(loss=losses.binary_crossentropy,\n",
        "                       optimizer=opt)\n",
        "parallel_model.summary()"
      ],
      "execution_count": 0,
      "outputs": [
        {
          "output_type": "stream",
          "text": [
            "__________________________________________________________________________________________________\n",
            "Layer (type)                    Output Shape         Param #     Connected to                     \n",
            "==================================================================================================\n",
            "input_1 (InputLayer)            (None, 99, 81, 1)    0                                            \n",
            "__________________________________________________________________________________________________\n",
            "lambda_5 (Lambda)               (None, 99, 81, 1)    0           input_1[0][0]                    \n",
            "__________________________________________________________________________________________________\n",
            "lambda_6 (Lambda)               (None, 99, 81, 1)    0           input_1[0][0]                    \n",
            "__________________________________________________________________________________________________\n",
            "model_1 (Model)                 (None, 12)           314368      lambda_5[0][0]                   \n",
            "                                                                 lambda_6[0][0]                   \n",
            "__________________________________________________________________________________________________\n",
            "dense_3 (Concatenate)           (None, 12)           0           model_1[1][0]                    \n",
            "                                                                 model_1[2][0]                    \n",
            "==================================================================================================\n",
            "Total params: 314,368\n",
            "Trainable params: 313,854\n",
            "Non-trainable params: 514\n",
            "__________________________________________________________________________________________________\n"
          ],
          "name": "stdout"
        }
      ]
    },
    {
      "cell_type": "code",
      "metadata": {
        "scrolled": false,
        "id": "DEkcyY1EYhS2",
        "colab_type": "code",
        "colab": {},
        "outputId": "8e12d4d8-d607-4ceb-9c54-8d7b7647fd06"
      },
      "source": [
        "history = parallel_model.fit(xtrain, ytrain, batch_size=16, validation_data=(xvalid, yvalid), epochs=300, shuffle=True, verbose=2)"
      ],
      "execution_count": 0,
      "outputs": [
        {
          "output_type": "stream",
          "text": [
            "Train on 58356 samples, validate on 6485 samples\n",
            "Epoch 1/300\n",
            " - 54s - loss: 0.0645 - val_loss: 0.0501\n",
            "Epoch 2/300\n",
            " - 54s - loss: 0.0603 - val_loss: 0.0391\n",
            "Epoch 3/300\n",
            " - 54s - loss: 0.0557 - val_loss: 0.0457\n",
            "Epoch 4/300\n",
            " - 54s - loss: 0.0551 - val_loss: 0.0421\n",
            "Epoch 5/300\n",
            " - 54s - loss: 0.0512 - val_loss: 0.0393\n",
            "Epoch 6/300\n",
            " - 54s - loss: 0.0495 - val_loss: 0.0364\n",
            "Epoch 7/300\n",
            " - 54s - loss: 0.0489 - val_loss: 0.0397\n",
            "Epoch 8/300\n",
            " - 54s - loss: 0.0461 - val_loss: 0.0348\n",
            "Epoch 9/300\n",
            " - 54s - loss: 0.0452 - val_loss: 0.0321\n",
            "Epoch 10/300\n",
            " - 54s - loss: 0.0449 - val_loss: 0.0343\n",
            "Epoch 11/300\n",
            " - 54s - loss: 0.0439 - val_loss: 0.0332\n",
            "Epoch 12/300\n",
            " - 54s - loss: 0.0427 - val_loss: 0.0345\n",
            "Epoch 13/300\n",
            " - 54s - loss: 0.0413 - val_loss: 0.0308\n",
            "Epoch 14/300\n",
            " - 54s - loss: 0.0414 - val_loss: 0.0296\n",
            "Epoch 15/300\n",
            " - 54s - loss: 0.0407 - val_loss: 0.0272\n",
            "Epoch 16/300\n",
            " - 54s - loss: 0.0398 - val_loss: 0.0285\n",
            "Epoch 17/300\n",
            " - 54s - loss: 0.0401 - val_loss: 0.0295\n",
            "Epoch 18/300\n",
            " - 54s - loss: 0.0392 - val_loss: 0.0318\n",
            "Epoch 19/300\n",
            " - 54s - loss: 0.0401 - val_loss: 0.0294\n",
            "Epoch 20/300\n",
            " - 54s - loss: 0.0384 - val_loss: 0.0272\n",
            "Epoch 21/300\n",
            " - 54s - loss: 0.0421 - val_loss: 0.0337\n",
            "Epoch 22/300\n",
            " - 54s - loss: 0.0378 - val_loss: 0.0272\n",
            "Epoch 23/300\n",
            " - 54s - loss: 0.0358 - val_loss: 0.0266\n",
            "Epoch 24/300\n",
            " - 54s - loss: 0.0360 - val_loss: 0.0275\n",
            "Epoch 25/300\n",
            " - 54s - loss: 0.0377 - val_loss: 0.0264\n",
            "Epoch 26/300\n",
            " - 54s - loss: 0.0335 - val_loss: 0.0272\n",
            "Epoch 27/300\n",
            " - 54s - loss: 0.0336 - val_loss: 0.0372\n",
            "Epoch 28/300\n",
            " - 54s - loss: 0.0356 - val_loss: 0.0267\n",
            "Epoch 29/300\n",
            " - 54s - loss: 0.0333 - val_loss: 0.0302\n",
            "Epoch 30/300\n",
            " - 54s - loss: 0.0333 - val_loss: 0.0273\n",
            "Epoch 31/300\n",
            " - 54s - loss: 0.0327 - val_loss: 0.0289\n",
            "Epoch 32/300\n",
            " - 54s - loss: 0.0318 - val_loss: 0.0272\n",
            "Epoch 33/300\n",
            " - 54s - loss: 0.0363 - val_loss: 0.0265\n",
            "Epoch 34/300\n",
            " - 54s - loss: 0.0313 - val_loss: 0.0268\n",
            "Epoch 35/300\n",
            " - 54s - loss: 0.0346 - val_loss: 0.0259\n",
            "Epoch 36/300\n",
            " - 54s - loss: 0.0315 - val_loss: 0.0241\n",
            "Epoch 37/300\n",
            " - 54s - loss: 0.0367 - val_loss: 0.0254\n",
            "Epoch 38/300\n",
            " - 54s - loss: 0.0313 - val_loss: 0.0263\n",
            "Epoch 39/300\n",
            " - 54s - loss: 0.0296 - val_loss: 0.0238\n",
            "Epoch 40/300\n",
            " - 54s - loss: 0.0318 - val_loss: 0.0236\n",
            "Epoch 41/300\n",
            " - 54s - loss: 0.0305 - val_loss: 0.0251\n",
            "Epoch 42/300\n",
            " - 54s - loss: 0.0316 - val_loss: 0.0244\n",
            "Epoch 43/300\n",
            " - 54s - loss: 0.0298 - val_loss: 0.0256\n",
            "Epoch 44/300\n",
            " - 54s - loss: 0.0299 - val_loss: 0.0234\n",
            "Epoch 45/300\n",
            " - 54s - loss: 0.0298 - val_loss: 0.0267\n",
            "Epoch 46/300\n",
            " - 54s - loss: 0.0284 - val_loss: 0.0244\n",
            "Epoch 47/300\n",
            " - 54s - loss: 0.0284 - val_loss: 0.0239\n",
            "Epoch 48/300\n",
            " - 54s - loss: 0.0315 - val_loss: 0.0246\n",
            "Epoch 49/300\n",
            " - 54s - loss: 0.0276 - val_loss: 0.0243\n",
            "Epoch 50/300\n",
            " - 54s - loss: 0.0296 - val_loss: 0.0252\n",
            "Epoch 51/300\n",
            " - 54s - loss: 0.0323 - val_loss: 0.0234\n",
            "Epoch 52/300\n",
            " - 54s - loss: 0.0293 - val_loss: 0.0255\n",
            "Epoch 53/300\n",
            " - 54s - loss: 0.0294 - val_loss: 0.0321\n",
            "Epoch 54/300\n",
            " - 54s - loss: 0.0299 - val_loss: 0.0228\n",
            "Epoch 55/300\n",
            " - 54s - loss: 0.0288 - val_loss: 0.0241\n",
            "Epoch 56/300\n",
            " - 54s - loss: 0.0280 - val_loss: 0.0277\n",
            "Epoch 57/300\n",
            " - 54s - loss: 0.0285 - val_loss: 0.0255\n",
            "Epoch 58/300\n",
            " - 54s - loss: 0.0267 - val_loss: 0.0242\n",
            "Epoch 59/300\n",
            " - 54s - loss: 0.0285 - val_loss: 0.0297\n",
            "Epoch 60/300\n",
            " - 54s - loss: 0.0279 - val_loss: 0.0269\n",
            "Epoch 61/300\n",
            " - 54s - loss: 0.0266 - val_loss: 0.0293\n",
            "Epoch 62/300\n",
            " - 54s - loss: 0.0267 - val_loss: 0.0245\n",
            "Epoch 63/300\n",
            " - 54s - loss: 0.0257 - val_loss: 0.0260\n",
            "Epoch 64/300\n",
            " - 54s - loss: 0.0286 - val_loss: 0.0240\n",
            "Epoch 65/300\n",
            " - 54s - loss: 0.0268 - val_loss: 0.0329\n",
            "Epoch 66/300\n",
            " - 54s - loss: 0.0279 - val_loss: 0.0244\n",
            "Epoch 67/300\n",
            " - 54s - loss: 0.0255 - val_loss: 0.0239\n",
            "Epoch 68/300\n",
            " - 54s - loss: 0.0260 - val_loss: 0.0242\n",
            "Epoch 69/300\n",
            " - 54s - loss: 0.0253 - val_loss: 0.0241\n",
            "Epoch 70/300\n",
            " - 54s - loss: 0.0258 - val_loss: 0.0232\n",
            "Epoch 71/300\n",
            " - 54s - loss: 0.0249 - val_loss: 0.0261\n",
            "Epoch 72/300\n",
            " - 54s - loss: 0.0267 - val_loss: 0.0233\n",
            "Epoch 73/300\n",
            " - 54s - loss: 0.0261 - val_loss: 0.0240\n",
            "Epoch 74/300\n",
            " - 54s - loss: 0.0245 - val_loss: 0.0234\n",
            "Epoch 75/300\n",
            " - 54s - loss: 0.0244 - val_loss: 0.0266\n",
            "Epoch 76/300\n",
            " - 54s - loss: 0.0255 - val_loss: 0.0239\n",
            "Epoch 77/300\n",
            " - 54s - loss: 0.0244 - val_loss: 0.0221\n",
            "Epoch 78/300\n",
            " - 54s - loss: 0.0242 - val_loss: 0.0285\n",
            "Epoch 79/300\n",
            " - 54s - loss: 0.0239 - val_loss: 0.0233\n",
            "Epoch 80/300\n",
            " - 54s - loss: 0.0236 - val_loss: 0.0224\n",
            "Epoch 81/300\n",
            " - 54s - loss: 0.0240 - val_loss: 0.0222\n",
            "Epoch 82/300\n",
            " - 54s - loss: 0.0296 - val_loss: 0.0259\n",
            "Epoch 83/300\n",
            " - 54s - loss: 0.0251 - val_loss: 0.0284\n",
            "Epoch 84/300\n",
            " - 54s - loss: 0.0257 - val_loss: 0.0225\n",
            "Epoch 85/300\n",
            " - 54s - loss: 0.0247 - val_loss: 0.0212\n",
            "Epoch 86/300\n",
            " - 54s - loss: 0.0256 - val_loss: 0.0215\n",
            "Epoch 87/300\n",
            " - 54s - loss: 0.0240 - val_loss: 0.0215\n",
            "Epoch 88/300\n",
            " - 54s - loss: 0.0228 - val_loss: 0.0211\n",
            "Epoch 89/300\n",
            " - 54s - loss: 0.0258 - val_loss: 0.0249\n",
            "Epoch 90/300\n",
            " - 54s - loss: 0.0255 - val_loss: 0.0226\n",
            "Epoch 91/300\n",
            " - 54s - loss: 0.0224 - val_loss: 0.0230\n",
            "Epoch 92/300\n",
            " - 54s - loss: 0.0225 - val_loss: 0.0230\n",
            "Epoch 93/300\n",
            " - 54s - loss: 0.0221 - val_loss: 0.0221\n",
            "Epoch 94/300\n",
            " - 54s - loss: 0.0242 - val_loss: 0.0232\n",
            "Epoch 95/300\n",
            " - 54s - loss: 0.0228 - val_loss: 0.0213\n",
            "Epoch 96/300\n",
            " - 54s - loss: 0.0222 - val_loss: 0.0227\n",
            "Epoch 97/300\n",
            " - 54s - loss: 0.0225 - val_loss: 0.0230\n",
            "Epoch 98/300\n",
            " - 54s - loss: 0.0224 - val_loss: 0.0236\n",
            "Epoch 99/300\n",
            " - 54s - loss: 0.0221 - val_loss: 0.0280\n",
            "Epoch 100/300\n",
            " - 54s - loss: 0.0226 - val_loss: 0.0247\n",
            "Epoch 101/300\n",
            " - 54s - loss: 0.0218 - val_loss: 0.0215\n",
            "Epoch 102/300\n",
            " - 54s - loss: 0.0237 - val_loss: 0.0246\n",
            "Epoch 103/300\n",
            " - 54s - loss: 0.0224 - val_loss: 0.0238\n",
            "Epoch 104/300\n",
            " - 54s - loss: 0.0217 - val_loss: 0.0267\n",
            "Epoch 105/300\n",
            " - 54s - loss: 0.0235 - val_loss: 0.0272\n",
            "Epoch 106/300\n",
            " - 54s - loss: 0.0224 - val_loss: 0.0219\n",
            "Epoch 107/300\n",
            " - 54s - loss: 0.0218 - val_loss: 0.0229\n",
            "Epoch 108/300\n",
            " - 54s - loss: 0.0224 - val_loss: 0.0211\n",
            "Epoch 109/300\n",
            " - 54s - loss: 0.0214 - val_loss: 0.0253\n",
            "Epoch 110/300\n",
            " - 54s - loss: 0.0211 - val_loss: 0.0247\n",
            "Epoch 111/300\n",
            " - 54s - loss: 0.0215 - val_loss: 0.0286\n",
            "Epoch 112/300\n",
            " - 54s - loss: 0.0263 - val_loss: 0.0267\n",
            "Epoch 113/300\n",
            " - 54s - loss: 0.0237 - val_loss: 0.0220\n",
            "Epoch 114/300\n",
            " - 54s - loss: 0.0217 - val_loss: 0.0214\n",
            "Epoch 115/300\n",
            " - 54s - loss: 0.0316 - val_loss: 0.0274\n",
            "Epoch 116/300\n",
            " - 54s - loss: 0.0250 - val_loss: 0.0242\n",
            "Epoch 117/300\n",
            " - 54s - loss: 0.0240 - val_loss: 0.0223\n",
            "Epoch 118/300\n",
            " - 54s - loss: 0.0253 - val_loss: 0.0216\n",
            "Epoch 119/300\n",
            " - 54s - loss: 0.0214 - val_loss: 0.0262\n",
            "Epoch 120/300\n",
            " - 54s - loss: 0.0216 - val_loss: 0.0206\n",
            "Epoch 121/300\n",
            " - 54s - loss: 0.0204 - val_loss: 0.0230\n",
            "Epoch 122/300\n",
            " - 54s - loss: 0.0230 - val_loss: 0.0230\n",
            "Epoch 123/300\n",
            " - 54s - loss: 0.0210 - val_loss: 0.0241\n",
            "Epoch 124/300\n",
            " - 54s - loss: 0.0210 - val_loss: 0.0211\n",
            "Epoch 125/300\n",
            " - 54s - loss: 0.0207 - val_loss: 0.0216\n",
            "Epoch 126/300\n",
            " - 54s - loss: 0.0210 - val_loss: 0.0219\n",
            "Epoch 127/300\n",
            " - 54s - loss: 0.0227 - val_loss: 0.0213\n",
            "Epoch 128/300\n",
            " - 54s - loss: 0.0205 - val_loss: 0.0215\n",
            "Epoch 129/300\n",
            " - 54s - loss: 0.0216 - val_loss: 0.0211\n",
            "Epoch 130/300\n",
            " - 54s - loss: 0.0214 - val_loss: 0.0220\n",
            "Epoch 131/300\n",
            " - 54s - loss: 0.0197 - val_loss: 0.0213\n",
            "Epoch 132/300\n",
            " - 54s - loss: 0.0205 - val_loss: 0.0228\n",
            "Epoch 133/300\n",
            " - 54s - loss: 0.0220 - val_loss: 0.0359\n",
            "Epoch 134/300\n",
            " - 54s - loss: 0.0228 - val_loss: 0.0228\n",
            "Epoch 135/300\n",
            " - 54s - loss: 0.0193 - val_loss: 0.0234\n",
            "Epoch 136/300\n",
            " - 54s - loss: 0.0228 - val_loss: 0.0243\n",
            "Epoch 137/300\n",
            " - 54s - loss: 0.0203 - val_loss: 0.0245\n",
            "Epoch 138/300\n",
            " - 54s - loss: 0.0199 - val_loss: 0.0220\n",
            "Epoch 139/300\n",
            " - 54s - loss: 0.0200 - val_loss: 0.0206\n",
            "Epoch 140/300\n",
            " - 54s - loss: 0.0193 - val_loss: 0.0211\n",
            "Epoch 141/300\n",
            " - 54s - loss: 0.0201 - val_loss: 0.0209\n",
            "Epoch 142/300\n",
            " - 54s - loss: 0.0203 - val_loss: 0.0241\n",
            "Epoch 143/300\n",
            " - 54s - loss: 0.0201 - val_loss: 0.0223\n",
            "Epoch 144/300\n",
            " - 54s - loss: 0.0262 - val_loss: 0.0224\n",
            "Epoch 145/300\n",
            " - 54s - loss: 0.0197 - val_loss: 0.0231\n",
            "Epoch 146/300\n",
            " - 54s - loss: 0.0195 - val_loss: 0.0201\n",
            "Epoch 147/300\n",
            " - 54s - loss: 0.0199 - val_loss: 0.0238\n",
            "Epoch 148/300\n",
            " - 54s - loss: 0.0203 - val_loss: 0.0241\n",
            "Epoch 149/300\n",
            " - 54s - loss: 0.0199 - val_loss: 0.0221\n",
            "Epoch 150/300\n",
            " - 54s - loss: 0.0194 - val_loss: 0.0232\n",
            "Epoch 151/300\n"
          ],
          "name": "stdout"
        },
        {
          "output_type": "stream",
          "text": [
            " - 54s - loss: 0.0194 - val_loss: 0.0230\n",
            "Epoch 152/300\n",
            " - 54s - loss: 0.0193 - val_loss: 0.0207\n",
            "Epoch 153/300\n",
            " - 54s - loss: 0.0194 - val_loss: 0.0212\n",
            "Epoch 154/300\n",
            " - 54s - loss: 0.0203 - val_loss: 0.0242\n",
            "Epoch 155/300\n",
            " - 54s - loss: 0.0192 - val_loss: 0.0224\n",
            "Epoch 156/300\n",
            " - 54s - loss: 0.0189 - val_loss: 0.0218\n",
            "Epoch 157/300\n",
            " - 54s - loss: 0.0201 - val_loss: 0.0225\n",
            "Epoch 158/300\n",
            " - 54s - loss: 0.0194 - val_loss: 0.0246\n",
            "Epoch 159/300\n",
            " - 54s - loss: 0.0188 - val_loss: 0.0221\n",
            "Epoch 160/300\n",
            " - 54s - loss: 0.0206 - val_loss: 0.0203\n",
            "Epoch 161/300\n",
            " - 54s - loss: 0.0192 - val_loss: 0.0207\n",
            "Epoch 162/300\n",
            " - 54s - loss: 0.0189 - val_loss: 0.0252\n",
            "Epoch 163/300\n",
            " - 54s - loss: 0.0206 - val_loss: 0.0225\n",
            "Epoch 164/300\n",
            " - 54s - loss: 0.0190 - val_loss: 0.0214\n",
            "Epoch 165/300\n",
            " - 54s - loss: 0.0193 - val_loss: 0.0223\n",
            "Epoch 166/300\n",
            " - 54s - loss: 0.0186 - val_loss: 0.0228\n",
            "Epoch 167/300\n",
            " - 54s - loss: 0.0191 - val_loss: 0.0249\n",
            "Epoch 168/300\n",
            " - 54s - loss: 0.0191 - val_loss: 0.0253\n",
            "Epoch 169/300\n",
            " - 54s - loss: 0.0190 - val_loss: 0.0223\n",
            "Epoch 170/300\n",
            " - 54s - loss: 0.0191 - val_loss: 0.0225\n",
            "Epoch 171/300\n",
            " - 54s - loss: 0.0187 - val_loss: 0.0223\n",
            "Epoch 172/300\n",
            " - 54s - loss: 0.0189 - val_loss: 0.0225\n",
            "Epoch 173/300\n",
            " - 54s - loss: 0.0188 - val_loss: 0.0218\n",
            "Epoch 174/300\n",
            " - 54s - loss: 0.0188 - val_loss: 0.0208\n",
            "Epoch 175/300\n",
            " - 54s - loss: 0.0188 - val_loss: 0.0227\n",
            "Epoch 176/300\n",
            " - 54s - loss: 0.0187 - val_loss: 0.0235\n",
            "Epoch 177/300\n",
            " - 54s - loss: 0.0190 - val_loss: 0.0207\n",
            "Epoch 178/300\n",
            " - 54s - loss: 0.0184 - val_loss: 0.0213\n",
            "Epoch 179/300\n",
            " - 54s - loss: 0.0185 - val_loss: 0.0208\n",
            "Epoch 180/300\n",
            " - 54s - loss: 0.0180 - val_loss: 0.0228\n",
            "Epoch 181/300\n",
            " - 54s - loss: 0.0183 - val_loss: 0.0286\n",
            "Epoch 182/300\n",
            " - 54s - loss: 0.0197 - val_loss: 0.0240\n",
            "Epoch 183/300\n",
            " - 54s - loss: 0.0196 - val_loss: 0.0209\n",
            "Epoch 184/300\n",
            " - 54s - loss: 0.0180 - val_loss: 0.0227\n",
            "Epoch 185/300\n",
            " - 54s - loss: 0.0180 - val_loss: 0.0211\n",
            "Epoch 186/300\n",
            " - 54s - loss: 0.0191 - val_loss: 0.0212\n",
            "Epoch 187/300\n",
            " - 54s - loss: 0.0190 - val_loss: 0.0206\n",
            "Epoch 188/300\n",
            " - 54s - loss: 0.0179 - val_loss: 0.0243\n",
            "Epoch 189/300\n",
            " - 54s - loss: 0.0178 - val_loss: 0.0224\n",
            "Epoch 190/300\n",
            " - 54s - loss: 0.0178 - val_loss: 0.0207\n",
            "Epoch 191/300\n",
            " - 54s - loss: 0.0209 - val_loss: 0.0276\n",
            "Epoch 192/300\n",
            " - 54s - loss: 0.0199 - val_loss: 0.0214\n",
            "Epoch 193/300\n",
            " - 54s - loss: 0.0174 - val_loss: 0.0200\n",
            "Epoch 194/300\n",
            " - 54s - loss: 0.0226 - val_loss: 0.0243\n",
            "Epoch 195/300\n",
            " - 54s - loss: 0.0183 - val_loss: 0.0229\n",
            "Epoch 196/300\n",
            " - 54s - loss: 0.0188 - val_loss: 0.0221\n",
            "Epoch 197/300\n",
            " - 54s - loss: 0.0179 - val_loss: 0.0219\n",
            "Epoch 198/300\n",
            " - 54s - loss: 0.0193 - val_loss: 0.0225\n",
            "Epoch 199/300\n",
            " - 54s - loss: 0.0185 - val_loss: 0.0220\n",
            "Epoch 200/300\n",
            " - 54s - loss: 0.0172 - val_loss: 0.0209\n",
            "Epoch 201/300\n",
            " - 54s - loss: 0.0179 - val_loss: 0.0253\n",
            "Epoch 202/300\n",
            " - 54s - loss: 0.0186 - val_loss: 0.0221\n",
            "Epoch 203/300\n",
            " - 54s - loss: 0.0181 - val_loss: 0.0222\n",
            "Epoch 204/300\n",
            " - 54s - loss: 0.0179 - val_loss: 0.0220\n",
            "Epoch 205/300\n",
            " - 54s - loss: 0.0181 - val_loss: 0.0197\n",
            "Epoch 206/300\n",
            " - 54s - loss: 0.0176 - val_loss: 0.0214\n",
            "Epoch 207/300\n",
            " - 54s - loss: 0.0173 - val_loss: 0.0200\n",
            "Epoch 208/300\n",
            " - 54s - loss: 0.0175 - val_loss: 0.0217\n",
            "Epoch 209/300\n",
            " - 54s - loss: 0.0180 - val_loss: 0.0203\n",
            "Epoch 210/300\n",
            " - 54s - loss: 0.0175 - val_loss: 0.0225\n",
            "Epoch 211/300\n",
            " - 54s - loss: 0.0179 - val_loss: 0.0213\n",
            "Epoch 212/300\n",
            " - 54s - loss: 0.0172 - val_loss: 0.0214\n",
            "Epoch 213/300\n",
            " - 54s - loss: 0.0175 - val_loss: 0.0215\n",
            "Epoch 214/300\n",
            " - 54s - loss: 0.0178 - val_loss: 0.0227\n",
            "Epoch 215/300\n",
            " - 54s - loss: 0.0175 - val_loss: 0.0204\n",
            "Epoch 216/300\n",
            " - 54s - loss: 0.0174 - val_loss: 0.0223\n",
            "Epoch 217/300\n",
            " - 54s - loss: 0.0174 - val_loss: 0.0203\n",
            "Epoch 218/300\n",
            " - 54s - loss: 0.0175 - val_loss: 0.0213\n",
            "Epoch 219/300\n",
            " - 54s - loss: 0.0173 - val_loss: 0.0223\n",
            "Epoch 220/300\n",
            " - 54s - loss: 0.0171 - val_loss: 0.0259\n",
            "Epoch 221/300\n",
            " - 54s - loss: 0.0193 - val_loss: 0.0199\n",
            "Epoch 222/300\n",
            " - 54s - loss: 0.0185 - val_loss: 0.0212\n",
            "Epoch 223/300\n",
            " - 54s - loss: 0.0175 - val_loss: 0.0221\n",
            "Epoch 224/300\n",
            " - 54s - loss: 0.0168 - val_loss: 0.0211\n",
            "Epoch 225/300\n",
            " - 54s - loss: 0.0178 - val_loss: 0.0221\n",
            "Epoch 226/300\n",
            " - 54s - loss: 0.0173 - val_loss: 0.0195\n",
            "Epoch 227/300\n",
            " - 54s - loss: 0.0179 - val_loss: 0.0228\n",
            "Epoch 228/300\n",
            " - 54s - loss: 0.0170 - val_loss: 0.0213\n",
            "Epoch 229/300\n",
            " - 54s - loss: 0.0168 - val_loss: 0.0225\n",
            "Epoch 230/300\n",
            " - 54s - loss: 0.0171 - val_loss: 0.0215\n",
            "Epoch 231/300\n",
            " - 54s - loss: 0.0174 - val_loss: 0.0255\n",
            "Epoch 232/300\n",
            " - 54s - loss: 0.0170 - val_loss: 0.0213\n",
            "Epoch 233/300\n",
            " - 54s - loss: 0.0171 - val_loss: 0.0212\n",
            "Epoch 234/300\n",
            " - 54s - loss: 0.0167 - val_loss: 0.0199\n",
            "Epoch 235/300\n",
            " - 54s - loss: 0.0171 - val_loss: 0.0216\n",
            "Epoch 236/300\n",
            " - 54s - loss: 0.0172 - val_loss: 0.0210\n",
            "Epoch 237/300\n",
            " - 54s - loss: 0.0171 - val_loss: 0.0249\n",
            "Epoch 238/300\n",
            " - 54s - loss: 0.0186 - val_loss: 0.0207\n",
            "Epoch 239/300\n",
            " - 54s - loss: 0.0168 - val_loss: 0.0202\n",
            "Epoch 240/300\n",
            " - 54s - loss: 0.0168 - val_loss: 0.0202\n",
            "Epoch 241/300\n",
            " - 54s - loss: 0.0169 - val_loss: 0.0194\n",
            "Epoch 242/300\n",
            " - 54s - loss: 0.0168 - val_loss: 0.0208\n",
            "Epoch 243/300\n",
            " - 54s - loss: 0.0163 - val_loss: 0.0218\n",
            "Epoch 244/300\n",
            " - 54s - loss: 0.0167 - val_loss: 0.0206\n",
            "Epoch 245/300\n",
            " - 54s - loss: 0.0169 - val_loss: 0.0237\n",
            "Epoch 246/300\n",
            " - 54s - loss: 0.0172 - val_loss: 0.0221\n",
            "Epoch 247/300\n",
            " - 54s - loss: 0.0165 - val_loss: 0.0211\n",
            "Epoch 248/300\n",
            " - 54s - loss: 0.0165 - val_loss: 0.0217\n",
            "Epoch 249/300\n",
            " - 54s - loss: 0.0168 - val_loss: 0.0214\n",
            "Epoch 250/300\n",
            " - 54s - loss: 0.0168 - val_loss: 0.0214\n",
            "Epoch 251/300\n",
            " - 54s - loss: 0.0163 - val_loss: 0.0224\n",
            "Epoch 252/300\n",
            " - 54s - loss: 0.0168 - val_loss: 0.0205\n",
            "Epoch 253/300\n",
            " - 54s - loss: 0.0166 - val_loss: 0.0222\n",
            "Epoch 254/300\n",
            " - 54s - loss: 0.0165 - val_loss: 0.0219\n",
            "Epoch 255/300\n",
            " - 54s - loss: 0.0163 - val_loss: 0.0220\n",
            "Epoch 256/300\n",
            " - 54s - loss: 0.0169 - val_loss: 0.0218\n",
            "Epoch 257/300\n",
            " - 54s - loss: 0.0163 - val_loss: 0.0230\n",
            "Epoch 258/300\n",
            " - 54s - loss: 0.0160 - val_loss: 0.0206\n",
            "Epoch 259/300\n",
            " - 54s - loss: 0.0161 - val_loss: 0.0236\n",
            "Epoch 260/300\n",
            " - 54s - loss: 0.0172 - val_loss: 0.0220\n",
            "Epoch 261/300\n",
            " - 54s - loss: 0.0162 - val_loss: 0.0221\n",
            "Epoch 262/300\n",
            " - 54s - loss: 0.0164 - val_loss: 0.0216\n",
            "Epoch 263/300\n",
            " - 54s - loss: 0.0170 - val_loss: 0.0216\n",
            "Epoch 264/300\n",
            " - 54s - loss: 0.0164 - val_loss: 0.0220\n",
            "Epoch 265/300\n",
            " - 54s - loss: 0.0158 - val_loss: 0.0224\n",
            "Epoch 266/300\n",
            " - 54s - loss: 0.0160 - val_loss: 0.0221\n",
            "Epoch 267/300\n",
            " - 54s - loss: 0.0179 - val_loss: 0.0219\n",
            "Epoch 268/300\n",
            " - 54s - loss: 0.0159 - val_loss: 0.0218\n",
            "Epoch 269/300\n",
            " - 54s - loss: 0.0161 - val_loss: 0.0223\n",
            "Epoch 270/300\n",
            " - 54s - loss: 0.0161 - val_loss: 0.0222\n",
            "Epoch 271/300\n",
            " - 54s - loss: 0.0161 - val_loss: 0.0216\n",
            "Epoch 272/300\n",
            " - 54s - loss: 0.0160 - val_loss: 0.0213\n",
            "Epoch 273/300\n",
            " - 54s - loss: 0.0165 - val_loss: 0.0226\n",
            "Epoch 274/300\n",
            " - 54s - loss: 0.0163 - val_loss: 0.0215\n",
            "Epoch 275/300\n",
            " - 54s - loss: 0.0159 - val_loss: 0.0219\n",
            "Epoch 276/300\n",
            " - 54s - loss: 0.0163 - val_loss: 0.0216\n",
            "Epoch 277/300\n",
            " - 54s - loss: 0.0158 - val_loss: 0.0227\n",
            "Epoch 278/300\n",
            " - 54s - loss: 0.0164 - val_loss: 0.0220\n",
            "Epoch 279/300\n",
            " - 54s - loss: 0.0163 - val_loss: 0.0211\n",
            "Epoch 280/300\n",
            " - 54s - loss: 0.0160 - val_loss: 0.0211\n",
            "Epoch 281/300\n",
            " - 54s - loss: 0.0160 - val_loss: 0.0211\n",
            "Epoch 282/300\n",
            " - 54s - loss: 0.0158 - val_loss: 0.0263\n",
            "Epoch 283/300\n",
            " - 54s - loss: 0.0158 - val_loss: 0.0221\n",
            "Epoch 284/300\n",
            " - 54s - loss: 0.0165 - val_loss: 0.0222\n",
            "Epoch 285/300\n",
            " - 54s - loss: 0.0155 - val_loss: 0.0219\n",
            "Epoch 286/300\n",
            " - 54s - loss: 0.0159 - val_loss: 0.0210\n",
            "Epoch 287/300\n",
            " - 54s - loss: 0.0161 - val_loss: 0.0203\n",
            "Epoch 288/300\n",
            " - 54s - loss: 0.0180 - val_loss: 0.0256\n",
            "Epoch 289/300\n",
            " - 54s - loss: 0.0199 - val_loss: 0.0228\n",
            "Epoch 290/300\n",
            " - 54s - loss: 0.0177 - val_loss: 0.0219\n",
            "Epoch 291/300\n",
            " - 54s - loss: 0.0188 - val_loss: 0.0223\n",
            "Epoch 292/300\n",
            " - 54s - loss: 0.0156 - val_loss: 0.0221\n",
            "Epoch 293/300\n",
            " - 54s - loss: 0.0217 - val_loss: 0.0243\n",
            "Epoch 294/300\n",
            " - 54s - loss: 0.0168 - val_loss: 0.0232\n",
            "Epoch 295/300\n",
            " - 54s - loss: 0.0152 - val_loss: 0.0211\n",
            "Epoch 296/300\n",
            " - 54s - loss: 0.0161 - val_loss: 0.0245\n",
            "Epoch 297/300\n",
            " - 54s - loss: 0.0167 - val_loss: 0.0211\n",
            "Epoch 298/300\n",
            " - 54s - loss: 0.0161 - val_loss: 0.0221\n",
            "Epoch 299/300\n",
            " - 54s - loss: 0.0160 - val_loss: 0.0214\n",
            "Epoch 300/300\n"
          ],
          "name": "stdout"
        },
        {
          "output_type": "stream",
          "text": [
            " - 54s - loss: 0.0165 - val_loss: 0.0221\n"
          ],
          "name": "stdout"
        }
      ]
    },
    {
      "cell_type": "code",
      "metadata": {
        "id": "vkFGTDNAYhS6",
        "colab_type": "code",
        "colab": {}
      },
      "source": [
        "#model.fit(x_train, y_train, batch_size=16, validation_data=(x_valid, y_valid), epochs=500, shuffle=True, verbose=2)"
      ],
      "execution_count": 0,
      "outputs": []
    },
    {
      "cell_type": "code",
      "metadata": {
        "id": "O0sEFrQCYhTE",
        "colab_type": "code",
        "colab": {}
      },
      "source": [
        "#parallel_model.save(os.path.join(model_path, 'parallel_cnn_epochs_test_20171217.model'))"
      ],
      "execution_count": 0,
      "outputs": []
    },
    {
      "cell_type": "code",
      "metadata": {
        "id": "f4dL8rjGYhTI",
        "colab_type": "code",
        "colab": {}
      },
      "source": [
        "model.save(os.path.join(model_path, 'cnn_epochs_300_20171217.model'))"
      ],
      "execution_count": 0,
      "outputs": []
    },
    {
      "cell_type": "code",
      "metadata": {
        "id": "fxp1Y2AVYhTV",
        "colab_type": "code",
        "colab": {}
      },
      "source": [
        "from keras.models import load_model\n",
        "#model = load_model('cnn_epochs3_20171211.model')\n",
        "model = load_model('cnn_epochs_300_20171217.model')"
      ],
      "execution_count": 0,
      "outputs": []
    },
    {
      "cell_type": "code",
      "metadata": {
        "id": "iFbmpiloYhTj",
        "colab_type": "code",
        "colab": {}
      },
      "source": [
        "import matplotlib.pyplot as plt"
      ],
      "execution_count": 0,
      "outputs": []
    },
    {
      "cell_type": "code",
      "metadata": {
        "id": "WE9DPo2lYhTm",
        "colab_type": "code",
        "colab": {}
      },
      "source": [
        "%matplotlib inline"
      ],
      "execution_count": 0,
      "outputs": []
    },
    {
      "cell_type": "code",
      "metadata": {
        "id": "M3YEE2vUYhT0",
        "colab_type": "code",
        "colab": {},
        "outputId": "0440ef52-1036-4217-e320-836f432a66cd"
      },
      "source": [
        "history.history"
      ],
      "execution_count": 0,
      "outputs": [
        {
          "output_type": "execute_result",
          "data": {
            "text/plain": [
              "{'loss': [0.08110813286689908, 0.070448522786859119],\n",
              " 'val_loss': [0.062765511956551306, 0.048562809072417668]}"
            ]
          },
          "metadata": {
            "tags": []
          },
          "execution_count": 33
        }
      ]
    },
    {
      "cell_type": "code",
      "metadata": {
        "id": "bxQGr_G3YhT4",
        "colab_type": "code",
        "colab": {},
        "outputId": "a14897ea-1f6d-49d2-a3e5-65cc4e97b340"
      },
      "source": [
        "plt.plot(history.history['loss'])\n",
        "plt.plot(history.history['val_loss'])\n",
        "plt.title('model loss')\n",
        "plt.ylabel('loss')\n",
        "plt.xlabel('epoch')\n",
        "plt.legend(['train', 'vaild'], loc='upper left')\n",
        "plt.show()"
      ],
      "execution_count": 0,
      "outputs": [
        {
          "output_type": "display_data",
          "data": {
            "image/png": "[encoded data removed]",
            "text/plain": [
              "<matplotlib.figure.Figure at 0x7ff5d9fc2438>"
            ]
          },
          "metadata": {
            "tags": []
          }
        }
      ]
    },
    {
      "cell_type": "code",
      "metadata": {
        "id": "mGRPHodAYhT-",
        "colab_type": "code",
        "colab": {}
      },
      "source": [
        "def test_data_generator(batch=16):\n",
        "    fpaths = glob(os.path.join(test_data_path, '*wav'))\n",
        "    i = 0\n",
        "    for path in fpaths:\n",
        "        if i == 0:\n",
        "            imgs = []\n",
        "            fnames = []\n",
        "        i += 1\n",
        "        rate, samples = wavfile.read(path)\n",
        "        samples = pad_audio(samples)\n",
        "        resampled = signal.resample(samples, int(new_sample_rate / rate * samples.shape[0]))\n",
        "        _, _, specgram = log_specgram(resampled, sample_rate=new_sample_rate)\n",
        "        imgs.append(specgram)\n",
        "        fnames.append(path.split('\\\\')[-1])\n",
        "        if i == batch:\n",
        "            i = 0\n",
        "            imgs = np.array(imgs)\n",
        "            imgs = imgs.reshape(tuple(list(imgs.shape) + [1]))\n",
        "            yield fnames, imgs\n",
        "    if i < batch:\n",
        "        imgs = np.array(imgs)\n",
        "        imgs = imgs.reshape(tuple(list(imgs.shape) + [1]))\n",
        "        yield fnames, imgs\n",
        "    raise StopIteration()"
      ],
      "execution_count": 0,
      "outputs": []
    },
    {
      "cell_type": "code",
      "metadata": {
        "id": "lHHfSrcIYhUB",
        "colab_type": "code",
        "colab": {}
      },
      "source": [
        "index = []\n",
        "results = []\n",
        "for fnames, imgs in test_data_generator(batch=32):\n",
        "    predicts = model.predict(imgs)\n",
        "    predicts = np.argmax(predicts, axis=1)\n",
        "    predicts = [label_index[p] for p in predicts]\n",
        "    index.extend(fnames)\n",
        "    results.extend(predicts)\n",
        "\n",
        "index = [w.replace('./input/test/audio/', '') for w in index]\n",
        "df = pd.DataFrame(columns=['fname', 'label'])\n",
        "df['fname'] = index\n",
        "df['label'] = results\n",
        "\n",
        "df.to_csv(os.path.join(out_path, 'sub_300.csv'), index=False)"
      ],
      "execution_count": 0,
      "outputs": []
    },
    {
      "cell_type": "code",
      "metadata": {
        "id": "8R7Y0GL7YhUP",
        "colab_type": "code",
        "colab": {},
        "outputId": "06dfd79c-7587-4d36-b187-287e7e44e088"
      },
      "source": [
        "model.layers[15]"
      ],
      "execution_count": 0,
      "outputs": [
        {
          "output_type": "execute_result",
          "data": {
            "text/plain": [
              "<keras.layers.normalization.BatchNormalization at 0x7fc51d9348d0>"
            ]
          },
          "metadata": {
            "tags": []
          },
          "execution_count": 141
        }
      ]
    },
    {
      "cell_type": "code",
      "metadata": {
        "id": "0FHkBuuvYhUY",
        "colab_type": "code",
        "colab": {},
        "outputId": "797e1a1f-be42-4bec-f35c-f2f278e48672"
      },
      "source": [
        "from IPython.display import SVG\n",
        "from keras.utils.vis_utils import model_to_dot\n",
        "\n",
        "%matplotlib inline\n",
        "\n",
        "SVG(model_to_dot(model, show_shapes=True).create(prog='dot', format='svg'))"
      ],
      "execution_count": 0,
      "outputs": [
        {
          "output_type": "execute_result",
          "data": {
            "image/svg+xml": "<svg height=\"1549pt\" viewBox=\"0.00 0.00 434.00 1549.00\" width=\"434pt\" xmlns=\"http://www.w3.org/2000/svg\" xmlns:xlink=\"http://www.w3.org/1999/xlink\">\n<g class=\"graph\" id=\"graph0\" transform=\"scale(1 1) rotate(0) translate(4 1545)\">\n<title>G</title>\n<polygon fill=\"white\" points=\"-4,4 -4,-1545 430,-1545 430,4 -4,4\" stroke=\"none\"/>\n<!-- 140487431798456 -->\n<g class=\"node\" id=\"node1\"><title>140487431798456</title>\n<polygon fill=\"none\" points=\"67.5,-1494.5 67.5,-1540.5 358.5,-1540.5 358.5,-1494.5 67.5,-1494.5\" stroke=\"black\"/>\n<text font-family=\"Times,serif\" font-size=\"14.00\" text-anchor=\"middle\" x=\"130\" y=\"-1513.8\">input_1: InputLayer</text>\n<polyline fill=\"none\" points=\"192.5,-1494.5 192.5,-1540.5 \" stroke=\"black\"/>\n<text font-family=\"Times,serif\" font-size=\"14.00\" text-anchor=\"middle\" x=\"220\" y=\"-1525.3\">input:</text>\n<polyline fill=\"none\" points=\"192.5,-1517.5 247.5,-1517.5 \" stroke=\"black\"/>\n<text font-family=\"Times,serif\" font-size=\"14.00\" text-anchor=\"middle\" x=\"220\" y=\"-1502.3\">output:</text>\n<polyline fill=\"none\" points=\"247.5,-1494.5 247.5,-1540.5 \" stroke=\"black\"/>\n<text font-family=\"Times,serif\" font-size=\"14.00\" text-anchor=\"middle\" x=\"303\" y=\"-1525.3\">(None, 99, 81, 1)</text>\n<polyline fill=\"none\" points=\"247.5,-1517.5 358.5,-1517.5 \" stroke=\"black\"/>\n<text font-family=\"Times,serif\" font-size=\"14.00\" text-anchor=\"middle\" x=\"303\" y=\"-1502.3\">(None, 99, 81, 1)</text>\n</g>\n<!-- 140487431816080 -->\n<g class=\"node\" id=\"node2\"><title>140487431816080</title>\n<polygon fill=\"none\" points=\"-2.84217e-14,-1411.5 -2.84217e-14,-1457.5 426,-1457.5 426,-1411.5 -2.84217e-14,-1411.5\" stroke=\"black\"/>\n<text font-family=\"Times,serif\" font-size=\"14.00\" text-anchor=\"middle\" x=\"130\" y=\"-1430.8\">batch_normalization_1: BatchNormalization</text>\n<polyline fill=\"none\" points=\"260,-1411.5 260,-1457.5 \" stroke=\"black\"/>\n<text font-family=\"Times,serif\" font-size=\"14.00\" text-anchor=\"middle\" x=\"287.5\" y=\"-1442.3\">input:</text>\n<polyline fill=\"none\" points=\"260,-1434.5 315,-1434.5 \" stroke=\"black\"/>\n<text font-family=\"Times,serif\" font-size=\"14.00\" text-anchor=\"middle\" x=\"287.5\" y=\"-1419.3\">output:</text>\n<polyline fill=\"none\" points=\"315,-1411.5 315,-1457.5 \" stroke=\"black\"/>\n<text font-family=\"Times,serif\" font-size=\"14.00\" text-anchor=\"middle\" x=\"370.5\" y=\"-1442.3\">(None, 99, 81, 1)</text>\n<polyline fill=\"none\" points=\"315,-1434.5 426,-1434.5 \" stroke=\"black\"/>\n<text font-family=\"Times,serif\" font-size=\"14.00\" text-anchor=\"middle\" x=\"370.5\" y=\"-1419.3\">(None, 99, 81, 1)</text>\n</g>\n<!-- 140487431798456&#45;&gt;140487431816080 -->\n<g class=\"edge\" id=\"edge1\"><title>140487431798456-&gt;140487431816080</title>\n<path d=\"M213,-1494.37C213,-1486.15 213,-1476.66 213,-1467.73\" fill=\"none\" stroke=\"black\"/>\n<polygon fill=\"black\" points=\"216.5,-1467.61 213,-1457.61 209.5,-1467.61 216.5,-1467.61\" stroke=\"black\"/>\n</g>\n<!-- 140487431815576 -->\n<g class=\"node\" id=\"node3\"><title>140487431815576</title>\n<polygon fill=\"none\" points=\"68.5,-1328.5 68.5,-1374.5 357.5,-1374.5 357.5,-1328.5 68.5,-1328.5\" stroke=\"black\"/>\n<text font-family=\"Times,serif\" font-size=\"14.00\" text-anchor=\"middle\" x=\"130\" y=\"-1347.8\">conv2d_1: Conv2D</text>\n<polyline fill=\"none\" points=\"191.5,-1328.5 191.5,-1374.5 \" stroke=\"black\"/>\n<text font-family=\"Times,serif\" font-size=\"14.00\" text-anchor=\"middle\" x=\"219\" y=\"-1359.3\">input:</text>\n<polyline fill=\"none\" points=\"191.5,-1351.5 246.5,-1351.5 \" stroke=\"black\"/>\n<text font-family=\"Times,serif\" font-size=\"14.00\" text-anchor=\"middle\" x=\"219\" y=\"-1336.3\">output:</text>\n<polyline fill=\"none\" points=\"246.5,-1328.5 246.5,-1374.5 \" stroke=\"black\"/>\n<text font-family=\"Times,serif\" font-size=\"14.00\" text-anchor=\"middle\" x=\"302\" y=\"-1359.3\">(None, 99, 81, 1)</text>\n<polyline fill=\"none\" points=\"246.5,-1351.5 357.5,-1351.5 \" stroke=\"black\"/>\n<text font-family=\"Times,serif\" font-size=\"14.00\" text-anchor=\"middle\" x=\"302\" y=\"-1336.3\">(None, 98, 80, 8)</text>\n</g>\n<!-- 140487431816080&#45;&gt;140487431815576 -->\n<g class=\"edge\" id=\"edge2\"><title>140487431816080-&gt;140487431815576</title>\n<path d=\"M213,-1411.37C213,-1403.15 213,-1393.66 213,-1384.73\" fill=\"none\" stroke=\"black\"/>\n<polygon fill=\"black\" points=\"216.5,-1384.61 213,-1374.61 209.5,-1384.61 216.5,-1384.61\" stroke=\"black\"/>\n</g>\n<!-- 140487431816192 -->\n<g class=\"node\" id=\"node4\"><title>140487431816192</title>\n<polygon fill=\"none\" points=\"68.5,-1245.5 68.5,-1291.5 357.5,-1291.5 357.5,-1245.5 68.5,-1245.5\" stroke=\"black\"/>\n<text font-family=\"Times,serif\" font-size=\"14.00\" text-anchor=\"middle\" x=\"130\" y=\"-1264.8\">conv2d_2: Conv2D</text>\n<polyline fill=\"none\" points=\"191.5,-1245.5 191.5,-1291.5 \" stroke=\"black\"/>\n<text font-family=\"Times,serif\" font-size=\"14.00\" text-anchor=\"middle\" x=\"219\" y=\"-1276.3\">input:</text>\n<polyline fill=\"none\" points=\"191.5,-1268.5 246.5,-1268.5 \" stroke=\"black\"/>\n<text font-family=\"Times,serif\" font-size=\"14.00\" text-anchor=\"middle\" x=\"219\" y=\"-1253.3\">output:</text>\n<polyline fill=\"none\" points=\"246.5,-1245.5 246.5,-1291.5 \" stroke=\"black\"/>\n<text font-family=\"Times,serif\" font-size=\"14.00\" text-anchor=\"middle\" x=\"302\" y=\"-1276.3\">(None, 98, 80, 8)</text>\n<polyline fill=\"none\" points=\"246.5,-1268.5 357.5,-1268.5 \" stroke=\"black\"/>\n<text font-family=\"Times,serif\" font-size=\"14.00\" text-anchor=\"middle\" x=\"302\" y=\"-1253.3\">(None, 97, 79, 8)</text>\n</g>\n<!-- 140487431815576&#45;&gt;140487431816192 -->\n<g class=\"edge\" id=\"edge3\"><title>140487431815576-&gt;140487431816192</title>\n<path d=\"M213,-1328.37C213,-1320.15 213,-1310.66 213,-1301.73\" fill=\"none\" stroke=\"black\"/>\n<polygon fill=\"black\" points=\"216.5,-1301.61 213,-1291.61 209.5,-1301.61 216.5,-1301.61\" stroke=\"black\"/>\n</g>\n<!-- 140487431816584 -->\n<g class=\"node\" id=\"node5\"><title>140487431816584</title>\n<polygon fill=\"none\" points=\"26.5,-1162.5 26.5,-1208.5 399.5,-1208.5 399.5,-1162.5 26.5,-1162.5\" stroke=\"black\"/>\n<text font-family=\"Times,serif\" font-size=\"14.00\" text-anchor=\"middle\" x=\"130\" y=\"-1181.8\">max_pooling2d_1: MaxPooling2D</text>\n<polyline fill=\"none\" points=\"233.5,-1162.5 233.5,-1208.5 \" stroke=\"black\"/>\n<text font-family=\"Times,serif\" font-size=\"14.00\" text-anchor=\"middle\" x=\"261\" y=\"-1193.3\">input:</text>\n<polyline fill=\"none\" points=\"233.5,-1185.5 288.5,-1185.5 \" stroke=\"black\"/>\n<text font-family=\"Times,serif\" font-size=\"14.00\" text-anchor=\"middle\" x=\"261\" y=\"-1170.3\">output:</text>\n<polyline fill=\"none\" points=\"288.5,-1162.5 288.5,-1208.5 \" stroke=\"black\"/>\n<text font-family=\"Times,serif\" font-size=\"14.00\" text-anchor=\"middle\" x=\"344\" y=\"-1193.3\">(None, 97, 79, 8)</text>\n<polyline fill=\"none\" points=\"288.5,-1185.5 399.5,-1185.5 \" stroke=\"black\"/>\n<text font-family=\"Times,serif\" font-size=\"14.00\" text-anchor=\"middle\" x=\"344\" y=\"-1170.3\">(None, 48, 39, 8)</text>\n</g>\n<!-- 140487431816192&#45;&gt;140487431816584 -->\n<g class=\"edge\" id=\"edge4\"><title>140487431816192-&gt;140487431816584</title>\n<path d=\"M213,-1245.37C213,-1237.15 213,-1227.66 213,-1218.73\" fill=\"none\" stroke=\"black\"/>\n<polygon fill=\"black\" points=\"216.5,-1218.61 213,-1208.61 209.5,-1218.61 216.5,-1218.61\" stroke=\"black\"/>\n</g>\n<!-- 140487431816808 -->\n<g class=\"node\" id=\"node6\"><title>140487431816808</title>\n<polygon fill=\"none\" points=\"67.5,-1079.5 67.5,-1125.5 358.5,-1125.5 358.5,-1079.5 67.5,-1079.5\" stroke=\"black\"/>\n<text font-family=\"Times,serif\" font-size=\"14.00\" text-anchor=\"middle\" x=\"130\" y=\"-1098.8\">dropout_1: Dropout</text>\n<polyline fill=\"none\" points=\"192.5,-1079.5 192.5,-1125.5 \" stroke=\"black\"/>\n<text font-family=\"Times,serif\" font-size=\"14.00\" text-anchor=\"middle\" x=\"220\" y=\"-1110.3\">input:</text>\n<polyline fill=\"none\" points=\"192.5,-1102.5 247.5,-1102.5 \" stroke=\"black\"/>\n<text font-family=\"Times,serif\" font-size=\"14.00\" text-anchor=\"middle\" x=\"220\" y=\"-1087.3\">output:</text>\n<polyline fill=\"none\" points=\"247.5,-1079.5 247.5,-1125.5 \" stroke=\"black\"/>\n<text font-family=\"Times,serif\" font-size=\"14.00\" text-anchor=\"middle\" x=\"303\" y=\"-1110.3\">(None, 48, 39, 8)</text>\n<polyline fill=\"none\" points=\"247.5,-1102.5 358.5,-1102.5 \" stroke=\"black\"/>\n<text font-family=\"Times,serif\" font-size=\"14.00\" text-anchor=\"middle\" x=\"303\" y=\"-1087.3\">(None, 48, 39, 8)</text>\n</g>\n<!-- 140487431816584&#45;&gt;140487431816808 -->\n<g class=\"edge\" id=\"edge5\"><title>140487431816584-&gt;140487431816808</title>\n<path d=\"M213,-1162.37C213,-1154.15 213,-1144.66 213,-1135.73\" fill=\"none\" stroke=\"black\"/>\n<polygon fill=\"black\" points=\"216.5,-1135.61 213,-1125.61 209.5,-1135.61 216.5,-1135.61\" stroke=\"black\"/>\n</g>\n<!-- 140487431816864 -->\n<g class=\"node\" id=\"node7\"><title>140487431816864</title>\n<polygon fill=\"none\" points=\"65,-996.5 65,-1042.5 361,-1042.5 361,-996.5 65,-996.5\" stroke=\"black\"/>\n<text font-family=\"Times,serif\" font-size=\"14.00\" text-anchor=\"middle\" x=\"126.5\" y=\"-1015.8\">conv2d_3: Conv2D</text>\n<polyline fill=\"none\" points=\"188,-996.5 188,-1042.5 \" stroke=\"black\"/>\n<text font-family=\"Times,serif\" font-size=\"14.00\" text-anchor=\"middle\" x=\"215.5\" y=\"-1027.3\">input:</text>\n<polyline fill=\"none\" points=\"188,-1019.5 243,-1019.5 \" stroke=\"black\"/>\n<text font-family=\"Times,serif\" font-size=\"14.00\" text-anchor=\"middle\" x=\"215.5\" y=\"-1004.3\">output:</text>\n<polyline fill=\"none\" points=\"243,-996.5 243,-1042.5 \" stroke=\"black\"/>\n<text font-family=\"Times,serif\" font-size=\"14.00\" text-anchor=\"middle\" x=\"302\" y=\"-1027.3\">(None, 48, 39, 8)</text>\n<polyline fill=\"none\" points=\"243,-1019.5 361,-1019.5 \" stroke=\"black\"/>\n<text font-family=\"Times,serif\" font-size=\"14.00\" text-anchor=\"middle\" x=\"302\" y=\"-1004.3\">(None, 46, 37, 16)</text>\n</g>\n<!-- 140487431816808&#45;&gt;140487431816864 -->\n<g class=\"edge\" id=\"edge6\"><title>140487431816808-&gt;140487431816864</title>\n<path d=\"M213,-1079.37C213,-1071.15 213,-1061.66 213,-1052.73\" fill=\"none\" stroke=\"black\"/>\n<polygon fill=\"black\" points=\"216.5,-1052.61 213,-1042.61 209.5,-1052.61 216.5,-1052.61\" stroke=\"black\"/>\n</g>\n<!-- 140487431817200 -->\n<g class=\"node\" id=\"node8\"><title>140487431817200</title>\n<polygon fill=\"none\" points=\"65,-913.5 65,-959.5 361,-959.5 361,-913.5 65,-913.5\" stroke=\"black\"/>\n<text font-family=\"Times,serif\" font-size=\"14.00\" text-anchor=\"middle\" x=\"126.5\" y=\"-932.8\">conv2d_4: Conv2D</text>\n<polyline fill=\"none\" points=\"188,-913.5 188,-959.5 \" stroke=\"black\"/>\n<text font-family=\"Times,serif\" font-size=\"14.00\" text-anchor=\"middle\" x=\"215.5\" y=\"-944.3\">input:</text>\n<polyline fill=\"none\" points=\"188,-936.5 243,-936.5 \" stroke=\"black\"/>\n<text font-family=\"Times,serif\" font-size=\"14.00\" text-anchor=\"middle\" x=\"215.5\" y=\"-921.3\">output:</text>\n<polyline fill=\"none\" points=\"243,-913.5 243,-959.5 \" stroke=\"black\"/>\n<text font-family=\"Times,serif\" font-size=\"14.00\" text-anchor=\"middle\" x=\"302\" y=\"-944.3\">(None, 46, 37, 16)</text>\n<polyline fill=\"none\" points=\"243,-936.5 361,-936.5 \" stroke=\"black\"/>\n<text font-family=\"Times,serif\" font-size=\"14.00\" text-anchor=\"middle\" x=\"302\" y=\"-921.3\">(None, 44, 35, 16)</text>\n</g>\n<!-- 140487431816864&#45;&gt;140487431817200 -->\n<g class=\"edge\" id=\"edge7\"><title>140487431816864-&gt;140487431817200</title>\n<path d=\"M213,-996.366C213,-988.152 213,-978.658 213,-969.725\" fill=\"none\" stroke=\"black\"/>\n<polygon fill=\"black\" points=\"216.5,-969.607 213,-959.607 209.5,-969.607 216.5,-969.607\" stroke=\"black\"/>\n</g>\n<!-- 140487431817592 -->\n<g class=\"node\" id=\"node9\"><title>140487431817592</title>\n<polygon fill=\"none\" points=\"23,-830.5 23,-876.5 403,-876.5 403,-830.5 23,-830.5\" stroke=\"black\"/>\n<text font-family=\"Times,serif\" font-size=\"14.00\" text-anchor=\"middle\" x=\"126.5\" y=\"-849.8\">max_pooling2d_2: MaxPooling2D</text>\n<polyline fill=\"none\" points=\"230,-830.5 230,-876.5 \" stroke=\"black\"/>\n<text font-family=\"Times,serif\" font-size=\"14.00\" text-anchor=\"middle\" x=\"257.5\" y=\"-861.3\">input:</text>\n<polyline fill=\"none\" points=\"230,-853.5 285,-853.5 \" stroke=\"black\"/>\n<text font-family=\"Times,serif\" font-size=\"14.00\" text-anchor=\"middle\" x=\"257.5\" y=\"-838.3\">output:</text>\n<polyline fill=\"none\" points=\"285,-830.5 285,-876.5 \" stroke=\"black\"/>\n<text font-family=\"Times,serif\" font-size=\"14.00\" text-anchor=\"middle\" x=\"344\" y=\"-861.3\">(None, 44, 35, 16)</text>\n<polyline fill=\"none\" points=\"285,-853.5 403,-853.5 \" stroke=\"black\"/>\n<text font-family=\"Times,serif\" font-size=\"14.00\" text-anchor=\"middle\" x=\"344\" y=\"-838.3\">(None, 22, 17, 16)</text>\n</g>\n<!-- 140487431817200&#45;&gt;140487431817592 -->\n<g class=\"edge\" id=\"edge8\"><title>140487431817200-&gt;140487431817592</title>\n<path d=\"M213,-913.366C213,-905.152 213,-895.658 213,-886.725\" fill=\"none\" stroke=\"black\"/>\n<polygon fill=\"black\" points=\"216.5,-886.607 213,-876.607 209.5,-886.607 216.5,-886.607\" stroke=\"black\"/>\n</g>\n<!-- 140487431817816 -->\n<g class=\"node\" id=\"node10\"><title>140487431817816</title>\n<polygon fill=\"none\" points=\"64,-747.5 64,-793.5 362,-793.5 362,-747.5 64,-747.5\" stroke=\"black\"/>\n<text font-family=\"Times,serif\" font-size=\"14.00\" text-anchor=\"middle\" x=\"126.5\" y=\"-766.8\">dropout_2: Dropout</text>\n<polyline fill=\"none\" points=\"189,-747.5 189,-793.5 \" stroke=\"black\"/>\n<text font-family=\"Times,serif\" font-size=\"14.00\" text-anchor=\"middle\" x=\"216.5\" y=\"-778.3\">input:</text>\n<polyline fill=\"none\" points=\"189,-770.5 244,-770.5 \" stroke=\"black\"/>\n<text font-family=\"Times,serif\" font-size=\"14.00\" text-anchor=\"middle\" x=\"216.5\" y=\"-755.3\">output:</text>\n<polyline fill=\"none\" points=\"244,-747.5 244,-793.5 \" stroke=\"black\"/>\n<text font-family=\"Times,serif\" font-size=\"14.00\" text-anchor=\"middle\" x=\"303\" y=\"-778.3\">(None, 22, 17, 16)</text>\n<polyline fill=\"none\" points=\"244,-770.5 362,-770.5 \" stroke=\"black\"/>\n<text font-family=\"Times,serif\" font-size=\"14.00\" text-anchor=\"middle\" x=\"303\" y=\"-755.3\">(None, 22, 17, 16)</text>\n</g>\n<!-- 140487431817592&#45;&gt;140487431817816 -->\n<g class=\"edge\" id=\"edge9\"><title>140487431817592-&gt;140487431817816</title>\n<path d=\"M213,-830.366C213,-822.152 213,-812.658 213,-803.725\" fill=\"none\" stroke=\"black\"/>\n<polygon fill=\"black\" points=\"216.5,-803.607 213,-793.607 209.5,-803.607 216.5,-803.607\" stroke=\"black\"/>\n</g>\n<!-- 140487431817872 -->\n<g class=\"node\" id=\"node11\"><title>140487431817872</title>\n<polygon fill=\"none\" points=\"65,-664.5 65,-710.5 361,-710.5 361,-664.5 65,-664.5\" stroke=\"black\"/>\n<text font-family=\"Times,serif\" font-size=\"14.00\" text-anchor=\"middle\" x=\"126.5\" y=\"-683.8\">conv2d_5: Conv2D</text>\n<polyline fill=\"none\" points=\"188,-664.5 188,-710.5 \" stroke=\"black\"/>\n<text font-family=\"Times,serif\" font-size=\"14.00\" text-anchor=\"middle\" x=\"215.5\" y=\"-695.3\">input:</text>\n<polyline fill=\"none\" points=\"188,-687.5 243,-687.5 \" stroke=\"black\"/>\n<text font-family=\"Times,serif\" font-size=\"14.00\" text-anchor=\"middle\" x=\"215.5\" y=\"-672.3\">output:</text>\n<polyline fill=\"none\" points=\"243,-664.5 243,-710.5 \" stroke=\"black\"/>\n<text font-family=\"Times,serif\" font-size=\"14.00\" text-anchor=\"middle\" x=\"302\" y=\"-695.3\">(None, 22, 17, 16)</text>\n<polyline fill=\"none\" points=\"243,-687.5 361,-687.5 \" stroke=\"black\"/>\n<text font-family=\"Times,serif\" font-size=\"14.00\" text-anchor=\"middle\" x=\"302\" y=\"-672.3\">(None, 20, 15, 32)</text>\n</g>\n<!-- 140487431817816&#45;&gt;140487431817872 -->\n<g class=\"edge\" id=\"edge10\"><title>140487431817816-&gt;140487431817872</title>\n<path d=\"M213,-747.366C213,-739.152 213,-729.658 213,-720.725\" fill=\"none\" stroke=\"black\"/>\n<polygon fill=\"black\" points=\"216.5,-720.607 213,-710.607 209.5,-720.607 216.5,-720.607\" stroke=\"black\"/>\n</g>\n<!-- 140487431818208 -->\n<g class=\"node\" id=\"node12\"><title>140487431818208</title>\n<polygon fill=\"none\" points=\"23,-581.5 23,-627.5 403,-627.5 403,-581.5 23,-581.5\" stroke=\"black\"/>\n<text font-family=\"Times,serif\" font-size=\"14.00\" text-anchor=\"middle\" x=\"126.5\" y=\"-600.8\">max_pooling2d_3: MaxPooling2D</text>\n<polyline fill=\"none\" points=\"230,-581.5 230,-627.5 \" stroke=\"black\"/>\n<text font-family=\"Times,serif\" font-size=\"14.00\" text-anchor=\"middle\" x=\"257.5\" y=\"-612.3\">input:</text>\n<polyline fill=\"none\" points=\"230,-604.5 285,-604.5 \" stroke=\"black\"/>\n<text font-family=\"Times,serif\" font-size=\"14.00\" text-anchor=\"middle\" x=\"257.5\" y=\"-589.3\">output:</text>\n<polyline fill=\"none\" points=\"285,-581.5 285,-627.5 \" stroke=\"black\"/>\n<text font-family=\"Times,serif\" font-size=\"14.00\" text-anchor=\"middle\" x=\"344\" y=\"-612.3\">(None, 20, 15, 32)</text>\n<polyline fill=\"none\" points=\"285,-604.5 403,-604.5 \" stroke=\"black\"/>\n<text font-family=\"Times,serif\" font-size=\"14.00\" text-anchor=\"middle\" x=\"344\" y=\"-589.3\">(None, 10, 7, 32)</text>\n</g>\n<!-- 140487431817872&#45;&gt;140487431818208 -->\n<g class=\"edge\" id=\"edge11\"><title>140487431817872-&gt;140487431818208</title>\n<path d=\"M213,-664.366C213,-656.152 213,-646.658 213,-637.725\" fill=\"none\" stroke=\"black\"/>\n<polygon fill=\"black\" points=\"216.5,-637.607 213,-627.607 209.5,-637.607 216.5,-637.607\" stroke=\"black\"/>\n</g>\n<!-- 140487431818432 -->\n<g class=\"node\" id=\"node13\"><title>140487431818432</title>\n<polygon fill=\"none\" points=\"67.5,-498.5 67.5,-544.5 358.5,-544.5 358.5,-498.5 67.5,-498.5\" stroke=\"black\"/>\n<text font-family=\"Times,serif\" font-size=\"14.00\" text-anchor=\"middle\" x=\"130\" y=\"-517.8\">dropout_3: Dropout</text>\n<polyline fill=\"none\" points=\"192.5,-498.5 192.5,-544.5 \" stroke=\"black\"/>\n<text font-family=\"Times,serif\" font-size=\"14.00\" text-anchor=\"middle\" x=\"220\" y=\"-529.3\">input:</text>\n<polyline fill=\"none\" points=\"192.5,-521.5 247.5,-521.5 \" stroke=\"black\"/>\n<text font-family=\"Times,serif\" font-size=\"14.00\" text-anchor=\"middle\" x=\"220\" y=\"-506.3\">output:</text>\n<polyline fill=\"none\" points=\"247.5,-498.5 247.5,-544.5 \" stroke=\"black\"/>\n<text font-family=\"Times,serif\" font-size=\"14.00\" text-anchor=\"middle\" x=\"303\" y=\"-529.3\">(None, 10, 7, 32)</text>\n<polyline fill=\"none\" points=\"247.5,-521.5 358.5,-521.5 \" stroke=\"black\"/>\n<text font-family=\"Times,serif\" font-size=\"14.00\" text-anchor=\"middle\" x=\"303\" y=\"-506.3\">(None, 10, 7, 32)</text>\n</g>\n<!-- 140487431818208&#45;&gt;140487431818432 -->\n<g class=\"edge\" id=\"edge12\"><title>140487431818208-&gt;140487431818432</title>\n<path d=\"M213,-581.366C213,-573.152 213,-563.658 213,-554.725\" fill=\"none\" stroke=\"black\"/>\n<polygon fill=\"black\" points=\"216.5,-554.607 213,-544.607 209.5,-554.607 216.5,-554.607\" stroke=\"black\"/>\n</g>\n<!-- 140487431818488 -->\n<g class=\"node\" id=\"node14\"><title>140487431818488</title>\n<polygon fill=\"none\" points=\"75,-415.5 75,-461.5 351,-461.5 351,-415.5 75,-415.5\" stroke=\"black\"/>\n<text font-family=\"Times,serif\" font-size=\"14.00\" text-anchor=\"middle\" x=\"130\" y=\"-434.8\">flatten_1: Flatten</text>\n<polyline fill=\"none\" points=\"185,-415.5 185,-461.5 \" stroke=\"black\"/>\n<text font-family=\"Times,serif\" font-size=\"14.00\" text-anchor=\"middle\" x=\"212.5\" y=\"-446.3\">input:</text>\n<polyline fill=\"none\" points=\"185,-438.5 240,-438.5 \" stroke=\"black\"/>\n<text font-family=\"Times,serif\" font-size=\"14.00\" text-anchor=\"middle\" x=\"212.5\" y=\"-423.3\">output:</text>\n<polyline fill=\"none\" points=\"240,-415.5 240,-461.5 \" stroke=\"black\"/>\n<text font-family=\"Times,serif\" font-size=\"14.00\" text-anchor=\"middle\" x=\"295.5\" y=\"-446.3\">(None, 10, 7, 32)</text>\n<polyline fill=\"none\" points=\"240,-438.5 351,-438.5 \" stroke=\"black\"/>\n<text font-family=\"Times,serif\" font-size=\"14.00\" text-anchor=\"middle\" x=\"295.5\" y=\"-423.3\">(None, 2240)</text>\n</g>\n<!-- 140487431818432&#45;&gt;140487431818488 -->\n<g class=\"edge\" id=\"edge13\"><title>140487431818432-&gt;140487431818488</title>\n<path d=\"M213,-498.366C213,-490.152 213,-480.658 213,-471.725\" fill=\"none\" stroke=\"black\"/>\n<polygon fill=\"black\" points=\"216.5,-471.607 213,-461.607 209.5,-471.607 216.5,-471.607\" stroke=\"black\"/>\n</g>\n<!-- 140487431818600 -->\n<g class=\"node\" id=\"node15\"><title>140487431818600</title>\n<polygon fill=\"none\" points=\"90,-332.5 90,-378.5 336,-378.5 336,-332.5 90,-332.5\" stroke=\"black\"/>\n<text font-family=\"Times,serif\" font-size=\"14.00\" text-anchor=\"middle\" x=\"141\" y=\"-351.8\">dense_1: Dense</text>\n<polyline fill=\"none\" points=\"192,-332.5 192,-378.5 \" stroke=\"black\"/>\n<text font-family=\"Times,serif\" font-size=\"14.00\" text-anchor=\"middle\" x=\"219.5\" y=\"-363.3\">input:</text>\n<polyline fill=\"none\" points=\"192,-355.5 247,-355.5 \" stroke=\"black\"/>\n<text font-family=\"Times,serif\" font-size=\"14.00\" text-anchor=\"middle\" x=\"219.5\" y=\"-340.3\">output:</text>\n<polyline fill=\"none\" points=\"247,-332.5 247,-378.5 \" stroke=\"black\"/>\n<text font-family=\"Times,serif\" font-size=\"14.00\" text-anchor=\"middle\" x=\"291.5\" y=\"-363.3\">(None, 2240)</text>\n<polyline fill=\"none\" points=\"247,-355.5 336,-355.5 \" stroke=\"black\"/>\n<text font-family=\"Times,serif\" font-size=\"14.00\" text-anchor=\"middle\" x=\"291.5\" y=\"-340.3\">(None, 128)</text>\n</g>\n<!-- 140487431818488&#45;&gt;140487431818600 -->\n<g class=\"edge\" id=\"edge14\"><title>140487431818488-&gt;140487431818600</title>\n<path d=\"M213,-415.366C213,-407.152 213,-397.658 213,-388.725\" fill=\"none\" stroke=\"black\"/>\n<polygon fill=\"black\" points=\"216.5,-388.607 213,-378.607 209.5,-388.607 216.5,-388.607\" stroke=\"black\"/>\n</g>\n<!-- 140487431818936 -->\n<g class=\"node\" id=\"node16\"><title>140487431818936</title>\n<polygon fill=\"none\" points=\"14,-249.5 14,-295.5 412,-295.5 412,-249.5 14,-249.5\" stroke=\"black\"/>\n<text font-family=\"Times,serif\" font-size=\"14.00\" text-anchor=\"middle\" x=\"144\" y=\"-268.8\">batch_normalization_2: BatchNormalization</text>\n<polyline fill=\"none\" points=\"274,-249.5 274,-295.5 \" stroke=\"black\"/>\n<text font-family=\"Times,serif\" font-size=\"14.00\" text-anchor=\"middle\" x=\"301.5\" y=\"-280.3\">input:</text>\n<polyline fill=\"none\" points=\"274,-272.5 329,-272.5 \" stroke=\"black\"/>\n<text font-family=\"Times,serif\" font-size=\"14.00\" text-anchor=\"middle\" x=\"301.5\" y=\"-257.3\">output:</text>\n<polyline fill=\"none\" points=\"329,-249.5 329,-295.5 \" stroke=\"black\"/>\n<text font-family=\"Times,serif\" font-size=\"14.00\" text-anchor=\"middle\" x=\"370.5\" y=\"-280.3\">(None, 128)</text>\n<polyline fill=\"none\" points=\"329,-272.5 412,-272.5 \" stroke=\"black\"/>\n<text font-family=\"Times,serif\" font-size=\"14.00\" text-anchor=\"middle\" x=\"370.5\" y=\"-257.3\">(None, 128)</text>\n</g>\n<!-- 140487431818600&#45;&gt;140487431818936 -->\n<g class=\"edge\" id=\"edge15\"><title>140487431818600-&gt;140487431818936</title>\n<path d=\"M213,-332.366C213,-324.152 213,-314.658 213,-305.725\" fill=\"none\" stroke=\"black\"/>\n<polygon fill=\"black\" points=\"216.5,-305.607 213,-295.607 209.5,-305.607 216.5,-305.607\" stroke=\"black\"/>\n</g>\n<!-- 140487431798568 -->\n<g class=\"node\" id=\"node17\"><title>140487431798568</title>\n<polygon fill=\"none\" points=\"93,-166.5 93,-212.5 333,-212.5 333,-166.5 93,-166.5\" stroke=\"black\"/>\n<text font-family=\"Times,serif\" font-size=\"14.00\" text-anchor=\"middle\" x=\"144\" y=\"-185.8\">dense_2: Dense</text>\n<polyline fill=\"none\" points=\"195,-166.5 195,-212.5 \" stroke=\"black\"/>\n<text font-family=\"Times,serif\" font-size=\"14.00\" text-anchor=\"middle\" x=\"222.5\" y=\"-197.3\">input:</text>\n<polyline fill=\"none\" points=\"195,-189.5 250,-189.5 \" stroke=\"black\"/>\n<text font-family=\"Times,serif\" font-size=\"14.00\" text-anchor=\"middle\" x=\"222.5\" y=\"-174.3\">output:</text>\n<polyline fill=\"none\" points=\"250,-166.5 250,-212.5 \" stroke=\"black\"/>\n<text font-family=\"Times,serif\" font-size=\"14.00\" text-anchor=\"middle\" x=\"291.5\" y=\"-197.3\">(None, 128)</text>\n<polyline fill=\"none\" points=\"250,-189.5 333,-189.5 \" stroke=\"black\"/>\n<text font-family=\"Times,serif\" font-size=\"14.00\" text-anchor=\"middle\" x=\"291.5\" y=\"-174.3\">(None, 128)</text>\n</g>\n<!-- 140487431818936&#45;&gt;140487431798568 -->\n<g class=\"edge\" id=\"edge16\"><title>140487431818936-&gt;140487431798568</title>\n<path d=\"M213,-249.366C213,-241.152 213,-231.658 213,-222.725\" fill=\"none\" stroke=\"black\"/>\n<polygon fill=\"black\" points=\"216.5,-222.607 213,-212.607 209.5,-222.607 216.5,-222.607\" stroke=\"black\"/>\n</g>\n<!-- 140487431831904 -->\n<g class=\"node\" id=\"node18\"><title>140487431831904</title>\n<polygon fill=\"none\" points=\"14,-83.5 14,-129.5 412,-129.5 412,-83.5 14,-83.5\" stroke=\"black\"/>\n<text font-family=\"Times,serif\" font-size=\"14.00\" text-anchor=\"middle\" x=\"144\" y=\"-102.8\">batch_normalization_3: BatchNormalization</text>\n<polyline fill=\"none\" points=\"274,-83.5 274,-129.5 \" stroke=\"black\"/>\n<text font-family=\"Times,serif\" font-size=\"14.00\" text-anchor=\"middle\" x=\"301.5\" y=\"-114.3\">input:</text>\n<polyline fill=\"none\" points=\"274,-106.5 329,-106.5 \" stroke=\"black\"/>\n<text font-family=\"Times,serif\" font-size=\"14.00\" text-anchor=\"middle\" x=\"301.5\" y=\"-91.3\">output:</text>\n<polyline fill=\"none\" points=\"329,-83.5 329,-129.5 \" stroke=\"black\"/>\n<text font-family=\"Times,serif\" font-size=\"14.00\" text-anchor=\"middle\" x=\"370.5\" y=\"-114.3\">(None, 128)</text>\n<polyline fill=\"none\" points=\"329,-106.5 412,-106.5 \" stroke=\"black\"/>\n<text font-family=\"Times,serif\" font-size=\"14.00\" text-anchor=\"middle\" x=\"370.5\" y=\"-91.3\">(None, 128)</text>\n</g>\n<!-- 140487431798568&#45;&gt;140487431831904 -->\n<g class=\"edge\" id=\"edge17\"><title>140487431798568-&gt;140487431831904</title>\n<path d=\"M213,-166.366C213,-158.152 213,-148.658 213,-139.725\" fill=\"none\" stroke=\"black\"/>\n<polygon fill=\"black\" points=\"216.5,-139.607 213,-129.607 209.5,-139.607 216.5,-139.607\" stroke=\"black\"/>\n</g>\n<!-- 140487431832184 -->\n<g class=\"node\" id=\"node19\"><title>140487431832184</title>\n<polygon fill=\"none\" points=\"93,-0.5 93,-46.5 333,-46.5 333,-0.5 93,-0.5\" stroke=\"black\"/>\n<text font-family=\"Times,serif\" font-size=\"14.00\" text-anchor=\"middle\" x=\"144\" y=\"-19.8\">dense_3: Dense</text>\n<polyline fill=\"none\" points=\"195,-0.5 195,-46.5 \" stroke=\"black\"/>\n<text font-family=\"Times,serif\" font-size=\"14.00\" text-anchor=\"middle\" x=\"222.5\" y=\"-31.3\">input:</text>\n<polyline fill=\"none\" points=\"195,-23.5 250,-23.5 \" stroke=\"black\"/>\n<text font-family=\"Times,serif\" font-size=\"14.00\" text-anchor=\"middle\" x=\"222.5\" y=\"-8.3\">output:</text>\n<polyline fill=\"none\" points=\"250,-0.5 250,-46.5 \" stroke=\"black\"/>\n<text font-family=\"Times,serif\" font-size=\"14.00\" text-anchor=\"middle\" x=\"291.5\" y=\"-31.3\">(None, 128)</text>\n<polyline fill=\"none\" points=\"250,-23.5 333,-23.5 \" stroke=\"black\"/>\n<text font-family=\"Times,serif\" font-size=\"14.00\" text-anchor=\"middle\" x=\"291.5\" y=\"-8.3\">(None, 12)</text>\n</g>\n<!-- 140487431831904&#45;&gt;140487431832184 -->\n<g class=\"edge\" id=\"edge18\"><title>140487431831904-&gt;140487431832184</title>\n<path d=\"M213,-83.3664C213,-75.1516 213,-65.6579 213,-56.7252\" fill=\"none\" stroke=\"black\"/>\n<polygon fill=\"black\" points=\"216.5,-56.6068 213,-46.6068 209.5,-56.6069 216.5,-56.6068\" stroke=\"black\"/>\n</g>\n</g>\n</svg>",
            "text/plain": [
              "<IPython.core.display.SVG object>"
            ]
          },
          "metadata": {
            "tags": []
          },
          "execution_count": 57
        }
      ]
    },
    {
      "cell_type": "code",
      "metadata": {
        "id": "uThL3NpEYhUc",
        "colab_type": "code",
        "colab": {}
      },
      "source": [
        "from keras.models import Model"
      ],
      "execution_count": 0,
      "outputs": []
    },
    {
      "cell_type": "code",
      "metadata": {
        "id": "ANsvf1-HYhUf",
        "colab_type": "code",
        "colab": {},
        "outputId": "ab9c3bc8-9c1a-49a1-c006-89d422e68826"
      },
      "source": [
        "parallel_model.input"
      ],
      "execution_count": 0,
      "outputs": [
        {
          "output_type": "execute_result",
          "data": {
            "text/plain": [
              "<tf.Tensor 'input_1_2:0' shape=(?, 99, 81, 1) dtype=float32>"
            ]
          },
          "metadata": {
            "tags": []
          },
          "execution_count": 148
        }
      ]
    },
    {
      "cell_type": "code",
      "metadata": {
        "id": "lmZyIXgiYhUk",
        "colab_type": "code",
        "colab": {},
        "outputId": "4fb5e412-614b-499f-b33c-24fff8f66115"
      },
      "source": [
        "intermediate_layer_model_flatten = Model(input=parallel_model.input,output=model.layers[15].output)"
      ],
      "execution_count": 0,
      "outputs": [
        {
          "output_type": "stream",
          "text": [
            "/usr/local/lib/python3.5/dist-packages/ipykernel_launcher.py:1: UserWarning: Update your `Model` call to the Keras 2 API: `Model(inputs=Tensor(\"in..., outputs=Tensor(\"ba...)`\n",
            "  \"\"\"Entry point for launching an IPython kernel.\n"
          ],
          "name": "stderr"
        }
      ]
    },
    {
      "cell_type": "code",
      "metadata": {
        "id": "4PWCPeilYhUo",
        "colab_type": "code",
        "colab": {},
        "outputId": "59ff75d0-9f32-4469-c52f-cd886799d437"
      },
      "source": [
        "intermediate_layer_model_flatten"
      ],
      "execution_count": 0,
      "outputs": [
        {
          "output_type": "execute_result",
          "data": {
            "text/plain": [
              "<keras.engine.training.Model at 0x7fc4cf1f2278>"
            ]
          },
          "metadata": {
            "tags": []
          },
          "execution_count": 150
        }
      ]
    },
    {
      "cell_type": "code",
      "metadata": {
        "id": "oim3pNHdYhUu",
        "colab_type": "code",
        "colab": {}
      },
      "source": [
        "flatten_value = intermediate_layer_model_flatten.predict(x_train)"
      ],
      "execution_count": 0,
      "outputs": []
    },
    {
      "cell_type": "code",
      "metadata": {
        "id": "8tuQYDcEYhUx",
        "colab_type": "code",
        "colab": {},
        "outputId": "fdbb9fab-139a-4154-b225-be5a7dc0f1c2"
      },
      "source": [
        "flatten_value"
      ],
      "execution_count": 0,
      "outputs": [
        {
          "output_type": "execute_result",
          "data": {
            "text/plain": [
              "array([[-1.55775964, -2.29262328,  3.67452312, ..., -1.92921543,\n",
              "         1.28039193, -0.95891011],\n",
              "       [-1.55775964, -1.09495223,  1.21194386, ..., -1.5982722 ,\n",
              "        -1.72894645, -0.95891011],\n",
              "       [-1.55775964, -2.29262328,  2.46265531, ..., -1.92921543,\n",
              "         1.05937147, -0.95891011],\n",
              "       ..., \n",
              "       [-0.75167358, -2.29262328, -1.7639854 , ..., -1.92921543,\n",
              "        -1.72894645, -0.95891011],\n",
              "       [-1.55775964, -0.85432017, -1.62072778, ..., -1.92921543,\n",
              "        -1.72894645, -0.95891011],\n",
              "       [-0.89543515, -0.42076492, -1.7639854 , ..., -0.73357844,\n",
              "        -1.72894645, -0.95891011]], dtype=float32)"
            ]
          },
          "metadata": {
            "tags": []
          },
          "execution_count": 153
        }
      ]
    },
    {
      "cell_type": "code",
      "metadata": {
        "id": "OPZvKvCjYhU9",
        "colab_type": "code",
        "colab": {},
        "outputId": "b8b5bc12-2dfb-455b-f90f-2eb3ed31af80"
      },
      "source": [
        "type(flatten_value)"
      ],
      "execution_count": 0,
      "outputs": [
        {
          "output_type": "execute_result",
          "data": {
            "text/plain": [
              "numpy.ndarray"
            ]
          },
          "metadata": {
            "tags": []
          },
          "execution_count": 154
        }
      ]
    },
    {
      "cell_type": "code",
      "metadata": {
        "id": "iKWpF3CyYhVM",
        "colab_type": "code",
        "colab": {},
        "outputId": "d43d2725-2307-4ce4-a78d-f6e81242b1cb"
      },
      "source": [
        "flatten_value.shape"
      ],
      "execution_count": 0,
      "outputs": [
        {
          "output_type": "execute_result",
          "data": {
            "text/plain": [
              "(64841, 128)"
            ]
          },
          "metadata": {
            "tags": []
          },
          "execution_count": 155
        }
      ]
    },
    {
      "cell_type": "code",
      "metadata": {
        "id": "q1v5eg9KYhVQ",
        "colab_type": "code",
        "colab": {},
        "outputId": "74953b61-2cd5-4953-d690-c7c4566ce42e"
      },
      "source": [
        "np.average(flatten_value, axis=1)"
      ],
      "execution_count": 0,
      "outputs": [
        {
          "output_type": "execute_result",
          "data": {
            "text/plain": [
              "array([-0.007158  , -0.20030661, -0.26745838, ..., -0.20278145,\n",
              "       -0.15263389, -0.31903598], dtype=float32)"
            ]
          },
          "metadata": {
            "tags": []
          },
          "execution_count": 156
        }
      ]
    },
    {
      "cell_type": "code",
      "metadata": {
        "id": "UAGTazH8YhVY",
        "colab_type": "code",
        "colab": {}
      },
      "source": [
        "test_data_path = os.path.join(root_path, 'input', 'test', 'audio')"
      ],
      "execution_count": 0,
      "outputs": []
    },
    {
      "cell_type": "code",
      "metadata": {
        "id": "9v960MYfYhVe",
        "colab_type": "code",
        "colab": {}
      },
      "source": [
        "results = []\n",
        "#results = np.array([], dtype=np.float64)\n",
        "for fnames, imgs in test_data_generator(batch=32):\n",
        "    predicts = intermediate_layer_model_flatten.predict(imgs)\n",
        "    #predicts = model.predict(imgs)\n",
        "    #predicts = np.argmax(predicts, axis=1)\n",
        "    #predicts = [label_index[p] for p in predicts]\n",
        "    results.extend(predicts)\n",
        "    #results = np.append(results, predicts)"
      ],
      "execution_count": 0,
      "outputs": []
    },
    {
      "cell_type": "code",
      "metadata": {
        "id": "uSXic9x4YhVo",
        "colab_type": "code",
        "colab": {}
      },
      "source": [
        "results2 = np.array(results)"
      ],
      "execution_count": 0,
      "outputs": []
    },
    {
      "cell_type": "code",
      "metadata": {
        "id": "xWy1PCNqYhVu",
        "colab_type": "code",
        "colab": {},
        "outputId": "482aeeaf-0de6-437b-d6a6-a6577015e978"
      },
      "source": [
        "results2.shape"
      ],
      "execution_count": 0,
      "outputs": [
        {
          "output_type": "execute_result",
          "data": {
            "text/plain": [
              "(158538, 128)"
            ]
          },
          "metadata": {
            "tags": []
          },
          "execution_count": 75
        }
      ]
    },
    {
      "cell_type": "code",
      "metadata": {
        "id": "nqGQjpGDYhVy",
        "colab_type": "code",
        "colab": {},
        "outputId": "65b9333e-b138-4df6-bdaa-938336245471"
      },
      "source": [
        "type(results2)"
      ],
      "execution_count": 0,
      "outputs": [
        {
          "output_type": "execute_result",
          "data": {
            "text/plain": [
              "numpy.ndarray"
            ]
          },
          "metadata": {
            "tags": []
          },
          "execution_count": 76
        }
      ]
    },
    {
      "cell_type": "code",
      "metadata": {
        "id": "QJTC8NiJYhV6",
        "colab_type": "code",
        "colab": {},
        "outputId": "55d17bc3-195f-475b-dc31-df3a32141abe"
      },
      "source": [
        "np.average(results2, axis=1)"
      ],
      "execution_count": 0,
      "outputs": [
        {
          "output_type": "execute_result",
          "data": {
            "text/plain": [
              "array([-0.30404228, -0.07321991, -0.10252588, ..., -0.00283034,\n",
              "       -0.3715995 , -0.2905556 ], dtype=float32)"
            ]
          },
          "metadata": {
            "tags": []
          },
          "execution_count": 159
        }
      ]
    },
    {
      "cell_type": "code",
      "metadata": {
        "id": "DCc32bFhYhWP",
        "colab_type": "code",
        "colab": {},
        "outputId": "6a0d6928-2de5-4342-8f3c-9f6f30ea7a97"
      },
      "source": [
        "print(results2, 2)"
      ],
      "execution_count": 0,
      "outputs": [
        {
          "output_type": "stream",
          "text": [
            "[[-1.42333233 -2.29262328 -0.65810549 ..., -1.92921543  0.29229116\n",
            "   0.28648484]\n",
            " [ 2.48813868 -0.49979937 -1.7639854  ..., -1.92921543 -1.72894645\n",
            "  -0.95891011]\n",
            " [ 1.43944418 -2.29262328  1.93460131 ..., -1.92921543  2.19681835\n",
            "   1.75118649]\n",
            " ..., \n",
            " [-1.24054372  0.99017644  0.45560026 ...,  2.06818366 -1.72894645\n",
            "   1.64244711]\n",
            " [-1.42722297 -2.29262328 -1.7639854  ..., -1.92921543 -1.72894645\n",
            "   1.44473851]\n",
            " [-0.9950726   0.00889754  0.38673115 ..., -1.42307913 -1.3963145\n",
            "   0.37145877]] 2\n"
          ],
          "name": "stdout"
        }
      ]
    },
    {
      "cell_type": "code",
      "metadata": {
        "id": "8YDKmZHtYhWa",
        "colab_type": "code",
        "colab": {}
      },
      "source": [
        "#https://flonelin.wordpress.com/2016/07/26/tuning-xgboostextream-gradient-boosting/\n",
        "def runXGB(train_X, train_y, test_X, test_y=None, feature_names=None, seed_val=0, num_rounds=1000):\n",
        "    param = {}\n",
        "    param['objective'] = 'multi:softmax'\n",
        "    param['eta'] = 0.02\n",
        "    param['max_depth'] = 8\n",
        "    param['silent'] = 1\n",
        "    param['num_class'] = 12\n",
        "    param['eval_metric'] = \"merror\"\n",
        "    param['min_child_weight'] = 3\n",
        "    param['subsample'] = 0.7\n",
        "    param['scale_pos_weight'] = 1\n",
        "    #param['gamma'] = 0.2\n",
        "    param['reg_alpha'] = 0.005  \n",
        "    param['colsample_bytree'] = 0.7\n",
        "    param['seed'] = seed_val # 초기값 설정 랜덤 안되게\n",
        "    num_rounds = num_rounds\n",
        "    \n",
        "    plst = list(param.items())\n",
        "    xgtrain = xgb.DMatrix(train_X, label=train_y) # D매트릭스로 바꿔줘야 한다.\n",
        "    feature_names = xgtrain.feature_names\n",
        "\n",
        "    # test의 타겟값을 넣은 xgb model\n",
        "    if test_y is not None:\n",
        "        xgtest = xgb.DMatrix(test_X, label=test_y)\n",
        "        watchlist = [ (xgtrain,'train'), (xgtest, 'test') ]\n",
        "        model = xgb.train(plst, xgtrain, num_rounds, watchlist, early_stopping_rounds=20)\n",
        "    # test의 타겟값을 넣지 않은 xgb model\n",
        "    else:\n",
        "        xgtest = xgb.DMatrix(test_X)\n",
        "        model = xgb.train(plst, xgtrain, num_rounds)\n",
        "\n",
        "    pred_test_y = model.predict(xgtest)\n",
        "    return pred_test_y, model, feature_names"
      ],
      "execution_count": 0,
      "outputs": []
    },
    {
      "cell_type": "code",
      "metadata": {
        "id": "T-XOeoGMYhWc",
        "colab_type": "code",
        "colab": {}
      },
      "source": [
        "import xgboost as xgb\n",
        "import random\n",
        "from sklearn import model_selection, preprocessing, ensemble\n",
        "from sklearn.metrics import log_loss\n",
        "from sklearn.metrics import accuracy_score\n",
        "from sklearn.feature_extraction.text import TfidfVectorizer, CountVectorizer\n",
        "from sklearn.model_selection import train_test_split\n",
        "from sklearn.ensemble import RandomForestClassifier, GradientBoostingClassifier, VotingClassifier\n",
        "from sklearn.preprocessing import Imputer"
      ],
      "execution_count": 0,
      "outputs": []
    },
    {
      "cell_type": "code",
      "metadata": {
        "id": "3c7-Mg1YYhWe",
        "colab_type": "code",
        "colab": {}
      },
      "source": [
        "y_train2 = label_transform(y_train)\n",
        "#y_train = y_train.values"
      ],
      "execution_count": 0,
      "outputs": []
    },
    {
      "cell_type": "code",
      "metadata": {
        "id": "mc3O7qr8YhWj",
        "colab_type": "code",
        "colab": {},
        "outputId": "95099429-0a65-4a33-d81d-d329b3868c98"
      },
      "source": [
        "y_train2.shape"
      ],
      "execution_count": 0,
      "outputs": [
        {
          "output_type": "execute_result",
          "data": {
            "text/plain": [
              "(64841, 12)"
            ]
          },
          "metadata": {
            "tags": []
          },
          "execution_count": 117
        }
      ]
    },
    {
      "cell_type": "code",
      "metadata": {
        "id": "HIaf794_YhWt",
        "colab_type": "code",
        "colab": {},
        "outputId": "40298caf-5acf-4fb3-ef94-ca03ed91609a"
      },
      "source": [
        "type(y_train2)"
      ],
      "execution_count": 0,
      "outputs": [
        {
          "output_type": "execute_result",
          "data": {
            "text/plain": [
              "pandas.core.frame.DataFrame"
            ]
          },
          "metadata": {
            "tags": []
          },
          "execution_count": 118
        }
      ]
    },
    {
      "cell_type": "code",
      "metadata": {
        "id": "fh9NJx8OYhW0",
        "colab_type": "code",
        "colab": {},
        "outputId": "5b07ebf4-82e5-4143-ed8e-cebc7ef1fc87"
      },
      "source": [
        "y_train2 = y_train2.apply(lambda x: x.argmax(), axis=1)"
      ],
      "execution_count": 0,
      "outputs": [
        {
          "output_type": "stream",
          "text": [
            "/usr/local/lib/python3.5/dist-packages/ipykernel_launcher.py:1: FutureWarning: 'argmax' is deprecated. Use 'idxmax' instead. The behavior of 'argmax' will be corrected to return the positional maximum in the future. Use 'series.values.argmax' to get the position of the maximum now.\n",
            "  \"\"\"Entry point for launching an IPython kernel.\n"
          ],
          "name": "stderr"
        }
      ]
    },
    {
      "cell_type": "code",
      "metadata": {
        "id": "F-0NbwzhYhW3",
        "colab_type": "code",
        "colab": {},
        "outputId": "1d16722e-6aeb-45c5-8cfc-3096705b7e35"
      },
      "source": [
        "y_train2.shape"
      ],
      "execution_count": 0,
      "outputs": [
        {
          "output_type": "execute_result",
          "data": {
            "text/plain": [
              "(64841,)"
            ]
          },
          "metadata": {
            "tags": []
          },
          "execution_count": 120
        }
      ]
    },
    {
      "cell_type": "code",
      "metadata": {
        "id": "IZR5i0boYhW8",
        "colab_type": "code",
        "colab": {},
        "outputId": "7e283ffa-782d-48e7-c1c6-831dc1080f37"
      },
      "source": [
        "y_train2.head()"
      ],
      "execution_count": 0,
      "outputs": [
        {
          "output_type": "execute_result",
          "data": {
            "text/plain": [
              "0    left\n",
              "1    left\n",
              "2    left\n",
              "3    left\n",
              "4    left\n",
              "dtype: object"
            ]
          },
          "metadata": {
            "tags": []
          },
          "execution_count": 121
        }
      ]
    },
    {
      "cell_type": "code",
      "metadata": {
        "id": "9IRRKzvfYhXC",
        "colab_type": "code",
        "colab": {},
        "outputId": "9a96d90b-91f6-4bf7-c8c7-78eed181d731"
      },
      "source": [
        "target_num_map = {'down':0, 'go':1, 'left':2, 'no':3, 'off':4, 'on':5, 'right':6, 'silence':7, 'stop':8, 'unknown':9, 'up':10, 'yes':11}\n",
        "y_train3 = np.array(y_train2.apply(lambda x: target_num_map[x]))\n",
        "y_train3"
      ],
      "execution_count": 0,
      "outputs": [
        {
          "output_type": "execute_result",
          "data": {
            "text/plain": [
              "array([2, 2, 2, ..., 4, 4, 4])"
            ]
          },
          "metadata": {
            "tags": []
          },
          "execution_count": 122
        }
      ]
    },
    {
      "cell_type": "code",
      "metadata": {
        "id": "3aKlO_25YhXF",
        "colab_type": "code",
        "colab": {},
        "outputId": "1142cda4-7ae2-4a28-d3b3-c0121655a958"
      },
      "source": [
        "flatten_value.shape"
      ],
      "execution_count": 0,
      "outputs": [
        {
          "output_type": "execute_result",
          "data": {
            "text/plain": [
              "(64841, 128)"
            ]
          },
          "metadata": {
            "tags": []
          },
          "execution_count": 123
        }
      ]
    },
    {
      "cell_type": "code",
      "metadata": {
        "id": "Fdl0grSKYhXN",
        "colab_type": "code",
        "colab": {},
        "outputId": "744041fb-dce0-4db0-ecb6-03c53f812bbf"
      },
      "source": [
        "y_train3.shape"
      ],
      "execution_count": 0,
      "outputs": [
        {
          "output_type": "execute_result",
          "data": {
            "text/plain": [
              "(64841,)"
            ]
          },
          "metadata": {
            "tags": []
          },
          "execution_count": 125
        }
      ]
    },
    {
      "cell_type": "code",
      "metadata": {
        "id": "eiYSaMjXYhXQ",
        "colab_type": "code",
        "colab": {},
        "outputId": "5b504070-8afd-440e-8f9d-600265513c2f"
      },
      "source": [
        "y_train3.max()"
      ],
      "execution_count": 0,
      "outputs": [
        {
          "output_type": "execute_result",
          "data": {
            "text/plain": [
              "11"
            ]
          },
          "metadata": {
            "tags": []
          },
          "execution_count": 126
        }
      ]
    },
    {
      "cell_type": "code",
      "metadata": {
        "id": "_07ShZfIYhXV",
        "colab_type": "code",
        "colab": {},
        "outputId": "7d6a0044-0d87-4882-94a9-517d7b19b0c8"
      },
      "source": [
        "cv_scores = []\n",
        "kf = model_selection.KFold(n_splits=5, shuffle=True, random_state=2016)\n",
        "for dev_index, val_index in kf.split(range(flatten_value.shape[0])):\n",
        "        dev_X, val_X = flatten_value[dev_index,:], flatten_value[val_index,:]\n",
        "        dev_y, val_y = y_train3[dev_index], y_train3[val_index]\n",
        "        preds, model, feature_names = runXGB(dev_X, dev_y, val_X, val_y)\n",
        "        cv_scores.append(accuracy_score(val_y, preds))\n",
        "        print(cv_scores)\n",
        "        break"
      ],
      "execution_count": 0,
      "outputs": [
        {
          "output_type": "stream",
          "text": [
            "[0]\ttrain-merror:0.095022\ttest-merror:0.122831\n",
            "Multiple eval metrics have been passed: 'test-merror' will be used for early stopping.\n",
            "\n",
            "Will train until test-merror hasn't improved in 20 rounds.\n",
            "[1]\ttrain-merror:0.075648\ttest-merror:0.097309\n",
            "[2]\ttrain-merror:0.06838\ttest-merror:0.089213\n",
            "[3]\ttrain-merror:0.061613\ttest-merror:0.081348\n",
            "[4]\ttrain-merror:0.058953\ttest-merror:0.079266\n",
            "[5]\ttrain-merror:0.056659\ttest-merror:0.076644\n",
            "[6]\ttrain-merror:0.054557\ttest-merror:0.0741\n",
            "[7]\ttrain-merror:0.053497\ttest-merror:0.072943\n",
            "[8]\ttrain-merror:0.052842\ttest-merror:0.071478\n",
            "[9]\ttrain-merror:0.051608\ttest-merror:0.070784\n",
            "[10]\ttrain-merror:0.050258\ttest-merror:0.07009\n",
            "[11]\ttrain-merror:0.049584\ttest-merror:0.06955\n",
            "[12]\ttrain-merror:0.048774\ttest-merror:0.068548\n",
            "[13]\ttrain-merror:0.048292\ttest-merror:0.069088\n",
            "[14]\ttrain-merror:0.047849\ttest-merror:0.068394\n",
            "[15]\ttrain-merror:0.04702\ttest-merror:0.067546\n",
            "[16]\ttrain-merror:0.046827\ttest-merror:0.066852\n",
            "[17]\ttrain-merror:0.046557\ttest-merror:0.067006\n",
            "[18]\ttrain-merror:0.045574\ttest-merror:0.066004\n",
            "[19]\ttrain-merror:0.045246\ttest-merror:0.066081\n",
            "[20]\ttrain-merror:0.044668\ttest-merror:0.065387\n",
            "[21]\ttrain-merror:0.04434\ttest-merror:0.064461\n",
            "[22]\ttrain-merror:0.044128\ttest-merror:0.064153\n",
            "[23]\ttrain-merror:0.043183\ttest-merror:0.063073\n",
            "[24]\ttrain-merror:0.043299\ttest-merror:0.063073\n",
            "[25]\ttrain-merror:0.04274\ttest-merror:0.062302\n",
            "[26]\ttrain-merror:0.041988\ttest-merror:0.062302\n",
            "[27]\ttrain-merror:0.041892\ttest-merror:0.061686\n",
            "[28]\ttrain-merror:0.041487\ttest-merror:0.060914\n",
            "[29]\ttrain-merror:0.041198\ttest-merror:0.061454\n",
            "[30]\ttrain-merror:0.040889\ttest-merror:0.060992\n",
            "[31]\ttrain-merror:0.040561\ttest-merror:0.060837\n",
            "[32]\ttrain-merror:0.040291\ttest-merror:0.060914\n",
            "[33]\ttrain-merror:0.039964\ttest-merror:0.060375\n",
            "[34]\ttrain-merror:0.039617\ttest-merror:0.060221\n",
            "[35]\ttrain-merror:0.039424\ttest-merror:0.059912\n",
            "[36]\ttrain-merror:0.039135\ttest-merror:0.059218\n",
            "[37]\ttrain-merror:0.038884\ttest-merror:0.058678\n",
            "[38]\ttrain-merror:0.038499\ttest-merror:0.05837\n",
            "[39]\ttrain-merror:0.038325\ttest-merror:0.057984\n",
            "[40]\ttrain-merror:0.037997\ttest-merror:0.057522\n",
            "[41]\ttrain-merror:0.03767\ttest-merror:0.057445\n",
            "[42]\ttrain-merror:0.037554\ttest-merror:0.057059\n",
            "[43]\ttrain-merror:0.037419\ttest-merror:0.057368\n",
            "[44]\ttrain-merror:0.036956\ttest-merror:0.057059\n",
            "[45]\ttrain-merror:0.036744\ttest-merror:0.056828\n",
            "[46]\ttrain-merror:0.036552\ttest-merror:0.056905\n",
            "[47]\ttrain-merror:0.036417\ttest-merror:0.056365\n",
            "[48]\ttrain-merror:0.036031\ttest-merror:0.056519\n",
            "[49]\ttrain-merror:0.03578\ttest-merror:0.056596\n",
            "[50]\ttrain-merror:0.03553\ttest-merror:0.056365\n",
            "[51]\ttrain-merror:0.035202\ttest-merror:0.056057\n",
            "[52]\ttrain-merror:0.034932\ttest-merror:0.055903\n",
            "[53]\ttrain-merror:0.034874\ttest-merror:0.055671\n",
            "[54]\ttrain-merror:0.034508\ttest-merror:0.055131\n",
            "[55]\ttrain-merror:0.034277\ttest-merror:0.054977\n",
            "[56]\ttrain-merror:0.034103\ttest-merror:0.05436\n",
            "[57]\ttrain-merror:0.033833\ttest-merror:0.054283\n",
            "[58]\ttrain-merror:0.033563\ttest-merror:0.054515\n",
            "[59]\ttrain-merror:0.033313\ttest-merror:0.054052\n",
            "[60]\ttrain-merror:0.032966\ttest-merror:0.053975\n",
            "[61]\ttrain-merror:0.032715\ttest-merror:0.053589\n",
            "[62]\ttrain-merror:0.032387\ttest-merror:0.053589\n",
            "[63]\ttrain-merror:0.032137\ttest-merror:0.053512\n",
            "[64]\ttrain-merror:0.031771\ttest-merror:0.052818\n",
            "[65]\ttrain-merror:0.031674\ttest-merror:0.05251\n",
            "[66]\ttrain-merror:0.031558\ttest-merror:0.052279\n",
            "[67]\ttrain-merror:0.031327\ttest-merror:0.052047\n",
            "[68]\ttrain-merror:0.031019\ttest-merror:0.051585\n",
            "[69]\ttrain-merror:0.030787\ttest-merror:0.051816\n",
            "[70]\ttrain-merror:0.030672\ttest-merror:0.051353\n",
            "[71]\ttrain-merror:0.030595\ttest-merror:0.051276\n",
            "[72]\ttrain-merror:0.030363\ttest-merror:0.051122\n",
            "[73]\ttrain-merror:0.030074\ttest-merror:0.050736\n",
            "[74]\ttrain-merror:0.029862\ttest-merror:0.050736\n",
            "[75]\ttrain-merror:0.02965\ttest-merror:0.050813\n",
            "[76]\ttrain-merror:0.029476\ttest-merror:0.050505\n",
            "[77]\ttrain-merror:0.029341\ttest-merror:0.050197\n",
            "[78]\ttrain-merror:0.029033\ttest-merror:0.049888\n",
            "[79]\ttrain-merror:0.028763\ttest-merror:0.049811\n",
            "[80]\ttrain-merror:0.028628\ttest-merror:0.049657\n",
            "[81]\ttrain-merror:0.028397\ttest-merror:0.049657\n",
            "[82]\ttrain-merror:0.028146\ttest-merror:0.049348\n",
            "[83]\ttrain-merror:0.02805\ttest-merror:0.048963\n",
            "[84]\ttrain-merror:0.027799\ttest-merror:0.048809\n",
            "[85]\ttrain-merror:0.027722\ttest-merror:0.048963\n",
            "[86]\ttrain-merror:0.027568\ttest-merror:0.048886\n",
            "[87]\ttrain-merror:0.027433\ttest-merror:0.048423\n",
            "[88]\ttrain-merror:0.027317\ttest-merror:0.048577\n",
            "[89]\ttrain-merror:0.027067\ttest-merror:0.048269\n",
            "[90]\ttrain-merror:0.026816\ttest-merror:0.048038\n",
            "[91]\ttrain-merror:0.026585\ttest-merror:0.047961\n",
            "[92]\ttrain-merror:0.026411\ttest-merror:0.047806\n",
            "[93]\ttrain-merror:0.026238\ttest-merror:0.047652\n",
            "[94]\ttrain-merror:0.026083\ttest-merror:0.047652\n",
            "[95]\ttrain-merror:0.025891\ttest-merror:0.047421\n",
            "[96]\ttrain-merror:0.025679\ttest-merror:0.047189\n",
            "[97]\ttrain-merror:0.025621\ttest-merror:0.047189\n",
            "[98]\ttrain-merror:0.025486\ttest-merror:0.047189\n",
            "[99]\ttrain-merror:0.025351\ttest-merror:0.047267\n",
            "[100]\ttrain-merror:0.025062\ttest-merror:0.047421\n",
            "[101]\ttrain-merror:0.024888\ttest-merror:0.047267\n",
            "[102]\ttrain-merror:0.024638\ttest-merror:0.046958\n",
            "[103]\ttrain-merror:0.024387\ttest-merror:0.046958\n",
            "[104]\ttrain-merror:0.024175\ttest-merror:0.046727\n",
            "[105]\ttrain-merror:0.024079\ttest-merror:0.046495\n",
            "[106]\ttrain-merror:0.023828\ttest-merror:0.046573\n",
            "[107]\ttrain-merror:0.023731\ttest-merror:0.046418\n",
            "[108]\ttrain-merror:0.023654\ttest-merror:0.046418\n",
            "[109]\ttrain-merror:0.023481\ttest-merror:0.046573\n",
            "[110]\ttrain-merror:0.02323\ttest-merror:0.046187\n",
            "[111]\ttrain-merror:0.02298\ttest-merror:0.045956\n",
            "[112]\ttrain-merror:0.022903\ttest-merror:0.045724\n",
            "[113]\ttrain-merror:0.022729\ttest-merror:0.045493\n",
            "[114]\ttrain-merror:0.022517\ttest-merror:0.045724\n",
            "[115]\ttrain-merror:0.022382\ttest-merror:0.045724\n",
            "[116]\ttrain-merror:0.022228\ttest-merror:0.04557\n",
            "[117]\ttrain-merror:0.022151\ttest-merror:0.045108\n",
            "[118]\ttrain-merror:0.022035\ttest-merror:0.044799\n",
            "[119]\ttrain-merror:0.021862\ttest-merror:0.044722\n",
            "[120]\ttrain-merror:0.021669\ttest-merror:0.044568\n",
            "[121]\ttrain-merror:0.021572\ttest-merror:0.044414\n",
            "[122]\ttrain-merror:0.021399\ttest-merror:0.044259\n",
            "[123]\ttrain-merror:0.021341\ttest-merror:0.044182\n",
            "[124]\ttrain-merror:0.02109\ttest-merror:0.044182\n",
            "[125]\ttrain-merror:0.020975\ttest-merror:0.044028\n",
            "[126]\ttrain-merror:0.02084\ttest-merror:0.043951\n",
            "[127]\ttrain-merror:0.020724\ttest-merror:0.043565\n",
            "[128]\ttrain-merror:0.020628\ttest-merror:0.043488\n",
            "[129]\ttrain-merror:0.020551\ttest-merror:0.043411\n",
            "[130]\ttrain-merror:0.020339\ttest-merror:0.043334\n",
            "[131]\ttrain-merror:0.020261\ttest-merror:0.043334\n",
            "[132]\ttrain-merror:0.020165\ttest-merror:0.043334\n",
            "[133]\ttrain-merror:0.020049\ttest-merror:0.043103\n",
            "[134]\ttrain-merror:0.019953\ttest-merror:0.042717\n",
            "[135]\ttrain-merror:0.019799\ttest-merror:0.042871\n",
            "[136]\ttrain-merror:0.019645\ttest-merror:0.042794\n",
            "[137]\ttrain-merror:0.019529\ttest-merror:0.042563\n",
            "[138]\ttrain-merror:0.019317\ttest-merror:0.042409\n",
            "[139]\ttrain-merror:0.019259\ttest-merror:0.042332\n",
            "[140]\ttrain-merror:0.019008\ttest-merror:0.042486\n",
            "[141]\ttrain-merror:0.018816\ttest-merror:0.042332\n",
            "[142]\ttrain-merror:0.018623\ttest-merror:0.042255\n",
            "[143]\ttrain-merror:0.018546\ttest-merror:0.041869\n",
            "[144]\ttrain-merror:0.01843\ttest-merror:0.041715\n",
            "[145]\ttrain-merror:0.018276\ttest-merror:0.041484\n",
            "[146]\ttrain-merror:0.018199\ttest-merror:0.041406\n",
            "[147]\ttrain-merror:0.018064\ttest-merror:0.041484\n",
            "[148]\ttrain-merror:0.01789\ttest-merror:0.041329\n",
            "[149]\ttrain-merror:0.017697\ttest-merror:0.041252\n",
            "[150]\ttrain-merror:0.01764\ttest-merror:0.041098\n",
            "[151]\ttrain-merror:0.017505\ttest-merror:0.041098\n",
            "[152]\ttrain-merror:0.017408\ttest-merror:0.04079\n",
            "[153]\ttrain-merror:0.017273\ttest-merror:0.04079\n",
            "[154]\ttrain-merror:0.017215\ttest-merror:0.04079\n",
            "[155]\ttrain-merror:0.017119\ttest-merror:0.040635\n",
            "[156]\ttrain-merror:0.017042\ttest-merror:0.040558\n",
            "[157]\ttrain-merror:0.016849\ttest-merror:0.040404\n",
            "[158]\ttrain-merror:0.016772\ttest-merror:0.040327\n",
            "[159]\ttrain-merror:0.016618\ttest-merror:0.040096\n",
            "[160]\ttrain-merror:0.016521\ttest-merror:0.040019\n",
            "[161]\ttrain-merror:0.016348\ttest-merror:0.039479\n",
            "[162]\ttrain-merror:0.016117\ttest-merror:0.039633\n",
            "[163]\ttrain-merror:0.016001\ttest-merror:0.039479\n",
            "[164]\ttrain-merror:0.015905\ttest-merror:0.039633\n",
            "[165]\ttrain-merror:0.015789\ttest-merror:0.039556\n",
            "[166]\ttrain-merror:0.015673\ttest-merror:0.039556\n"
          ],
          "name": "stdout"
        },
        {
          "output_type": "stream",
          "text": [
            "[167]\ttrain-merror:0.015635\ttest-merror:0.039556\n",
            "[168]\ttrain-merror:0.015345\ttest-merror:0.039093\n",
            "[169]\ttrain-merror:0.015326\ttest-merror:0.039016\n",
            "[170]\ttrain-merror:0.015249\ttest-merror:0.038939\n",
            "[171]\ttrain-merror:0.015095\ttest-merror:0.038862\n",
            "[172]\ttrain-merror:0.014941\ttest-merror:0.038785\n",
            "[173]\ttrain-merror:0.014806\ttest-merror:0.038553\n",
            "[174]\ttrain-merror:0.014748\ttest-merror:0.038091\n",
            "[175]\ttrain-merror:0.014613\ttest-merror:0.038091\n",
            "[176]\ttrain-merror:0.014439\ttest-merror:0.038014\n",
            "[177]\ttrain-merror:0.014343\ttest-merror:0.037937\n",
            "[178]\ttrain-merror:0.014247\ttest-merror:0.037782\n",
            "[179]\ttrain-merror:0.014035\ttest-merror:0.037782\n",
            "[180]\ttrain-merror:0.013957\ttest-merror:0.037628\n",
            "[181]\ttrain-merror:0.013765\ttest-merror:0.037474\n",
            "[182]\ttrain-merror:0.01363\ttest-merror:0.03732\n",
            "[183]\ttrain-merror:0.013495\ttest-merror:0.037243\n",
            "[184]\ttrain-merror:0.013418\ttest-merror:0.037243\n",
            "[185]\ttrain-merror:0.013302\ttest-merror:0.037166\n",
            "[186]\ttrain-merror:0.013206\ttest-merror:0.037011\n",
            "[187]\ttrain-merror:0.013109\ttest-merror:0.037011\n",
            "[188]\ttrain-merror:0.012994\ttest-merror:0.036934\n",
            "[189]\ttrain-merror:0.012878\ttest-merror:0.03678\n",
            "[190]\ttrain-merror:0.012839\ttest-merror:0.036703\n",
            "[191]\ttrain-merror:0.012724\ttest-merror:0.036626\n",
            "[192]\ttrain-merror:0.012569\ttest-merror:0.036472\n",
            "[193]\ttrain-merror:0.012531\ttest-merror:0.036394\n",
            "[194]\ttrain-merror:0.012396\ttest-merror:0.036394\n",
            "[195]\ttrain-merror:0.012319\ttest-merror:0.036394\n",
            "[196]\ttrain-merror:0.012222\ttest-merror:0.036317\n",
            "[197]\ttrain-merror:0.012107\ttest-merror:0.03624\n",
            "[198]\ttrain-merror:0.01203\ttest-merror:0.035855\n",
            "[199]\ttrain-merror:0.011933\ttest-merror:0.035778\n",
            "[200]\ttrain-merror:0.011895\ttest-merror:0.035623\n",
            "[201]\ttrain-merror:0.011837\ttest-merror:0.035469\n",
            "[202]\ttrain-merror:0.011702\ttest-merror:0.035469\n",
            "[203]\ttrain-merror:0.011644\ttest-merror:0.035392\n",
            "[204]\ttrain-merror:0.011586\ttest-merror:0.035392\n",
            "[205]\ttrain-merror:0.011548\ttest-merror:0.035238\n",
            "[206]\ttrain-merror:0.011471\ttest-merror:0.035161\n",
            "[207]\ttrain-merror:0.011374\ttest-merror:0.035238\n",
            "[208]\ttrain-merror:0.011278\ttest-merror:0.035161\n",
            "[209]\ttrain-merror:0.011239\ttest-merror:0.034775\n",
            "[210]\ttrain-merror:0.011124\ttest-merror:0.034775\n",
            "[211]\ttrain-merror:0.010989\ttest-merror:0.034775\n",
            "[212]\ttrain-merror:0.010873\ttest-merror:0.034467\n",
            "[213]\ttrain-merror:0.010892\ttest-merror:0.034235\n",
            "[214]\ttrain-merror:0.010738\ttest-merror:0.034235\n",
            "[215]\ttrain-merror:0.010584\ttest-merror:0.033773\n",
            "[216]\ttrain-merror:0.010545\ttest-merror:0.033927\n",
            "[217]\ttrain-merror:0.01041\ttest-merror:0.033927\n",
            "[218]\ttrain-merror:0.010295\ttest-merror:0.033696\n",
            "[219]\ttrain-merror:0.010198\ttest-merror:0.033696\n",
            "[220]\ttrain-merror:0.01016\ttest-merror:0.033696\n",
            "[221]\ttrain-merror:0.010063\ttest-merror:0.033696\n",
            "[222]\ttrain-merror:0.00987\ttest-merror:0.033696\n",
            "[223]\ttrain-merror:0.009755\ttest-merror:0.033464\n",
            "[224]\ttrain-merror:0.009755\ttest-merror:0.033464\n",
            "[225]\ttrain-merror:0.009639\ttest-merror:0.033387\n",
            "[226]\ttrain-merror:0.00962\ttest-merror:0.033156\n",
            "[227]\ttrain-merror:0.009543\ttest-merror:0.033079\n",
            "[228]\ttrain-merror:0.009408\ttest-merror:0.033079\n",
            "[229]\ttrain-merror:0.00935\ttest-merror:0.03277\n",
            "[230]\ttrain-merror:0.009176\ttest-merror:0.032616\n",
            "[231]\ttrain-merror:0.00908\ttest-merror:0.032462\n",
            "[232]\ttrain-merror:0.009041\ttest-merror:0.032462\n",
            "[233]\ttrain-merror:0.009003\ttest-merror:0.032308\n",
            "[234]\ttrain-merror:0.008849\ttest-merror:0.032308\n",
            "[235]\ttrain-merror:0.008791\ttest-merror:0.032231\n",
            "[236]\ttrain-merror:0.008733\ttest-merror:0.032154\n",
            "[237]\ttrain-merror:0.008637\ttest-merror:0.031922\n",
            "[238]\ttrain-merror:0.00856\ttest-merror:0.031691\n",
            "[239]\ttrain-merror:0.008463\ttest-merror:0.031614\n",
            "[240]\ttrain-merror:0.008463\ttest-merror:0.031537\n",
            "[241]\ttrain-merror:0.008347\ttest-merror:0.03146\n",
            "[242]\ttrain-merror:0.008232\ttest-merror:0.031383\n",
            "[243]\ttrain-merror:0.008116\ttest-merror:0.031537\n",
            "[244]\ttrain-merror:0.008039\ttest-merror:0.03146\n",
            "[245]\ttrain-merror:0.007943\ttest-merror:0.031305\n",
            "[246]\ttrain-merror:0.007866\ttest-merror:0.031305\n",
            "[247]\ttrain-merror:0.007827\ttest-merror:0.031305\n",
            "[248]\ttrain-merror:0.007711\ttest-merror:0.031151\n",
            "[249]\ttrain-merror:0.007692\ttest-merror:0.031151\n",
            "[250]\ttrain-merror:0.007576\ttest-merror:0.031074\n",
            "[251]\ttrain-merror:0.007557\ttest-merror:0.030843\n",
            "[252]\ttrain-merror:0.007499\ttest-merror:0.03092\n",
            "[253]\ttrain-merror:0.00748\ttest-merror:0.030843\n",
            "[254]\ttrain-merror:0.007364\ttest-merror:0.030843\n",
            "[255]\ttrain-merror:0.007268\ttest-merror:0.030766\n",
            "[256]\ttrain-merror:0.00721\ttest-merror:0.030766\n",
            "[257]\ttrain-merror:0.007171\ttest-merror:0.030611\n",
            "[258]\ttrain-merror:0.007094\ttest-merror:0.030766\n",
            "[259]\ttrain-merror:0.007056\ttest-merror:0.030689\n",
            "[260]\ttrain-merror:0.006979\ttest-merror:0.030689\n",
            "[261]\ttrain-merror:0.006979\ttest-merror:0.030534\n",
            "[262]\ttrain-merror:0.00694\ttest-merror:0.03038\n",
            "[263]\ttrain-merror:0.006844\ttest-merror:0.03038\n",
            "[264]\ttrain-merror:0.006805\ttest-merror:0.030303\n",
            "[265]\ttrain-merror:0.006728\ttest-merror:0.030226\n",
            "[266]\ttrain-merror:0.006728\ttest-merror:0.030149\n",
            "[267]\ttrain-merror:0.00667\ttest-merror:0.029995\n",
            "[268]\ttrain-merror:0.006651\ttest-merror:0.029995\n",
            "[269]\ttrain-merror:0.006593\ttest-merror:0.029995\n",
            "[270]\ttrain-merror:0.006535\ttest-merror:0.02984\n",
            "[271]\ttrain-merror:0.006516\ttest-merror:0.029686\n",
            "[272]\ttrain-merror:0.006497\ttest-merror:0.029609\n",
            "[273]\ttrain-merror:0.006304\ttest-merror:0.029532\n",
            "[274]\ttrain-merror:0.006208\ttest-merror:0.029455\n",
            "[275]\ttrain-merror:0.00613\ttest-merror:0.029455\n",
            "[276]\ttrain-merror:0.006092\ttest-merror:0.029455\n",
            "[277]\ttrain-merror:0.006015\ttest-merror:0.029224\n",
            "[278]\ttrain-merror:0.006015\ttest-merror:0.029069\n",
            "[279]\ttrain-merror:0.005996\ttest-merror:0.028992\n",
            "[280]\ttrain-merror:0.005918\ttest-merror:0.028915\n",
            "[281]\ttrain-merror:0.005841\ttest-merror:0.028838\n",
            "[282]\ttrain-merror:0.005861\ttest-merror:0.028915\n",
            "[283]\ttrain-merror:0.005841\ttest-merror:0.028915\n",
            "[284]\ttrain-merror:0.005803\ttest-merror:0.028761\n",
            "[285]\ttrain-merror:0.005764\ttest-merror:0.028684\n",
            "[286]\ttrain-merror:0.005745\ttest-merror:0.028838\n",
            "[287]\ttrain-merror:0.005745\ttest-merror:0.028838\n",
            "[288]\ttrain-merror:0.005649\ttest-merror:0.028761\n",
            "[289]\ttrain-merror:0.005591\ttest-merror:0.028607\n",
            "[290]\ttrain-merror:0.005514\ttest-merror:0.028684\n",
            "[291]\ttrain-merror:0.005379\ttest-merror:0.028684\n",
            "[292]\ttrain-merror:0.005167\ttest-merror:0.02853\n",
            "[293]\ttrain-merror:0.005167\ttest-merror:0.028607\n",
            "[294]\ttrain-merror:0.005089\ttest-merror:0.028375\n",
            "[295]\ttrain-merror:0.005089\ttest-merror:0.028452\n",
            "[296]\ttrain-merror:0.005032\ttest-merror:0.028452\n",
            "[297]\ttrain-merror:0.005032\ttest-merror:0.028375\n",
            "[298]\ttrain-merror:0.004955\ttest-merror:0.028298\n",
            "[299]\ttrain-merror:0.004877\ttest-merror:0.028375\n",
            "[300]\ttrain-merror:0.004762\ttest-merror:0.028298\n",
            "[301]\ttrain-merror:0.004704\ttest-merror:0.028298\n",
            "[302]\ttrain-merror:0.004665\ttest-merror:0.028298\n",
            "[303]\ttrain-merror:0.004627\ttest-merror:0.028298\n",
            "[304]\ttrain-merror:0.004569\ttest-merror:0.028221\n",
            "[305]\ttrain-merror:0.004569\ttest-merror:0.028144\n",
            "[306]\ttrain-merror:0.004511\ttest-merror:0.02799\n",
            "[307]\ttrain-merror:0.004473\ttest-merror:0.028067\n",
            "[308]\ttrain-merror:0.004434\ttest-merror:0.027913\n",
            "[309]\ttrain-merror:0.004357\ttest-merror:0.027836\n",
            "[310]\ttrain-merror:0.004318\ttest-merror:0.027836\n",
            "[311]\ttrain-merror:0.004338\ttest-merror:0.027836\n",
            "[312]\ttrain-merror:0.004318\ttest-merror:0.027604\n",
            "[313]\ttrain-merror:0.004241\ttest-merror:0.027604\n",
            "[314]\ttrain-merror:0.004145\ttest-merror:0.027604\n",
            "[315]\ttrain-merror:0.004106\ttest-merror:0.027604\n",
            "[316]\ttrain-merror:0.004029\ttest-merror:0.027604\n",
            "[317]\ttrain-merror:0.004029\ttest-merror:0.027527\n",
            "[318]\ttrain-merror:0.003991\ttest-merror:0.027527\n",
            "[319]\ttrain-merror:0.003894\ttest-merror:0.02745\n",
            "[320]\ttrain-merror:0.003817\ttest-merror:0.027296\n",
            "[321]\ttrain-merror:0.003779\ttest-merror:0.027219\n",
            "[322]\ttrain-merror:0.003779\ttest-merror:0.027219\n",
            "[323]\ttrain-merror:0.003721\ttest-merror:0.027219\n",
            "[324]\ttrain-merror:0.003682\ttest-merror:0.027142\n",
            "[325]\ttrain-merror:0.003644\ttest-merror:0.026987\n",
            "[326]\ttrain-merror:0.003644\ttest-merror:0.02691\n",
            "[327]\ttrain-merror:0.003605\ttest-merror:0.027142\n",
            "[328]\ttrain-merror:0.003586\ttest-merror:0.026987\n",
            "[329]\ttrain-merror:0.003566\ttest-merror:0.026833\n",
            "[330]\ttrain-merror:0.003528\ttest-merror:0.026756\n",
            "[331]\ttrain-merror:0.003489\ttest-merror:0.026756\n",
            "[332]\ttrain-merror:0.003489\ttest-merror:0.026679\n",
            "[333]\ttrain-merror:0.003393\ttest-merror:0.026602\n",
            "[334]\ttrain-merror:0.003316\ttest-merror:0.026525\n"
          ],
          "name": "stdout"
        },
        {
          "output_type": "stream",
          "text": [
            "[335]\ttrain-merror:0.003297\ttest-merror:0.026293\n",
            "[336]\ttrain-merror:0.003258\ttest-merror:0.026216\n",
            "[337]\ttrain-merror:0.003219\ttest-merror:0.026293\n",
            "[338]\ttrain-merror:0.003142\ttest-merror:0.026293\n",
            "[339]\ttrain-merror:0.003123\ttest-merror:0.026139\n",
            "[340]\ttrain-merror:0.003123\ttest-merror:0.026062\n",
            "[341]\ttrain-merror:0.003046\ttest-merror:0.025908\n",
            "[342]\ttrain-merror:0.002988\ttest-merror:0.025985\n",
            "[343]\ttrain-merror:0.002969\ttest-merror:0.025831\n",
            "[344]\ttrain-merror:0.002969\ttest-merror:0.025908\n",
            "[345]\ttrain-merror:0.00293\ttest-merror:0.025908\n",
            "[346]\ttrain-merror:0.002872\ttest-merror:0.025754\n",
            "[347]\ttrain-merror:0.002872\ttest-merror:0.025677\n",
            "[348]\ttrain-merror:0.002815\ttest-merror:0.025754\n",
            "[349]\ttrain-merror:0.002853\ttest-merror:0.025831\n",
            "[350]\ttrain-merror:0.002738\ttest-merror:0.025754\n",
            "[351]\ttrain-merror:0.002738\ttest-merror:0.025754\n",
            "[352]\ttrain-merror:0.002718\ttest-merror:0.025754\n",
            "[353]\ttrain-merror:0.002718\ttest-merror:0.025831\n",
            "[354]\ttrain-merror:0.002699\ttest-merror:0.025677\n",
            "[355]\ttrain-merror:0.002699\ttest-merror:0.025291\n",
            "[356]\ttrain-merror:0.002622\ttest-merror:0.025291\n",
            "[357]\ttrain-merror:0.002641\ttest-merror:0.025214\n",
            "[358]\ttrain-merror:0.002641\ttest-merror:0.02506\n",
            "[359]\ttrain-merror:0.002622\ttest-merror:0.02506\n",
            "[360]\ttrain-merror:0.002583\ttest-merror:0.024983\n",
            "[361]\ttrain-merror:0.002506\ttest-merror:0.02506\n",
            "[362]\ttrain-merror:0.002506\ttest-merror:0.025137\n",
            "[363]\ttrain-merror:0.002429\ttest-merror:0.024906\n",
            "[364]\ttrain-merror:0.002371\ttest-merror:0.024983\n",
            "[365]\ttrain-merror:0.002371\ttest-merror:0.024828\n",
            "[366]\ttrain-merror:0.002294\ttest-merror:0.024751\n",
            "[367]\ttrain-merror:0.002294\ttest-merror:0.024751\n",
            "[368]\ttrain-merror:0.002275\ttest-merror:0.024674\n",
            "[369]\ttrain-merror:0.002256\ttest-merror:0.024674\n",
            "[370]\ttrain-merror:0.002256\ttest-merror:0.024597\n",
            "[371]\ttrain-merror:0.002236\ttest-merror:0.02452\n",
            "[372]\ttrain-merror:0.002198\ttest-merror:0.024597\n",
            "[373]\ttrain-merror:0.002159\ttest-merror:0.024674\n",
            "[374]\ttrain-merror:0.00214\ttest-merror:0.024751\n",
            "[375]\ttrain-merror:0.002121\ttest-merror:0.024751\n",
            "[376]\ttrain-merror:0.002121\ttest-merror:0.024597\n",
            "[377]\ttrain-merror:0.002121\ttest-merror:0.024674\n",
            "[378]\ttrain-merror:0.002082\ttest-merror:0.024597\n",
            "[379]\ttrain-merror:0.002043\ttest-merror:0.024443\n",
            "[380]\ttrain-merror:0.002043\ttest-merror:0.02452\n",
            "[381]\ttrain-merror:0.002043\ttest-merror:0.02452\n",
            "[382]\ttrain-merror:0.002043\ttest-merror:0.024366\n",
            "[383]\ttrain-merror:0.002005\ttest-merror:0.024289\n",
            "[384]\ttrain-merror:0.001966\ttest-merror:0.024212\n",
            "[385]\ttrain-merror:0.001966\ttest-merror:0.024212\n",
            "[386]\ttrain-merror:0.001947\ttest-merror:0.024212\n",
            "[387]\ttrain-merror:0.001947\ttest-merror:0.024212\n",
            "[388]\ttrain-merror:0.001966\ttest-merror:0.024289\n",
            "[389]\ttrain-merror:0.00187\ttest-merror:0.024212\n",
            "[390]\ttrain-merror:0.001909\ttest-merror:0.024212\n",
            "[391]\ttrain-merror:0.001831\ttest-merror:0.024212\n",
            "[392]\ttrain-merror:0.001793\ttest-merror:0.024057\n",
            "[393]\ttrain-merror:0.001754\ttest-merror:0.023903\n",
            "[394]\ttrain-merror:0.001735\ttest-merror:0.02398\n",
            "[395]\ttrain-merror:0.001716\ttest-merror:0.02398\n",
            "[396]\ttrain-merror:0.001716\ttest-merror:0.023826\n",
            "[397]\ttrain-merror:0.001735\ttest-merror:0.023672\n",
            "[398]\ttrain-merror:0.001677\ttest-merror:0.023595\n",
            "[399]\ttrain-merror:0.001677\ttest-merror:0.023595\n",
            "[400]\ttrain-merror:0.001658\ttest-merror:0.023595\n",
            "[401]\ttrain-merror:0.001639\ttest-merror:0.023595\n",
            "[402]\ttrain-merror:0.001619\ttest-merror:0.023595\n",
            "[403]\ttrain-merror:0.001639\ttest-merror:0.023749\n",
            "[404]\ttrain-merror:0.001523\ttest-merror:0.023441\n",
            "[405]\ttrain-merror:0.001523\ttest-merror:0.023518\n",
            "[406]\ttrain-merror:0.001523\ttest-merror:0.023441\n",
            "[407]\ttrain-merror:0.001484\ttest-merror:0.023286\n",
            "[408]\ttrain-merror:0.001504\ttest-merror:0.023286\n",
            "[409]\ttrain-merror:0.001465\ttest-merror:0.023363\n",
            "[410]\ttrain-merror:0.001446\ttest-merror:0.023286\n",
            "[411]\ttrain-merror:0.001427\ttest-merror:0.023132\n",
            "[412]\ttrain-merror:0.001369\ttest-merror:0.023209\n",
            "[413]\ttrain-merror:0.00133\ttest-merror:0.023132\n",
            "[414]\ttrain-merror:0.001292\ttest-merror:0.023132\n",
            "[415]\ttrain-merror:0.001272\ttest-merror:0.023132\n",
            "[416]\ttrain-merror:0.001272\ttest-merror:0.023055\n",
            "[417]\ttrain-merror:0.001272\ttest-merror:0.022978\n",
            "[418]\ttrain-merror:0.001272\ttest-merror:0.022978\n",
            "[419]\ttrain-merror:0.001234\ttest-merror:0.022824\n",
            "[420]\ttrain-merror:0.001234\ttest-merror:0.022824\n",
            "[421]\ttrain-merror:0.001215\ttest-merror:0.022901\n",
            "[422]\ttrain-merror:0.001215\ttest-merror:0.022824\n",
            "[423]\ttrain-merror:0.001234\ttest-merror:0.022747\n",
            "[424]\ttrain-merror:0.001215\ttest-merror:0.022747\n",
            "[425]\ttrain-merror:0.001234\ttest-merror:0.022747\n",
            "[426]\ttrain-merror:0.001215\ttest-merror:0.022824\n",
            "[427]\ttrain-merror:0.001215\ttest-merror:0.022824\n",
            "[428]\ttrain-merror:0.001157\ttest-merror:0.022669\n",
            "[429]\ttrain-merror:0.001157\ttest-merror:0.022669\n",
            "[430]\ttrain-merror:0.001157\ttest-merror:0.022592\n",
            "[431]\ttrain-merror:0.001137\ttest-merror:0.022592\n",
            "[432]\ttrain-merror:0.00108\ttest-merror:0.022592\n",
            "[433]\ttrain-merror:0.00106\ttest-merror:0.022669\n",
            "[434]\ttrain-merror:0.00106\ttest-merror:0.022592\n",
            "[435]\ttrain-merror:0.001002\ttest-merror:0.022669\n",
            "[436]\ttrain-merror:0.000983\ttest-merror:0.022669\n",
            "[437]\ttrain-merror:0.000964\ttest-merror:0.022592\n",
            "[438]\ttrain-merror:0.000945\ttest-merror:0.022669\n",
            "[439]\ttrain-merror:0.000964\ttest-merror:0.022515\n",
            "[440]\ttrain-merror:0.000964\ttest-merror:0.022592\n",
            "[441]\ttrain-merror:0.000925\ttest-merror:0.022592\n",
            "[442]\ttrain-merror:0.000945\ttest-merror:0.022592\n",
            "[443]\ttrain-merror:0.000945\ttest-merror:0.022515\n",
            "[444]\ttrain-merror:0.000906\ttest-merror:0.022438\n",
            "[445]\ttrain-merror:0.000887\ttest-merror:0.022361\n",
            "[446]\ttrain-merror:0.000868\ttest-merror:0.022361\n",
            "[447]\ttrain-merror:0.000868\ttest-merror:0.022284\n",
            "[448]\ttrain-merror:0.000887\ttest-merror:0.022284\n",
            "[449]\ttrain-merror:0.000868\ttest-merror:0.02213\n",
            "[450]\ttrain-merror:0.000868\ttest-merror:0.02213\n",
            "[451]\ttrain-merror:0.000829\ttest-merror:0.021975\n",
            "[452]\ttrain-merror:0.000868\ttest-merror:0.021821\n",
            "[453]\ttrain-merror:0.000829\ttest-merror:0.021898\n",
            "[454]\ttrain-merror:0.000868\ttest-merror:0.021975\n",
            "[455]\ttrain-merror:0.00081\ttest-merror:0.021975\n",
            "[456]\ttrain-merror:0.000752\ttest-merror:0.021975\n",
            "[457]\ttrain-merror:0.000752\ttest-merror:0.021975\n",
            "[458]\ttrain-merror:0.000713\ttest-merror:0.021975\n",
            "[459]\ttrain-merror:0.000694\ttest-merror:0.021898\n",
            "[460]\ttrain-merror:0.000675\ttest-merror:0.021898\n",
            "[461]\ttrain-merror:0.000655\ttest-merror:0.021821\n",
            "[462]\ttrain-merror:0.000655\ttest-merror:0.021821\n",
            "[463]\ttrain-merror:0.000636\ttest-merror:0.021744\n",
            "[464]\ttrain-merror:0.000598\ttest-merror:0.021744\n",
            "[465]\ttrain-merror:0.000598\ttest-merror:0.02159\n",
            "[466]\ttrain-merror:0.000578\ttest-merror:0.021667\n",
            "[467]\ttrain-merror:0.00054\ttest-merror:0.021667\n",
            "[468]\ttrain-merror:0.000521\ttest-merror:0.021667\n",
            "[469]\ttrain-merror:0.000521\ttest-merror:0.02159\n",
            "[470]\ttrain-merror:0.000521\ttest-merror:0.02159\n",
            "[471]\ttrain-merror:0.000521\ttest-merror:0.021359\n",
            "[472]\ttrain-merror:0.000501\ttest-merror:0.021513\n",
            "[473]\ttrain-merror:0.000501\ttest-merror:0.021513\n",
            "[474]\ttrain-merror:0.000501\ttest-merror:0.021436\n",
            "[475]\ttrain-merror:0.000501\ttest-merror:0.021436\n",
            "[476]\ttrain-merror:0.000501\ttest-merror:0.021359\n",
            "[477]\ttrain-merror:0.000501\ttest-merror:0.021436\n",
            "[478]\ttrain-merror:0.000501\ttest-merror:0.021359\n",
            "[479]\ttrain-merror:0.000501\ttest-merror:0.021359\n",
            "[480]\ttrain-merror:0.000501\ttest-merror:0.021359\n",
            "[481]\ttrain-merror:0.000501\ttest-merror:0.021204\n",
            "[482]\ttrain-merror:0.000501\ttest-merror:0.021204\n",
            "[483]\ttrain-merror:0.000501\ttest-merror:0.021204\n",
            "[484]\ttrain-merror:0.000501\ttest-merror:0.021127\n",
            "[485]\ttrain-merror:0.000482\ttest-merror:0.02105\n",
            "[486]\ttrain-merror:0.000482\ttest-merror:0.02105\n",
            "[487]\ttrain-merror:0.000482\ttest-merror:0.021127\n",
            "[488]\ttrain-merror:0.000482\ttest-merror:0.021127\n",
            "[489]\ttrain-merror:0.000482\ttest-merror:0.021127\n",
            "[490]\ttrain-merror:0.000482\ttest-merror:0.021127\n",
            "[491]\ttrain-merror:0.000463\ttest-merror:0.02105\n",
            "[492]\ttrain-merror:0.000463\ttest-merror:0.02105\n",
            "[493]\ttrain-merror:0.000463\ttest-merror:0.020973\n",
            "[494]\ttrain-merror:0.000463\ttest-merror:0.020819\n",
            "[495]\ttrain-merror:0.000463\ttest-merror:0.020819\n",
            "[496]\ttrain-merror:0.000463\ttest-merror:0.020896\n",
            "[497]\ttrain-merror:0.000443\ttest-merror:0.020819\n",
            "[498]\ttrain-merror:0.000424\ttest-merror:0.020819\n",
            "[499]\ttrain-merror:0.000424\ttest-merror:0.020819\n",
            "[500]\ttrain-merror:0.000405\ttest-merror:0.020896\n",
            "[501]\ttrain-merror:0.000405\ttest-merror:0.020896\n",
            "[502]\ttrain-merror:0.000405\ttest-merror:0.020896\n"
          ],
          "name": "stdout"
        },
        {
          "output_type": "stream",
          "text": [
            "[503]\ttrain-merror:0.000386\ttest-merror:0.020819\n",
            "[504]\ttrain-merror:0.000386\ttest-merror:0.020896\n",
            "[505]\ttrain-merror:0.000386\ttest-merror:0.020742\n",
            "[506]\ttrain-merror:0.000386\ttest-merror:0.020742\n",
            "[507]\ttrain-merror:0.000386\ttest-merror:0.020665\n",
            "[508]\ttrain-merror:0.000386\ttest-merror:0.020665\n",
            "[509]\ttrain-merror:0.000386\ttest-merror:0.02051\n",
            "[510]\ttrain-merror:0.000366\ttest-merror:0.02051\n",
            "[511]\ttrain-merror:0.000347\ttest-merror:0.02051\n",
            "[512]\ttrain-merror:0.000366\ttest-merror:0.020433\n",
            "[513]\ttrain-merror:0.000366\ttest-merror:0.020433\n",
            "[514]\ttrain-merror:0.000366\ttest-merror:0.020433\n",
            "[515]\ttrain-merror:0.000347\ttest-merror:0.020433\n",
            "[516]\ttrain-merror:0.000328\ttest-merror:0.020433\n",
            "[517]\ttrain-merror:0.000328\ttest-merror:0.020356\n",
            "[518]\ttrain-merror:0.000328\ttest-merror:0.020356\n",
            "[519]\ttrain-merror:0.000308\ttest-merror:0.020356\n",
            "[520]\ttrain-merror:0.000308\ttest-merror:0.020433\n",
            "[521]\ttrain-merror:0.000308\ttest-merror:0.020279\n",
            "[522]\ttrain-merror:0.000308\ttest-merror:0.020356\n",
            "[523]\ttrain-merror:0.000308\ttest-merror:0.020279\n",
            "[524]\ttrain-merror:0.00027\ttest-merror:0.020356\n",
            "[525]\ttrain-merror:0.00027\ttest-merror:0.020356\n",
            "[526]\ttrain-merror:0.00027\ttest-merror:0.020356\n",
            "[527]\ttrain-merror:0.00027\ttest-merror:0.020356\n",
            "[528]\ttrain-merror:0.000251\ttest-merror:0.020356\n",
            "[529]\ttrain-merror:0.000231\ttest-merror:0.020279\n",
            "[530]\ttrain-merror:0.000231\ttest-merror:0.020202\n",
            "[531]\ttrain-merror:0.000231\ttest-merror:0.020125\n",
            "[532]\ttrain-merror:0.000231\ttest-merror:0.020202\n",
            "[533]\ttrain-merror:0.000212\ttest-merror:0.020125\n",
            "[534]\ttrain-merror:0.000212\ttest-merror:0.020125\n",
            "[535]\ttrain-merror:0.000212\ttest-merror:0.020125\n",
            "[536]\ttrain-merror:0.000212\ttest-merror:0.020125\n",
            "[537]\ttrain-merror:0.000212\ttest-merror:0.020202\n",
            "[538]\ttrain-merror:0.000212\ttest-merror:0.020125\n",
            "[539]\ttrain-merror:0.000212\ttest-merror:0.020125\n",
            "[540]\ttrain-merror:0.000193\ttest-merror:0.020202\n",
            "[541]\ttrain-merror:0.000193\ttest-merror:0.020202\n",
            "[542]\ttrain-merror:0.000193\ttest-merror:0.020048\n",
            "[543]\ttrain-merror:0.000193\ttest-merror:0.020125\n",
            "[544]\ttrain-merror:0.000193\ttest-merror:0.020125\n",
            "[545]\ttrain-merror:0.000193\ttest-merror:0.020125\n",
            "[546]\ttrain-merror:0.000193\ttest-merror:0.020125\n",
            "[547]\ttrain-merror:0.000193\ttest-merror:0.020125\n",
            "[548]\ttrain-merror:0.000193\ttest-merror:0.020125\n",
            "[549]\ttrain-merror:0.000193\ttest-merror:0.020125\n",
            "[550]\ttrain-merror:0.000174\ttest-merror:0.020125\n",
            "[551]\ttrain-merror:0.000174\ttest-merror:0.020125\n",
            "[552]\ttrain-merror:0.000174\ttest-merror:0.020125\n",
            "[553]\ttrain-merror:0.000174\ttest-merror:0.020125\n",
            "[554]\ttrain-merror:0.000174\ttest-merror:0.020048\n",
            "[555]\ttrain-merror:0.000174\ttest-merror:0.020048\n",
            "[556]\ttrain-merror:0.000174\ttest-merror:0.020125\n",
            "[557]\ttrain-merror:0.000174\ttest-merror:0.020048\n",
            "[558]\ttrain-merror:0.000174\ttest-merror:0.020048\n",
            "[559]\ttrain-merror:0.000174\ttest-merror:0.020048\n",
            "[560]\ttrain-merror:0.000174\ttest-merror:0.020048\n",
            "[561]\ttrain-merror:0.000174\ttest-merror:0.020048\n",
            "[562]\ttrain-merror:0.000174\ttest-merror:0.020048\n",
            "Stopping. Best iteration:\n",
            "[542]\ttrain-merror:0.000193\ttest-merror:0.020048\n",
            "\n",
            "[0.97995219369265174]\n"
          ],
          "name": "stdout"
        }
      ]
    },
    {
      "cell_type": "code",
      "metadata": {
        "id": "U6DE_HW1YhXf",
        "colab_type": "code",
        "colab": {},
        "outputId": "50d3f832-092a-4ba1-c9d6-5038609d546d"
      },
      "source": [
        "preds"
      ],
      "execution_count": 0,
      "outputs": [
        {
          "output_type": "execute_result",
          "data": {
            "text/plain": [
              "array([ 2.,  2.,  2., ...,  4.,  4.,  4.], dtype=float32)"
            ]
          },
          "metadata": {
            "tags": []
          },
          "execution_count": 128
        }
      ]
    },
    {
      "cell_type": "code",
      "metadata": {
        "id": "yg_po0fgYhXh",
        "colab_type": "code",
        "colab": {},
        "outputId": "68518091-1a49-4d6c-c230-83939cd132cd"
      },
      "source": [
        "model"
      ],
      "execution_count": 0,
      "outputs": [
        {
          "output_type": "execute_result",
          "data": {
            "text/plain": [
              "<xgboost.core.Booster at 0x7fc5215fbda0>"
            ]
          },
          "metadata": {
            "tags": []
          },
          "execution_count": 129
        }
      ]
    },
    {
      "cell_type": "code",
      "metadata": {
        "id": "DKOTrDucYhXn",
        "colab_type": "code",
        "colab": {},
        "outputId": "6b442d29-d1ed-448b-a747-f71b855fd2ab"
      },
      "source": [
        "n_rounds = model.best_ntree_limit\n",
        "print(n_rounds)\n",
        "#print('Geting predictions...')\n",
        "#y_pred, model = runXGB(latten_value, train_y3, results2, num_rounds=n_rounds)"
      ],
      "execution_count": 0,
      "outputs": [
        {
          "output_type": "stream",
          "text": [
            "543\n"
          ],
          "name": "stdout"
        }
      ]
    },
    {
      "cell_type": "code",
      "metadata": {
        "id": "PQtnAEhnYhXt",
        "colab_type": "code",
        "colab": {},
        "outputId": "f05d4223-c177-48e8-a644-cd593ba1f655"
      },
      "source": [
        "#out_df_label = out_df.apply(np.argmax, axis=1)\n",
        "#out_df2 = out_df.applymap(int)\n",
        "#out_df2.columns = ['label']\n",
        "#out_df_label2 = [label_index[p] for p in out_df2['label']]"
      ],
      "execution_count": 0,
      "outputs": [
        {
          "output_type": "stream",
          "text": [
            "/usr/local/lib/python3.5/dist-packages/numpy/core/fromnumeric.py:57: FutureWarning: 'argmax' is deprecated. Use 'idxmax' instead. The behavior of 'argmax' will be corrected to return the positional maximum in the future. Use 'series.values.argmax' to get the position of the maximum now.\n",
            "  return getattr(obj, method)(*args, **kwds)\n"
          ],
          "name": "stderr"
        }
      ]
    },
    {
      "cell_type": "code",
      "metadata": {
        "id": "bdwgGrEoYhXv",
        "colab_type": "code",
        "colab": {}
      },
      "source": [
        "#target_num_map = {'down':0, 'go':1, 'left':2, 'no':3, 'off':4, 'on':5, 'right':6, 'silence':7, 'stop':8, 'unknown':9, 'up':10, 'yes':11}"
      ],
      "execution_count": 0,
      "outputs": []
    },
    {
      "cell_type": "code",
      "metadata": {
        "id": "AMyVW-SMYhXz",
        "colab_type": "code",
        "colab": {}
      },
      "source": [
        "#out_df_label2"
      ],
      "execution_count": 0,
      "outputs": []
    },
    {
      "cell_type": "code",
      "metadata": {
        "id": "UUCwTQ_hYhX2",
        "colab_type": "code",
        "colab": {},
        "outputId": "2aef87af-c492-4378-a42d-baa9decad769"
      },
      "source": [
        "model"
      ],
      "execution_count": 0,
      "outputs": [
        {
          "output_type": "execute_result",
          "data": {
            "text/plain": [
              "<xgboost.core.Booster at 0x7ff509a5c128>"
            ]
          },
          "metadata": {
            "tags": []
          },
          "execution_count": 212
        }
      ]
    },
    {
      "cell_type": "code",
      "metadata": {
        "id": "Thj6YDuTYhX4",
        "colab_type": "code",
        "colab": {}
      },
      "source": [
        "index = []\n",
        "results = []\n",
        "for fnames, imgs in test_data_generator(batch=32):\n",
        "    predicts = intermediate_layer_model_flatten.predict(imgs)\n",
        "    test = np.array(predicts)\n",
        "    #print(test.shape)\n",
        "    xgtest = xgb.DMatrix(test)\n",
        "    predicts = model.predict(xgtest)\n",
        "    #predicts = np.argmax(predicts, axis=1)\n",
        "    #predicts = [label_index[p] for p in predicts]\n",
        "    index.extend(fnames)\n",
        "    results.extend(predicts)"
      ],
      "execution_count": 0,
      "outputs": []
    },
    {
      "cell_type": "code",
      "metadata": {
        "id": "nXnX5USvYhX7",
        "colab_type": "code",
        "colab": {},
        "outputId": "a9afa61d-7276-439e-e46e-d08d3ec9d87b"
      },
      "source": [
        "results[1:10]"
      ],
      "execution_count": 0,
      "outputs": [
        {
          "output_type": "execute_result",
          "data": {
            "text/plain": [
              "[5.0, 3.0, 6.0, 9.0, 9.0, 9.0, 7.0, 4.0, 9.0]"
            ]
          },
          "metadata": {
            "tags": []
          },
          "execution_count": 165
        }
      ]
    },
    {
      "cell_type": "code",
      "metadata": {
        "id": "BJ7KJfKhYhYJ",
        "colab_type": "code",
        "colab": {}
      },
      "source": [
        "results3 = list(map(int, results))\n",
        "results4 = [label_index[p] for p in results3]"
      ],
      "execution_count": 0,
      "outputs": []
    },
    {
      "cell_type": "code",
      "metadata": {
        "id": "fWeRRlNSYhYN",
        "colab_type": "code",
        "colab": {},
        "outputId": "9def5da0-189a-4d12-f439-d3bca94666af"
      },
      "source": [
        "results4[1:10]"
      ],
      "execution_count": 0,
      "outputs": [
        {
          "output_type": "execute_result",
          "data": {
            "text/plain": [
              "['on',\n",
              " 'no',\n",
              " 'right',\n",
              " 'unknown',\n",
              " 'unknown',\n",
              " 'unknown',\n",
              " 'silence',\n",
              " 'off',\n",
              " 'unknown']"
            ]
          },
          "metadata": {
            "tags": []
          },
          "execution_count": 167
        }
      ]
    },
    {
      "cell_type": "code",
      "metadata": {
        "id": "Ci6BURDNYhYQ",
        "colab_type": "code",
        "colab": {},
        "outputId": "b3d21af5-0c1a-46af-ca88-eeb18f34fa2a"
      },
      "source": [
        "index = [w.replace('./input/test/audio/', '') for w in index]\n",
        "index"
      ],
      "execution_count": 0,
      "outputs": [
        {
          "output_type": "execute_result",
          "data": {
            "text/plain": [
              "['clip_bd6d0fb25.wav',\n",
              " 'clip_3e7a56353.wav',\n",
              " 'clip_c5884a6cb.wav',\n",
              " 'clip_ebf0d1f7b.wav',\n",
              " 'clip_2f714f052.wav',\n",
              " 'clip_05bfe5e6a.wav',\n",
              " 'clip_317b4a205.wav',\n",
              " 'clip_292983fee.wav',\n",
              " 'clip_e086bfc8e.wav',\n",
              " 'clip_d0d7fa566.wav',\n",
              " 'clip_b6ad181d9.wav',\n",
              " 'clip_738893dd9.wav',\n",
              " 'clip_c9eb8d1a9.wav',\n",
              " 'clip_d79dd9bf8.wav',\n",
              " 'clip_e40213c24.wav',\n",
              " 'clip_a72ff422a.wav',\n",
              " 'clip_cc61982d4.wav',\n",
              " 'clip_8e1fa0dee.wav',\n",
              " 'clip_0713f99f1.wav',\n",
              " 'clip_9592bad93.wav',\n",
              " 'clip_f3fe04537.wav',\n",
              " 'clip_0e044ee58.wav',\n",
              " 'clip_654389dc0.wav',\n",
              " 'clip_88505d8a5.wav',\n",
              " 'clip_40ea16c6b.wav',\n",
              " 'clip_eb4ba59f8.wav',\n",
              " 'clip_d32e78089.wav',\n",
              " 'clip_1aa0e6858.wav',\n",
              " 'clip_4b0477055.wav',\n",
              " 'clip_bb88fb22b.wav',\n",
              " 'clip_11935b0ae.wav',\n",
              " 'clip_7be97e288.wav',\n",
              " 'clip_0ac9b2db3.wav',\n",
              " 'clip_9d22b7f6b.wav',\n",
              " 'clip_af90c2c40.wav',\n",
              " 'clip_4a8605cc5.wav',\n",
              " 'clip_6bd6992a9.wav',\n",
              " 'clip_fa2427823.wav',\n",
              " 'clip_b79cc8d26.wav',\n",
              " 'clip_8054ecf5e.wav',\n",
              " 'clip_b32974acd.wav',\n",
              " 'clip_60d40986d.wav',\n",
              " 'clip_0195ecefa.wav',\n",
              " 'clip_5cf35d11d.wav',\n",
              " 'clip_e0212f376.wav',\n",
              " 'clip_cbb0f2634.wav',\n",
              " 'clip_b86b802d3.wav',\n",
              " 'clip_8c6c8d957.wav',\n",
              " 'clip_ae178e1dc.wav',\n",
              " 'clip_29a6ab9a2.wav',\n",
              " 'clip_68a8e44e0.wav',\n",
              " 'clip_24ebb9493.wav',\n",
              " 'clip_705dbdc2b.wav',\n",
              " 'clip_453c33319.wav',\n",
              " 'clip_7718903a1.wav',\n",
              " 'clip_798d53c32.wav',\n",
              " 'clip_8f447dd8a.wav',\n",
              " 'clip_ee03d91c6.wav',\n",
              " 'clip_ee2adf651.wav',\n",
              " 'clip_43dafaa12.wav',\n",
              " 'clip_68e5b9599.wav',\n",
              " 'clip_cb738d9de.wav',\n",
              " 'clip_03d621cff.wav',\n",
              " 'clip_8f08d541a.wav',\n",
              " 'clip_c479403f9.wav',\n",
              " 'clip_8fc056261.wav',\n",
              " 'clip_22f23974e.wav',\n",
              " 'clip_5216234fb.wav',\n",
              " 'clip_66fde554f.wav',\n",
              " 'clip_4046558bb.wav',\n",
              " 'clip_0583ee332.wav',\n",
              " 'clip_47a10cf1a.wav',\n",
              " 'clip_a88663f46.wav',\n",
              " 'clip_ff9e3729a.wav',\n",
              " 'clip_7dddd539d.wav',\n",
              " 'clip_c8299562a.wav',\n",
              " 'clip_5491fe786.wav',\n",
              " 'clip_f9faf965f.wav',\n",
              " 'clip_214e10790.wav',\n",
              " 'clip_c67f0c504.wav',\n",
              " 'clip_ec9f9a4ac.wav',\n",
              " 'clip_31813edba.wav',\n",
              " 'clip_f2bf7e43c.wav',\n",
              " 'clip_54385d8a3.wav',\n",
              " 'clip_9a47f86e2.wav',\n",
              " 'clip_066318268.wav',\n",
              " 'clip_4a5ce5ff9.wav',\n",
              " 'clip_808a5e199.wav',\n",
              " 'clip_d4edc8d20.wav',\n",
              " 'clip_447cee2ed.wav',\n",
              " 'clip_393124ce0.wav',\n",
              " 'clip_b994bb987.wav',\n",
              " 'clip_df3655512.wav',\n",
              " 'clip_222e312ee.wav',\n",
              " 'clip_d8bee01e4.wav',\n",
              " 'clip_6ac57cee6.wav',\n",
              " 'clip_fcda2ca4d.wav',\n",
              " 'clip_4b1936faf.wav',\n",
              " 'clip_1adcd9c5a.wav',\n",
              " 'clip_8f246ebf4.wav',\n",
              " 'clip_6d8e3d2ea.wav',\n",
              " 'clip_c688d45ce.wav',\n",
              " 'clip_e541c9424.wav',\n",
              " 'clip_4d5aad452.wav',\n",
              " 'clip_aa93abd32.wav',\n",
              " 'clip_da25b986b.wav',\n",
              " 'clip_589fc09f3.wav',\n",
              " 'clip_bf4421552.wav',\n",
              " 'clip_a5731c6a5.wav',\n",
              " 'clip_cb82d0ad5.wav',\n",
              " 'clip_5deed4ae4.wav',\n",
              " 'clip_b9347ef2d.wav',\n",
              " 'clip_3718fef24.wav',\n",
              " 'clip_df65f8281.wav',\n",
              " 'clip_ad2dec79a.wav',\n",
              " 'clip_a52960d5e.wav',\n",
              " 'clip_171111a16.wav',\n",
              " 'clip_0b2ec62de.wav',\n",
              " 'clip_f56b550b8.wav',\n",
              " 'clip_2b41e8c78.wav',\n",
              " 'clip_bcbe9b789.wav',\n",
              " 'clip_32e7c0c82.wav',\n",
              " 'clip_c17b33d92.wav',\n",
              " 'clip_f008f372c.wav',\n",
              " 'clip_e6192f800.wav',\n",
              " 'clip_080e960e1.wav',\n",
              " 'clip_84234e19d.wav',\n",
              " 'clip_84240a8e6.wav',\n",
              " 'clip_bb56b13dd.wav',\n",
              " 'clip_fb93eb2b3.wav',\n",
              " 'clip_82b4d8d25.wav',\n",
              " 'clip_15f04643b.wav',\n",
              " 'clip_e0044be59.wav',\n",
              " 'clip_fe6514db2.wav',\n",
              " 'clip_1b487764e.wav',\n",
              " 'clip_e89ba68b0.wav',\n",
              " 'clip_10221e8db.wav',\n",
              " 'clip_159080518.wav',\n",
              " 'clip_5f2d518a4.wav',\n",
              " 'clip_aa61291af.wav',\n",
              " 'clip_dc41bfd86.wav',\n",
              " 'clip_7e5723e1a.wav',\n",
              " 'clip_f90f91542.wav',\n",
              " 'clip_6cb32c3a2.wav',\n",
              " 'clip_bfacc567f.wav',\n",
              " 'clip_703dccb76.wav',\n",
              " 'clip_af487ff5c.wav',\n",
              " 'clip_e83115c0e.wav',\n",
              " 'clip_6e86785d0.wav',\n",
              " 'clip_3652c87f6.wav',\n",
              " 'clip_7e100a86a.wav',\n",
              " 'clip_e57333d0f.wav',\n",
              " 'clip_04ceb5a98.wav',\n",
              " 'clip_684791b3a.wav',\n",
              " 'clip_6aaaaa406.wav',\n",
              " 'clip_b69277c44.wav',\n",
              " 'clip_1d2769341.wav',\n",
              " 'clip_bcd7f0c99.wav',\n",
              " 'clip_f20fb26dd.wav',\n",
              " 'clip_7d8b61656.wav',\n",
              " 'clip_2d25ca51f.wav',\n",
              " 'clip_2e1cb0e33.wav',\n",
              " 'clip_9ae78a153.wav',\n",
              " 'clip_9a7a74529.wav',\n",
              " 'clip_fd2689824.wav',\n",
              " 'clip_cd6589672.wav',\n",
              " 'clip_32455718e.wav',\n",
              " 'clip_f292c59ae.wav',\n",
              " 'clip_a5732d063.wav',\n",
              " 'clip_1a25be616.wav',\n",
              " 'clip_ceb938797.wav',\n",
              " 'clip_29b9eeeb0.wav',\n",
              " 'clip_ce26210af.wav',\n",
              " 'clip_f062158b4.wav',\n",
              " 'clip_4f1ee8f9a.wav',\n",
              " 'clip_b186fad3f.wav',\n",
              " 'clip_172d689f1.wav',\n",
              " 'clip_c69c3c788.wav',\n",
              " 'clip_440379ccb.wav',\n",
              " 'clip_d88ff1593.wav',\n",
              " 'clip_158b69120.wav',\n",
              " 'clip_855447bbc.wav',\n",
              " 'clip_aafc7b2c4.wav',\n",
              " 'clip_2e671438d.wav',\n",
              " 'clip_75e7a4044.wav',\n",
              " 'clip_4a2fb9adf.wav',\n",
              " 'clip_f589b68ae.wav',\n",
              " 'clip_fcd756f92.wav',\n",
              " 'clip_6143fc0aa.wav',\n",
              " 'clip_529844525.wav',\n",
              " 'clip_86771a128.wav',\n",
              " 'clip_f7146ff75.wav',\n",
              " 'clip_ffe41873c.wav',\n",
              " 'clip_4345265f0.wav',\n",
              " 'clip_7dd9570a3.wav',\n",
              " 'clip_715f719fc.wav',\n",
              " 'clip_2b1797225.wav',\n",
              " 'clip_41b2d1ac7.wav',\n",
              " 'clip_b188229f3.wav',\n",
              " 'clip_5711fd76c.wav',\n",
              " 'clip_7a0e556bb.wav',\n",
              " 'clip_058ab94e2.wav',\n",
              " 'clip_bdf3acc07.wav',\n",
              " 'clip_7c0bb1ba6.wav',\n",
              " 'clip_e4691e6ec.wav',\n",
              " 'clip_d38f3a03b.wav',\n",
              " 'clip_867f675ec.wav',\n",
              " 'clip_b8ca02574.wav',\n",
              " 'clip_2df9fa4a3.wav',\n",
              " 'clip_b316d1a5a.wav',\n",
              " 'clip_a26bb8f8c.wav',\n",
              " 'clip_96f03a398.wav',\n",
              " 'clip_79bb03ade.wav',\n",
              " 'clip_4485c6c50.wav',\n",
              " 'clip_3eeacf499.wav',\n",
              " 'clip_109e6aab7.wav',\n",
              " 'clip_597462600.wav',\n",
              " 'clip_8b47022d6.wav',\n",
              " 'clip_fcc1e6101.wav',\n",
              " 'clip_f3392e9a6.wav',\n",
              " 'clip_fd7e581e0.wav',\n",
              " 'clip_ee5b2a17a.wav',\n",
              " 'clip_768450a70.wav',\n",
              " 'clip_5f8733040.wav',\n",
              " 'clip_88eef8c12.wav',\n",
              " 'clip_1a2a56c37.wav',\n",
              " 'clip_fbba06b16.wav',\n",
              " 'clip_5de32c897.wav',\n",
              " 'clip_4c41471a0.wav',\n",
              " 'clip_0251c5e2f.wav',\n",
              " 'clip_c923b6f3c.wav',\n",
              " 'clip_431470d69.wav',\n",
              " 'clip_e0cac1816.wav',\n",
              " 'clip_71b109080.wav',\n",
              " 'clip_dde04b12f.wav',\n",
              " 'clip_95072761d.wav',\n",
              " 'clip_a48c5d968.wav',\n",
              " 'clip_91b7b4a61.wav',\n",
              " 'clip_679ceb7a4.wav',\n",
              " 'clip_abc356f0a.wav',\n",
              " 'clip_6364a79cc.wav',\n",
              " 'clip_4cc7616d3.wav',\n",
              " 'clip_bd23961cf.wav',\n",
              " 'clip_22840559c.wav',\n",
              " 'clip_c599d1d35.wav',\n",
              " 'clip_b7fdf5d30.wav',\n",
              " 'clip_fef8bd124.wav',\n",
              " 'clip_2abb00b80.wav',\n",
              " 'clip_905448c30.wav',\n",
              " 'clip_f0bcd3989.wav',\n",
              " 'clip_2e57f7dae.wav',\n",
              " 'clip_46929ed3f.wav',\n",
              " 'clip_023277f9b.wav',\n",
              " 'clip_794280f78.wav',\n",
              " 'clip_723a2718d.wav',\n",
              " 'clip_731c80c58.wav',\n",
              " 'clip_d39528de5.wav',\n",
              " 'clip_7a74d1281.wav',\n",
              " 'clip_a710b0ce1.wav',\n",
              " 'clip_0492df39c.wav',\n",
              " 'clip_880b8e160.wav',\n",
              " 'clip_995d147c6.wav',\n",
              " 'clip_640f1a5d7.wav',\n",
              " 'clip_46200fe67.wav',\n",
              " 'clip_db71a6fd6.wav',\n",
              " 'clip_8ef7195bc.wav',\n",
              " 'clip_578b21acb.wav',\n",
              " 'clip_f984baf51.wav',\n",
              " 'clip_c45b9b982.wav',\n",
              " 'clip_843b0faa3.wav',\n",
              " 'clip_cb86139cf.wav',\n",
              " 'clip_491e4f434.wav',\n",
              " 'clip_e5a84cdcd.wav',\n",
              " 'clip_5fe28aa7b.wav',\n",
              " 'clip_39af2b8a5.wav',\n",
              " 'clip_6ecaa8f26.wav',\n",
              " 'clip_85152e331.wav',\n",
              " 'clip_5c4f7ca89.wav',\n",
              " 'clip_6b29f434d.wav',\n",
              " 'clip_20d28be43.wav',\n",
              " 'clip_65ad2c78f.wav',\n",
              " 'clip_407a07cb6.wav',\n",
              " 'clip_59bd22c1d.wav',\n",
              " 'clip_97dfb1a1d.wav',\n",
              " 'clip_63c5e6f98.wav',\n",
              " 'clip_6108c576a.wav',\n",
              " 'clip_4d84f30e0.wav',\n",
              " 'clip_150ee7697.wav',\n",
              " 'clip_9851435ed.wav',\n",
              " 'clip_fcc87b56c.wav',\n",
              " 'clip_9aec2b374.wav',\n",
              " 'clip_5fd32d65e.wav',\n",
              " 'clip_66dc8c9db.wav',\n",
              " 'clip_e6831208b.wav',\n",
              " 'clip_ff446ab10.wav',\n",
              " 'clip_aa201e091.wav',\n",
              " 'clip_f1d59a295.wav',\n",
              " 'clip_bb3e31d92.wav',\n",
              " 'clip_628f219dd.wav',\n",
              " 'clip_9a78815a3.wav',\n",
              " 'clip_6455fac9f.wav',\n",
              " 'clip_0e3d33392.wav',\n",
              " 'clip_13ab9015f.wav',\n",
              " 'clip_9d97c8fe4.wav',\n",
              " 'clip_9a6766a39.wav',\n",
              " 'clip_68361700a.wav',\n",
              " 'clip_d2f038ec6.wav',\n",
              " 'clip_fe259bd55.wav',\n",
              " 'clip_0ac1aee98.wav',\n",
              " 'clip_f8f96beb2.wav',\n",
              " 'clip_eb4aa1318.wav',\n",
              " 'clip_89f802fd1.wav',\n",
              " 'clip_2a7d93eac.wav',\n",
              " 'clip_0f65104b5.wav',\n",
              " 'clip_57abea149.wav',\n",
              " 'clip_044a72bf1.wav',\n",
              " 'clip_687fe8953.wav',\n",
              " 'clip_577a05b49.wav',\n",
              " 'clip_c4313218a.wav',\n",
              " 'clip_9efb1b28f.wav',\n",
              " 'clip_3fff7f8cd.wav',\n",
              " 'clip_5fbd48459.wav',\n",
              " 'clip_a4d82c57b.wav',\n",
              " 'clip_160918f10.wav',\n",
              " 'clip_dc65655b4.wav',\n",
              " 'clip_f7bd39451.wav',\n",
              " 'clip_74d386a24.wav',\n",
              " 'clip_a34d0c71c.wav',\n",
              " 'clip_268f8fbc3.wav',\n",
              " 'clip_6f3dabaee.wav',\n",
              " 'clip_0328d13af.wav',\n",
              " 'clip_a628642f5.wav',\n",
              " 'clip_babe1e1b9.wav',\n",
              " 'clip_6817a4c89.wav',\n",
              " 'clip_ebd6ded81.wav',\n",
              " 'clip_0319ebe38.wav',\n",
              " 'clip_fc61eb5b7.wav',\n",
              " 'clip_fe3f1bd9c.wav',\n",
              " 'clip_0ddb1c05c.wav',\n",
              " 'clip_7511233bf.wav',\n",
              " 'clip_bacc6943b.wav',\n",
              " 'clip_db0a92972.wav',\n",
              " 'clip_189b4a5d8.wav',\n",
              " 'clip_8d8e4a2ba.wav',\n",
              " 'clip_c57189b5c.wav',\n",
              " 'clip_54032cf53.wav',\n",
              " 'clip_35d8a355b.wav',\n",
              " 'clip_50729e020.wav',\n",
              " 'clip_1e54cef99.wav',\n",
              " 'clip_be0ca15d2.wav',\n",
              " 'clip_7b15fe5d2.wav',\n",
              " 'clip_0ce1759f5.wav',\n",
              " 'clip_d4e89c385.wav',\n",
              " 'clip_f63cca74a.wav',\n",
              " 'clip_43c4fda1c.wav',\n",
              " 'clip_2c633c9bc.wav',\n",
              " 'clip_2589fc531.wav',\n",
              " 'clip_719715527.wav',\n",
              " 'clip_8b493c13d.wav',\n",
              " 'clip_507fa5326.wav',\n",
              " 'clip_3ae7c3c81.wav',\n",
              " 'clip_959094616.wav',\n",
              " 'clip_65c902747.wav',\n",
              " 'clip_f44771e3a.wav',\n",
              " 'clip_468da9d6d.wav',\n",
              " 'clip_e1f9f1f48.wav',\n",
              " 'clip_f01962ccb.wav',\n",
              " 'clip_0385cfc08.wav',\n",
              " 'clip_9a23c24a2.wav',\n",
              " 'clip_0a40e8431.wav',\n",
              " 'clip_7e1be2dc7.wav',\n",
              " 'clip_4ee047161.wav',\n",
              " 'clip_7b9b98f02.wav',\n",
              " 'clip_d9f08cd27.wav',\n",
              " 'clip_e9437c83f.wav',\n",
              " 'clip_a56e5f176.wav',\n",
              " 'clip_76810de20.wav',\n",
              " 'clip_25bc7b457.wav',\n",
              " 'clip_1f9744cca.wav',\n",
              " 'clip_d135fb326.wav',\n",
              " 'clip_d792e71b5.wav',\n",
              " 'clip_04a5bb330.wav',\n",
              " 'clip_16b7d7d91.wav',\n",
              " 'clip_56939e9a7.wav',\n",
              " 'clip_1e817248f.wav',\n",
              " 'clip_82e2c3a1b.wav',\n",
              " 'clip_1833e93b8.wav',\n",
              " 'clip_7e6ca06a1.wav',\n",
              " 'clip_6b1784ec9.wav',\n",
              " 'clip_b38b3639f.wav',\n",
              " 'clip_23067eccf.wav',\n",
              " 'clip_2f5e561e8.wav',\n",
              " 'clip_0562c25db.wav',\n",
              " 'clip_f2cbd43df.wav',\n",
              " 'clip_52ec82551.wav',\n",
              " 'clip_b5da8e6e5.wav',\n",
              " 'clip_d924b0a72.wav',\n",
              " 'clip_680a8706c.wav',\n",
              " 'clip_8ea152f31.wav',\n",
              " 'clip_270699396.wav',\n",
              " 'clip_fc8819178.wav',\n",
              " 'clip_fd2ed3cf0.wav',\n",
              " 'clip_02b51e63c.wav',\n",
              " 'clip_181abb4e9.wav',\n",
              " 'clip_8cdd90f0c.wav',\n",
              " 'clip_f7ab295eb.wav',\n",
              " 'clip_df6ff3640.wav',\n",
              " 'clip_623a54a45.wav',\n",
              " 'clip_4446ecf99.wav',\n",
              " 'clip_5ec839d6b.wav',\n",
              " 'clip_c9e7b40ef.wav',\n",
              " 'clip_e7294278f.wav',\n",
              " 'clip_bec892b29.wav',\n",
              " 'clip_91d8e0871.wav',\n",
              " 'clip_97c7ac3c0.wav',\n",
              " 'clip_aaa75716a.wav',\n",
              " 'clip_6294133fa.wav',\n",
              " 'clip_3e95cfdb8.wav',\n",
              " 'clip_d9353f2c6.wav',\n",
              " 'clip_719e83a70.wav',\n",
              " 'clip_0576aafc5.wav',\n",
              " 'clip_aa578732e.wav',\n",
              " 'clip_e443f6ab6.wav',\n",
              " 'clip_f8bb6e63d.wav',\n",
              " 'clip_59dba6295.wav',\n",
              " 'clip_f539b68f0.wav',\n",
              " 'clip_a5a0668fc.wav',\n",
              " 'clip_0871bb15c.wav',\n",
              " 'clip_7c8893f2e.wav',\n",
              " 'clip_db0ede3f5.wav',\n",
              " 'clip_6b9bc738c.wav',\n",
              " 'clip_d6eaf64b7.wav',\n",
              " 'clip_562b9bfaa.wav',\n",
              " 'clip_cce1094e2.wav',\n",
              " 'clip_1dd077568.wav',\n",
              " 'clip_2594321cf.wav',\n",
              " 'clip_8394b6d51.wav',\n",
              " 'clip_a64f85f57.wav',\n",
              " 'clip_c28083ca9.wav',\n",
              " 'clip_96edf9942.wav',\n",
              " 'clip_ee58738cd.wav',\n",
              " 'clip_15737ca02.wav',\n",
              " 'clip_0dde5fabc.wav',\n",
              " 'clip_279d396ff.wav',\n",
              " 'clip_4f3f37f61.wav',\n",
              " 'clip_4b2f95f49.wav',\n",
              " 'clip_8770c52a1.wav',\n",
              " 'clip_0cbcc6467.wav',\n",
              " 'clip_f7e6d925d.wav',\n",
              " 'clip_74622817a.wav',\n",
              " 'clip_39b0d0a8e.wav',\n",
              " 'clip_b78070af2.wav',\n",
              " 'clip_3ab9871e1.wav',\n",
              " 'clip_0de5bc624.wav',\n",
              " 'clip_02cee2176.wav',\n",
              " 'clip_60f3f74e1.wav',\n",
              " 'clip_c7f60501e.wav',\n",
              " 'clip_d942af61c.wav',\n",
              " 'clip_60225ab2d.wav',\n",
              " 'clip_601107ab2.wav',\n",
              " 'clip_9a48bdc77.wav',\n",
              " 'clip_9eaa768ad.wav',\n",
              " 'clip_881dd11cb.wav',\n",
              " 'clip_d036e4eb1.wav',\n",
              " 'clip_a24e10af2.wav',\n",
              " 'clip_0327b5152.wav',\n",
              " 'clip_dd1a50cfc.wav',\n",
              " 'clip_48f578101.wav',\n",
              " 'clip_23566ddb4.wav',\n",
              " 'clip_ea1619741.wav',\n",
              " 'clip_3fc7ee66f.wav',\n",
              " 'clip_37cedf99f.wav',\n",
              " 'clip_802ed5af4.wav',\n",
              " 'clip_3919b9a23.wav',\n",
              " 'clip_e4f940bce.wav',\n",
              " 'clip_f945f8604.wav',\n",
              " 'clip_8afc68787.wav',\n",
              " 'clip_726230147.wav',\n",
              " 'clip_ead24a845.wav',\n",
              " 'clip_8a1f2a1fa.wav',\n",
              " 'clip_c8a4ba9a6.wav',\n",
              " 'clip_63321a74f.wav',\n",
              " 'clip_0ae1843bc.wav',\n",
              " 'clip_c4cf4df89.wav',\n",
              " 'clip_d2857109c.wav',\n",
              " 'clip_2e7dd0de8.wav',\n",
              " 'clip_4054a5e78.wav',\n",
              " 'clip_243080ce9.wav',\n",
              " 'clip_686b2c506.wav',\n",
              " 'clip_5c34dd28d.wav',\n",
              " 'clip_70a6d2003.wav',\n",
              " 'clip_09c2d8ee3.wav',\n",
              " 'clip_fdf562921.wav',\n",
              " 'clip_8571c7fb2.wav',\n",
              " 'clip_6435d6c90.wav',\n",
              " 'clip_65de55fd6.wav',\n",
              " 'clip_335c01a45.wav',\n",
              " 'clip_1b669c8c2.wav',\n",
              " 'clip_bf8d4e5a9.wav',\n",
              " 'clip_9c9085283.wav',\n",
              " 'clip_73b3a98d7.wav',\n",
              " 'clip_f45436270.wav',\n",
              " 'clip_153d7cf47.wav',\n",
              " 'clip_0b6142956.wav',\n",
              " 'clip_662fa82d3.wav',\n",
              " 'clip_00f83db51.wav',\n",
              " 'clip_c045be220.wav',\n",
              " 'clip_03a70bd31.wav',\n",
              " 'clip_092fb13ea.wav',\n",
              " 'clip_ce06a4915.wav',\n",
              " 'clip_92b2e98af.wav',\n",
              " 'clip_5af70eb50.wav',\n",
              " 'clip_0db088acb.wav',\n",
              " 'clip_146da301d.wav',\n",
              " 'clip_7599ce2a8.wav',\n",
              " 'clip_b04afb098.wav',\n",
              " 'clip_4bde1ecb3.wav',\n",
              " 'clip_bbcc9ff16.wav',\n",
              " 'clip_9bfde907c.wav',\n",
              " 'clip_6b7bcaf64.wav',\n",
              " 'clip_a48d10b66.wav',\n",
              " 'clip_23877588f.wav',\n",
              " 'clip_41212eda6.wav',\n",
              " 'clip_554d11dee.wav',\n",
              " 'clip_4cd01889b.wav',\n",
              " 'clip_98e1e480b.wav',\n",
              " 'clip_924d1ece7.wav',\n",
              " 'clip_62402ed0f.wav',\n",
              " 'clip_71ae2932e.wav',\n",
              " 'clip_b48fbbe2c.wav',\n",
              " 'clip_7f2e41682.wav',\n",
              " 'clip_45b04253f.wav',\n",
              " 'clip_f1118335f.wav',\n",
              " 'clip_d75372942.wav',\n",
              " 'clip_5f212fc09.wav',\n",
              " 'clip_3adb5de65.wav',\n",
              " 'clip_4cceb8f10.wav',\n",
              " 'clip_63309f100.wav',\n",
              " 'clip_cd5d44f21.wav',\n",
              " 'clip_2546fcb8f.wav',\n",
              " 'clip_68b513e65.wav',\n",
              " 'clip_69be48c0d.wav',\n",
              " 'clip_a4961cb6d.wav',\n",
              " 'clip_3ab02b67c.wav',\n",
              " 'clip_de3c78ef2.wav',\n",
              " 'clip_ba0f4fce9.wav',\n",
              " 'clip_293d28629.wav',\n",
              " 'clip_7dec00a0d.wav',\n",
              " 'clip_01d0bc405.wav',\n",
              " 'clip_85bcfa954.wav',\n",
              " 'clip_dc1cbf4cf.wav',\n",
              " 'clip_29087238a.wav',\n",
              " 'clip_8933228d5.wav',\n",
              " 'clip_40d87b2e6.wav',\n",
              " 'clip_ad4db2b8c.wav',\n",
              " 'clip_5e904425a.wav',\n",
              " 'clip_f68d8b2ba.wav',\n",
              " 'clip_32c60ad12.wav',\n",
              " 'clip_8d94890f2.wav',\n",
              " 'clip_f75185656.wav',\n",
              " 'clip_cbbf9bda0.wav',\n",
              " 'clip_fc61baf19.wav',\n",
              " 'clip_9706ec8c5.wav',\n",
              " 'clip_83349a033.wav',\n",
              " 'clip_5385b77d0.wav',\n",
              " 'clip_bbc456dcd.wav',\n",
              " 'clip_1d4cbb87e.wav',\n",
              " 'clip_b77964f60.wav',\n",
              " 'clip_9b0c56b78.wav',\n",
              " 'clip_c589c1cb7.wav',\n",
              " 'clip_d26e66755.wav',\n",
              " 'clip_c5b557a29.wav',\n",
              " 'clip_076fab93b.wav',\n",
              " 'clip_946085287.wav',\n",
              " 'clip_953106e08.wav',\n",
              " 'clip_72a6c0b44.wav',\n",
              " 'clip_5d1ca58f3.wav',\n",
              " 'clip_9a473abf5.wav',\n",
              " 'clip_4d77ae926.wav',\n",
              " 'clip_1045eeb86.wav',\n",
              " 'clip_8e8daadd4.wav',\n",
              " 'clip_30c16a3ba.wav',\n",
              " 'clip_24eabeab2.wav',\n",
              " 'clip_70d0542c3.wav',\n",
              " 'clip_2ee2ce2bb.wav',\n",
              " 'clip_1f3aefdaa.wav',\n",
              " 'clip_477c61707.wav',\n",
              " 'clip_985f9f244.wav',\n",
              " 'clip_2882c8d3f.wav',\n",
              " 'clip_dbbda1eae.wav',\n",
              " 'clip_6ead216fa.wav',\n",
              " 'clip_7229fd0d2.wav',\n",
              " 'clip_45f9c1145.wav',\n",
              " 'clip_32c0fbc46.wav',\n",
              " 'clip_4cea84aa9.wav',\n",
              " 'clip_75ed7de82.wav',\n",
              " 'clip_400a9418d.wav',\n",
              " 'clip_d6411eb61.wav',\n",
              " 'clip_1c4f6995e.wav',\n",
              " 'clip_af94244ee.wav',\n",
              " 'clip_9460c547a.wav',\n",
              " 'clip_f7254c6ff.wav',\n",
              " 'clip_99197fb4b.wav',\n",
              " 'clip_cb0a415ee.wav',\n",
              " 'clip_c9f74aed2.wav',\n",
              " 'clip_1629c89ef.wav',\n",
              " 'clip_e2f97ce86.wav',\n",
              " 'clip_0c035d9b9.wav',\n",
              " 'clip_fbcba5bbf.wav',\n",
              " 'clip_7de4b140c.wav',\n",
              " 'clip_97c7e2a13.wav',\n",
              " 'clip_7cc1cb03f.wav',\n",
              " 'clip_9fcfcc1ad.wav',\n",
              " 'clip_9f9dcda3e.wav',\n",
              " 'clip_a955eca02.wav',\n",
              " 'clip_d0dd4218f.wav',\n",
              " 'clip_8e929848e.wav',\n",
              " 'clip_9fee1a592.wav',\n",
              " 'clip_3c63a3052.wav',\n",
              " 'clip_96bdc4793.wav',\n",
              " 'clip_bfa230965.wav',\n",
              " 'clip_701b7bb17.wav',\n",
              " 'clip_304f81210.wav',\n",
              " 'clip_7060bb6a2.wav',\n",
              " 'clip_7e5a93de5.wav',\n",
              " 'clip_42f5a7a75.wav',\n",
              " 'clip_5a4a8522c.wav',\n",
              " 'clip_3a9ad4ea8.wav',\n",
              " 'clip_ae9c5f742.wav',\n",
              " 'clip_4f117392e.wav',\n",
              " 'clip_4932fd03e.wav',\n",
              " 'clip_66db992e2.wav',\n",
              " 'clip_220949de6.wav',\n",
              " 'clip_c457a4c28.wav',\n",
              " 'clip_d52c45deb.wav',\n",
              " 'clip_373da96d3.wav',\n",
              " 'clip_7a9e4ced0.wav',\n",
              " 'clip_926f3813a.wav',\n",
              " 'clip_7e6ebd700.wav',\n",
              " 'clip_ff4d45c05.wav',\n",
              " 'clip_d1d28391c.wav',\n",
              " 'clip_aadec9b7e.wav',\n",
              " 'clip_6955f2a56.wav',\n",
              " 'clip_1c024a0e6.wav',\n",
              " 'clip_b9f9949f1.wav',\n",
              " 'clip_84cb2d9e5.wav',\n",
              " 'clip_69e7472a7.wav',\n",
              " 'clip_f3bee5ce0.wav',\n",
              " 'clip_85d89f659.wav',\n",
              " 'clip_1e5b3c193.wav',\n",
              " 'clip_779900c06.wav',\n",
              " 'clip_41834a673.wav',\n",
              " 'clip_f868b1960.wav',\n",
              " 'clip_aee812232.wav',\n",
              " 'clip_1f77efca5.wav',\n",
              " 'clip_c3721b349.wav',\n",
              " 'clip_b16bb8272.wav',\n",
              " 'clip_a17ed3668.wav',\n",
              " 'clip_ef1650d0e.wav',\n",
              " 'clip_f150fe92f.wav',\n",
              " 'clip_a30e086db.wav',\n",
              " 'clip_2666f0303.wav',\n",
              " 'clip_06da69e2c.wav',\n",
              " 'clip_4c71bf840.wav',\n",
              " 'clip_1cf679071.wav',\n",
              " 'clip_6027f3c27.wav',\n",
              " 'clip_a07460795.wav',\n",
              " 'clip_eaf3b8228.wav',\n",
              " 'clip_6e715acd9.wav',\n",
              " 'clip_a068ac022.wav',\n",
              " 'clip_ddbfb2b4e.wav',\n",
              " 'clip_e45278f5f.wav',\n",
              " 'clip_ef4d2c845.wav',\n",
              " 'clip_75f85352b.wav',\n",
              " 'clip_1ea5b3c50.wav',\n",
              " 'clip_8488edc44.wav',\n",
              " 'clip_8c5f5e4a0.wav',\n",
              " 'clip_ee463b6cc.wav',\n",
              " 'clip_36b5ba4f4.wav',\n",
              " 'clip_03897b67d.wav',\n",
              " 'clip_080f870cc.wav',\n",
              " 'clip_7d5e4e466.wav',\n",
              " 'clip_255bbbf51.wav',\n",
              " 'clip_a3a8a166f.wav',\n",
              " 'clip_ae4a75d6a.wav',\n",
              " 'clip_5e939382d.wav',\n",
              " 'clip_19396aa15.wav',\n",
              " 'clip_2ae1cd6b5.wav',\n",
              " 'clip_0665b9589.wav',\n",
              " 'clip_22070e90f.wav',\n",
              " 'clip_7308c4382.wav',\n",
              " 'clip_703a4b778.wav',\n",
              " 'clip_d373d87fd.wav',\n",
              " 'clip_2b9efc520.wav',\n",
              " 'clip_24ee82f7f.wav',\n",
              " 'clip_187861f45.wav',\n",
              " 'clip_e187cd337.wav',\n",
              " 'clip_96e1801c7.wav',\n",
              " 'clip_c8dee49b2.wav',\n",
              " 'clip_4c33e3570.wav',\n",
              " 'clip_159e84375.wav',\n",
              " 'clip_ba6eec00c.wav',\n",
              " 'clip_11eedb3c1.wav',\n",
              " 'clip_29a9ae08e.wav',\n",
              " 'clip_f37747d8c.wav',\n",
              " 'clip_a52541f53.wav',\n",
              " 'clip_8ac46158e.wav',\n",
              " 'clip_9e7b02afb.wav',\n",
              " 'clip_3de5bc03e.wav',\n",
              " 'clip_0cc7685ad.wav',\n",
              " 'clip_aeaf4f111.wav',\n",
              " 'clip_d8b59e204.wav',\n",
              " 'clip_4c896026e.wav',\n",
              " 'clip_705ddf01c.wav',\n",
              " 'clip_6d5451417.wav',\n",
              " 'clip_2836fab53.wav',\n",
              " 'clip_f75974158.wav',\n",
              " 'clip_3db21b991.wav',\n",
              " 'clip_a30126f49.wav',\n",
              " 'clip_d99e4821d.wav',\n",
              " 'clip_db62f11da.wav',\n",
              " 'clip_af02f93b6.wav',\n",
              " 'clip_4c6fc284f.wav',\n",
              " 'clip_5c4001cd1.wav',\n",
              " 'clip_c178caabd.wav',\n",
              " 'clip_7d946466e.wav',\n",
              " 'clip_be6333f47.wav',\n",
              " 'clip_6089b94bd.wav',\n",
              " 'clip_841b78442.wav',\n",
              " 'clip_de9ae55f3.wav',\n",
              " 'clip_66c99ecdf.wav',\n",
              " 'clip_9e63bcebd.wav',\n",
              " 'clip_617921ad4.wav',\n",
              " 'clip_580a3de41.wav',\n",
              " 'clip_b681167d7.wav',\n",
              " 'clip_265063c57.wav',\n",
              " 'clip_e8e8be595.wav',\n",
              " 'clip_54fa5505a.wav',\n",
              " 'clip_08b721077.wav',\n",
              " 'clip_bbb2bcb3c.wav',\n",
              " 'clip_263f5614b.wav',\n",
              " 'clip_4754107d4.wav',\n",
              " 'clip_c888ce4e0.wav',\n",
              " 'clip_047d052ba.wav',\n",
              " 'clip_bdecd162f.wav',\n",
              " 'clip_6cd80223d.wav',\n",
              " 'clip_05fe4b92d.wav',\n",
              " 'clip_554fcec93.wav',\n",
              " 'clip_88083cae6.wav',\n",
              " 'clip_2cafcd99d.wav',\n",
              " 'clip_47641040d.wav',\n",
              " 'clip_8158b5031.wav',\n",
              " 'clip_a3bde1db0.wav',\n",
              " 'clip_fc3100186.wav',\n",
              " 'clip_42d748c53.wav',\n",
              " 'clip_97e0e793d.wav',\n",
              " 'clip_2fd184179.wav',\n",
              " 'clip_4a31a9f7e.wav',\n",
              " 'clip_70b98cec3.wav',\n",
              " 'clip_9ad0bd076.wav',\n",
              " 'clip_27195341a.wav',\n",
              " 'clip_079323e33.wav',\n",
              " 'clip_0db584835.wav',\n",
              " 'clip_12b544986.wav',\n",
              " 'clip_26dddcbb7.wav',\n",
              " 'clip_9971daad3.wav',\n",
              " 'clip_48e542e7e.wav',\n",
              " 'clip_d1a475df3.wav',\n",
              " 'clip_264569d79.wav',\n",
              " 'clip_d1839f281.wav',\n",
              " 'clip_289cf61cc.wav',\n",
              " 'clip_3a74ac001.wav',\n",
              " 'clip_ccf6d01fc.wav',\n",
              " 'clip_d216433e1.wav',\n",
              " 'clip_53dd5481e.wav',\n",
              " 'clip_0534abcf6.wav',\n",
              " 'clip_34f5f44de.wav',\n",
              " 'clip_6e667be98.wav',\n",
              " 'clip_5bed1aafa.wav',\n",
              " 'clip_561e2dd97.wav',\n",
              " 'clip_d344ee13f.wav',\n",
              " 'clip_903c753fc.wav',\n",
              " 'clip_45d68bee8.wav',\n",
              " 'clip_5e63cd204.wav',\n",
              " 'clip_d0fe3c0a5.wav',\n",
              " 'clip_7a27f4005.wav',\n",
              " 'clip_6fe51efd7.wav',\n",
              " 'clip_cb50bf6da.wav',\n",
              " 'clip_5dcca0286.wav',\n",
              " 'clip_789e9014f.wav',\n",
              " 'clip_5f2484901.wav',\n",
              " 'clip_aa8bd32fd.wav',\n",
              " 'clip_c94580922.wav',\n",
              " 'clip_6cfbf0e25.wav',\n",
              " 'clip_5afca2955.wav',\n",
              " 'clip_b2d088d8e.wav',\n",
              " 'clip_5ac0f94ec.wav',\n",
              " 'clip_eafc8c232.wav',\n",
              " 'clip_779adc227.wav',\n",
              " 'clip_2c4bb0074.wav',\n",
              " 'clip_449636da7.wav',\n",
              " 'clip_5e4da7e7f.wav',\n",
              " 'clip_8bda49e84.wav',\n",
              " 'clip_3509bdafa.wav',\n",
              " 'clip_a6bb9fb55.wav',\n",
              " 'clip_b6a662758.wav',\n",
              " 'clip_4834918e7.wav',\n",
              " 'clip_601ad16fe.wav',\n",
              " 'clip_5ff569ba8.wav',\n",
              " 'clip_04d85e9f0.wav',\n",
              " 'clip_d4617d25e.wav',\n",
              " 'clip_f6902d2ff.wav',\n",
              " 'clip_8d0f12dd6.wav',\n",
              " 'clip_9f228bf6e.wav',\n",
              " 'clip_c2ab6dca6.wav',\n",
              " 'clip_3774ad13c.wav',\n",
              " 'clip_567a20f11.wav',\n",
              " 'clip_bcea5a52c.wav',\n",
              " 'clip_a486f24ce.wav',\n",
              " 'clip_8ea78355e.wav',\n",
              " 'clip_1499d3be0.wav',\n",
              " 'clip_7a4ddf0bb.wav',\n",
              " 'clip_893b50f36.wav',\n",
              " 'clip_ac5535b4a.wav',\n",
              " 'clip_dd9d4f7b4.wav',\n",
              " 'clip_812503369.wav',\n",
              " 'clip_4202cba40.wav',\n",
              " 'clip_9d59ab3fc.wav',\n",
              " 'clip_05746d98c.wav',\n",
              " 'clip_0c7470155.wav',\n",
              " 'clip_62ae4f79f.wav',\n",
              " 'clip_b5e6d83e1.wav',\n",
              " 'clip_227a29f1d.wav',\n",
              " 'clip_c46bf17b2.wav',\n",
              " 'clip_e8c6c5ddb.wav',\n",
              " 'clip_e34906f47.wav',\n",
              " 'clip_64994c0d8.wav',\n",
              " 'clip_fd6ff3d5c.wav',\n",
              " 'clip_590571477.wav',\n",
              " 'clip_d5a16c6bc.wav',\n",
              " 'clip_9ad5650ba.wav',\n",
              " 'clip_6a23025fa.wav',\n",
              " 'clip_4d902aacb.wav',\n",
              " 'clip_ab3a35f5f.wav',\n",
              " 'clip_ae3b327e3.wav',\n",
              " 'clip_3b9e7407f.wav',\n",
              " 'clip_a610a5344.wav',\n",
              " 'clip_bb5d2b8bc.wav',\n",
              " 'clip_955699c38.wav',\n",
              " 'clip_4d310db64.wav',\n",
              " 'clip_5c8b7d3d8.wav',\n",
              " 'clip_3ddbcbf76.wav',\n",
              " 'clip_fe492bee4.wav',\n",
              " 'clip_6a29559f9.wav',\n",
              " 'clip_4ac7d8694.wav',\n",
              " 'clip_e85c008ab.wav',\n",
              " 'clip_71ea5e0d3.wav',\n",
              " 'clip_f4a4ff87c.wav',\n",
              " 'clip_4e5a4e556.wav',\n",
              " 'clip_a818ab2ce.wav',\n",
              " 'clip_096a7978f.wav',\n",
              " 'clip_ee087a655.wav',\n",
              " 'clip_3bb836087.wav',\n",
              " 'clip_2d0ae00f3.wav',\n",
              " 'clip_1e37a10e9.wav',\n",
              " 'clip_8f6203654.wav',\n",
              " 'clip_b37d44806.wav',\n",
              " 'clip_18973295f.wav',\n",
              " 'clip_3b126d00c.wav',\n",
              " 'clip_723d8add3.wav',\n",
              " 'clip_365739f3b.wav',\n",
              " 'clip_8544b9eb7.wav',\n",
              " 'clip_5cefbd6a7.wav',\n",
              " 'clip_759778ef4.wav',\n",
              " 'clip_a3d6a25d7.wav',\n",
              " 'clip_1621c460d.wav',\n",
              " 'clip_5abc34672.wav',\n",
              " 'clip_8a21a348e.wav',\n",
              " 'clip_ed56303ff.wav',\n",
              " 'clip_2359f96e5.wav',\n",
              " 'clip_35da4bfcb.wav',\n",
              " 'clip_264a30461.wav',\n",
              " 'clip_efd3c88c3.wav',\n",
              " 'clip_d64b13fee.wav',\n",
              " 'clip_d9c84f631.wav',\n",
              " 'clip_d4852399f.wav',\n",
              " 'clip_adffdcf44.wav',\n",
              " 'clip_00ae6199e.wav',\n",
              " 'clip_bb96d3a22.wav',\n",
              " 'clip_2575d0260.wav',\n",
              " 'clip_b62b6fa47.wav',\n",
              " 'clip_cb24f43f6.wav',\n",
              " 'clip_cbc87f487.wav',\n",
              " 'clip_f1058e11a.wav',\n",
              " 'clip_8947beee7.wav',\n",
              " 'clip_3a1810e56.wav',\n",
              " 'clip_64ba5b718.wav',\n",
              " 'clip_abcf9ee57.wav',\n",
              " 'clip_2ae808500.wav',\n",
              " 'clip_da35123c1.wav',\n",
              " 'clip_72097af68.wav',\n",
              " 'clip_1f61e52e1.wav',\n",
              " 'clip_7380137cc.wav',\n",
              " 'clip_07a9ea6e5.wav',\n",
              " 'clip_68ac3810e.wav',\n",
              " 'clip_3fb74ba3c.wav',\n",
              " 'clip_38b39827e.wav',\n",
              " 'clip_f68d0c841.wav',\n",
              " 'clip_b27675c99.wav',\n",
              " 'clip_4a6348fa3.wav',\n",
              " 'clip_b076a2578.wav',\n",
              " 'clip_3f770fd79.wav',\n",
              " 'clip_baf379ad8.wav',\n",
              " 'clip_0c85df504.wav',\n",
              " 'clip_7ac651fdf.wav',\n",
              " 'clip_90115e668.wav',\n",
              " 'clip_c6bff1d2b.wav',\n",
              " 'clip_d3e000ad2.wav',\n",
              " 'clip_8cac54301.wav',\n",
              " 'clip_91fa43a5f.wav',\n",
              " 'clip_3e8dca8bf.wav',\n",
              " 'clip_f9d57d594.wav',\n",
              " 'clip_9276227fd.wav',\n",
              " 'clip_64fa409f8.wav',\n",
              " 'clip_4346bbcdf.wav',\n",
              " 'clip_e473e54f7.wav',\n",
              " 'clip_f762e895e.wav',\n",
              " 'clip_2f7957804.wav',\n",
              " 'clip_eb87a0f8f.wav',\n",
              " 'clip_3eb34a252.wav',\n",
              " 'clip_9404cb36c.wav',\n",
              " 'clip_ecd2e27ea.wav',\n",
              " 'clip_a069e84a5.wav',\n",
              " 'clip_222af40de.wav',\n",
              " 'clip_bfe46b58b.wav',\n",
              " 'clip_9f9889726.wav',\n",
              " 'clip_4620fadb8.wav',\n",
              " 'clip_b0753d1d0.wav',\n",
              " 'clip_5edafc701.wav',\n",
              " 'clip_97a56578c.wav',\n",
              " 'clip_b2fb38cae.wav',\n",
              " 'clip_ec55c6cf6.wav',\n",
              " 'clip_ed89f79ff.wav',\n",
              " 'clip_4e81900d0.wav',\n",
              " 'clip_be7dedb95.wav',\n",
              " 'clip_42028370f.wav',\n",
              " 'clip_a98598505.wav',\n",
              " 'clip_c767fa2c0.wav',\n",
              " 'clip_c6e480034.wav',\n",
              " 'clip_b0c59ea18.wav',\n",
              " 'clip_8c4e51e83.wav',\n",
              " 'clip_1aec8ccef.wav',\n",
              " 'clip_379a607b8.wav',\n",
              " 'clip_786bdb993.wav',\n",
              " 'clip_bde333061.wav',\n",
              " 'clip_cc101d34c.wav',\n",
              " 'clip_72935f199.wav',\n",
              " 'clip_2a0b966d2.wav',\n",
              " 'clip_e83a27708.wav',\n",
              " 'clip_6b16837d4.wav',\n",
              " 'clip_02dc8e466.wav',\n",
              " 'clip_b805a399c.wav',\n",
              " 'clip_ca3ba3123.wav',\n",
              " 'clip_89edfc2a5.wav',\n",
              " 'clip_b241174e7.wav',\n",
              " 'clip_d0c5dcd5c.wav',\n",
              " 'clip_051a7f37f.wav',\n",
              " 'clip_5b3b84e35.wav',\n",
              " 'clip_0a59145ac.wav',\n",
              " 'clip_b72dd2ff6.wav',\n",
              " 'clip_19eded9e7.wav',\n",
              " 'clip_a11a0394a.wav',\n",
              " 'clip_01cdc0a3a.wav',\n",
              " 'clip_b500e87d5.wav',\n",
              " 'clip_3adbd2545.wav',\n",
              " 'clip_73c6a5358.wav',\n",
              " 'clip_dc3e07bf4.wav',\n",
              " 'clip_c598b8b02.wav',\n",
              " 'clip_c058003a4.wav',\n",
              " 'clip_a04cf6631.wav',\n",
              " 'clip_12ce857bb.wav',\n",
              " 'clip_45fa376f4.wav',\n",
              " 'clip_a6774c6a0.wav',\n",
              " 'clip_a012ed1e7.wav',\n",
              " 'clip_619bf0518.wav',\n",
              " 'clip_20b50610a.wav',\n",
              " 'clip_827364487.wav',\n",
              " 'clip_6a57f2576.wav',\n",
              " 'clip_f48e824bf.wav',\n",
              " 'clip_26cb39afc.wav',\n",
              " 'clip_794d9d281.wav',\n",
              " 'clip_ef1d2603d.wav',\n",
              " 'clip_0054c42fd.wav',\n",
              " 'clip_f1f984eee.wav',\n",
              " 'clip_31c2ca65f.wav',\n",
              " 'clip_b3009945e.wav',\n",
              " 'clip_bf4a88416.wav',\n",
              " 'clip_95fa2ca37.wav',\n",
              " 'clip_720762866.wav',\n",
              " 'clip_b432f79e5.wav',\n",
              " ...]"
            ]
          },
          "metadata": {
            "tags": []
          },
          "execution_count": 168
        }
      ]
    },
    {
      "cell_type": "code",
      "metadata": {
        "id": "gOUne28WYhYS",
        "colab_type": "code",
        "colab": {}
      },
      "source": [
        "df = pd.DataFrame(columns=['fname', 'label'])\n",
        "df['fname'] = index\n",
        "df['label'] = results4\n",
        "df.to_csv(os.path.join(out_path, 'xgboost_1000_2.csv'), index=False)"
      ],
      "execution_count": 0,
      "outputs": []
    }
  ]
}