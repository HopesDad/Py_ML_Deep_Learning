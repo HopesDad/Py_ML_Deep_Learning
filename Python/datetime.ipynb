{
  "nbformat": 4,
  "nbformat_minor": 0,
  "metadata": {
    "colab": {
      "name": "datetime.ipynb",
      "provenance": [],
      "include_colab_link": true
    },
    "kernelspec": {
      "name": "python3",
      "display_name": "Python 3"
    }
  },
  "cells": [
    {
      "cell_type": "markdown",
      "metadata": {
        "id": "view-in-github",
        "colab_type": "text"
      },
      "source": [
        "<a href=\"https://colab.research.google.com/github/Zero-Sik/Python_learning/blob/master/datetime.ipynb\" target=\"_parent\"><img src=\"https://colab.research.google.com/assets/colab-badge.svg\" alt=\"Open In Colab\"/></a>"
      ]
    },
    {
      "cell_type": "markdown",
      "metadata": {
        "id": "0wcwcGtupQOu",
        "colab_type": "text"
      },
      "source": [
        "# datetime, random"
      ]
    },
    {
      "cell_type": "markdown",
      "metadata": {
        "id": "3VS8YDpOp_Zd",
        "colab_type": "text"
      },
      "source": [
        "# 필요한 정보를 검색하는 요령\n",
        "\n",
        " - 검색은 구글(검색어를 일때는 공식문서보다 stackoverflow 등이 좋다)\n",
        " - 키워드에 파이썬3 또는 python3을 포함하라\n",
        " - 간단한 예제는 REPL을 사용하여 예제를 테스트 해보라.\n",
        " - 영어를 못해도 영어로 검색해라(tip. 프로그래밍에서 값 생성은 거의 generate)"
      ]
    },
    {
      "cell_type": "code",
      "metadata": {
        "id": "VM1MwZZ6qPEW",
        "colab_type": "code",
        "outputId": "b41e3c2a-573d-48a2-986d-a483124a011d",
        "colab": {
          "base_uri": "https://localhost:8080/",
          "height": 35
        }
      },
      "source": [
        "# 검색어 : python3, today date\n",
        "\n",
        "import datetime\n",
        "\n",
        "now = datetime.datetime.now()\n",
        "datetime.datetime(2017,2,24,17,32,55,65323)\n",
        "now.year\n",
        "print(datetime.date.today())"
      ],
      "execution_count": 0,
      "outputs": [
        {
          "output_type": "stream",
          "text": [
            "2019-11-27\n"
          ],
          "name": "stdout"
        }
      ]
    },
    {
      "cell_type": "markdown",
      "metadata": {
        "id": "kYksFoTgrIPk",
        "colab_type": "text"
      },
      "source": [
        "# 공식문서에서 필요한 정보를 찾는 법\n",
        " - 공식문서\n",
        "  - 필요한 내용을 둘러보고 싶을때\n",
        "  - 파이썬 내장 모듈과 함수의 정보가 필요할 때\n",
        "\n",
        "\n",
        " - 구글 또는 stackoverflow.com\n",
        "  - 문제의 구체적인 해결 방법이 알고 싶을 때\n",
        "  - 구글 검색시 사이트 제한 기능 활용\n",
        "   - site: stackoverflow.com\n",
        "   - site: docs.python.org\n",
        "\n",
        "\n",
        "\n",
        "   # 예시 - random.radint()\n",
        "    - 공식 가이드 문서\n",
        "\n",
        "\n",
        "    "
      ]
    },
    {
      "cell_type": "code",
      "metadata": {
        "id": "JppsM8Ofrvy1",
        "colab_type": "code",
        "colab": {}
      },
      "source": [
        "import random\n",
        "random_number = random.randint(2,5)"
      ],
      "execution_count": 0,
      "outputs": []
    },
    {
      "cell_type": "markdown",
      "metadata": {
        "id": "T_zzTcYbsJEA",
        "colab_type": "text"
      },
      "source": [
        "# 딕셔너리 만들기\n",
        " - 딕셔너리\n",
        "  - 자바스크립트 객체(object)와 유사\n",
        "  - 여러 값을 저장해 두고 필요한 값을 꺼내 쓰는 기능\n",
        "  - 이름표를 이용하여 값을 꺼내 사용\n",
        "  - 사용할 때는 리스트와 비슷한 방식\n"
      ]
    },
    {
      "cell_type": "code",
      "metadata": {
        "id": "F7nswrelsT3q",
        "colab_type": "code",
        "outputId": "fa8b2a99-82d9-486e-9eee-b9f1066cf229",
        "colab": {
          "base_uri": "https://localhost:8080/",
          "height": 35
        }
      },
      "source": [
        "winteble = {\n",
        "    '가위' : '보',\n",
        "    '바위' : '가위',\n",
        "    '보' : '바위',\n",
        "}\n",
        "\n",
        "print(winteble['가위'])"
      ],
      "execution_count": 0,
      "outputs": [
        {
          "output_type": "stream",
          "text": [
            "보\n"
          ],
          "name": "stdout"
        }
      ]
    },
    {
      "cell_type": "code",
      "metadata": {
        "id": "GG9hcwrJsnRx",
        "colab_type": "code",
        "outputId": "572c4114-85af-49bd-eea8-1ade35f9fa71",
        "colab": {
          "base_uri": "https://localhost:8080/",
          "height": 35
        }
      },
      "source": [
        "# 딕셔너리 사용 예시\n",
        "\n",
        "# 딕셔너리 (dictionary) 선언\n",
        "wintable = {\n",
        " '가위' : '보',\n",
        "    '바위' : '가위',\n",
        "    '보' : '바위'\n",
        "}\n",
        "\n",
        "def rsp(mine, yours) :\n",
        "  if mine == yours :\n",
        "    return 'drew'\n",
        "  elif wintable[mine] == yours :\n",
        "    return 'win'\n",
        "  else :\n",
        "    return 'lose'\n",
        "\n",
        "\n",
        "result = rsp('가위', '바위')\n",
        "\n",
        "\n",
        "\n",
        "message = {\n",
        "    'draw' : '비겼다',\n",
        "    'win' : '이겼다',\n",
        "    'lose' : '졌어..'\n",
        "}\n",
        "print(message[result]) # 졌나?"
      ],
      "execution_count": 0,
      "outputs": [
        {
          "output_type": "stream",
          "text": [
            "졌어..\n"
          ],
          "name": "stdout"
        }
      ]
    },
    {
      "cell_type": "markdown",
      "metadata": {
        "id": "FrJPs2gpjJ4l",
        "colab_type": "text"
      },
      "source": [
        "리스트 수정"
      ]
    },
    {
      "cell_type": "code",
      "metadata": {
        "id": "RnapwE1IjKnQ",
        "colab_type": "code",
        "outputId": "d2f8b262-2df3-4099-a1cc-3a529bcc2b66",
        "colab": {
          "base_uri": "https://localhost:8080/",
          "height": 35
        }
      },
      "source": [
        "# 수정\n",
        "list = [1, 3, 5, 7, 9, 11]\n",
        "list[0] = 7\n",
        "list\n",
        "\n",
        "\n",
        "# 추가\n",
        "list.append(17)\n",
        "list\n",
        "\n",
        "\n",
        "# 삭제\n",
        "\n",
        "del(list[0])\n",
        "list\n",
        "\n",
        "\n",
        "# 삭제 - .pop()\n",
        "list.pop(0)\n",
        "# 삭제되는 값이 반환\n",
        "list"
      ],
      "execution_count": 0,
      "outputs": [
        {
          "output_type": "execute_result",
          "data": {
            "text/plain": [
              "[5, 7, 9, 11, 17]"
            ]
          },
          "metadata": {
            "tags": []
          },
          "execution_count": 8
        }
      ]
    },
    {
      "cell_type": "markdown",
      "metadata": {
        "id": "mCcnT7yJi3L7",
        "colab_type": "text"
      },
      "source": [
        "딕셔너리 수정"
      ]
    },
    {
      "cell_type": "code",
      "metadata": {
        "id": "HleFsxNSi41k",
        "colab_type": "code",
        "outputId": "5a6bc757-81d8-4c2c-f896-9ae5d56e2e76",
        "colab": {
          "base_uri": "https://localhost:8080/",
          "height": 35
        }
      },
      "source": [
        "# 수정 \n",
        "dic = {'one':1, 'two':2}\n",
        "dic['one'] = '하나'\n",
        "\n",
        "dic\n",
        "\n",
        "\n",
        "# 추가\n",
        "\n",
        "dic['three'] = 3\n",
        "dic\n",
        "\n",
        "\n",
        "# 삭제\n",
        "\n",
        "del(dic['one'])\n",
        "dic\n",
        "\n",
        "# 삭제 - .pop()\n",
        "\n",
        "dic.pop('two')\n",
        "dic"
      ],
      "execution_count": 0,
      "outputs": [
        {
          "output_type": "execute_result",
          "data": {
            "text/plain": [
              "{'three': 3}"
            ]
          },
          "metadata": {
            "tags": []
          },
          "execution_count": 6
        }
      ]
    },
    {
      "cell_type": "markdown",
      "metadata": {
        "id": "WcM4vC6djRJ4",
        "colab_type": "text"
      },
      "source": [
        "딕셔너리 반복문 활용 - for in\n"
      ]
    },
    {
      "cell_type": "code",
      "metadata": {
        "id": "-TrwoSpWjSlS",
        "colab_type": "code",
        "outputId": "95be33e2-2c32-4e99-c5ef-e5cda17ba945",
        "colab": {
          "base_uri": "https://localhost:8080/",
          "height": 244
        }
      },
      "source": [
        "# key를 가져온다\n",
        "\n",
        "apes = {'siwa': 33, 'sunshine': 29, 'tom':27}\n",
        "\n",
        "for key in apes.keys(): # keys() 생략 가능\n",
        " print(key)\n",
        "\n",
        "\n",
        " for value in apes.value():\n",
        "   print(value)"
      ],
      "execution_count": 0,
      "outputs": [
        {
          "output_type": "stream",
          "text": [
            "siwa\n"
          ],
          "name": "stdout"
        },
        {
          "output_type": "error",
          "ename": "AttributeError",
          "evalue": "ignored",
          "traceback": [
            "\u001b[0;31m---------------------------------------------------------------------------\u001b[0m",
            "\u001b[0;31mAttributeError\u001b[0m                            Traceback (most recent call last)",
            "\u001b[0;32m<ipython-input-13-1c9b87801b5d>\u001b[0m in \u001b[0;36m<module>\u001b[0;34m()\u001b[0m\n\u001b[1;32m      6\u001b[0m \u001b[0;34m\u001b[0m\u001b[0m\n\u001b[1;32m      7\u001b[0m \u001b[0;34m\u001b[0m\u001b[0m\n\u001b[0;32m----> 8\u001b[0;31m  \u001b[0;32mfor\u001b[0m \u001b[0mvalue\u001b[0m \u001b[0;32min\u001b[0m \u001b[0mapes\u001b[0m\u001b[0;34m.\u001b[0m\u001b[0mvalue\u001b[0m\u001b[0;34m(\u001b[0m\u001b[0;34m)\u001b[0m\u001b[0;34m:\u001b[0m\u001b[0;34m\u001b[0m\u001b[0;34m\u001b[0m\u001b[0m\n\u001b[0m\u001b[1;32m      9\u001b[0m    \u001b[0mprint\u001b[0m\u001b[0;34m(\u001b[0m\u001b[0mvalue\u001b[0m\u001b[0;34m)\u001b[0m\u001b[0;34m\u001b[0m\u001b[0;34m\u001b[0m\u001b[0m\n",
            "\u001b[0;31mAttributeError\u001b[0m: 'dict' object has no attribute 'value'"
          ]
        }
      ]
    },
    {
      "cell_type": "markdown",
      "metadata": {
        "id": "nyEG-quuj6km",
        "colab_type": "text"
      },
      "source": [
        "\n"
      ]
    }
  ]
}
