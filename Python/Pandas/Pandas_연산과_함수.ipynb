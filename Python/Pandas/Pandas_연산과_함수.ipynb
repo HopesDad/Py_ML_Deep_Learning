{
  "nbformat": 4,
  "nbformat_minor": 0,
  "metadata": {
    "colab": {
      "name": "Pandas_연산과 함수.ipynb",
      "provenance": [],
      "authorship_tag": "ABX9TyOgUN2n9W40PFL76UJsC61j"
    },
    "kernelspec": {
      "name": "python3",
      "display_name": "Python 3"
    }
  },
  "cells": [
    {
      "cell_type": "markdown",
      "metadata": {
        "id": "OiwI2borido0",
        "colab_type": "text"
      },
      "source": [
        "### Pandas의 연산과 함수\n",
        "\n",
        "- 데이터 프레임의 Null 여부 확인\n",
        "\n"
      ]
    },
    {
      "cell_type": "code",
      "metadata": {
        "id": "lomgjQgIije0",
        "colab_type": "code",
        "colab": {
          "base_uri": "https://localhost:8080/",
          "height": 377
        },
        "outputId": "bfc7e3ad-a689-4ee6-f8ef-351056c35d00"
      },
      "source": [
        "import pandas as pd\n",
        "import numpy as np\n",
        "\n",
        "word_dict = {\n",
        "    'Apple': '사과',\n",
        "    'Banana': '바나나',\n",
        "    'Carrot': '당근',\n",
        "    'Durian': '두리안'\n",
        "}\n",
        "\n",
        "frequency_dict = {\n",
        "    'Apple': 3,\n",
        "    'Banana': 5,\n",
        "    'Carrot': np.nan,\n",
        "    'Durian': 2\n",
        "}\n",
        "\n",
        "importance_dict = {\n",
        "    'Apple': 3,\n",
        "    'Banana': 2,\n",
        "    'Carrot': 1,\n",
        "    'Durian': 1\n",
        "}\n",
        "\n",
        "word = pd.Series(word_dict)\n",
        "frequency = pd.Series(frequency_dict)\n",
        "importance = pd.Series(importance_dict)\n",
        "\n",
        "summary = pd.DataFrame({\n",
        "    'word': word,\n",
        "    'frequency': frequency,\n",
        "    'importance': importance\n",
        "})\n",
        "\n",
        "print(summary)\n",
        "print(summary.notnull())\n",
        "print(summary.isnull())\n",
        "summary['frequency'] = summary['frequency'].fillna('데이터 없음')\n",
        "print(summary)"
      ],
      "execution_count": 7,
      "outputs": [
        {
          "output_type": "stream",
          "text": [
            "       word  frequency  importance\n",
            "Apple    사과        3.0           3\n",
            "Banana  바나나        5.0           2\n",
            "Carrot   당근        NaN           1\n",
            "Durian  두리안        2.0           1\n",
            "        word  frequency  importance\n",
            "Apple   True       True        True\n",
            "Banana  True       True        True\n",
            "Carrot  True      False        True\n",
            "Durian  True       True        True\n",
            "         word  frequency  importance\n",
            "Apple   False      False       False\n",
            "Banana  False      False       False\n",
            "Carrot  False       True       False\n",
            "Durian  False      False       False\n",
            "       word frequency  importance\n",
            "Apple    사과         3           3\n",
            "Banana  바나나         5           2\n",
            "Carrot   당근    데이터 없음           1\n",
            "Durian  두리안         2           1\n"
          ],
          "name": "stdout"
        }
      ]
    },
    {
      "cell_type": "code",
      "metadata": {
        "id": "qQETA7OUnady",
        "colab_type": "code",
        "colab": {
          "base_uri": "https://localhost:8080/",
          "height": 107
        },
        "outputId": "759fed6a-e6ec-46d5-d568-670e82235c92"
      },
      "source": [
        "import pandas as pd\n",
        "\n",
        "array1 = pd.Series([1, 2, 3], index=['A', 'B', 'C'])\n",
        "array2 = pd.Series([4, 5, 6], index=['B', 'C', 'D'])\n",
        "\n",
        "array = array1.add(array2, fill_value=0)\n",
        "print(array)"
      ],
      "execution_count": 8,
      "outputs": [
        {
          "output_type": "stream",
          "text": [
            "A    1.0\n",
            "B    6.0\n",
            "C    8.0\n",
            "D    6.0\n",
            "dtype: float64\n"
          ],
          "name": "stdout"
        }
      ]
    },
    {
      "cell_type": "code",
      "metadata": {
        "id": "envthEUnnw5m",
        "colab_type": "code",
        "colab": {
          "base_uri": "https://localhost:8080/",
          "height": 233
        },
        "outputId": "39f0af2c-2eac-417d-9d26-1a18d87d45df"
      },
      "source": [
        "import pandas as pd\n",
        "\n",
        "array1 = pd.DataFrame([[1, 2], [3, 4]], index=['A', 'B'])\n",
        "array2 = pd.DataFrame([[1, 2, 3], [4, 5, 6], [7, 8, 9]], index=['B', 'C', 'D'])\n",
        "\n",
        "print(array1)\n",
        "print(array2)\n",
        "\n",
        "array = array1.add(array2, fill_value=0)\n",
        "print(array)"
      ],
      "execution_count": 9,
      "outputs": [
        {
          "output_type": "stream",
          "text": [
            "   0  1\n",
            "A  1  2\n",
            "B  3  4\n",
            "   0  1  2\n",
            "B  1  2  3\n",
            "C  4  5  6\n",
            "D  7  8  9\n",
            "     0    1    2\n",
            "A  1.0  2.0  NaN\n",
            "B  4.0  6.0  3.0\n",
            "C  4.0  5.0  6.0\n",
            "D  7.0  8.0  9.0\n"
          ],
          "name": "stdout"
        }
      ]
    },
    {
      "cell_type": "code",
      "metadata": {
        "id": "XA0cuNE2nyQ7",
        "colab_type": "code",
        "colab": {
          "base_uri": "https://localhost:8080/",
          "height": 197
        },
        "outputId": "e312c460-28c9-44ca-d81f-13424fae6e0d"
      },
      "source": [
        "# 데이터 프레임 집계 함수\n",
        "\n",
        "import pandas as pd\n",
        "\n",
        "array1 = pd.DataFrame([[1, 2], [3, 4]], index=['A', 'B'])\n",
        "array2 = pd.DataFrame([[1, 2, 3], [4, 5, 6], [7, 8, 9]], index=['B', 'C', 'D'])\n",
        "\n",
        "array = array1.add(array2, fill_value=0)\n",
        "print(array)\n",
        "print(\"컬럼 1의 합:\", array[1].sum())\n",
        "print(array.sum())"
      ],
      "execution_count": 10,
      "outputs": [
        {
          "output_type": "stream",
          "text": [
            "     0    1    2\n",
            "A  1.0  2.0  NaN\n",
            "B  4.0  6.0  3.0\n",
            "C  4.0  5.0  6.0\n",
            "D  7.0  8.0  9.0\n",
            "컬럼 1의 합: 21.0\n",
            "0    16.0\n",
            "1    21.0\n",
            "2    18.0\n",
            "dtype: float64\n"
          ],
          "name": "stdout"
        }
      ]
    },
    {
      "cell_type": "code",
      "metadata": {
        "id": "VfOTleJxn3QL",
        "colab_type": "code",
        "colab": {
          "base_uri": "https://localhost:8080/",
          "height": 197
        },
        "outputId": "e8f3ccc8-bf5a-483b-858a-11bc9a14505f"
      },
      "source": [
        "import pandas as pd\n",
        "import numpy as np\n",
        "\n",
        "word_dict = {\n",
        "    'Apple': '사과',\n",
        "    'Banana': '바나나',\n",
        "    'Carrot': '당근',\n",
        "    'Durian': '두리안'\n",
        "}\n",
        "\n",
        "frequency_dict = {\n",
        "    'Apple': 3,\n",
        "    'Banana': 5,\n",
        "    'Carrot': 1,\n",
        "    'Durian': 2\n",
        "}\n",
        "\n",
        "importance_dict = {\n",
        "    'Apple': 3,\n",
        "    'Banana': 2,\n",
        "    'Carrot': 1,\n",
        "    'Durian': 1\n",
        "}\n",
        "\n",
        "word = pd.Series(word_dict)\n",
        "frequency = pd.Series(frequency_dict)\n",
        "importance = pd.Series(importance_dict)\n",
        "\n",
        "summary = pd.DataFrame({\n",
        "    'word': word,\n",
        "    'frequency': frequency,\n",
        "    'importance': importance\n",
        "})\n",
        "\n",
        "print(summary)\n",
        "summary = summary.sort_values('frequency', ascending=False)\n",
        "print(summary)"
      ],
      "execution_count": 11,
      "outputs": [
        {
          "output_type": "stream",
          "text": [
            "       word  frequency  importance\n",
            "Apple    사과          3           3\n",
            "Banana  바나나          5           2\n",
            "Carrot   당근          1           1\n",
            "Durian  두리안          2           1\n",
            "       word  frequency  importance\n",
            "Banana  바나나          5           2\n",
            "Apple    사과          3           3\n",
            "Durian  두리안          2           1\n",
            "Carrot   당근          1           1\n"
          ],
          "name": "stdout"
        }
      ]
    }
  ]
}
