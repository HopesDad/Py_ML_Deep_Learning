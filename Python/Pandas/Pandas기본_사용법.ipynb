{
  "nbformat": 4,
  "nbformat_minor": 0,
  "metadata": {
    "colab": {
      "name": "Pandas기본 사용법.ipynb",
      "provenance": [],
      "authorship_tag": "ABX9TyOOPZN2q6sHwK/oaCiwWueg"
    },
    "kernelspec": {
      "name": "python3",
      "display_name": "Python 3"
    }
  },
  "cells": [
    {
      "cell_type": "markdown",
      "metadata": {
        "id": "AsQJMVKctEHR",
        "colab_type": "text"
      },
      "source": [
        "# Pandas의 기본 사용법\n",
        "\n",
        " 판다스(Pandas)란?\n",
        "\n",
        "  - 데이터를 효과적으로 처리하고, 보여줄 수 있도록 도와주는 라이브러리\n",
        "  - Numpy와 함께 사용되어 다양한 연계적인 기능을 제공\n",
        "  - 인덱스(Index)에 따라 데이터를 나열하므로 사전(Dictionary) 자료형에 가깝다\n",
        "  - 시리즈(Series)를 기본적인 자료형으로 사용합니다.\n",
        "\n"
      ]
    },
    {
      "cell_type": "code",
      "metadata": {
        "id": "IpG-xc7DtUmD",
        "colab_type": "code",
        "outputId": "44be2a79-c2c3-4194-cf6a-5b82e4efd232",
        "colab": {
          "base_uri": "https://localhost:8080/",
          "height": 105
        }
      },
      "source": [
        "# 시리즈(Series)\n",
        " # - 시리즈는 인덱스와 값으로 구성됩니다.\n",
        "\n",
        "import pandas as pd\n",
        "\n",
        "array = pd.Series(['사과', '바나나', '당근'], index=['a', 'b', 'c'])\n",
        "\n",
        "print(array)\n",
        "print(array['a'])"
      ],
      "execution_count": 0,
      "outputs": [
        {
          "output_type": "stream",
          "text": [
            "a     사과\n",
            "b    바나나\n",
            "c     당근\n",
            "dtype: object\n",
            "사과\n"
          ],
          "name": "stdout"
        }
      ]
    },
    {
      "cell_type": "code",
      "metadata": {
        "id": "rZOtwxttXFyL",
        "colab_type": "code",
        "colab": {
          "base_uri": "https://localhost:8080/",
          "height": 35
        },
        "outputId": "6a26f9d0-c740-443d-e74a-39c102d0a6c2"
      },
      "source": [
        "import pandas as pd\n",
        "\n",
        "data = {\n",
        "    'a': '사과',\n",
        "    'b': '바나나',\n",
        "    'c': '당근'\n",
        "}\n",
        "\n",
        "# Dict 자료형을 Series로 바꾸기\n",
        "array = pd.Series(data)\n",
        "print(array['a'])"
      ],
      "execution_count": 1,
      "outputs": [
        {
          "output_type": "stream",
          "text": [
            "사과\n"
          ],
          "name": "stdout"
        }
      ]
    },
    {
      "cell_type": "code",
      "metadata": {
        "id": "I6KSy8I4XQQJ",
        "colab_type": "code",
        "colab": {
          "base_uri": "https://localhost:8080/",
          "height": 89
        },
        "outputId": "0f06ed1c-7efa-4573-b791-b3848200ab15"
      },
      "source": [
        "# 데이터 프레임\n",
        " # - 다수의 시리즈(series)를 모아 처리하기 위한 목적으로 사용합니다.\n",
        " # - 표 형태로 데이터를 손쉽게 출력하고자 할 때 사용할 수 있습니다.\n",
        "import pandas as pd\n",
        "\n",
        "word_dict = {\n",
        "    'Apple': '사과',\n",
        "    'Banana': '바나나',\n",
        "    'Carrot': '당근'\n",
        "}\n",
        "\n",
        "frequency_dict = {\n",
        "    'Apple': 3,\n",
        "    'Banana': 5,\n",
        "    'Carrot': 7\n",
        "}\n",
        "\n",
        "\n",
        "word = pd.Series(word_dict)\n",
        "frequency = pd.Series(frequency_dict)\n",
        "\n",
        "# 이름(Name): 값(Values)\n",
        "summary = pd.DataFrame({\n",
        "    'word': word,\n",
        "    'frequency': frequency\n",
        "})\n",
        "\n",
        "print(summary)\n",
        "\n",
        "# 시리즈의 연산\n",
        "  # 시리즈를 서로 연산하여 새로운 시리즈를 만들 수 있습니다."
      ],
      "execution_count": 2,
      "outputs": [
        {
          "output_type": "stream",
          "text": [
            "       word  frequency\n",
            "Apple    사과          3\n",
            "Banana  바나나          5\n",
            "Carrot   당근          7\n"
          ],
          "name": "stdout"
        }
      ]
    },
    {
      "cell_type": "code",
      "metadata": {
        "id": "XZprWj_vX8fA",
        "colab_type": "code",
        "colab": {
          "base_uri": "https://localhost:8080/",
          "height": 215
        },
        "outputId": "ce001992-73c7-4895-d66c-60616c8b30bd"
      },
      "source": [
        "import pandas as pd\n",
        "\n",
        "word_dict = {\n",
        "    'Apple': '사과',\n",
        "    'Banana': '바나나',\n",
        "    'Carrot': '당근',\n",
        "    'Durian': '두리안'\n",
        "}\n",
        "\n",
        "frequency_dict = {\n",
        "    'Apple': 3,\n",
        "    'Banana': 5,\n",
        "    'Carrot': 7,\n",
        "    'Durian': 2\n",
        "}\n",
        "\n",
        "importance_dict = {\n",
        "    'Apple': 3,\n",
        "    'Banana': 2,\n",
        "    'Carrot': 1,\n",
        "    'Durian': 1\n",
        "}\n",
        "\n",
        "word = pd.Series(word_dict)\n",
        "frequency = pd.Series(frequency_dict)\n",
        "importance = pd.Series(importance_dict)\n",
        "\n",
        "summary = pd.DataFrame({\n",
        "    'word': word,\n",
        "    'frequency': frequency,\n",
        "    'importance': importance\n",
        "})\n",
        "\n",
        "print(summary)\n",
        "\n",
        "# 이름을 기준으로 슬라이싱\n",
        "print(summary.loc['Banana':'Carrot', 'importance':])\n",
        "\n",
        "# 인덱스를 기준으로 슬라이싱\n",
        "print(summary.iloc[1:3, 2:])\n",
        "\n",
        "# 데이터 프레임의 연산\n"
      ],
      "execution_count": 6,
      "outputs": [
        {
          "output_type": "stream",
          "text": [
            "       word  frequency  importance\n",
            "Apple    사과          3           3\n",
            "Banana  바나나          5           2\n",
            "Carrot   당근          7           1\n",
            "Durian  두리안          2           1\n",
            "        importance\n",
            "Banana           2\n",
            "Carrot           1\n",
            "        importance\n",
            "Banana           2\n",
            "Carrot           1\n"
          ],
          "name": "stdout"
        }
      ]
    },
    {
      "cell_type": "code",
      "metadata": {
        "id": "Hp5QSX4vhGRZ",
        "colab_type": "code",
        "colab": {
          "base_uri": "https://localhost:8080/",
          "height": 215
        },
        "outputId": "c434cab4-19f0-4aeb-bb2b-1d78e1ff8570"
      },
      "source": [
        "import pandas as pd\n",
        "\n",
        "word_dict = {\n",
        "    'Apple': '사과',\n",
        "    'Banana': '바나나',\n",
        "    'Carrot': '당근',\n",
        "    'Durian': '두리안'\n",
        "}\n",
        "\n",
        "frequency_dict = {\n",
        "    'Apple': 3,\n",
        "    'Banana': 5,\n",
        "    'Carrot': 7,\n",
        "    'Durian': 2\n",
        "}\n",
        "\n",
        "importance_dict = {\n",
        "    'Apple': 3,\n",
        "    'Banana': 2,\n",
        "    'Carrot': 1,\n",
        "    'Durian': 1\n",
        "}\n",
        "\n",
        "word = pd.Series(word_dict)\n",
        "frequency = pd.Series(frequency_dict)\n",
        "importance = pd.Series(importance_dict)\n",
        "\n",
        "summary = pd.DataFrame({\n",
        "    'word': word,\n",
        "    'frequency': frequency,\n",
        "    'importance': importance\n",
        "})\n",
        "\n",
        "print(summary)\n",
        "\n",
        "summary.loc['Apple', 'importance'] = 5 # 데이터의 변경\n",
        "summary.loc['Elderberry'] = ['엘더베리', 5, 3] # 새 데이터 삽입\n",
        "\n",
        "print(summary)"
      ],
      "execution_count": 7,
      "outputs": [
        {
          "output_type": "stream",
          "text": [
            "       word  frequency  importance\n",
            "Apple    사과          3           3\n",
            "Banana  바나나          5           2\n",
            "Carrot   당근          7           1\n",
            "Durian  두리안          2           1\n",
            "            word  frequency  importance\n",
            "Apple         사과          3           5\n",
            "Banana       바나나          5           2\n",
            "Carrot        당근          7           1\n",
            "Durian       두리안          2           1\n",
            "Elderberry  엘더베리          5           3\n"
          ],
          "name": "stdout"
        }
      ]
    },
    {
      "cell_type": "code",
      "metadata": {
        "id": "JDxH3ODuhJC9",
        "colab_type": "code",
        "colab": {
          "base_uri": "https://localhost:8080/",
          "height": 89
        },
        "outputId": "f0cda681-9ab9-4452-d53e-b9f3a0d570ba"
      },
      "source": [
        "import pandas as pd\n",
        "\n",
        "word_dict = {\n",
        "    'Apple': '사과',\n",
        "    'Banana': '바나나',\n",
        "    'Carrot': '당근'\n",
        "}\n",
        "\n",
        "frequency_dict = {\n",
        "    'Apple': 3,\n",
        "    'Banana': 5,\n",
        "    'Carrot': 7\n",
        "}\n",
        "\n",
        "word = pd.Series(word_dict)\n",
        "frequency = pd.Series(frequency_dict)\n",
        "\n",
        "summary = pd.DataFrame({\n",
        "    'word': word,\n",
        "    'frequency': frequency\n",
        "})\n",
        "\n",
        "summary.to_csv(\"summary.csv\", encoding=\"utf-8-sig\")\n",
        "saved = pd.read_csv(\"summary.csv\", index_col=0)\n",
        "print(saved)"
      ],
      "execution_count": 8,
      "outputs": [
        {
          "output_type": "stream",
          "text": [
            "       word  frequency\n",
            "Apple    사과          3\n",
            "Banana  바나나          5\n",
            "Carrot   당근          7\n"
          ],
          "name": "stdout"
        }
      ]
    }
  ]
}
