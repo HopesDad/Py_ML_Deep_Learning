{
  "nbformat": 4,
  "nbformat_minor": 0,
  "metadata": {
    "colab": {
      "name": "OpenCV Tracker.ipynb",
      "provenance": [],
      "authorship_tag": "ABX9TyN8tF3qKhaf8v4o3pMNL2Hd"
    },
    "kernelspec": {
      "name": "python3",
      "display_name": "Python 3"
    }
  },
  "cells": [
    {
      "cell_type": "markdown",
      "metadata": {
        "id": "ooL12lW58H8F",
        "colab_type": "text"
      },
      "source": [
        "# OpenCV Tracker\n",
        "\n",
        " - cv2.createTracker(track_bar, name, window_name, value, count, on_change) : Tracker를 생성하는 함수\n",
        "\n",
        "\n",
        "  - value : 초기값\n",
        "  - count_Max 값 (Min L 0)\n",
        "  - on_change : 값이 변경될 때 호출 되는 callback  함수\n",
        "\n",
        "- cv2.getTrackerPos(track_bar, name, window_name) : Tracker로 부터 값을 얻어오는 함수\n",
        "\n",
        "\n"
      ]
    },
    {
      "cell_type": "markdown",
      "metadata": {
        "id": "Pjst-8tP8eH9",
        "colab_type": "text"
      },
      "source": [
        "# OpenCV Tracker\n",
        "- 본 실습은 pyCharm등의 개인 개발환경에서 진행하세요.\n",
        "\n"
      ]
    },
    {
      "cell_type": "code",
      "metadata": {
        "id": "gTjlgazW8jtV",
        "colab_type": "code",
        "colab": {}
      },
      "source": [
        "import cv2\n",
        "import numpy as np\n",
        "\n",
        "def change_color(x):\n",
        "  r = cv2.getTrackbarPos(\"R\", \"Image\")\n",
        "  g = cv2.getTrackbarPos(\"G\", \"Image\")\n",
        "  b = cv2.getTrackbarPos(\"B\", \"Image\")\n",
        "  image[:] = [b, g, r]\n",
        "  cv2.imshow('Image', image)\n",
        "  \n",
        "image = np.zeros((600, 400, 3), np.uint8)\n",
        "cv2.namedWindow(\"Image\")\n",
        "\n",
        "cv2.createTrackbar(\"R\", \"Image\", 0, 255, change_color)\n",
        "cv2.createTrackbar(\"G\", \"Image\", 0, 255, change_color)\n",
        "cv2.createTrackbar(\"B\", \"Image\", 0, 255, change_color)\n",
        "\n",
        "cv2.imshow('Image', image)\n",
        "cv2.waitKey(0)"
      ],
      "execution_count": 0,
      "outputs": []
    }
  ]
}
