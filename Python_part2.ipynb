{
  "nbformat": 4,
  "nbformat_minor": 0,
  "metadata": {
    "colab": {
      "name": "Python_part2.ipynb",
      "provenance": [],
      "collapsed_sections": [],
      "include_colab_link": true
    },
    "kernelspec": {
      "name": "python3",
      "display_name": "Python 3"
    }
  },
  "cells": [
    {
      "cell_type": "markdown",
      "metadata": {
        "id": "view-in-github",
        "colab_type": "text"
      },
      "source": [
        "<a href=\"https://colab.research.google.com/github/Zero-Sik/Python_learning/blob/master/Python_part2.ipynb\" target=\"_parent\"><img src=\"https://colab.research.google.com/assets/colab-badge.svg\" alt=\"Open In Colab\"/></a>"
      ]
    },
    {
      "cell_type": "markdown",
      "metadata": {
        "id": "h4AFQKBrSYF7",
        "colab_type": "text"
      },
      "source": [
        "#주석 \n",
        "-- 파이썬 주석은 이렇게 작성합니다\n"
      ]
    },
    {
      "cell_type": "code",
      "metadata": {
        "id": "RchMMXKqTgbq",
        "colab_type": "code",
        "colab": {}
      },
      "source": [
        "\"\"\"\n",
        "여러줄 주석은 이렇게 작성합니다.\n",
        "\"\"\""
      ],
      "execution_count": 0,
      "outputs": []
    },
    {
      "cell_type": "markdown",
      "metadata": {
        "id": "cmckfTMWTkFa",
        "colab_type": "text"
      },
      "source": [
        "# 변수 - 작성기본"
      ]
    },
    {
      "cell_type": "code",
      "metadata": {
        "id": "FFJgalpzTmW6",
        "colab_type": "code",
        "colab": {}
      },
      "source": [
        "name = 'youngsik'\n",
        "hobby = '달리기'"
      ],
      "execution_count": 0,
      "outputs": []
    },
    {
      "cell_type": "markdown",
      "metadata": {
        "id": "wtZGo7YBTrE6",
        "colab_type": "text"
      },
      "source": [
        "# 변수 - 문자, 숫자\n"
      ]
    },
    {
      "cell_type": "code",
      "metadata": {
        "id": "-cbteSrjTtqD",
        "colab_type": "code",
        "colab": {}
      },
      "source": [
        "name = 'Zero-Sik'\n",
        "# 텍스트 두갤ㄹ 더 하면 문자열이 이어 붙여짐.\n",
        "nick_name = '초보' + 'Zero-Sik'\n"
      ],
      "execution_count": 0,
      "outputs": []
    },
    {
      "cell_type": "markdown",
      "metadata": {
        "id": "Z9mW2QLET5Kt",
        "colab_type": "text"
      },
      "source": [
        "# 숫자 변수\n"
      ]
    },
    {
      "cell_type": "code",
      "metadata": {
        "id": "yQVZf7ejT71i",
        "colab_type": "code",
        "outputId": "81e4e222-1f0b-4d2c-abae-dea11c0ad2c9",
        "colab": {
          "base_uri": "https://localhost:8080/",
          "height": 35
        }
      },
      "source": [
        "my_age = 2\n",
        "my_age + 1 # 3 - 더하기\n",
        "my_age * 3 # 6 - 곱하기\n",
        "my_age /2 # 1 0 나누기\n",
        "my_age ** 10 # 1024 - 거듭제곱\n",
        "my_age % 2 # 0 - 나머지"
      ],
      "execution_count": 0,
      "outputs": [
        {
          "output_type": "execute_result",
          "data": {
            "text/plain": [
              "0"
            ]
          },
          "metadata": {
            "tags": []
          },
          "execution_count": 1
        }
      ]
    },
    {
      "cell_type": "markdown",
      "metadata": {
        "id": "AfzJjjBwJz8h",
        "colab_type": "text"
      },
      "source": [
        "#Part2"
      ]
    },
    {
      "cell_type": "markdown",
      "metadata": {
        "id": "4p4t1LtEJ7mH",
        "colab_type": "text"
      },
      "source": [
        "#조건문 문법\n",
        "\n"
      ]
    },
    {
      "cell_type": "code",
      "metadata": {
        "id": "CRC8SzJdJ-Oa",
        "colab_type": "code",
        "outputId": "5e332832-c1d8-4d5f-b217-81973d984ead",
        "colab": {
          "base_uri": "https://localhost:8080/",
          "height": 35
        }
      },
      "source": [
        "people = 5 \n",
        "apple = 3\n",
        "\n",
        "if people > apple:\n",
        "  print(\"사람이 많아, 사과를 나눠줄 수 없습니다.\")"
      ],
      "execution_count": 0,
      "outputs": [
        {
          "output_type": "stream",
          "text": [
            "사람이 많아, 사과를 나눠줄 수 없습니다.\n"
          ],
          "name": "stdout"
        }
      ]
    },
    {
      "cell_type": "markdown",
      "metadata": {
        "id": "d3EIKpqMKOow",
        "colab_type": "text"
      },
      "source": [
        "#비교\n",
        "\n",
        "\n",
        "### 비교의 결과는 True 또는 False\n",
        "### 숫자 비교\n",
        "    - 크다 \n",
        "      - 0 < 10\n",
        "    - 크거나 같다, 작거나 같다\n",
        "      - 3 <= 10\n",
        "    - 같다\n",
        "      - 5 == 5\n",
        "    - 같지 않다\n",
        "      - 5 != 10\n",
        "### Boolen 연산\n",
        "    - and 연산\n",
        "     - 두 조건이 모두 참인지를 체크\n",
        "    - or\n",
        "     - 두 조건 중 하나라도 참이다.\n",
        "    - not\n",
        "     - true/false를 뒤집기 위해 사용\n"
      ]
    },
    {
      "cell_type": "code",
      "metadata": {
        "id": "M5YMTkRyOSJs",
        "colab_type": "code",
        "outputId": "fabdc4b0-bfe4-4c0f-a2e0-df034ccd4cbf",
        "colab": {
          "base_uri": "https://localhost:8080/",
          "height": 35
        }
      },
      "source": [
        "a = 20\n",
        "\n",
        "# 예) a는 20대이다.\n",
        "20 <= a and a < 30\n",
        "# 예) a는 18세 미만 또는 60세 이상이다.\n",
        "a < 18 or 60 <= a"
      ],
      "execution_count": 0,
      "outputs": [
        {
          "output_type": "execute_result",
          "data": {
            "text/plain": [
              "False"
            ]
          },
          "metadata": {
            "tags": []
          },
          "execution_count": 4
        }
      ]
    },
    {
      "cell_type": "markdown",
      "metadata": {
        "id": "8Z9AJHa5Otpf",
        "colab_type": "text"
      },
      "source": [
        "## else 와 elif\n",
        "\n",
        " ### else\n",
        "   - if의 조건이 맞지 않는 경우 항상 실행\n",
        "   - 반드시 if뒤에 나와야 한다."
      ]
    },
    {
      "cell_type": "code",
      "metadata": {
        "id": "c0Y9CJR7O2dP",
        "colab_type": "code",
        "colab": {}
      },
      "source": [
        "\n",
        "if mine == yours:\n",
        "  result - DRAW\n",
        "else:\n",
        "  result = '이기거나 지거나'"
      ],
      "execution_count": 0,
      "outputs": []
    },
    {
      "cell_type": "markdown",
      "metadata": {
        "id": "Z6_YMdpZOh5a",
        "colab_type": "text"
      },
      "source": [
        "#elif"
      ]
    },
    {
      "cell_type": "code",
      "metadata": {
        "id": "jGKE5fSaL6zw",
        "colab_type": "code",
        "colab": {}
      },
      "source": [
        "#else 와 if의 결합으로 조건이 맞지 않는 경우 다른 경우를 검사\n",
        "# 기능의 차이가 아닌 보이는 것의 차이\n",
        "\n",
        "if mine == SCISSOR:\n",
        "  result = '가위' #조건이 참일 때 실행\n",
        "elif mine == ROCK: \n",
        "  result = '바위' # 다른 조건이 참일 때 실행\n",
        "else:\n",
        "  result = '나머지' # 조건이 거짓일 때 실행.\n",
        "    "
      ],
      "execution_count": 0,
      "outputs": []
    },
    {
      "cell_type": "markdown",
      "metadata": {
        "id": "gJLD1NhDVQRk",
        "colab_type": "text"
      },
      "source": [
        "#매개변수와 실행인자\n",
        "\n",
        "### 매개변수\n",
        "  - 함수를 정의할 때 사용하는 이름\n",
        "\n",
        "### 실행인자\n",
        " - 함수를 실행 할 때 넘기는 변수, 값\n",
        "\n",
        "\n",
        " ## 매개변수와 실행인자\n",
        "  - 매개변수와 실행 인자의 개수는 동일해야 한다.\n",
        "  - 여러 개일 경우 쉼표로 구분"
      ]
    },
    {
      "cell_type": "code",
      "metadata": {
        "id": "4LmYgYrGVuT6",
        "colab_type": "code",
        "colab": {
          "base_uri": "https://localhost:8080/",
          "height": 53
        },
        "outputId": "49b20cc6-bb68-4b3f-981d-703c1dc2421e"
      },
      "source": [
        "# 함수의 영역\n",
        "def print_round(number):\n",
        "  rounded = round(number) # 반올림 함수 round()\n",
        "  print(rounded)\n",
        "\n",
        "\n",
        "# 함수의 호출\n",
        "\n",
        "print_round(4.6) # 5\n",
        "print_round(2.2) # 2"
      ],
      "execution_count": 2,
      "outputs": [
        {
          "output_type": "stream",
          "text": [
            "5\n",
            "2\n"
          ],
          "name": "stdout"
        }
      ]
    },
    {
      "cell_type": "markdown",
      "metadata": {
        "id": "N1h-komwWMeM",
        "colab_type": "text"
      },
      "source": [
        "# 함수 - return\n",
        " - return을 이용해 값을 돌려줄 수 있다."
      ]
    },
    {
      "cell_type": "code",
      "metadata": {
        "id": "2u3LSUwfWS10",
        "colab_type": "code",
        "colab": {}
      },
      "source": [
        "def add_10(value):\n",
        "  result = value + 10\n",
        "  return result\n",
        "  n = add_10(5)\n",
        "  print(n)"
      ],
      "execution_count": 0,
      "outputs": []
    },
    {
      "cell_type": "markdown",
      "metadata": {
        "id": "Q3Lz52JKWabX",
        "colab_type": "text"
      },
      "source": [
        "- 여러 값 변환\n",
        " - return 뒤에 여러 값을 쉼표로 구분해서 값을 보내고, 받을때도 쉼표로 구분하여 받는다."
      ]
    },
    {
      "cell_type": "code",
      "metadata": {
        "id": "GwwVtjnRWfe0",
        "colab_type": "code",
        "colab": {
          "base_uri": "https://localhost:8080/",
          "height": 53
        },
        "outputId": "4537cdef-3e0e-4244-9b23-8dc5c519441b"
      },
      "source": [
        "def add(a, b):\n",
        "  plus = a + b\n",
        "  multiply = a * b\n",
        "  return plus, multiply\n",
        "\n",
        "\n",
        "r1, r2 = add(2, 3)\n",
        "print(r1) # 5\n",
        "print(r2) # 6\n"
      ],
      "execution_count": 6,
      "outputs": [
        {
          "output_type": "stream",
          "text": [
            "5\n",
            "6\n"
          ],
          "name": "stdout"
        }
      ]
    }
  ]
}