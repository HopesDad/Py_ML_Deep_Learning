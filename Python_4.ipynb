{
  "nbformat": 4,
  "nbformat_minor": 0,
  "metadata": {
    "colab": {
      "name": "Python_4.ipynb",
      "provenance": [],
      "collapsed_sections": [],
      "include_colab_link": true
    },
    "kernelspec": {
      "name": "python3",
      "display_name": "Python 3"
    }
  },
  "cells": [
    {
      "cell_type": "markdown",
      "metadata": {
        "id": "view-in-github",
        "colab_type": "text"
      },
      "source": [
        "<a href=\"https://colab.research.google.com/github/Zero-Sik/Python_learning/blob/master/Python_4.ipynb\" target=\"_parent\"><img src=\"https://colab.research.google.com/assets/colab-badge.svg\" alt=\"Open In Colab\"/></a>"
      ]
    },
    {
      "cell_type": "markdown",
      "metadata": {
        "id": "tnypyqh1TIGk",
        "colab_type": "text"
      },
      "source": [
        "# 리스트\n",
        " - 여러개의 값을 담을 수 있는 변수"
      ]
    },
    {
      "cell_type": "code",
      "metadata": {
        "id": "lKupmBP4TLu8",
        "colab_type": "code",
        "colab": {}
      },
      "source": [
        "list1 = [1,2,3,4]"
      ],
      "execution_count": 0,
      "outputs": []
    },
    {
      "cell_type": "markdown",
      "metadata": {
        "id": "Irs1K3jyTNor",
        "colab_type": "text"
      },
      "source": [
        "- 값을 읽어오기\n",
        " - 리스트를 사용할떄는 0번째가 첫번째.\n",
        " - 첫번째 값 list1[0]\n",
        " - 두번째 값 list2[1]\n",
        " - 뒤에서 첫번째 값 list1[-1]\n",
        " - 뒤에서 두번째 값 list1[-1]\n",
        " - 리스트에 들어있는 값 보다 큰 값을 읽어오려고 하면 에러 \n",
        "  - 예) 위의 list1에서 list1[5] 또는 list1[-6]은 에러\n",
        "  - 값 쓰기\n",
        "   - 변수와 같이 list1[0]=10 이라고 하면 list의 첫 번째 값이 10으로 변경"
      ]
    },
    {
      "cell_type": "markdown",
      "metadata": {
        "id": "TdR3z0xPVe4V",
        "colab_type": "text"
      },
      "source": [
        "# 리스트 수정\n",
        " ### 리스트에 새로운 값을 추가하는 방법\n",
        "\n",
        "  - list= [1,2,3] 이라고 할 때 \n",
        "  - .append()를 이용\n",
        "   - list1.append(4)\n",
        "   - append를 이용하면 리스트에 새로운 값이 뒤에 추가\n",
        "   - 자바스크립트의 .push()메소드와 유사한 기능\n",
        "  - 뒤에 새로운 리스트를 더하기\n",
        "   - list2=list1+[4]\n",
        "   - list1은 그대로 두고 새로운 리스트를 만들어 낸다\n",
        "\n",
        "# 리스트에 해당 값이 들어있는지 확인하는 방법\n",
        " - 자바스크립트의 Array.includes(), indexOf() 메소드와 유사한 기능\n",
        " - **in 연산**을 이용"
      ]
    },
    {
      "cell_type": "code",
      "metadata": {
        "id": "EEArygxSV85U",
        "colab_type": "code",
        "colab": {}
      },
      "source": [
        "# 12라는 값이 리스트에 들어있는지 확인 하는 코드\n",
        "\n",
        "list1 = [1,2,3,4]\n",
        "n = 12\n",
        "if n in list1: #Boolean 값 변환\n",
        " print('{}가 리스트에 있다.'.format(n))"
      ],
      "execution_count": 0,
      "outputs": []
    },
    {
      "cell_type": "markdown",
      "metadata": {
        "id": "4wAz4YDRqqJ3",
        "colab_type": "text"
      },
      "source": [
        "- 리스트에서 필요 없는 값을 지우는 방법\n",
        " - del을 이용해서 특정 위치의 값을 지우기\n",
        "  - del list1[10] 리스트의 10번째 값을 지워라\n",
        "  - del (list1[10))\n",
        "- remove를 이용해서 특정 값을 지우기\n",
        " - list1.remove(40)을 하면 리스트에 40이라는 값이 있는 경우 삭제\n",
        " - 여러개의 값이 있는 경우 가장 앞에 있는 하나만 지워짐."
      ]
    },
    {
      "cell_type": "code",
      "metadata": {
        "id": "VSoS4djlq-7q",
        "colab_type": "code",
        "colab": {}
      },
      "source": [
        "list = [1, 5, 10, 15, 20, 10]\n",
        "\n",
        "del(list[1]) # [1, 10, 15, 20, 10, 30]\n",
        "del list[0] # 10, 15, 20, 10 ,30\n",
        "\n",
        "\n",
        "list.remove(15)\n",
        "list.remove(10)"
      ],
      "execution_count": 0,
      "outputs": []
    },
    {
      "cell_type": "markdown",
      "metadata": {
        "id": "lfWdsnnqrWMl",
        "colab_type": "text"
      },
      "source": [
        "- 파아썬 파트 7. for in 반복문, ㄱange, enumerate\n",
        "\n",
        "\n",
        " ### for in list\n",
        "\n",
        "  - 코드를 필요한만큼 반복해서 실행"
      ]
    },
    {
      "cell_type": "code",
      "metadata": {
        "id": "w9F5hflpriY1",
        "colab_type": "code",
        "colab": {
          "base_uri": "https://localhost:8080/",
          "height": 102
        },
        "outputId": "f8ad6ac1-1ce7-4261-d96f-59ca18779e36"
      },
      "source": [
        "list = ['일', '이', '삼', '사', '오']\n",
        "\n",
        "for v in list:\n",
        "   print(v)"
      ],
      "execution_count": 6,
      "outputs": [
        {
          "output_type": "stream",
          "text": [
            "일\n",
            "이\n",
            "삼\n",
            "사\n",
            "오\n"
          ],
          "name": "stdout"
        }
      ]
    },
    {
      "cell_type": "markdown",
      "metadata": {
        "id": "VslaUAEcszHg",
        "colab_type": "text"
      },
      "source": [
        " - 리스트 patterns의 값을 하나씩 꺼내 pattern으로 전달\n",
        " - 리스트의 길이만큼 print(pattern) 실행\n",
        "\n"
      ]
    },
    {
      "cell_type": "markdown",
      "metadata": {
        "id": "9pl8YzX0tAgN",
        "colab_type": "text"
      },
      "source": [
        "# 자바스크립트 for in 과의 차이점"
      ]
    },
    {
      "cell_type": "code",
      "metadata": {
        "id": "jFYYx8qTtDFj",
        "colab_type": "code",
        "colab": {
          "base_uri": "https://localhost:8080/",
          "height": 130
        },
        "outputId": "8cccd4cc-f322-4b2d-9fde-a3187f0c9b34"
      },
      "source": [
        "for (v in list){\n",
        "    console.log(v)\n",
        "}"
      ],
      "execution_count": 7,
      "outputs": [
        {
          "output_type": "error",
          "ename": "SyntaxError",
          "evalue": "ignored",
          "traceback": [
            "\u001b[0;36m  File \u001b[0;32m\"<ipython-input-7-a58fbfb4d64f>\"\u001b[0;36m, line \u001b[0;32m1\u001b[0m\n\u001b[0;31m    for (v in list){\u001b[0m\n\u001b[0m                   ^\u001b[0m\n\u001b[0;31mSyntaxError\u001b[0m\u001b[0;31m:\u001b[0m invalid syntax\n"
          ]
        }
      ]
    },
    {
      "cell_type": "markdown",
      "metadata": {
        "id": "3yl07-PHtKJo",
        "colab_type": "text"
      },
      "source": [
        "# for in range\n",
        "\n",
        "\n",
        " ## range 함수\n",
        "  - 필요한 만큼의 숫자를 만들어내는 유용한 기능\n",
        "  -range([start[,step])는 for문과 함꼐 자주 사용되는 함수이다. 이 함수는 입력 받는 숫자에 해당되는 범위의 값을 반복 가능한 객체로 만들어 리턴 한다.\n",
        "\n",
        "\n",
        "  "
      ]
    },
    {
      "cell_type": "code",
      "metadata": {
        "id": "GcYOAsBMtZbd",
        "colab_type": "code",
        "colab": {
          "base_uri": "https://localhost:8080/",
          "height": 232
        },
        "outputId": "b97a9f15-13cb-4efe-e6b1-0eed7635766f"
      },
      "source": [
        "list(range(5))\n",
        "\n",
        "\n",
        "list(range(5,10))\n",
        "\n",
        "\n",
        "range(1, 10, 3)\n",
        "\n",
        "range(20, 10, -2)"
      ],
      "execution_count": 15,
      "outputs": [
        {
          "output_type": "error",
          "ename": "TypeError",
          "evalue": "ignored",
          "traceback": [
            "\u001b[0;31m---------------------------------------------------------------------------\u001b[0m",
            "\u001b[0;31mTypeError\u001b[0m                                 Traceback (most recent call last)",
            "\u001b[0;32m<ipython-input-15-531193df5f66>\u001b[0m in \u001b[0;36m<module>\u001b[0;34m()\u001b[0m\n\u001b[0;32m----> 1\u001b[0;31m \u001b[0mlist\u001b[0m\u001b[0;34m(\u001b[0m\u001b[0mrange\u001b[0m\u001b[0;34m(\u001b[0m\u001b[0;36m5\u001b[0m\u001b[0;34m)\u001b[0m\u001b[0;34m)\u001b[0m\u001b[0;34m\u001b[0m\u001b[0;34m\u001b[0m\u001b[0m\n\u001b[0m\u001b[1;32m      2\u001b[0m \u001b[0;34m\u001b[0m\u001b[0m\n\u001b[1;32m      3\u001b[0m \u001b[0;34m\u001b[0m\u001b[0m\n\u001b[1;32m      4\u001b[0m \u001b[0mlist\u001b[0m\u001b[0;34m(\u001b[0m\u001b[0mrange\u001b[0m\u001b[0;34m(\u001b[0m\u001b[0;36m5\u001b[0m\u001b[0;34m,\u001b[0m\u001b[0;36m10\u001b[0m\u001b[0;34m)\u001b[0m\u001b[0;34m)\u001b[0m\u001b[0;34m\u001b[0m\u001b[0;34m\u001b[0m\u001b[0m\n\u001b[1;32m      5\u001b[0m \u001b[0;34m\u001b[0m\u001b[0m\n",
            "\u001b[0;31mTypeError\u001b[0m: 'list' object is not callable"
          ]
        }
      ]
    },
    {
      "cell_type": "code",
      "metadata": {
        "id": "MaTd5klVt2Pv",
        "colab_type": "code",
        "colab": {
          "base_uri": "https://localhost:8080/",
          "height": 102
        },
        "outputId": "25fea863-cced-4125-a429-62cfec3cecae"
      },
      "source": [
        "for i in range(5):\n",
        "   print(i)"
      ],
      "execution_count": 16,
      "outputs": [
        {
          "output_type": "stream",
          "text": [
            "0\n",
            "1\n",
            "2\n",
            "3\n",
            "4\n"
          ],
          "name": "stdout"
        }
      ]
    },
    {
      "cell_type": "markdown",
      "metadata": {
        "id": "YKLf1wUXt65b",
        "colab_type": "text"
      },
      "source": [
        "- for in list : 순화할 리스트가 정해져 있을 때 사용\n",
        "- for in range : 순회할 횟수가 정해져 있을 떄 사용"
      ]
    },
    {
      "cell_type": "markdown",
      "metadata": {
        "id": "lVmXl91OuBwR",
        "colab_type": "text"
      },
      "source": [
        "# len 함수\n",
        " - len(s)은 입력값 s의 길이(요소의 전체 개수)를 리턴하는 함수이다.\n",
        "\n",
        " "
      ]
    },
    {
      "cell_type": "code",
      "metadata": {
        "id": "ODgPWaBMtcET",
        "colab_type": "code",
        "colab": {
          "base_uri": "https://localhost:8080/",
          "height": 34
        },
        "outputId": "34f0fdc7-1294-4812-b056-16cb4f108657"
      },
      "source": [
        "len('Python')"
      ],
      "execution_count": 17,
      "outputs": [
        {
          "output_type": "execute_result",
          "data": {
            "text/plain": [
              "6"
            ]
          },
          "metadata": {
            "tags": []
          },
          "execution_count": 17
        }
      ]
    },
    {
      "cell_type": "code",
      "metadata": {
        "id": "B1j5kgIDuLsT",
        "colab_type": "code",
        "colab": {
          "base_uri": "https://localhost:8080/",
          "height": 34
        },
        "outputId": "bbb996c1-6af3-40e1-a3a3-926c7be67d87"
      },
      "source": [
        "len([1,2,3])\n",
        "len((1,'a'))"
      ],
      "execution_count": 19,
      "outputs": [
        {
          "output_type": "execute_result",
          "data": {
            "text/plain": [
              "2"
            ]
          },
          "metadata": {
            "tags": []
          },
          "execution_count": 19
        }
      ]
    },
    {
      "cell_type": "code",
      "metadata": {
        "id": "M547MtkXuNH0",
        "colab_type": "code",
        "colab": {
          "base_uri": "https://localhost:8080/",
          "height": 136
        },
        "outputId": "907c5cb0-43fd-49fa-ef84-9c88165a4011"
      },
      "source": [
        "rainbow=['빨','주','노','초','파','남','보',]\n",
        "\n",
        "for i in range(len(rainbow)):\n",
        "  color = rainbow[i]\n",
        "  print('{}번째 색은 {}'.format(i+1,color))"
      ],
      "execution_count": 25,
      "outputs": [
        {
          "output_type": "stream",
          "text": [
            "1번째 색은 빨\n",
            "2번째 색은 주\n",
            "3번째 색은 노\n",
            "4번째 색은 초\n",
            "5번째 색은 파\n",
            "6번째 색은 남\n",
            "7번째 색은 보\n"
          ],
          "name": "stdout"
        }
      ]
    },
    {
      "cell_type": "markdown",
      "metadata": {
        "id": "k7UocAxovFD-",
        "colab_type": "text"
      },
      "source": [
        "# enumerate 함수\n",
        " - 리스트가 있는 경우 순서와 리스트의 값을 전달하는 기능\n",
        " - enumerate는 \"열거하다\"라는 뜻이다. 이 함수는 순서가 있는 자료형(리스트, 튜플, 문자열)을 입력으로 받아 인덱스 값을 포함하는 enumerate 객체를 리턴한다.\n",
        " - 보통 enumerate 함수는 아래 예제처럼 For문과 함께 자주 사용된다."
      ]
    },
    {
      "cell_type": "code",
      "metadata": {
        "id": "OG_s0hKrvYEg",
        "colab_type": "code",
        "colab": {
          "base_uri": "https://localhost:8080/",
          "height": 68
        },
        "outputId": "d5143390-32d1-4ecb-8799-3845e094c3fc"
      },
      "source": [
        "for i, name in enumerate(['body','foo','bar']):\n",
        "   print(i, name)  # 이 함수를 같이 써줄 경우 인데스 값 포함하는 객체를 리턴."
      ],
      "execution_count": 26,
      "outputs": [
        {
          "output_type": "stream",
          "text": [
            "0 body\n",
            "1 foo\n",
            "2 bar\n"
          ],
          "name": "stdout"
        }
      ]
    },
    {
      "cell_type": "markdown",
      "metadata": {
        "id": "jKP7d5LWvpdk",
        "colab_type": "text"
      },
      "source": [
        "- for문처럼 반복되는 구간에서 객체가 현재 어느 위치에 있는지 알려주는 인덱스 값이 필요할 때 enumerate 함수를 사용하면 매우 유용하다"
      ]
    },
    {
      "cell_type": "code",
      "metadata": {
        "id": "FHtAWqgCvvrG",
        "colab_type": "code",
        "colab": {
          "base_uri": "https://localhost:8080/",
          "height": 68
        },
        "outputId": "5d7dda94-2ed6-443e-999a-237e78f13c35"
      },
      "source": [
        "names = ['철수', '영희','영수']\n",
        "for i, name in enumerate(names):\n",
        "  print('{}번: {}'.format(i+1,name))"
      ],
      "execution_count": 27,
      "outputs": [
        {
          "output_type": "stream",
          "text": [
            "1번: 철수\n",
            "2번: 영희\n",
            "3번: 영수\n"
          ],
          "name": "stdout"
        }
      ]
    },
    {
      "cell_type": "code",
      "metadata": {
        "id": "v8LCJ6Y7uanr",
        "colab_type": "code",
        "colab": {}
      },
      "source": [
        ""
      ],
      "execution_count": 0,
      "outputs": []
    },
    {
      "cell_type": "markdown",
      "metadata": {
        "id": "gWPFTD37xF_O",
        "colab_type": "text"
      },
      "source": [
        ""
      ]
    }
  ]
}