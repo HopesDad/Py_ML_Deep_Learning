{
  "nbformat": 4,
  "nbformat_minor": 0,
  "metadata": {
    "colab": {
      "name": "Python_4.ipynb",
      "provenance": [],
      "include_colab_link": true
    },
    "kernelspec": {
      "name": "python3",
      "display_name": "Python 3"
    }
  },
  "cells": [
    {
      "cell_type": "markdown",
      "metadata": {
        "id": "view-in-github",
        "colab_type": "text"
      },
      "source": [
        "<a href=\"https://colab.research.google.com/github/Zero-Sik/Python_learning/blob/master/Python_4.ipynb\" target=\"_parent\"><img src=\"https://colab.research.google.com/assets/colab-badge.svg\" alt=\"Open In Colab\"/></a>"
      ]
    },
    {
      "cell_type": "markdown",
      "metadata": {
        "id": "tnypyqh1TIGk",
        "colab_type": "text"
      },
      "source": [
        "# 리스트\n",
        " - 여러개의 값을 담을 수 있는 변수"
      ]
    },
    {
      "cell_type": "code",
      "metadata": {
        "id": "lKupmBP4TLu8",
        "colab_type": "code",
        "colab": {}
      },
      "source": [
        "List = [1,2,3,4]"
      ],
      "execution_count": 0,
      "outputs": []
    },
    {
      "cell_type": "markdown",
      "metadata": {
        "id": "Irs1K3jyTNor",
        "colab_type": "text"
      },
      "source": [
        "- 값을 읽어오기\n",
        " - 리스트를 사용할떄는 0번째가 첫번째.\n",
        " - 첫번째 값 list1[0]\n",
        " - 두번째 값 list2[1]\n",
        " - 뒤에서 첫번째 값 list1[-1]\n",
        " - 뒤에서 두번째 값 list1[-1]\n",
        " - 리스트에 들어있는 값 보다 큰 값을 읽어오려고 하면 에러 \n",
        "  - 예) 위의 list1에서 list1[5] 또는 list1[-6]은 에러\n",
        "  - 값 쓰기\n",
        "   - 변수와 같이 list1[0]=10 이라고 하면 list의 첫 번째 값이 10으로 변경"
      ]
    },
    {
      "cell_type": "markdown",
      "metadata": {
        "id": "TdR3z0xPVe4V",
        "colab_type": "text"
      },
      "source": [
        "# 리스트 수정\n",
        " ### 리스트에 새로운 값을 추가하는 방법\n",
        "\n",
        "  - list= [1,2,3] 이라고 할 때 \n",
        "  - .append()를 이용\n",
        "   - list1.append(4)\n",
        "   - append를 이용하면 리스트에 새로운 값이 뒤에 추가\n",
        "   - 자바스크립트의 .push()메소드와 유사한 기능\n",
        "  - 뒤에 새로운 리스트를 더하기\n",
        "   - list2=list1+[4]\n",
        "   - list1은 그대로 두고 새로운 리스트를 만들어 낸다\n",
        "\n",
        "# 리스트에 해당 값이 들어있는지 확인하는 방법\n",
        " - 자바스크립트의 Array.includes(), indexOf() 메소드와 유사한 기능\n",
        " - **in 연산**을 이용"
      ]
    },
    {
      "cell_type": "code",
      "metadata": {
        "id": "EEArygxSV85U",
        "colab_type": "code",
        "outputId": "275abe4a-7a7e-44b1-92d1-de8f1ea65243",
        "colab": {
          "base_uri": "https://localhost:8080/",
          "height": 208
        }
      },
      "source": [
        "# 12라는 값이 리스트에 들어있는지 확인 하는 코드\n",
        "n = 12\n",
        "if n in List: #Boolean 값 변환\n",
        " print('{}가 리스트에 있다.'.format(N))"
      ],
      "execution_count": 0,
      "outputs": [
        {
          "output_type": "error",
          "ename": "NameError",
          "evalue": "ignored",
          "traceback": [
            "\u001b[0;31m---------------------------------------------------------------------------\u001b[0m",
            "\u001b[0;31mNameError\u001b[0m                                 Traceback (most recent call last)",
            "\u001b[0;32m<ipython-input-2-9794f8b3d970>\u001b[0m in \u001b[0;36m<module>\u001b[0;34m()\u001b[0m\n\u001b[1;32m      1\u001b[0m \u001b[0mN\u001b[0m \u001b[0;34m=\u001b[0m \u001b[0;36m12\u001b[0m\u001b[0;34m\u001b[0m\u001b[0;34m\u001b[0m\u001b[0m\n\u001b[0;32m----> 2\u001b[0;31m \u001b[0;32mif\u001b[0m \u001b[0mN\u001b[0m \u001b[0;32min\u001b[0m \u001b[0mList\u001b[0m\u001b[0;34m:\u001b[0m \u001b[0;31m#Boolean 값 변환\u001b[0m\u001b[0;34m\u001b[0m\u001b[0;34m\u001b[0m\u001b[0m\n\u001b[0m\u001b[1;32m      3\u001b[0m  \u001b[0mprint\u001b[0m\u001b[0;34m(\u001b[0m\u001b[0;34m'{}가 리스트에 있다.'\u001b[0m\u001b[0;34m.\u001b[0m\u001b[0mformat\u001b[0m\u001b[0;34m(\u001b[0m\u001b[0mN\u001b[0m\u001b[0;34m)\u001b[0m\u001b[0;34m)\u001b[0m\u001b[0;34m\u001b[0m\u001b[0;34m\u001b[0m\u001b[0m\n",
            "\u001b[0;31mNameError\u001b[0m: name 'List' is not defined"
          ]
        }
      ]
    }
  ]
}