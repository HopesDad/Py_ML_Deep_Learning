{
  "nbformat": 4,
  "nbformat_minor": 0,
  "metadata": {
    "colab": {
      "name": "DataScience_Skill.ipynb",
      "provenance": [],
      "authorship_tag": "ABX9TyPY9KasA2ovgHorO7uKHd2z"
    },
    "kernelspec": {
      "name": "python3",
      "display_name": "Python 3"
    }
  },
  "cells": [
    {
      "cell_type": "markdown",
      "metadata": {
        "id": "8qGyEgcGOgPr",
        "colab_type": "text"
      },
      "source": [
        "## [Data Science / Posts]  데이터 과학들이 사용하는 40가지 기술\n",
        "\n",
        "2020 01. 18\n",
        "> 이 글에서 소개되는 기술들은 대부분의 데이터 과학자 및 관련 업계 종사자들이 매일의 업무에 사용하는 기술로써 벤더가 제공하거나 직접 설계해서 쓰는 툴들이다.\n",
        "이들 대부분의 글들은 구글 검색으로는 찾기 어렵기 때문에 데이터 과학, 머신러닝, 통계 과학에 대한 숨은 문헌에 접근하는 것이 된다. 이들 중 대다수는 논의가 되고 있는 기술에 대한 근본적인 이해를 돕고자 하는 것이며, 심도있는 참고문헌 및 소스코드를 제공한다.\n",
        "\n",
        "\n",
        "\n",
        "\n",
        "> 별표(*(가 되어있는 기술들응ㄴ 소위 딥 데이터 과학(Deep Data Sciecne)에 속하며, 이는 머신러닝, 컴퓨터 과학, 오퍼레이션 연구, 수학, 통계학 등의 분야와 조그밍라도 겹치는 데이터 과학의 한 분야이다. 클러스터링(Clustering), 밀도 평가(Density Estimation), 가설 평가 등과 같은 전통적인 머신러닝과 통계 기술도 자동화 처리를 위해 설계된 무모델(Model-free), 데이터에 따르는(Data-driven), 강건화 기술버전이므로 이들 또한 딥 데이터 과학에 속한다고 할 수 있다. 그러나, 이 기술들은 여기에서는 별표로 마크하지 않았는데, 이 기술들의 표준 버전이 딥 데이터 과학과 동등한 수준이상으로 잘 알려져(불행히도 더 많이 사용 되고) 있기 때문이다. 딥 데이터 과학에 대해 자세하게 알고 싶으면 [여기](https://www.datasciencecentral.com/profiles/blogs/variance-clustering-test-of-hypotheses-and-density-estimation-rev)를 클릭하시면 됩니다. 딥 러닝과는 다르게 딥 데이터 과학은 데이터 과학 및 인공지능과의 교차점에 있지 않다. 그러나, 딥 데이터 과학과 딥 러닝 모두 자동화를 다룬다는 점에서 이들 사이의 유사성이 완전히 의미가 없는 것은 아니다.\n",
        "\n",
        "\n",
        "\n",
        "\n",
        "---\n",
        "아래 40개의 기술들이 사용되는 맥락 및 응용분야에 대해 알고자 한다면 다음 글들을 읽어볼 것을 권장한다.\n",
        "\n",
        "- [아마존이 사업을 운영하기 위해 사용하는 21가지 데이터 과학 시스템](http://www.datasciencecentral.com/profiles/blogs/20-data-science-systems-used-by-amazon-to-operate-its-business)\n",
        "- [통계 모델링의 24가지 사용 유형](http://www.datasciencecentral.com/profiles/blogs/top-20-uses-of-statistical-modeling)\n",
        "\n",
        "마지막으로, 기술 사용 시, 성능을 테스트해 볼 필요가 있다. [모든 사람이 알아야 할 11가지 중요한 ]\n",
        "\n",
        "\n",
        "\n",
        "\n",
        "\n",
        "\n",
        "\n",
        "\n",
        "\n",
        "\n",
        "\n",
        "\n",
        "\n",
        "\n",
        "\n",
        "\n"
      ]
    }
  ]
}