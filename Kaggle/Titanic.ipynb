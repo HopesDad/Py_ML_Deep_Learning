{
  "nbformat": 4,
  "nbformat_minor": 0,
  "metadata": {
    "colab": {
      "name": "Titanic.ipynb",
      "provenance": []
    },
    "kernelspec": {
      "name": "python3",
      "display_name": "Python 3"
    }
  },
  "cells": [
    {
      "cell_type": "markdown",
      "metadata": {
        "id": "-T1hAr3w6Aar",
        "colab_type": "text"
      },
      "source": [
        "# Titanic Machine Learning from Disaster\n",
        "\n",
        "\n",
        "\n"
      ]
    },
    {
      "cell_type": "markdown",
      "metadata": {
        "id": "YoFapinI93F_",
        "colab_type": "text"
      },
      "source": [
        "# - Introduction \n",
        " - This is my first work of machine learning. the Colab is written in python and has inspired from \"Exploring Survival on Titanic\" by Megan Risdal, a Kermel in R on kaggle"
      ]
    },
    {
      "cell_type": "markdown",
      "metadata": {
        "id": "NxSDkQANUkJN",
        "colab_type": "text"
      },
      "source": [
        "# Feature Engineering\n",
        "\n",
        "\n",
        "\n",
        "\n",
        "\n",
        "### 1. Pclass\n",
        " - there is no missing value on this feature and already a numerical value. so let's check it's impact on our train set.\n",
        " "
      ]
    },
    {
      "cell_type": "markdown",
      "metadata": {
        "id": "rdqfJ99vUwku",
        "colab_type": "text"
      },
      "source": [
        "### 2. Sex"
      ]
    },
    {
      "cell_type": "markdown",
      "metadata": {
        "id": "8Auac2S2Uym_",
        "colab_type": "text"
      },
      "source": [
        "### SibSp and Parch\n",
        " - With the number of sibing/spouse and the number of children/parents we can create new feature called Familt Size."
      ]
    },
    {
      "cell_type": "markdown",
      "metadata": {
        "id": "BzEu46sEVP8x",
        "colab_type": "text"
      },
      "source": [
        "### 4. Embarked\n",
        " -the embarked feature has some missing value. and we try to fill those with the most occurred value ( 'S' )."
      ]
    },
    {
      "cell_type": "markdown",
      "metadata": {
        "id": "eeqoVPwKVTtv",
        "colab_type": "text"
      },
      "source": [
        "### Fare\n",
        "- Fare also has some missing value and we will replace it with the median. then we categorize it into 4 ranges."
      ]
    },
    {
      "cell_type": "markdown",
      "metadata": {
        "id": "8bUvvgilVXAi",
        "colab_type": "text"
      },
      "source": [
        "### Age\n",
        "- we have plenty of missing values in this feature. # generate random numbers between (mean - std) and (mean + std). then we categorize age into 5 range."
      ]
    },
    {
      "cell_type": "markdown",
      "metadata": {
        "id": "xjbn05F2VbeS",
        "colab_type": "text"
      },
      "source": [
        "### Name\n",
        " - inside this feature we can find the title of people."
      ]
    },
    {
      "cell_type": "markdown",
      "metadata": {
        "id": "M-VUlrXGVjAP",
        "colab_type": "text"
      },
      "source": [
        "## Data Cleaning"
      ]
    },
    {
      "cell_type": "markdown",
      "metadata": {
        "id": "DthtzvdSVk2-",
        "colab_type": "text"
      },
      "source": [
        "## Classifier Comparison"
      ]
    },
    {
      "cell_type": "markdown",
      "metadata": {
        "id": "z0hxS65ZVn2G",
        "colab_type": "text"
      },
      "source": [
        "## Prediction "
      ]
    }
  ]
}
