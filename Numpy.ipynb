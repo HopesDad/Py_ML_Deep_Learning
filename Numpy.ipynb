{
  "nbformat": 4,
  "nbformat_minor": 0,
  "metadata": {
    "colab": {
      "name": "Numpy.ipynb",
      "provenance": [],
      "authorship_tag": "ABX9TyON2zNtSARdizooRnjeuXjw"
    },
    "kernelspec": {
      "name": "python3",
      "display_name": "Python 3"
    }
  },
  "cells": [
    {
      "cell_type": "markdown",
      "metadata": {
        "id": "jkFlEMyTrJ5F",
        "colab_type": "text"
      },
      "source": [
        "## Numpy의 기본 사용법\n",
        "\n",
        "\n",
        "- Python의 Numpy 라이브러리는 List와 상호 변환이 가능합니다.\n",
        "\n",
        "\n"
      ]
    },
    {
      "cell_type": "code",
      "metadata": {
        "id": "IiXUZfP2rGH6",
        "colab_type": "code",
        "colab": {
          "base_uri": "https://localhost:8080/",
          "height": 72
        },
        "outputId": "cb339997-8de8-4fe1-beae-824afcf9dfad"
      },
      "source": [
        "import numpy as np\n",
        "\n",
        "array =np.array([1,2,3])\n",
        "\n",
        "print(array.size)#배열의 크기\n",
        "print(array.dtype) # 배열 원소의 타입\n",
        "print(array[2]) # 인덱스 2의 원소"
      ],
      "execution_count": 2,
      "outputs": [
        {
          "output_type": "stream",
          "text": [
            "3\n",
            "int64\n",
            "3\n"
          ],
          "name": "stdout"
        }
      ]
    },
    {
      "cell_type": "markdown",
      "metadata": {
        "id": "uF98kHlfrtwS",
        "colab_type": "text"
      },
      "source": [
        "- python의 numpy 라이브러리는 다양한 형태의 배열을 초기화 할 수 있습니다.\n"
      ]
    },
    {
      "cell_type": "code",
      "metadata": {
        "id": "1I8ta3sBryXS",
        "colab_type": "code",
        "colab": {
          "base_uri": "https://localhost:8080/",
          "height": 363
        },
        "outputId": "655312d1-f1b4-4e82-b52a-658a66c79a6d"
      },
      "source": [
        "import numpy as np\n",
        "\n",
        "# 0부터 3까지의 배열 만들기\n",
        "array1= np.arange(4)\n",
        "print(array1)\n",
        "print(\"---------------------------\")\n",
        "# 0으로 초기화\n",
        "array2 = np.zeros((4, 4), dtype=float)\n",
        "print(array2)\n",
        "print(\"---------------------------\")\n",
        "# 1으로 초기화\n",
        "array3 = np.ones((3,3), dtype=str)\n",
        "print(array3)\n",
        "print(\"---------------------------\")\n",
        "#0부터 9까지 랜덤하게 초기화 된 배열 만들기\n",
        "array4 = np.random.randint(0, 10, (3,3))\n",
        "print(array4)\n",
        "print(\"---------------------------\")\n",
        "# 평균이 0이고 표준편차가 1인 표준 정규를 띄는 배열\n",
        "array5 = np.random.normal(0, 1, (3,3))\n",
        "print(array5)\n",
        "print(\"---------------------------\")"
      ],
      "execution_count": 9,
      "outputs": [
        {
          "output_type": "stream",
          "text": [
            "[0 1 2 3]\n",
            "---------------------------\n",
            "[[0. 0. 0. 0.]\n",
            " [0. 0. 0. 0.]\n",
            " [0. 0. 0. 0.]\n",
            " [0. 0. 0. 0.]]\n",
            "---------------------------\n",
            "[['1' '1' '1']\n",
            " ['1' '1' '1']\n",
            " ['1' '1' '1']]\n",
            "---------------------------\n",
            "[[1 8 9]\n",
            " [4 5 9]\n",
            " [7 1 8]]\n",
            "---------------------------\n",
            "[[ 0.07931999  0.48483521  0.70892108]\n",
            " [-1.20662629  0.0976613   0.14072396]\n",
            " [ 1.09079489  0.57082042  0.69017678]]\n",
            "---------------------------\n"
          ],
          "name": "stdout"
        }
      ]
    },
    {
      "cell_type": "markdown",
      "metadata": {
        "id": "nIsFx8Gezsyk",
        "colab_type": "text"
      },
      "source": [
        "- Numpy는 다양한 형태로 합치기를 할 수 있다."
      ]
    },
    {
      "cell_type": "code",
      "metadata": {
        "id": "90hXkz4_zxdZ",
        "colab_type": "code",
        "colab": {
          "base_uri": "https://localhost:8080/",
          "height": 54
        },
        "outputId": "c80aca37-5b92-47a4-c2bf-f7de653fd2c7"
      },
      "source": [
        "import numpy as np\n",
        "\n",
        "array1 = np.array([1,2,3])\n",
        "array2 = np.array([4,5,6])\n",
        "array3 = np.concatenate([array1, array2])\n",
        "\n",
        "\n",
        "print(array3.shape)\n",
        "print(array3)"
      ],
      "execution_count": 10,
      "outputs": [
        {
          "output_type": "stream",
          "text": [
            "(6,)\n",
            "[1 2 3 4 5 6]\n"
          ],
          "name": "stdout"
        }
      ]
    },
    {
      "cell_type": "markdown",
      "metadata": {
        "id": "EaE5b7EF0Bos",
        "colab_type": "text"
      },
      "source": [
        " - Numpy를 위 아래로 합칠 수 있습니다.\n",
        " "
      ]
    },
    {
      "cell_type": "code",
      "metadata": {
        "id": "z3-4vEDN0EP5",
        "colab_type": "code",
        "colab": {
          "base_uri": "https://localhost:8080/",
          "height": 90
        },
        "outputId": "b8383cc1-15a7-47aa-bae4-6089af3a3c8e"
      },
      "source": [
        "import numpy as np\n",
        "import numpy as np\n",
        "\n",
        "array1 = np.arange(4).reshape(1,4)\n",
        "array2 = np.arange(8).reshape(2,4)\n",
        "array3 = np.concatenate([array1, array2], axis=0)\n",
        "\n",
        "print(array3.shape)\n",
        "print(array3)"
      ],
      "execution_count": 11,
      "outputs": [
        {
          "output_type": "stream",
          "text": [
            "(3, 4)\n",
            "[[0 1 2 3]\n",
            " [0 1 2 3]\n",
            " [4 5 6 7]]\n"
          ],
          "name": "stdout"
        }
      ]
    },
    {
      "cell_type": "markdown",
      "metadata": {
        "id": "rvDjPMzy0cYO",
        "colab_type": "text"
      },
      "source": [
        "- Numpy의 형태를 변경할 수 있습니다.\n"
      ]
    },
    {
      "cell_type": "code",
      "metadata": {
        "id": "VlweDdai0eQR",
        "colab_type": "code",
        "colab": {
          "base_uri": "https://localhost:8080/",
          "height": 35
        },
        "outputId": "05c56106-0d50-4c53-f0c6-dfb64dbcc507"
      },
      "source": [
        "import numpy as np\n",
        "\n",
        "array1 = np.array([1,2,3,4])\n",
        "array2 = array1.reshape((2,2))\n",
        "\n",
        "print(array2.shape)"
      ],
      "execution_count": 13,
      "outputs": [
        {
          "output_type": "stream",
          "text": [
            "(2, 2)\n"
          ],
          "name": "stdout"
        }
      ]
    },
    {
      "cell_type": "markdown",
      "metadata": {
        "id": "LQaWedhD09yA",
        "colab_type": "text"
      },
      "source": [
        "- Numpy의 형태를 나누기 할 수 있습니다.\n"
      ]
    },
    {
      "cell_type": "code",
      "metadata": {
        "id": "H_hTuvs50_cZ",
        "colab_type": "code",
        "colab": {
          "base_uri": "https://localhost:8080/",
          "height": 72
        },
        "outputId": "39d73e05-3bc3-4224-8aef-448fd9431c45"
      },
      "source": [
        "import numpy as np\n",
        "\n",
        "array = np.arange(8).reshape(2,4)\n",
        "left, right = np.split(array, [2], axis=1)\n",
        "\n",
        "print(left.shape)\n",
        "print(right.shape)\n",
        "print(right[1][1])"
      ],
      "execution_count": 15,
      "outputs": [
        {
          "output_type": "stream",
          "text": [
            "(2, 2)\n",
            "(2, 2)\n",
            "7\n"
          ],
          "name": "stdout"
        }
      ]
    }
  ]
}