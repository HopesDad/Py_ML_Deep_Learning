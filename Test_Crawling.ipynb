{
  "nbformat": 4,
  "nbformat_minor": 0,
  "metadata": {
    "colab": {
      "name": "Test_Crawling.ipynb",
      "provenance": [],
      "collapsed_sections": [],
      "authorship_tag": "ABX9TyPKnv6NJVmUtW4OsuVYm3uP"
    },
    "kernelspec": {
      "name": "python3",
      "display_name": "Python 3"
    }
  },
  "cells": [
    {
      "cell_type": "code",
      "metadata": {
        "id": "gHfxgaEeUHbj",
        "colab_type": "code",
        "colab": {
          "base_uri": "https://localhost:8080/",
          "height": 91
        },
        "outputId": "57e1a341-d902-4322-fee1-2f397ac76320"
      },
      "source": [
        "pip install BeautifulSoup"
      ],
      "execution_count": 6,
      "outputs": [
        {
          "output_type": "stream",
          "text": [
            "Collecting BeautifulSoup\n",
            "  Downloading https://files.pythonhosted.org/packages/40/f2/6c9f2f3e696ee6a1fb0e4d7850617e224ed2b0b1e872110abffeca2a09d4/BeautifulSoup-3.2.2.tar.gz\n",
            "\u001b[31mERROR: Command errored out with exit status 1: python setup.py egg_info Check the logs for full command output.\u001b[0m\n"
          ],
          "name": "stdout"
        }
      ]
    },
    {
      "cell_type": "code",
      "metadata": {
        "id": "KNhuXrSclntZ",
        "colab_type": "code",
        "colab": {
          "base_uri": "https://localhost:8080/",
          "height": 35
        },
        "outputId": "356fbd50-e74b-44db-efdc-a9f8ec032a47"
      },
      "source": [
        "import requests\n",
        "from bs4 import BeautifulSoup\n",
        " \n",
        "url =  \"https://finance.naver.com/item/main.nhn?code=263750\"\n",
        "result = requests.get(url)\n",
        "bs_obj = BeautifulSoup(result.content, \"html.parser\")\n",
        " \n",
        "no_today = bs_obj.find(\"p\", {\"class\": \"no_today\"}) # 태그 p, 속성값 no_today 찾기\n",
        "blind = no_today.find(\"span\", {\"class\": \"blind\"}) # 태그 span, 속성값 blind 찾기\n",
        "now_price = blind.text\n",
        " \n",
        "print(now_price)"
      ],
      "execution_count": 18,
      "outputs": [
        {
          "output_type": "stream",
          "text": [
            "200,900\n"
          ],
          "name": "stdout"
        }
      ]
    },
    {
      "cell_type": "code",
      "metadata": {
        "id": "k2r0FmqjjGwM",
        "colab_type": "code",
        "colab": {
          "base_uri": "https://localhost:8080/",
          "height": 71
        },
        "outputId": "7f407993-73c6-4542-f409-d01a2370a915"
      },
      "source": [
        "import requests\n",
        "from bs4 import BeautifulSoup\n",
        " \n",
        "# company_code를 입력받아 bs_obj를 출력\n",
        "def get_bs_obj(company_code):\n",
        "    url = \"https://finance.naver.com/item/main.nhn?code=\"+ company_code\n",
        "    result = requests.get(url)\n",
        "    bs_obj = BeautifulSoup(result.content, \"html.parser\")\n",
        "    return bs_obj\n",
        " \n",
        "# company_code를 입력받아 now_price를 출력\n",
        "def get_price(company_code):\n",
        "    bs_obj = get_bs_obj(company_code)\n",
        "    no_today = bs_obj.find(\"p\", {\"class\": \"no_today\"})\n",
        "    blind = no_today.find(\"span\", {\"class\": \"blind\"})\n",
        "    now_price = blind.text\n",
        "    return now_price\n",
        " \n",
        "# 펄어비스 회사 코드 \"263750\"\n",
        "# 삼성전자 회사 코드 \"005930\"\n",
        "# 셀트리온 회사 코드 \"068270\"\n",
        "\n",
        "company_codes = [\"263750\", \"005930\", \"068270\"]\n",
        "\n",
        "for item in company_codes:\n",
        "  now_price = get_price(item)\n",
        "  print(now_price)\n",
        "\n",
        "  #이 세가지의 주가를 알수 있다.\n",
        "\n",
        "  \n"
      ],
      "execution_count": 23,
      "outputs": [
        {
          "output_type": "stream",
          "text": [
            "200,900\n",
            "50,400\n",
            "211,000\n"
          ],
          "name": "stdout"
        }
      ]
    },
    {
      "cell_type": "code",
      "metadata": {
        "id": "e1Vk5Ntmo56B",
        "colab_type": "code",
        "colab": {
          "base_uri": "https://localhost:8080/",
          "height": 35
        },
        "outputId": "5f8ac5c9-3448-4f58-b48c-837fb184146b"
      },
      "source": [
        "# 특정 종목의 봉차트 데이터 받아오기\n",
        "\n",
        "#펄어비스 : 전일, 고가, 시가, 저가, 주시 데이터 뽑아오기\n",
        " # 데이터의 위치를 개발자 도구를 사용함. \n",
        "\n",
        " \n",
        "import requests\n",
        "from bs4 import BeautifulSoup\n",
        "\n",
        "url = \"https://finance.naver.com/item/main.nhn?code=263750\"\n",
        "reuslt = requests.get(url)\n",
        "bs_obj = BeautifulSoup(result.content, \"html.parser\")\n",
        "\n",
        "td_first = bs_obj.find(\"td\", {\"class\": \"first\"})  # 태그 td, 속성값 first 찾기\n",
        "blind = td_first.find(\"span\", {\"class\": \"blind\"})  # 태그 span, 속성값 blind 찾기\n",
        "close = blind.text\n",
        " \n",
        "print(close)"
      ],
      "execution_count": 24,
      "outputs": [
        {
          "output_type": "stream",
          "text": [
            "206,800\n"
          ],
          "name": "stdout"
        }
      ]
    },
    {
      "cell_type": "code",
      "metadata": {
        "id": "Aa7My_ltqRj9",
        "colab_type": "code",
        "colab": {
          "base_uri": "https://localhost:8080/",
          "height": 89
        },
        "outputId": "0e8efd6d-2a89-4f86-fb33-de0bd28851c7"
      },
      "source": [
        "import requests\n",
        "from bs4 import BeautifulSoup\n",
        "\n",
        "ulr = \"https://finance.naver.com/item/main.nhn?code=263750\"\n",
        "reuslt = requests.get(url)\n",
        "bs_obj = BeautifulSoup(result.content, \"html.parser\")\n",
        "\n",
        "#close 종가(전일)\n",
        "\n",
        "td_first = bs_obj.find(\"td\", {\"class\": \"first\"})  # 태그 td, 속성값 first 찾기\n",
        "blind = td_first.find(\"span\", {\"class\": \"blind\"})  # 태그 span, 속성값 blind 찾기\n",
        "close = blind.text\n",
        "\n",
        "#high 고가\n",
        "\n",
        "table = bs_obj.find(\"table\", {\"class\": \"no_info\"}) #태그 table, 속성값 no_info 찾기\n",
        "trs = table.find_all(\"tr\") #tr를 list로 []\n",
        "first_tr = trs[0] # 첫 번째 tr지점\n",
        "tds = first_tr.find_all(\"td\") # 첫번째 tr안에서 td를 list로\n",
        "second_tds = tds[1] # 두 번째 td지정\n",
        "high = second_tds.find(\"span\", {\"class\": \"blind\"}).text\n",
        "\n",
        "\n",
        "#Open 시기\n",
        "\n",
        "second_tr = trs[1] # 두 번째 tr 지정\n",
        "tds_second_tr = second_tr.find_all(\"td\") # 두 번째 tr 안에서 td를 list로\n",
        "first_td_in_second_tr = tds_second_tr[0] # 첫 번째 td 지정\n",
        "\n",
        "open = first_td_in_second_tr.find(\"span\", {\"class\" : \"blind\"}).next\n",
        "\n",
        "\n",
        "# low 저가\n",
        "second_td_in_second_tr = tds_second_tr[1] # 두 번째 td 지정\n",
        "low = second_td_in_second_tr.find(\"span\", {\"class\" : \"blind\"}).next\n",
        "\n",
        "print(close)\n",
        "print(high)\n",
        "print(open)\n",
        "print(low)\n"
      ],
      "execution_count": 25,
      "outputs": [
        {
          "output_type": "stream",
          "text": [
            "206,800\n",
            "208,000\n",
            "206,500\n",
            "199,000\n"
          ],
          "name": "stdout"
        }
      ]
    }
  ]
}