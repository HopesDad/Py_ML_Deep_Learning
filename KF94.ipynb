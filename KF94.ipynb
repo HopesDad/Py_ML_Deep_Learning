{
  "nbformat": 4,
  "nbformat_minor": 0,
  "metadata": {
    "colab": {
      "name": "KF94.ipynb",
      "provenance": [],
      "authorship_tag": "ABX9TyNGA2SIlBNUajfv/if9IOxd",
      "include_colab_link": true
    },
    "kernelspec": {
      "name": "python3",
      "display_name": "Python 3"
    }
  },
  "cells": [
    {
      "cell_type": "markdown",
      "metadata": {
        "id": "view-in-github",
        "colab_type": "text"
      },
      "source": [
        "<a href=\"https://colab.research.google.com/github/youngsikwon/Py_ML_Deep_Learning/blob/master/KF94.ipynb\" target=\"_parent\"><img src=\"https://colab.research.google.com/assets/colab-badge.svg\" alt=\"Open In Colab\"/></a>"
      ]
    },
    {
      "cell_type": "markdown",
      "metadata": {
        "id": "wUirVYuyEL9x",
        "colab_type": "text"
      },
      "source": [
        ">  코로나 바이러스 때문에, 마스크 대란이 일어났다...<br>\n",
        "kf94 마스크를 판매하는 사이트를 크롤링하여 텔레그램 봇을 통해 notify를 구현했다.<br>\n",
        "kf94 재고가 있으면 notify 하게끔 구현했다...\n",
        "\n",
        "\n",
        "\n",
        "# 라이브러리\n",
        " - selenium\n",
        " - telegram\n",
        " - yaml\n",
        "\n",
        " # 현재 크롤링 하는 사이트\n",
        "  - 웰킵스\n",
        "  - 생활공작소\n",
        "  - 위케어\n",
        "\n",
        "# 추가할 사이트\n",
        " - 농협몰\n",
        " - 우체국몰\n",
        " - 쿠팡\n",
        " - 티몬\n",
        " - 위메프\n",
        " - 네이버 쇼핑\n",
        " - 등등.."
      ]
    },
    {
      "cell_type": "code",
      "metadata": {
        "id": "5xv7KXFHDqHl",
        "colab_type": "code",
        "colab": {
          "base_uri": "https://localhost:8080/",
          "height": 201
        },
        "outputId": "3c4e2747-0e42-4687-8dbf-d5b3c854e519"
      },
      "source": [
        "# 코랩 selenium 설치 방법\n",
        "##!apt-get update\n",
        "##apt install chromium-chromedirver\n",
        "##!apt /usr/lib/chromium-browser/chromedriver/usr/bin\n",
        "#!pip install selenium\n",
        "##from selenium import webdriver\n"
      ],
      "execution_count": 15,
      "outputs": [
        {
          "output_type": "stream",
          "text": [
            "Collecting telegram\n",
            "  Downloading https://files.pythonhosted.org/packages/9d/ca/8bdf2deb93b9f6971dabf2ddc827c2a98ce23e13582a15b37e9bc169f226/telegram-0.0.1.tar.gz\n",
            "Building wheels for collected packages: telegram\n",
            "  Building wheel for telegram (setup.py) ... \u001b[?25l\u001b[?25hdone\n",
            "  Created wheel for telegram: filename=telegram-0.0.1-cp36-none-any.whl size=1308 sha256=a45e402e94dc2837cf59a97cf4e6c6d865a929e498edf5273f1c56bb558b5684\n",
            "  Stored in directory: /root/.cache/pip/wheels/21/a4/d2/c289fe2e3a3050eefb01b2f1f9ef42346272a21bc3082a4342\n",
            "Successfully built telegram\n",
            "Installing collected packages: telegram\n",
            "Successfully installed telegram-0.0.1\n"
          ],
          "name": "stdout"
        }
      ]
    },
    {
      "cell_type": "code",
      "metadata": {
        "id": "mO6dN1OOGxuF",
        "colab_type": "code",
        "colab": {}
      },
      "source": [
        "from selenium import webdriver\n",
        "import yaml\n",
        "import telegram\n",
        "\n",
        "# yaml 파일 load\n",
        "with open('config.yml') as f:\n",
        "    conf = yaml.load(f,  Loader=yaml.FullLoader)\n",
        "\n",
        "# 텔레그램 설정\n",
        "bot = telegram.Bot(token = conf['telegram_token'])\n",
        "\n",
        "# updates = bot.getUpdates()\n",
        "# for u in updates:\n",
        "#     print(u.message)\n",
        "\n",
        "# 크롬 드라이버 설정\n",
        "options = webdriver.ChromeOptions()\n",
        "options.add_argument('headless')\n",
        "options.add_argument('window-size=1920x1080')\n",
        "options.add_argument(\"disable-gpu\")\n",
        "# 혹은 options.add_argument(\"--disable-gpu\")\n",
        "\n",
        "driver = webdriver.Chrome('chromedriver', options=options)\n",
        "\n",
        "# 웰킵스 크롤릴\n",
        "def welkeepsmall_crawling():\n",
        "    # 사이트 접속\n",
        "    driver.get('http://www.welkeepsmall.com/shop/shopbrand.html?type=X&xcode=023')\n",
        "    # 상품 리스트 가져오기\n",
        "    contents = driver.find_elements_by_css_selector('div.tb-center')\n",
        "    for content in contents:\n",
        "        # 품절 확인\n",
        "        soldout = content.find_element_by_css_selector('li.soldout')\n",
        "        if soldout is None or soldout.text == 'SOLD OUT':\n",
        "            continue\n",
        "        # 품절이 아닌 상품 리스트\n",
        "        item_title = content.find_element_by_css_selector('li.dsc').text\n",
        "        bot.sendMessage(chat_id=conf['telegram_chat_id'], text=\"웰킵스: \" + item_title)\n",
        "\n",
        "def naver_store_crawling(market, url):\n",
        "    # 사이트 접속\n",
        "    driver.get(url)\n",
        "    # 상품 리스트 가져오기\n",
        "    items = driver.find_elements_by_xpath(\"//div[@class='module_list_product_listview']/ul[@class='list']/li[@class='item']\")\n",
        "    for item in items:\n",
        "        # 품절인지 확인\n",
        "        soldout = driver.find_elements_by_xpath(\"//div[@class='area_status']/div[@class='label soldouot']\")\n",
        "        if soldout is not None:\n",
        "            continue\n",
        "        # 상품 제목 element\n",
        "        content = item.find_element_by_css_selector('strong.title')\n",
        "        if content is None:\n",
        "            continue\n",
        "        # 상품 제목 프린트\n",
        "        item_title = content.text\n",
        "        if \"kf94\" in item_title.strip().lower():\n",
        "            bot.sendMessage(chat_id=conf['telegram_chat_id'], text=market + \": \" + item_title)\n",
        "\n",
        "while True:\n",
        "    welkeepsmall_crawling()\n",
        "    # 생활 공작소\n",
        "    naver_store_crawling('생활공작소','https://smartstore.naver.com/livingcrafts/search?q=%EB%A7%88%EC%8A%A4%ED%81%AC')\n",
        "    # 위케어\n",
        "    naver_store_crawling('위케어', 'https://smartstore.naver.com/wiicare/search?q=%EB%A7%88%EC%8A%A4%ED%81%AC')\n",
        "    # DDOS 인식 막기 위해 일정 주기 추가\n",
        "    driver.implicitly_wait(3)\n",
        "\n",
        "driver.quit()"
      ],
      "execution_count": 0,
      "outputs": []
    }
  ]
}