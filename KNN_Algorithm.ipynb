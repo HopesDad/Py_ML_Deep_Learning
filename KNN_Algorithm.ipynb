{
  "nbformat": 4,
  "nbformat_minor": 0,
  "metadata": {
    "colab": {
      "name": "KNN_Algorithm",
      "provenance": [],
      "authorship_tag": "ABX9TyO/0yCA0h0o3Ci6xCw9peR0"
    },
    "kernelspec": {
      "name": "python3",
      "display_name": "Python 3"
    }
  },
  "cells": [
    {
      "cell_type": "markdown",
      "metadata": {
        "id": "A6fAD8mhWFUW",
        "colab_type": "text"
      },
      "source": [
        "# KNN - Algorithm\n",
        "\n",
        "- K-Nearest Neighbor\n",
        "\n",
        " - KNN은 비지도학습(Unsupervised Learning)의 가장 간단한 예시입니다.\n",
        " - 다양한 레이블의 데이터 중에서, 자신과 가까운 데이터를 찾아 자신의 레이블을 결정하는 방식입니다.\n",
        "\n",
        " "
      ]
    },
    {
      "cell_type": "code",
      "metadata": {
        "id": "982ckX1bWSBP",
        "colab_type": "code",
        "colab": {
          "base_uri": "https://localhost:8080/",
          "height": 319
        },
        "outputId": "82caf81a-a6d9-454f-e901-37bed9e69a7e"
      },
      "source": [
        "import cv2\n",
        "import numpy as np\n",
        "from matplotlib import pyplot as plt\n",
        "\n",
        "# 각 데이터의 위치: 25 X 2 크기에 각각 0 ~ 100\n",
        "trainData = np.random.randint(0, 100, (25, 2)).astype(np.float32)\n",
        "# 각 데이터는 0 or 1\n",
        "response = np.random.randint(0, 2, (25, 1)).astype(np.float32)\n",
        "\n",
        "# 값이 0인 데이터를 각각 (x, y) 위치에 빨간색으로 칠합니다.\n",
        "red = trainData[response.ravel() == 0]\n",
        "plt.scatter(red[:, 0], red[:, 1], 80, 'r', '^')\n",
        "# 값이 1인 데이터를 각각 (x, y) 위치에 파란색으로 칠합니다.\n",
        "blue = trainData[response.ravel() == 1]\n",
        "plt.scatter(blue[:, 0], blue[:, 1], 80, 'b', 's')\n",
        "\n",
        "# (0 ~ 100, 0 ~ 100) 위치의 데이터를 하나 생성해 칠합니다.\n",
        "newcomer = np.random.randint(0, 100, (1, 2)).astype(np.float32)\n",
        "plt.scatter(newcomer[:, 0], newcomer[:, 1], 80, 'g', 'o')\n",
        "\n",
        "knn = cv2.ml.KNearest_create()\n",
        "knn.train(trainData, cv2.ml.ROW_SAMPLE, response)\n",
        "ret, results, neighbours, dist = knn.findNearest(newcomer, 3)\n",
        "\n",
        "# 가까운 3개를 찾고, 거리를 고려하여 자신을 정합니다.\n",
        "print(\"result : \", results)\n",
        "print(\"neighbours :\", neighbours)\n",
        "print(\"distance: \", dist)\n",
        "\n",
        "plt.show()"
      ],
      "execution_count": 5,
      "outputs": [
        {
          "output_type": "stream",
          "text": [
            "result :  [[1.]]\n",
            "neighbours : [[0. 1. 1.]]\n",
            "distance:  [[157. 298. 424.]]\n"
          ],
          "name": "stdout"
        },
        {
          "output_type": "display_data",
          "data": {
            "image/png": "[encoded data removed]",
            "text/plain": [
              "<Figure size 432x288 with 1 Axes>"
            ]
          },
          "metadata": {
            "tags": [],
            "needs_background": "light"
          }
        }
      ]
    }
  ]
}