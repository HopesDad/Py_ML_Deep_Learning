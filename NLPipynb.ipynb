{
  "nbformat": 4,
  "nbformat_minor": 0,
  "metadata": {
    "colab": {
      "name": "NLPipynb",
      "provenance": [],
      "include_colab_link": true
    },
    "kernelspec": {
      "name": "python3",
      "display_name": "Python 3"
    }
  },
  "cells": [
    {
      "cell_type": "markdown",
      "metadata": {
        "id": "view-in-github",
        "colab_type": "text"
      },
      "source": [
        "<a href=\"https://colab.research.google.com/github/Zero-Sik/Py_L/blob/master/NLPipynb.ipynb\" target=\"_parent\"><img src=\"https://colab.research.google.com/assets/colab-badge.svg\" alt=\"Open In Colab\"/></a>"
      ]
    },
    {
      "cell_type": "markdown",
      "metadata": {
        "id": "qwHc5vHTsWGK",
        "colab_type": "text"
      },
      "source": [
        "### 자연어 처리(natural language processing)란?\n",
        "\n",
        "\n",
        "## 자연어란? 우리가 일상 생활에서 사용하는 언어를 말함.\n",
        "\n",
        " - 자연어처리(Natural language processing)란 이러한 자연어를 의미를 분석하여 컴퓨터가 처리할 수 있도록 하는 일을 말함.\n",
        "\n",
        "\n",
        "  - 자연어 처리는 음성인식, 내용 요약, 번역, 사용자의 감성 분석, 텍스트 분류 작업(스팸 메일 분류, 뉴스 기사 카테고리 분류), 질의 응답 시스템, 챗봇과 같은 곳에서 사용 됨.\n",
        "\n",
        "  - 최근 딥 러닝이 주목 받으면서 인공지능이 제 4차 산업혁명의 중요 키워드로 떠오르고 있음.\n",
        "  - 자연어 처리는 기꼐에서 인간의 언어를 이해 시킨다는 점에서 인공지능에 있어서 가장 중요한 연구 분야이면서도, 아직도 정복되어야 할 산이 많은 분야임.\n",
        "  - 인공지능 분야는 다윗이 골리앗을 이기는 것이 가능한 분야\n",
        "  - 뛰어난 딥러닝 엔지니어 몇 명이면 딥 러닝을 이용하여 단 수일만에, 불과 몇 년 전에 실무에서 사용되었던 번역기들을 앞서는 번역기를 만들 수 있는 시대가 됨.\n",
        "  - 전처리 방법(Preporcessing), 딥 러닝 주류로 사용되었던 통계 기반의 언어 모델, 자연어 처리의 비약적인 성능을 이루어낸 딥 러닝을 이용한 자연어 처리 대한 전반 지식을 야기할 것임."
      ]
    },
    {
      "cell_type": "markdown",
      "metadata": {
        "id": "Sfv0bBwyDQPX",
        "colab_type": "text"
      },
      "source": [
        "###머신 러닝 실습을 하기 위해서는 많은 패키지가 필요\n",
        " -  일일히 설치하는 것보다 필요한 패키지들을 모아놓은 파이썬 배포판 '아나콘다'를 설치하는 것을 권장.\n",
        " - 아나콘다는 Numpy, Pandas, jupyter Notebook, IPyhon, scikit-learn, matplotilb, seaborn, nltk 등  포함\n",
        "\n",
        "\n",
        "\n",
        "## 구글 코랩(Colab)\n",
        " - 개인의 컴퓨터 사양이나 다른 이유로 아나콘다나 여러 패키지 설치가 어려운 경우도 있다. 이런 경우 인터넷만 된다면 실습 환경을 사용할 수 있다.\n",
        " - 주니퍼 노트북 형식의 개발 환경."
      ]
    },
    {
      "cell_type": "markdown",
      "metadata": {
        "id": "i5Fb5ksiFJcV",
        "colab_type": "text"
      },
      "source": [
        "# 필요 프레임워크와 라이브러리\n",
        " - 텐서플로우(Tensorflow)\n",
        "  - 머신 러닝 오픈소스 라이브러리\n",
        "   - 머신러닝과 딥 러닝을 직관적이고 손쉽게 할 수 있도록 설계\n",
        "   "
      ]
    },
    {
      "cell_type": "code",
      "metadata": {
        "id": "JUoDjcRaI0_f",
        "colab_type": "code",
        "colab": {}
      },
      "source": [
        "##설치 방법\n",
        "# Tuminal - pip install tensorflow\n",
        "\n",
        "\n",
        "\n",
        "#ipython\n",
        "\n",
        "\n",
        "#import tensorflow as tf  텐서플로우는 tf라는 명칭으로 임포트하는 것이 관례\n",
        "\n",
        "#tf.__version__\n"
      ],
      "execution_count": 0,
      "outputs": []
    },
    {
      "cell_type": "markdown",
      "metadata": {
        "id": "PL7bV_-Ma5DP",
        "colab_type": "text"
      },
      "source": [
        " ## 케라스\n",
        "  - 딥러닝 프에미워크인 텐서플로우에 대한 추상화 된 API를 제공.\n",
        "  - 백엔드 텐서플로우를 사용하며, 좀 더 쉽게 딥 러닝을 사용할 수 있게 해줌.\n",
        "  - 케라스 개발자인 프랑소와 숄레(Francois Chollet)는 앞으로는 Keras보다는 tf.keras를 사용할 것을 권장."
      ]
    },
    {
      "cell_type": "code",
      "metadata": {
        "id": "q0p9Zvy7bMqm",
        "colab_type": "code",
        "colab": {
          "base_uri": "https://localhost:8080/",
          "height": 117
        },
        "outputId": "2cf51065-b04c-46b6-de42-0393a39b1b26"
      },
      "source": [
        "#ipython\n",
        "\n",
        "\n",
        "\n",
        "import keras\n",
        "keras.__version__"
      ],
      "execution_count": 2,
      "outputs": [
        {
          "output_type": "stream",
          "text": [
            "Using TensorFlow backend.\n"
          ],
          "name": "stderr"
        },
        {
          "output_type": "display_data",
          "data": {
            "text/html": [
              "<p style=\"color: red;\">\n",
              "The default version of TensorFlow in Colab will soon switch to TensorFlow 2.x.<br>\n",
              "We recommend you <a href=\"https://www.tensorflow.org/guide/migrate\" target=\"_blank\">upgrade</a> now \n",
              "or ensure your notebook will continue to use TensorFlow 1.x via the <code>%tensorflow_version 1.x</code> magic:\n",
              "<a href=\"https://colab.research.google.com/notebooks/tensorflow_version.ipynb\" target=\"_blank\">more info</a>.</p>\n"
            ],
            "text/plain": [
              "<IPython.core.display.HTML object>"
            ]
          },
          "metadata": {
            "tags": []
          }
        },
        {
          "output_type": "execute_result",
          "data": {
            "text/plain": [
              "'2.2.5'"
            ]
          },
          "metadata": {
            "tags": []
          },
          "execution_count": 2
        }
      ]
    },
    {
      "cell_type": "markdown",
      "metadata": {
        "id": "jNyI1cCSbgnW",
        "colab_type": "text"
      },
      "source": [
        "## 젠심(Gensim)\n",
        " - 머신 러닝을 사용하여 토픽 모델링과 자연어 처리 등을 수행할 수 있게 해주는 오픈 소스 라이브러리\n",
        " - 토픽 모델링과 Word2Vec 등을 학습\n",
        "굵은 텍스트"
      ]
    },
    {
      "cell_type": "code",
      "metadata": {
        "id": "iQeApT-vbrJj",
        "colab_type": "code",
        "colab": {
          "base_uri": "https://localhost:8080/",
          "height": 35
        },
        "outputId": "cdfaf67b-0d7c-4612-d104-37ebea0f3420"
      },
      "source": [
        "# pip install gensim\n",
        "\n",
        "\n",
        "# ipython\n",
        "\n",
        "\n",
        "import gensim\n",
        "gensim.__version__"
      ],
      "execution_count": 4,
      "outputs": [
        {
          "output_type": "execute_result",
          "data": {
            "text/plain": [
              "'3.6.0'"
            ]
          },
          "metadata": {
            "tags": []
          },
          "execution_count": 4
        }
      ]
    },
    {
      "cell_type": "markdown",
      "metadata": {
        "id": "VTAaxvNHb0RZ",
        "colab_type": "text"
      },
      "source": [
        " ## 사이킷런(Scikit-learn)\n",
        "  - 파이썬 머신러닝 라이브러리.\n",
        "  - 사이킷런을 통해 나이브 베이즈 분류, 서포트 벡터 머신 등 다양한 머신러닝 모듈을 불러 올 수 가 있다.\n",
        "  - 사이킷런에는 머신러닝을 연습하기 위한 아이리스 데이터, 당뇨병 데이터 등 자체 데이터 또한 제공\n"
      ]
    },
    {
      "cell_type": "code",
      "metadata": {
        "id": "7RXtM_SbcBnD",
        "colab_type": "code",
        "colab": {
          "base_uri": "https://localhost:8080/",
          "height": 35
        },
        "outputId": "115b84da-33e3-49c1-c676-2bea7840b014"
      },
      "source": [
        "# pip install scikit-learn\n",
        "\n",
        "\n",
        "# ipython\n",
        "\n",
        "\n",
        "import sklearn\n",
        "\n",
        "sklearn.__version__\n"
      ],
      "execution_count": 7,
      "outputs": [
        {
          "output_type": "execute_result",
          "data": {
            "text/plain": [
              "'0.21.3'"
            ]
          },
          "metadata": {
            "tags": []
          },
          "execution_count": 7
        }
      ]
    },
    {
      "cell_type": "markdown",
      "metadata": {
        "id": "OHNdO9sncSS5",
        "colab_type": "text"
      },
      "source": [
        "# 판다스(Pandas) and 넘파이(Numpy) and 맷플롭립(Matplotlib)\n",
        "\n",
        " - 데이터 분석을 위한 필수 패키지 \n",
        "\n",
        "\n",
        " "
      ]
    },
    {
      "cell_type": "markdown",
      "metadata": {
        "id": "hkHbXK8ifyUB",
        "colab_type": "text"
      },
      "source": [
        "## 판다스\n",
        " - 파이썬 데이터 처리를 위한 라이브러리.\n",
        " - 데이터 분석과 같은 작업에서 필수 라이브러리라고 알 수 있음.\n",
        "  - 데이터 구조\n",
        "   - 시리즈\n",
        "   - 데이터 프레임\n",
        "   - 패널\n"
      ]
    },
    {
      "cell_type": "code",
      "metadata": {
        "id": "yiz6bG21f6qy",
        "colab_type": "code",
        "colab": {
          "base_uri": "https://localhost:8080/",
          "height": 1000
        },
        "outputId": "d55fb760-4e5b-46ff-8bd1-4de6a98477a7"
      },
      "source": [
        "# pip install pandas\n",
        "#ipython\n",
        "\n",
        "import pandas as pd\n",
        "pd.__version__\n",
        "\n",
        "\n",
        "# 시리즈\n",
        " # - 1차원 배열의 값(values)에 값에 대응 되는 인덱스(index)를 부여할 수 있는 구조\n",
        "\n",
        "\n",
        "sr = pd.Series([17000, 18000, 1000, 5000],\n",
        "       index=[\"피자\", \"치킨\", \"콜라\", \"맥주\"])\n",
        "print(sr)\n",
        "\n",
        "print(sr.values)\n",
        "\n",
        "print(sr.index)\n",
        "\n",
        "\n",
        "# 데이터 프레임(DataFrame)\n",
        "\n",
        "\n",
        "  #2차원 리스트를 매개변수로 전달. 2차원이므로 행방향 인덱스와 열방향 인덱스가 존재\n",
        "  #행과 열을 가지는 자료구조\n",
        "  # 시리즈가 인덱스와 값으로 구성되었다면 데이터 프레임은 열까지 추가되어 열, 인덱스, 값으로 구성\n",
        "\n",
        "\n",
        "values = [[1,2, 3], [4,5,6], [7,8,9]]\n",
        "index = ['No:1', 'No:2', 'No:3']\n",
        "columns= ['A', 'B', 'C']\n",
        "print(\"-----------------------Series----\")\n",
        "df = pd.DataFrame(values, index=index, columns=columns)\n",
        "print(df)\n",
        "\n",
        "\n",
        "print(df.index) # 인덱스 호출\n",
        "print(df.columns) # 열 출력\n",
        "print(df.values) # 값 출력\n",
        "\n",
        "\n",
        "# 생성\n",
        "\n",
        "# 데이터 프레임은 리스트, 시리즈, 딕셔너리, Numpy의 ndarrays,또 다른 데이터프레임으로\n",
        " # 생성할 수 있음.\n",
        "\n",
        "\n",
        "print(\"---------Data Insrt------------\")\n",
        "data = [\n",
        "         ['1000', 'Steve', 90.72],\n",
        "         ['1001', 'James', 78.72],\n",
        "         ['1002', 'Doyeon', 98.72],\n",
        "         ['1003', 'Jane', 64.19],\n",
        "         ['1004', 'Pilwoong', 81.30],\n",
        "         ['1005', 'Tony', 99.14],\n",
        " ]\n",
        " \n",
        "df = pd.DataFrame(data)\n",
        "print(df)\n",
        "\n",
        "#생성된 데이터 프레임에 열(columns)을 지정해 줄 수 있습니다.\n",
        "\n",
        "df = pd.DataFrame(data, columns=['학번', '이름', '점수'])\n",
        "print(df)\n",
        "\n",
        "\n",
        "print(\"파이썬 자료구조 중 딕셔너리(Dict)를 통해 데이터프레임을 생성.\")\n",
        "\n",
        "data = {'학번':['1000', '1001', '1002', '1003', '1004', '1005'],\n",
        "        '이름' : ['Steve', 'James', 'Doyeon', 'Youngsik', 'Yuna', 'Mirae'],\n",
        "        '점수': [90.55, 86.55, 55.43, 99.99, 94.22, 96.55]}\n",
        "\n",
        "\n",
        "df = pd.DataFrame(data)\n",
        "\n",
        "print(df)\n",
        "\n",
        "\n",
        "\n",
        "# 조회\n",
        "\n",
        " # - 데이터프레임에서 원하는 구간만 확인.\n",
        "\n",
        "\n",
        "# df.head(n) - 앞 부분을 n개만 보기\n",
        "# df.tail(n) - 뒷 부분을 n개만 보기\n",
        "# df['열이름'] - 해당되는 열을 확인\n",
        "\n",
        "print(df.head(3)) # 앞 부분을 3개만 보기\n",
        "\n",
        "print(df.tail(3)) # 뒷 부분 3개만 보기\n",
        "\n",
        "\n",
        "print(df['학번']) # 학번에 해당되는 열을 보기\n",
        "\n",
        "\n",
        "\n",
        "\n",
        "\n"
      ],
      "execution_count": 41,
      "outputs": [
        {
          "output_type": "stream",
          "text": [
            "피자    17000\n",
            "치킨    18000\n",
            "콜라     1000\n",
            "맥주     5000\n",
            "dtype: int64\n",
            "[17000 18000  1000  5000]\n",
            "Index(['피자', '치킨', '콜라', '맥주'], dtype='object')\n",
            "-----------------------Series----\n",
            "      A  B  C\n",
            "No:1  1  2  3\n",
            "No:2  4  5  6\n",
            "No:3  7  8  9\n",
            "Index(['No:1', 'No:2', 'No:3'], dtype='object')\n",
            "Index(['A', 'B', 'C'], dtype='object')\n",
            "[[1 2 3]\n",
            " [4 5 6]\n",
            " [7 8 9]]\n",
            "---------Data Insrt------------\n",
            "      0         1      2\n",
            "0  1000     Steve  90.72\n",
            "1  1001     James  78.72\n",
            "2  1002    Doyeon  98.72\n",
            "3  1003      Jane  64.19\n",
            "4  1004  Pilwoong  81.30\n",
            "5  1005      Tony  99.14\n",
            "     학번        이름     점수\n",
            "0  1000     Steve  90.72\n",
            "1  1001     James  78.72\n",
            "2  1002    Doyeon  98.72\n",
            "3  1003      Jane  64.19\n",
            "4  1004  Pilwoong  81.30\n",
            "5  1005      Tony  99.14\n",
            "파이썬 자료구조 중 딕셔너리(Dict)를 통해 데이터프레임을 생성.\n",
            "     학번        이름     점수\n",
            "0  1000     Steve  90.55\n",
            "1  1001     James  86.55\n",
            "2  1002    Doyeon  55.43\n",
            "3  1003  Youngsik  99.99\n",
            "4  1004      Yuna  94.22\n",
            "5  1005     Mirae  96.55\n",
            "     학번      이름     점수\n",
            "0  1000   Steve  90.55\n",
            "1  1001   James  86.55\n",
            "2  1002  Doyeon  55.43\n",
            "     학번        이름     점수\n",
            "3  1003  Youngsik  99.99\n",
            "4  1004      Yuna  94.22\n",
            "5  1005     Mirae  96.55\n",
            "0    1000\n",
            "1    1001\n",
            "2    1002\n",
            "3    1003\n",
            "4    1004\n",
            "5    1005\n",
            "Name: 학번, dtype: object\n"
          ],
          "name": "stdout"
        }
      ]
    },
    {
      "cell_type": "markdown",
      "metadata": {
        "id": "WpU2IeR4pE5E",
        "colab_type": "text"
      },
      "source": [
        "## 판다스 외부 데이터 읽기\n",
        " - Pandas는 CSV, 텍스트, Excel, SQL, HTML, JSON 등 다양한 데이터 파일을 읽고 데이터 프레임을 생성할 수 있음\n",
        "\n",
        "\n",
        " "
      ]
    },
    {
      "cell_type": "code",
      "metadata": {
        "id": "WIG8NpGZpbvP",
        "colab_type": "code",
        "colab": {}
      },
      "source": [
        "df = pd.read.csv(\"example.csv 파일의 경로\") # example.csv 파일 읽기\n",
        "# 예를 들어 윈도우 바탕화면에서 직업한 저자의 경우\n",
        "# df=pd.read_csv(r'C:Users\\User\\Desktop\\example.csv)로 할 것.\n",
        "print(df)\n",
        "\n",
        "\n",
        "# 인덱스가 자동으로 부여된 것을 볼 수 있습니다. \n",
        "print(df.index)\n",
        "\n",
        "\n",
        "RangeIndex(start=0, stop=6, step=1)\n",
        "\n"
      ],
      "execution_count": 0,
      "outputs": []
    }
  ]
}