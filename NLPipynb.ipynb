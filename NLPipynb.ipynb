{
  "nbformat": 4,
  "nbformat_minor": 0,
  "metadata": {
    "colab": {
      "name": "NLPipynb",
      "provenance": [],
      "include_colab_link": true
    },
    "kernelspec": {
      "name": "python3",
      "display_name": "Python 3"
    }
  },
  "cells": [
    {
      "cell_type": "markdown",
      "metadata": {
        "id": "view-in-github",
        "colab_type": "text"
      },
      "source": [
        "<a href=\"https://colab.research.google.com/github/Zero-Sik/Py_L/blob/master/NLPipynb.ipynb\" target=\"_parent\"><img src=\"https://colab.research.google.com/assets/colab-badge.svg\" alt=\"Open In Colab\"/></a>"
      ]
    },
    {
      "cell_type": "markdown",
      "metadata": {
        "id": "qwHc5vHTsWGK",
        "colab_type": "text"
      },
      "source": [
        "### 자연어 처리(natural language processing)란?\n",
        "\n",
        "\n",
        "## 자연어란? 우리가 일상 생활에서 사용하는 언어를 말함.\n",
        "\n",
        " - 자연어처리(Natural language processing)란 이러한 자연어를 의미를 분석하여 컴퓨터가 처리할 수 있도록 하는 일을 말함.\n",
        "\n",
        "\n",
        "  - 자연어 처리는 음성인식, 내용 요약, 번역, 사용자의 감성 분석, 텍스트 분류 작업(스팸 메일 분류, 뉴스 기사 카테고리 분류), 질의 응답 시스템, 챗봇과 같은 곳에서 사용 됨.\n",
        "\n",
        "  - 최근 딥 러닝이 주목 받으면서 인공지능이 제 4차 산업혁명의 중요 키워드로 떠오르고 있음.\n",
        "  - 자연어 처리는 기꼐에서 인간의 언어를 이해 시킨다는 점에서 인공지능에 있어서 가장 중요한 연구 분야이면서도, 아직도 정복되어야 할 산이 많은 분야임.\n",
        "  - 인공지능 분야는 다윗이 골리앗을 이기는 것이 가능한 분야\n",
        "  - 뛰어난 딥러닝 엔지니어 몇 명이면 딥 러닝을 이용하여 단 수일만에, 불과 몇 년 전에 실무에서 사용되었던 번역기들을 앞서는 번역기를 만들 수 있는 시대가 됨.\n",
        "  - 전처리 방법(Preporcessing), 딥 러닝 주류로 사용되었던 통계 기반의 언어 모델, 자연어 처리의 비약적인 성능을 이루어낸 딥 러닝을 이용한 자연어 처리 대한 전반 지식을 야기할 것임."
      ]
    },
    {
      "cell_type": "markdown",
      "metadata": {
        "id": "Sfv0bBwyDQPX",
        "colab_type": "text"
      },
      "source": [
        "## 머신 러닝 실습을 하기 위해서는 많은 패키지가 필요한데, 일일히 설치하는 것보다 필요한 패키지들을 모아놓은 파이썬 배포판 '아나콘다'를 설치하는 것을 권장.\n",
        " - 아나콘다는 Numpy, Pandas, jupyter Notebook, IPyhon, scikit-learn, matplotilb, seaborn, nltk 등  포함\n",
        "\n",
        "\n",
        "\n",
        "## 구글 코랩(Colab)\n",
        " - 개인의 컴퓨터 사양이나 다른 이유로 아나콘다나 여러 패키지 설치가 어려운 경우도 있다. 이런 경우 인터넷만 된다면 실습 환경을 사용할 수 있다.\n",
        " - 주니퍼 노트북 형식의 개발 환경."
      ]
    }
  ]
}