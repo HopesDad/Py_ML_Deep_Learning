{
  "nbformat": 4,
  "nbformat_minor": 0,
  "metadata": {
    "colab": {
      "name": "NLPipynb",
      "provenance": [],
      "collapsed_sections": [],
      "include_colab_link": true
    },
    "kernelspec": {
      "name": "python3",
      "display_name": "Python 3"
    }
  },
  "cells": [
    {
      "cell_type": "markdown",
      "metadata": {
        "id": "view-in-github",
        "colab_type": "text"
      },
      "source": [
        "<a href=\"https://colab.research.google.com/github/Zero-Sik/Py_L/blob/master/NLPipynb.ipynb\" target=\"_parent\"><img src=\"https://colab.research.google.com/assets/colab-badge.svg\" alt=\"Open In Colab\"/></a>"
      ]
    },
    {
      "cell_type": "markdown",
      "metadata": {
        "id": "qwHc5vHTsWGK",
        "colab_type": "text"
      },
      "source": [
        "### 자연어 처리(natural language processing)란?\n",
        "\n",
        "\n",
        "## 자연어란? 우리가 일상 생활에서 사용하는 언어를 말함.\n",
        "\n",
        " - 자연어처리(Natural language processing)란 이러한 자연어를 의미를 분석하여 컴퓨터가 처리할 수 있도록 하는 일을 말함.\n",
        "\n",
        "\n",
        "  - 자연어 처리는 음성인식, 내용 요약, 번역, 사용자의 감성 분석, 텍스트 분류 작업(스팸 메일 분류, 뉴스 기사 카테고리 분류), 질의 응답 시스템, 챗봇과 같은 곳에서 사용 됨.\n",
        "\n",
        "  - 최근 딥 러닝이 주목 받으면서 인공지능이 제 4차 산업혁명의 중요 키워드로 떠오르고 있음.\n",
        "  - 자연어 처리는 기꼐에서 인간의 언어를 이해 시킨다는 점에서 인공지능에 있어서 가장 중요한 연구 분야이면서도, 아직도 정복되어야 할 산이 많은 분야임.\n",
        "  - 인공지능 분야는 다윗이 골리앗을 이기는 것이 가능한 분야\n",
        "  - 뛰어난 딥러닝 엔지니어 몇 명이면 딥 러닝을 이용하여 단 수일만에, 불과 몇 년 전에 실무에서 사용되었던 번역기들을 앞서는 번역기를 만들 수 있는 시대가 됨.\n",
        "  - 전처리 방법(Preporcessing), 딥 러닝 주류로 사용되었던 통계 기반의 언어 모델, 자연어 처리의 비약적인 성능을 이루어낸 딥 러닝을 이용한 자연어 처리 대한 전반 지식을 야기할 것임."
      ]
    },
    {
      "cell_type": "markdown",
      "metadata": {
        "id": "Sfv0bBwyDQPX",
        "colab_type": "text"
      },
      "source": [
        "###머신 러닝 실습을 하기 위해서는 많은 패키지가 필요\n",
        " -  일일히 설치하는 것보다 필요한 패키지들을 모아놓은 파이썬 배포판 '아나콘다'를 설치하는 것을 권장.\n",
        " - 아나콘다는 Numpy, Pandas, jupyter Notebook, IPyhon, scikit-learn, matplotilb, seaborn, nltk 등  포함\n",
        "\n",
        "\n",
        "\n",
        "## 구글 코랩(Colab)\n",
        " - 개인의 컴퓨터 사양이나 다른 이유로 아나콘다나 여러 패키지 설치가 어려운 경우도 있다. 이런 경우 인터넷만 된다면 실습 환경을 사용할 수 있다.\n",
        " - 주니퍼 노트북 형식의 개발 환경."
      ]
    },
    {
      "cell_type": "markdown",
      "metadata": {
        "id": "i5Fb5ksiFJcV",
        "colab_type": "text"
      },
      "source": [
        "# 필요 프레임워크와 라이브러리\n",
        " - 텐서플로우(Tensorflow)\n",
        "  - 머신 러닝 오픈소스 라이브러리\n",
        "   - 머신러닝과 딥 러닝을 직관적이고 손쉽게 할 수 있도록 설계\n",
        "   "
      ]
    },
    {
      "cell_type": "code",
      "metadata": {
        "id": "JUoDjcRaI0_f",
        "colab_type": "code",
        "colab": {}
      },
      "source": [
        "##설치 방법\n",
        "# Tuminal - pip install tensorflow\n",
        "\n",
        "\n",
        "\n",
        "#ipython\n",
        "\n",
        "\n",
        "#import tensorflow as tf  텐서플로우는 tf라는 명칭으로 임포트하는 것이 관례\n",
        "\n",
        "#tf.__version__\n"
      ],
      "execution_count": 0,
      "outputs": []
    },
    {
      "cell_type": "markdown",
      "metadata": {
        "id": "PL7bV_-Ma5DP",
        "colab_type": "text"
      },
      "source": [
        " ## 케라스\n",
        "  - 딥러닝 프에미워크인 텐서플로우에 대한 추상화 된 API를 제공.\n",
        "  - 백엔드 텐서플로우를 사용하며, 좀 더 쉽게 딥 러닝을 사용할 수 있게 해줌.\n",
        "  - 케라스 개발자인 프랑소와 숄레(Francois Chollet)는 앞으로는 Keras보다는 tf.keras를 사용할 것을 권장."
      ]
    },
    {
      "cell_type": "code",
      "metadata": {
        "id": "q0p9Zvy7bMqm",
        "colab_type": "code",
        "outputId": "2cf51065-b04c-46b6-de42-0393a39b1b26",
        "colab": {
          "base_uri": "https://localhost:8080/",
          "height": 117
        }
      },
      "source": [
        "#ipython\n",
        "\n",
        "\n",
        "\n",
        "import keras\n",
        "keras.__version__"
      ],
      "execution_count": 0,
      "outputs": [
        {
          "output_type": "stream",
          "text": [
            "Using TensorFlow backend.\n"
          ],
          "name": "stderr"
        },
        {
          "output_type": "display_data",
          "data": {
            "text/html": [
              "<p style=\"color: red;\">\n",
              "The default version of TensorFlow in Colab will soon switch to TensorFlow 2.x.<br>\n",
              "We recommend you <a href=\"https://www.tensorflow.org/guide/migrate\" target=\"_blank\">upgrade</a> now \n",
              "or ensure your notebook will continue to use TensorFlow 1.x via the <code>%tensorflow_version 1.x</code> magic:\n",
              "<a href=\"https://colab.research.google.com/notebooks/tensorflow_version.ipynb\" target=\"_blank\">more info</a>.</p>\n"
            ],
            "text/plain": [
              "<IPython.core.display.HTML object>"
            ]
          },
          "metadata": {
            "tags": []
          }
        },
        {
          "output_type": "execute_result",
          "data": {
            "text/plain": [
              "'2.2.5'"
            ]
          },
          "metadata": {
            "tags": []
          },
          "execution_count": 2
        }
      ]
    },
    {
      "cell_type": "markdown",
      "metadata": {
        "id": "jNyI1cCSbgnW",
        "colab_type": "text"
      },
      "source": [
        "## 젠심(Gensim)\n",
        " - 머신 러닝을 사용하여 토픽 모델링과 자연어 처리 등을 수행할 수 있게 해주는 오픈 소스 라이브러리\n",
        " - 토픽 모델링과 Word2Vec 등을 학습\n",
        "굵은 텍스트"
      ]
    },
    {
      "cell_type": "code",
      "metadata": {
        "id": "iQeApT-vbrJj",
        "colab_type": "code",
        "outputId": "cdfaf67b-0d7c-4612-d104-37ebea0f3420",
        "colab": {
          "base_uri": "https://localhost:8080/",
          "height": 35
        }
      },
      "source": [
        "# pip install gensim\n",
        "\n",
        "\n",
        "# ipython\n",
        "\n",
        "\n",
        "import gensim\n",
        "gensim.__version__"
      ],
      "execution_count": 0,
      "outputs": [
        {
          "output_type": "execute_result",
          "data": {
            "text/plain": [
              "'3.6.0'"
            ]
          },
          "metadata": {
            "tags": []
          },
          "execution_count": 4
        }
      ]
    },
    {
      "cell_type": "markdown",
      "metadata": {
        "id": "VTAaxvNHb0RZ",
        "colab_type": "text"
      },
      "source": [
        " ## 사이킷런(Scikit-learn)\n",
        "  - 파이썬 머신러닝 라이브러리.\n",
        "  - 사이킷런을 통해 나이브 베이즈 분류, 서포트 벡터 머신 등 다양한 머신러닝 모듈을 불러 올 수 가 있다.\n",
        "  - 사이킷런에는 머신러닝을 연습하기 위한 아이리스 데이터, 당뇨병 데이터 등 자체 데이터 또한 제공\n"
      ]
    },
    {
      "cell_type": "code",
      "metadata": {
        "id": "7RXtM_SbcBnD",
        "colab_type": "code",
        "outputId": "115b84da-33e3-49c1-c676-2bea7840b014",
        "colab": {
          "base_uri": "https://localhost:8080/",
          "height": 35
        }
      },
      "source": [
        "# pip install scikit-learn\n",
        "\n",
        "\n",
        "# ipython\n",
        "\n",
        "\n",
        "import sklearn\n",
        "\n",
        "sklearn.__version__\n"
      ],
      "execution_count": 0,
      "outputs": [
        {
          "output_type": "execute_result",
          "data": {
            "text/plain": [
              "'0.21.3'"
            ]
          },
          "metadata": {
            "tags": []
          },
          "execution_count": 7
        }
      ]
    },
    {
      "cell_type": "markdown",
      "metadata": {
        "id": "OHNdO9sncSS5",
        "colab_type": "text"
      },
      "source": [
        "# 판다스(Pandas) and 넘파이(Numpy) and 맷플롭립(Matplotlib)\n",
        "\n",
        " - 데이터 분석을 위한 필수 패키지 \n",
        "\n",
        "\n",
        " "
      ]
    },
    {
      "cell_type": "markdown",
      "metadata": {
        "id": "hkHbXK8ifyUB",
        "colab_type": "text"
      },
      "source": [
        "## 판다스\n",
        " - 파이썬 데이터 처리를 위한 라이브러리.\n",
        " - 데이터 분석과 같은 작업에서 필수 라이브러리라고 알 수 있음.\n",
        "  - 데이터 구조\n",
        "   - 시리즈\n",
        "   - 데이터 프레임\n",
        "   - 패널\n"
      ]
    },
    {
      "cell_type": "code",
      "metadata": {
        "id": "yiz6bG21f6qy",
        "colab_type": "code",
        "outputId": "d55fb760-4e5b-46ff-8bd1-4de6a98477a7",
        "colab": {
          "base_uri": "https://localhost:8080/",
          "height": 1000
        }
      },
      "source": [
        "# pip install pandas\n",
        "#ipython\n",
        "\n",
        "import pandas as pd\n",
        "pd.__version__\n",
        "\n",
        "\n",
        "# 시리즈\n",
        " # - 1차원 배열의 값(values)에 값에 대응 되는 인덱스(index)를 부여할 수 있는 구조\n",
        "\n",
        "\n",
        "sr = pd.Series([17000, 18000, 1000, 5000],\n",
        "       index=[\"피자\", \"치킨\", \"콜라\", \"맥주\"])\n",
        "print(sr)\n",
        "\n",
        "print(sr.values)\n",
        "\n",
        "print(sr.index)\n",
        "\n",
        "\n",
        "# 데이터 프레임(DataFrame)\n",
        "\n",
        "\n",
        "  #2차원 리스트를 매개변수로 전달. 2차원이므로 행방향 인덱스와 열방향 인덱스가 존재\n",
        "  #행과 열을 가지는 자료구조\n",
        "  # 시리즈가 인덱스와 값으로 구성되었다면 데이터 프레임은 열까지 추가되어 열, 인덱스, 값으로 구성\n",
        "\n",
        "\n",
        "values = [[1,2, 3], [4,5,6], [7,8,9]]\n",
        "index = ['No:1', 'No:2', 'No:3']\n",
        "columns= ['A', 'B', 'C']\n",
        "print(\"-----------------------Series----\")\n",
        "df = pd.DataFrame(values, index=index, columns=columns)\n",
        "print(df)\n",
        "\n",
        "\n",
        "print(df.index) # 인덱스 호출\n",
        "print(df.columns) # 열 출력\n",
        "print(df.values) # 값 출력\n",
        "\n",
        "\n",
        "# 생성\n",
        "\n",
        "# 데이터 프레임은 리스트, 시리즈, 딕셔너리, Numpy의 ndarrays,또 다른 데이터프레임으로\n",
        " # 생성할 수 있음.\n",
        "\n",
        "\n",
        "print(\"---------Data Insrt------------\")\n",
        "data = [\n",
        "         ['1000', 'Steve', 90.72],\n",
        "         ['1001', 'James', 78.72],\n",
        "         ['1002', 'Doyeon', 98.72],\n",
        "         ['1003', 'Jane', 64.19],\n",
        "         ['1004', 'Pilwoong', 81.30],\n",
        "         ['1005', 'Tony', 99.14],\n",
        " ]\n",
        " \n",
        "df = pd.DataFrame(data)\n",
        "print(df)\n",
        "\n",
        "#생성된 데이터 프레임에 열(columns)을 지정해 줄 수 있습니다.\n",
        "\n",
        "df = pd.DataFrame(data, columns=['학번', '이름', '점수'])\n",
        "print(df)\n",
        "\n",
        "\n",
        "print(\"파이썬 자료구조 중 딕셔너리(Dict)를 통해 데이터프레임을 생성.\")\n",
        "\n",
        "data = {'학번':['1000', '1001', '1002', '1003', '1004', '1005'],\n",
        "        '이름' : ['Steve', 'James', 'Doyeon', 'Youngsik', 'Yuna', 'Mirae'],\n",
        "        '점수': [90.55, 86.55, 55.43, 99.99, 94.22, 96.55]}\n",
        "\n",
        "\n",
        "df = pd.DataFrame(data)\n",
        "\n",
        "print(df)\n",
        "\n",
        "\n",
        "\n",
        "# 조회\n",
        "\n",
        " # - 데이터프레임에서 원하는 구간만 확인.\n",
        "\n",
        "\n",
        "# df.head(n) - 앞 부분을 n개만 보기\n",
        "# df.tail(n) - 뒷 부분을 n개만 보기\n",
        "# df['열이름'] - 해당되는 열을 확인\n",
        "\n",
        "print(df.head(3)) # 앞 부분을 3개만 보기\n",
        "\n",
        "print(df.tail(3)) # 뒷 부분 3개만 보기\n",
        "\n",
        "\n",
        "print(df['학번']) # 학번에 해당되는 열을 보기\n",
        "\n",
        "\n",
        "\n",
        "\n",
        "\n"
      ],
      "execution_count": 0,
      "outputs": [
        {
          "output_type": "stream",
          "text": [
            "피자    17000\n",
            "치킨    18000\n",
            "콜라     1000\n",
            "맥주     5000\n",
            "dtype: int64\n",
            "[17000 18000  1000  5000]\n",
            "Index(['피자', '치킨', '콜라', '맥주'], dtype='object')\n",
            "-----------------------Series----\n",
            "      A  B  C\n",
            "No:1  1  2  3\n",
            "No:2  4  5  6\n",
            "No:3  7  8  9\n",
            "Index(['No:1', 'No:2', 'No:3'], dtype='object')\n",
            "Index(['A', 'B', 'C'], dtype='object')\n",
            "[[1 2 3]\n",
            " [4 5 6]\n",
            " [7 8 9]]\n",
            "---------Data Insrt------------\n",
            "      0         1      2\n",
            "0  1000     Steve  90.72\n",
            "1  1001     James  78.72\n",
            "2  1002    Doyeon  98.72\n",
            "3  1003      Jane  64.19\n",
            "4  1004  Pilwoong  81.30\n",
            "5  1005      Tony  99.14\n",
            "     학번        이름     점수\n",
            "0  1000     Steve  90.72\n",
            "1  1001     James  78.72\n",
            "2  1002    Doyeon  98.72\n",
            "3  1003      Jane  64.19\n",
            "4  1004  Pilwoong  81.30\n",
            "5  1005      Tony  99.14\n",
            "파이썬 자료구조 중 딕셔너리(Dict)를 통해 데이터프레임을 생성.\n",
            "     학번        이름     점수\n",
            "0  1000     Steve  90.55\n",
            "1  1001     James  86.55\n",
            "2  1002    Doyeon  55.43\n",
            "3  1003  Youngsik  99.99\n",
            "4  1004      Yuna  94.22\n",
            "5  1005     Mirae  96.55\n",
            "     학번      이름     점수\n",
            "0  1000   Steve  90.55\n",
            "1  1001   James  86.55\n",
            "2  1002  Doyeon  55.43\n",
            "     학번        이름     점수\n",
            "3  1003  Youngsik  99.99\n",
            "4  1004      Yuna  94.22\n",
            "5  1005     Mirae  96.55\n",
            "0    1000\n",
            "1    1001\n",
            "2    1002\n",
            "3    1003\n",
            "4    1004\n",
            "5    1005\n",
            "Name: 학번, dtype: object\n"
          ],
          "name": "stdout"
        }
      ]
    },
    {
      "cell_type": "markdown",
      "metadata": {
        "id": "WpU2IeR4pE5E",
        "colab_type": "text"
      },
      "source": [
        "## 판다스 외부 데이터 읽기\n",
        " - Pandas는 CSV, 텍스트, Excel, SQL, HTML, JSON 등 다양한 데이터 파일을 읽고 데이터 프레임을 생성할 수 있음\n",
        "\n",
        "\n",
        " "
      ]
    },
    {
      "cell_type": "code",
      "metadata": {
        "id": "WIG8NpGZpbvP",
        "colab_type": "code",
        "colab": {}
      },
      "source": [
        "df = pd.read.csv(\"example.csv 파일의 경로\") # example.csv 파일 읽기\n",
        "# 예를 들어 윈도우 바탕화면에서 직업한 저자의 경우\n",
        "# df=pd.read_csv(r'C:Users\\User\\Desktop\\example.csv)로 할 것.\n",
        "print(df)\n",
        "\n",
        "\n",
        "# 인덱스가 자동으로 부여된 것을 볼 수 있습니다. \n",
        "print(df.index)\n",
        "\n",
        "\n",
        "RangeIndex(start=0, stop=6, step=1)\n",
        "\n"
      ],
      "execution_count": 0,
      "outputs": []
    },
    {
      "cell_type": "markdown",
      "metadata": {
        "id": "JOzHwC1v5GS5",
        "colab_type": "text"
      },
      "source": [
        "# 넘파이(Numpy)\n",
        "\n",
        " - 수치 데이터를 다루는 파이썬 패키지\n",
        "  - Numpy의 핵심이라고 불리는 다차원 행렬 자료구조인 ndarray를 통해 벡터 및 행렬을 사용하는 선형 대수 계산에서 주로 사용.\n",
        "  - numpy는 편의성뿐만 아니라, 속도면에서도 순수 파이썬에 비해 압도적 빠르다는 장점.\n",
        " - Numpy의 경우, 주로 np라는 명칭으로 임포트 한다.\n",
        "\n",
        "\n",
        "\n",
        "  -Numpy의 주요 모듈은 아래와 같다.\n",
        "   - np.aaray() # 리스트 튜플, 배열로 부터 ndarray를 생성\n",
        "   - np.asarray() 기존의 array로 부터 ndarray를 생성\n",
        "   - np,arange() # range와 비슷\n",
        "   - np.linspace(start, end  num) # [start, end] 균일한 간격으로 num개 생성\n",
        "   - np.logspace(start, end, num) # [start, end] log scale 간격으로 num 개 생성\n",
        "   \n",
        "\n"
      ]
    },
    {
      "cell_type": "code",
      "metadata": {
        "id": "gJ816hs75TxL",
        "colab_type": "code",
        "outputId": "11248b87-ec14-4851-80ed-3e642769aed1",
        "colab": {
          "base_uri": "https://localhost:8080/",
          "height": 35
        }
      },
      "source": [
        "# pip install numpy\n",
        "\n",
        "# ipython\n",
        "\n",
        "import numpy as np\n",
        "\n",
        "np.__version__"
      ],
      "execution_count": 0,
      "outputs": [
        {
          "output_type": "execute_result",
          "data": {
            "text/plain": [
              "'1.17.4'"
            ]
          },
          "metadata": {
            "tags": []
          },
          "execution_count": 42
        }
      ]
    },
    {
      "cell_type": "markdown",
      "metadata": {
        "id": "bwHNXTSpDN55",
        "colab_type": "text"
      },
      "source": [
        "# np.array()\n",
        " - ndarray는 리스트, 튜플, 배열로 부터 ndarray를 생성합니다. 또한 인덱스가 항상 0으로 시작한다는 특징을 갖고 잇습니다.\n",
        "\n",
        "\n",
        " "
      ]
    },
    {
      "cell_type": "code",
      "metadata": {
        "id": "qyL0xbm7DZjI",
        "colab_type": "code",
        "outputId": "bbb9e125-5f86-4d24-ad8f-be605c5f5c70",
        "colab": {
          "base_uri": "https://localhost:8080/",
          "height": 53
        }
      },
      "source": [
        "a = np.array([1,2,3,4,5]) # 리스트를 가자고 1차원 배열 생성\n",
        "print(type(a))\n",
        "print(a)"
      ],
      "execution_count": 0,
      "outputs": [
        {
          "output_type": "stream",
          "text": [
            "<class 'numpy.ndarray'>\n",
            "[1 2 3 4 5]\n"
          ],
          "name": "stdout"
        }
      ]
    },
    {
      "cell_type": "markdown",
      "metadata": {
        "id": "IkiHB_M7Dlqb",
        "colab_type": "text"
      },
      "source": [
        " - 타입이 numpy.ndaaray라고 나오고 있으며, 배열로 생성되었음.\n",
        " - 2차배열의 주의할 점은 array() 안에 하나의 리스트만 들어가므로 리스트의 리스트를 넣어야함.\n",
        "\n",
        " "
      ]
    },
    {
      "cell_type": "code",
      "metadata": {
        "id": "gz6IIF_FDuL0",
        "colab_type": "code",
        "outputId": "db1e26f9-61db-4891-f054-f927fbc0d37d",
        "colab": {
          "base_uri": "https://localhost:8080/",
          "height": 89
        }
      },
      "source": [
        "b = np.array([[10,20,30], [40,50,60]])\n",
        "print(b)\n",
        "\n",
        "# 행렬의 차원 및 크기를 ndim 속성과 shape 속성으로 출력\n",
        "\n",
        "print(b.shape)\n",
        "print(a.ndim)\n",
        "\n",
        "\n",
        "\n"
      ],
      "execution_count": 0,
      "outputs": [
        {
          "output_type": "stream",
          "text": [
            "[[10 20 30]\n",
            " [40 50 60]]\n",
            "(2, 3)\n",
            "1\n"
          ],
          "name": "stdout"
        }
      ]
    },
    {
      "cell_type": "markdown",
      "metadata": {
        "id": "euFaByc-v0A-",
        "colab_type": "text"
      },
      "source": [
        "## ndarray의 초기화\n",
        "\n",
        "- 위에서는 리스트 가지고 ndarray를 생성했지만, ndarray를 만드는 다양한 다른 방법이 존재\n",
        "- zeros()는 해당 배열에 모두 0을 삽입하고, ones()는 모두 1을 삽입합니다.\n",
        "- full()은 배열에 사용자가 지정한 값을 넣는데 사용하고, eye()는 대각선으로는 1이고 나머지는  0인 2차우너 배열을 생성\n"
      ]
    },
    {
      "cell_type": "code",
      "metadata": {
        "id": "toR2_3lwwnbr",
        "colab_type": "code",
        "outputId": "5b882016-a536-4a66-ce2c-825ce98f6c70",
        "colab": {
          "base_uri": "https://localhost:8080/",
          "height": 251
        }
      },
      "source": [
        "import numpy as np\n",
        "print(\"-----zeros-----\")\n",
        "a = np.zeros((2,3)) # 모든값이 0인 2x3 배열 생성.\n",
        "print(a)\n",
        "print(\"-----ones-----\")\n",
        "a = np.ones((2,3)) # 모든 값이 1인 2 x 3 배열 생성\n",
        "print(a)\n",
        "print(\"-----eye-----\")\n",
        "a = np.eye(3) # 대각선으로는 1이고 나머지는 0인 2차원 배열을 생성\n",
        "print(a)\n",
        "print(\"-----random-----\")\n",
        "a = np.random.random((2,3)) # 임의의 값으로 채워진 배열 생성\n",
        "print(a)\n",
        "\n",
        "\n",
        "\n",
        "\n",
        "\n",
        "\n"
      ],
      "execution_count": 0,
      "outputs": [
        {
          "output_type": "stream",
          "text": [
            "-----zeros-----\n",
            "[[0. 0. 0.]\n",
            " [0. 0. 0.]]\n",
            "-----ones-----\n",
            "[[1. 1. 1.]\n",
            " [1. 1. 1.]]\n",
            "-----eye-----\n",
            "[[1. 0. 0.]\n",
            " [0. 1. 0.]\n",
            " [0. 0. 1.]]\n",
            "-----random-----\n",
            "[[0.87113018 0.02214877 0.8869464 ]\n",
            " [0.33082513 0.30082392 0.99849225]]\n"
          ],
          "name": "stdout"
        }
      ]
    },
    {
      "cell_type": "markdown",
      "metadata": {
        "id": "WNKvxKc9xfAU",
        "colab_type": "text"
      },
      "source": [
        "## np.arange()\n",
        "\n",
        " - np.arange()는 지정해준 범위에 대해서 배열을 생성\n",
        "\n",
        "- numpy.arange(start, stop, step, dtype)\n",
        "- \n",
        "a = np.arange(n) # 0 , ...., n-1 까지 범위의 지정.\n",
        "a = np.arange(i,j,k) # i부터 j-1까지 k씩 증가하는 배열\n"
      ]
    },
    {
      "cell_type": "code",
      "metadata": {
        "id": "7GtadNhjx70F",
        "colab_type": "code",
        "outputId": "cdf01523-5162-4ef3-cff0-2b52a7173d3a",
        "colab": {
          "base_uri": "https://localhost:8080/",
          "height": 53
        }
      },
      "source": [
        "import numpy as np\n",
        "\n",
        "a = np.arange(10) # 0부터 9까지\n",
        "print(a)\n",
        "\n",
        "\n",
        "a = np.arange(1, 10, 2) # 1부터 9까지 +2씩 적용하는 범위\n",
        "print(a)\n",
        "\n",
        "\n"
      ],
      "execution_count": 0,
      "outputs": [
        {
          "output_type": "stream",
          "text": [
            "[0 1 2 3 4 5 6 7 8 9]\n",
            "[1 3 5 7 9]\n"
          ],
          "name": "stdout"
        }
      ]
    },
    {
      "cell_type": "markdown",
      "metadata": {
        "id": "Ra6KKEFByKPV",
        "colab_type": "text"
      },
      "source": [
        ""
      ]
    },
    {
      "cell_type": "code",
      "metadata": {
        "id": "AcvyV8mByOYM",
        "colab_type": "code",
        "outputId": "d09c85f5-817b-404e-a807-e6669b5c79ae",
        "colab": {
          "base_uri": "https://localhost:8080/",
          "height": 107
        }
      },
      "source": [
        "# reshape()\n",
        "a = np.array(np.arange(30)).reshape((5,6))\n",
        "print(a)\n",
        "\n",
        "# 0부터 n-1 까지의 숫자를 생성하는 arange(n) 함수에 배열을 다차원으로 변형하는 \n",
        "# reshape()를 통해 배열을 생성\n",
        "\n",
        "\n"
      ],
      "execution_count": 0,
      "outputs": [
        {
          "output_type": "stream",
          "text": [
            "[[ 0  1  2  3  4  5]\n",
            " [ 6  7  8  9 10 11]\n",
            " [12 13 14 15 16 17]\n",
            " [18 19 20 21 22 23]\n",
            " [24 25 26 27 28 29]]\n"
          ],
          "name": "stdout"
        }
      ]
    },
    {
      "cell_type": "markdown",
      "metadata": {
        "id": "A84SOiVnybB9",
        "colab_type": "text"
      },
      "source": [
        "### Numpy 슬라이싱\n",
        " - ndarray를 통해 만든 다차원 배열은 파이썬의 리스트처럼 슬라이스(Slice) 기능을 지원\n",
        " "
      ]
    },
    {
      "cell_type": "code",
      "metadata": {
        "id": "8c55T-IvyhJU",
        "colab_type": "code",
        "outputId": "15e03cdb-f433-4038-af7f-de3cb6315fe7",
        "colab": {
          "base_uri": "https://localhost:8080/",
          "height": 125
        }
      },
      "source": [
        "import numpy as np\n",
        "a = np.array([[1, 2, 3], [4, 5, 6]])\n",
        "\n",
        "b = a[0:2, 0:2]\n",
        "print(b)\n",
        "\n",
        "# 다차원 배열을 슬라이싱하기 위해서는 각 차원 별로 슬라이스 범위를 지정\n",
        "print(\"다차원 배열 슬라이싱\")\n",
        "b =a[0, :]\n",
        "print(b)\n",
        "\n",
        "\n",
        "# 두번째 열 출력\n",
        "print(\"두 번째 열 출력\")\n",
        "b=a[:,1]\n",
        "print(b)\n"
      ],
      "execution_count": 0,
      "outputs": [
        {
          "output_type": "stream",
          "text": [
            "[[1 2]\n",
            " [4 5]]\n",
            "다차원 배열 슬라이싱\n",
            "[1 2 3]\n",
            "두 번째 열 출력\n",
            "[2 5]\n"
          ],
          "name": "stdout"
        }
      ]
    },
    {
      "cell_type": "markdown",
      "metadata": {
        "id": "E5ekKchrzA5c",
        "colab_type": "text"
      },
      "source": [
        "### Numpy 정수 인덱싱(integer indexing)\n",
        "\n",
        "- 정수 인덱싱은 원본 배열로부터 부분 배열을 구함.\n",
        "\n",
        "\n"
      ]
    },
    {
      "cell_type": "code",
      "metadata": {
        "id": "iqCANo1kzFQp",
        "colab_type": "code",
        "outputId": "ca65abc8-25af-4fd8-8b51-422744ef605a",
        "colab": {
          "base_uri": "https://localhost:8080/",
          "height": 35
        }
      },
      "source": [
        "import numpy as np\n",
        "\n",
        "a = np.array([[1,2], [4,5], [7,8]])\n",
        "\n",
        "b = a[[2,1],[1,0]] # [[row2, col1], [row1, col0]을 의미]\n",
        "print(b)"
      ],
      "execution_count": 0,
      "outputs": [
        {
          "output_type": "stream",
          "text": [
            "[8 4]\n"
          ],
          "name": "stdout"
        }
      ]
    },
    {
      "cell_type": "code",
      "metadata": {
        "id": "pDWZgb_UO4dW",
        "colab_type": "code",
        "colab": {}
      },
      "source": [
        "### Numpy 연산\n",
        " -Numpy를 사용하면 배열간 연산을 손쉽게 수행할 수 있습니다. +,-,*,/의 연산자를 사용할 수 있으며, 또는 add(), substract(),\n",
        " - multiply(), divide() 함수를 사용할 수도 있습니다.\n",
        " x "
      ],
      "execution_count": 0,
      "outputs": []
    },
    {
      "cell_type": "code",
      "metadata": {
        "id": "knZ6JfnTPJtz",
        "colab_type": "code",
        "outputId": "beb3dd6e-f54b-403d-f5dd-6271e5cae260",
        "colab": {
          "base_uri": "https://localhost:8080/",
          "height": 89
        }
      },
      "source": [
        "import numpy as np\n",
        "\n",
        "x = np.array([1,2,3])\n",
        "y = np.array([4,5,6])\n",
        "\n",
        "b = x + y # 각 요소에 대해서 더함\n",
        "# b = np.add(x,y)와 동일함\n",
        "print(b)\n",
        "\n",
        "b =  x - y # 각요소에 대해서 빼기\n",
        "# b = np.substract(x,y)와 동일함\n",
        "print(b)\n",
        "\n",
        "\n",
        "b = b * x # 각 요소에 대해서 곱셈\n",
        "# b = np.multiply(xy) 와 동일함\n",
        "print(b)\n",
        "\n",
        "b = b / x # 각 요소에 대해서 나눗셈\n",
        "# b = np.divide(b, x) 와 동일함\n",
        "print(b)\n",
        "\n"
      ],
      "execution_count": 0,
      "outputs": [
        {
          "output_type": "stream",
          "text": [
            "[5 7 9]\n",
            "[-3 -3 -3]\n",
            "[-3 -6 -9]\n",
            "[-3. -3. -3.]\n"
          ],
          "name": "stdout"
        }
      ]
    },
    {
      "cell_type": "markdown",
      "metadata": {
        "id": "TxRvtY8VRKRt",
        "colab_type": "text"
      },
      "source": [
        " - 위에서 *를 통해 수행한 것은 요소별 곱이었다. numpy에서 벡터와 행렬의 곱 또는 행렬곱을 위해서는 dot()을 사용해야 합니다.\n",
        " "
      ]
    },
    {
      "cell_type": "code",
      "metadata": {
        "id": "tlYUuAVERRh3",
        "colab_type": "code",
        "outputId": "050168f6-7ae6-4934-88aa-e8589fe5c97b",
        "colab": {
          "base_uri": "https://localhost:8080/",
          "height": 53
        }
      },
      "source": [
        "a = np.array([[1,2],[3,4]])\n",
        "b = np.array([[5,6],[7,8]])\n",
        "\n",
        "c = np.dot(a,b)\n",
        "print(c)"
      ],
      "execution_count": 0,
      "outputs": [
        {
          "output_type": "stream",
          "text": [
            "[[19 22]\n",
            " [43 50]]\n"
          ],
          "name": "stdout"
        }
      ]
    },
    {
      "cell_type": "markdown",
      "metadata": {
        "id": "spOflyVnSKwh",
        "colab_type": "text"
      },
      "source": [
        "# 맷플롯립(Matplotlib)\n",
        "\n",
        " - 데이터 차트(chat)나 플롯(plot)(plot)으로 시각화(visulaization)하는 패키지\n",
        " - 데이터 분석에서 Matplotlib)은 데이터 분석 이전에 데이터 이해를 위한 시각화나, 데이터 분석 후에 결과를 시각화하기 위해서 사용\n",
        "\n",
        "\n",
        " - pip install matplotlib 설치\n",
        "\n",
        "\n",
        " - ipython\n",
        "\n",
        "\n",
        "- Matplotlib의 주요 모듈인 pyplot을 임퐆트 할 수 있다. 해당 모듈을 임포트할 떄는 주로 plt라는 이름으로 사용.\n",
        "- 또한 주피터 노트북으로 matplotlib을 실습하기 위해서는 주피터 노트북에 그림을 표시하도록 지정 %matplotlib inline 또한 우선 수행해야함.\n",
        "\n",
        " "
      ]
    },
    {
      "cell_type": "code",
      "metadata": {
        "id": "oWpS0QUHSiqU",
        "colab_type": "code",
        "outputId": "9a139776-d3d0-46ff-b14f-0be7f2ae45f5",
        "colab": {
          "base_uri": "https://localhost:8080/",
          "height": 35
        }
      },
      "source": [
        "import matplotlib as mpl\n",
        "mpl.__version__\n",
        "\n",
        "\n",
        "\n",
        "\n",
        "\n"
      ],
      "execution_count": 0,
      "outputs": [
        {
          "output_type": "execute_result",
          "data": {
            "text/plain": [
              "'3.1.2'"
            ]
          },
          "metadata": {
            "tags": []
          },
          "execution_count": 8
        }
      ]
    },
    {
      "cell_type": "code",
      "metadata": {
        "id": "21_6bAzATr2G",
        "colab_type": "code",
        "colab": {}
      },
      "source": [
        "%matplotlib inline\n",
        "import matplotlib.pyplot as plt"
      ],
      "execution_count": 0,
      "outputs": []
    },
    {
      "cell_type": "markdown",
      "metadata": {
        "id": "TJizBWf5Tev9",
        "colab_type": "text"
      },
      "source": [
        "### 라인 플롯 그리기\n",
        "\n",
        "- plot()은 라인 플롯을 그리는 기능 수행.\n",
        "- plot() x축과 y축의 값을 기재하고 그림을 표시하는 show()를 통해 시각화. \n"
      ]
    },
    {
      "cell_type": "code",
      "metadata": {
        "id": "NY6-T-h-Tqvi",
        "colab_type": "code",
        "outputId": "af173491-9fab-4e09-d2dc-a925827624f6",
        "colab": {
          "base_uri": "https://localhost:8080/",
          "height": 281
        }
      },
      "source": [
        "%matplotlib inline\n",
        "import matplotlib.pyplot as plt\n",
        "\n",
        "plt.title('test')\n",
        "plt.plot([1,2,3,4], [2,4,6,7])\n",
        "plt.show()"
      ],
      "execution_count": 0,
      "outputs": [
        {
          "output_type": "display_data",
          "data": {
            "image/png": "[encoded data removed]",
            "text/plain": [
              "<Figure size 432x288 with 1 Axes>"
            ]
          },
          "metadata": {
            "tags": []
          }
        }
      ]
    },
    {
      "cell_type": "code",
      "metadata": {
        "id": "amfRuGRKRAXJ",
        "colab_type": "code",
        "colab": {
          "base_uri": "https://localhost:8080/",
          "height": 295
        },
        "outputId": "c4c879a7-8b60-436c-baf0-aa8182a0ea64"
      },
      "source": [
        "%matplotlib inline\n",
        "import matplotlib.pyplot as plt\n",
        "\n",
        "plt.title('test')\n",
        "plt.plot([1,2,3,4], [2,4, 8,6])\n",
        "plt.xlabel('hours')\n",
        "plt.ylabel('score')\n",
        "plt.show()"
      ],
      "execution_count": 4,
      "outputs": [
        {
          "output_type": "display_data",
          "data": {
            "image/png": "[encoded data removed]",
            "text/plain": [
              "<Figure size 432x288 with 1 Axes>"
            ]
          },
          "metadata": {
            "tags": []
          }
        }
      ]
    }
  ]
}