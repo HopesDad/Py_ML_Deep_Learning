{
  "nbformat": 4,
  "nbformat_minor": 0,
  "metadata": {
    "colab": {
      "name": "Pandas의 활용.ipynb",
      "provenance": [],
      "collapsed_sections": [],
      "authorship_tag": "ABX9TyM589zvQn8PzyFJQAr+UrBD"
    },
    "kernelspec": {
      "name": "python3",
      "display_name": "Python 3"
    }
  },
  "cells": [
    {
      "cell_type": "code",
      "metadata": {
        "id": "vk65T-j1m_Ko",
        "colab_type": "code",
        "colab": {
          "base_uri": "https://localhost:8080/",
          "height": 161
        },
        "outputId": "58c45e93-f1be-4d13-b71f-a527e0e6ebf1"
      },
      "source": [
        "# Pandas의 활용\n",
        "\n",
        "# 데이터 프레임의 마스킹\n",
        "\n",
        "import numpy as np\n",
        "import pandas as pd\n",
        "\n",
        "df = pd.DataFrame(np.random.randint(1, 10, (2, 2)), index=[0, 1], columns=[\"A\", \"B\"])\n",
        "# 데이터 프레임 출력하기\n",
        "print(df)\n",
        "# 컬럼 A의 각 원소가 5보다 작거나 같은지 출력\n",
        "print(df[\"A\"] <= 5)\n",
        "# 컬럼 A의 원소가 5보다 작고, 컬럼 B의 원소가 8보다 작은 행 추출\n",
        "print(df.query(\"A <= 5 and B <= 8\"))"
      ],
      "execution_count": 7,
      "outputs": [
        {
          "output_type": "stream",
          "text": [
            "   A  B\n",
            "0  4  9\n",
            "1  3  6\n",
            "0    True\n",
            "1    True\n",
            "Name: A, dtype: bool\n",
            "   A  B\n",
            "1  3  6\n"
          ],
          "name": "stdout"
        }
      ]
    },
    {
      "cell_type": "code",
      "metadata": {
        "id": "akhSuS0VnqIb",
        "colab_type": "code",
        "colab": {
          "base_uri": "https://localhost:8080/",
          "height": 179
        },
        "outputId": "a6d1a1fc-6cdf-4526-b73b-28844e32dfde"
      },
      "source": [
        "# 데이터 프레임의 개별 연산 ①\n",
        "\n",
        "import pandas as pd\n",
        "\n",
        "df = pd.DataFrame([[1, 2, 3, 4], [1, 2, 3, 4]], index=[0, 1], columns=[\"A\", \"B\", \"C\", \"D\"])\n",
        "print(df)\n",
        "\n",
        "df = df.apply(lambda x: x + 1)\n",
        "print(df)\n",
        "\n",
        "def addOne(x):\n",
        "  return x + 1\n",
        "  \n",
        "df = df.apply(addOne)\n",
        "print(df)"
      ],
      "execution_count": 13,
      "outputs": [
        {
          "output_type": "stream",
          "text": [
            "   A  B  C  D\n",
            "0  1  2  3  4\n",
            "1  1  2  3  4\n",
            "   A  B  C  D\n",
            "0  2  3  4  5\n",
            "1  2  3  4  5\n",
            "   A  B  C  D\n",
            "0  3  4  5  6\n",
            "1  3  4  5  6\n"
          ],
          "name": "stdout"
        }
      ]
    },
    {
      "cell_type": "code",
      "metadata": {
        "id": "MJIOJLsboOBY",
        "colab_type": "code",
        "colab": {
          "base_uri": "https://localhost:8080/",
          "height": 197
        },
        "outputId": "1a1958ab-eb14-4c9b-a49a-8b051f50e3ca"
      },
      "source": [
        "#데이터 프레임의 그룹화 ②\n",
        "\n",
        "import numpy as np\n",
        "import pandas as pd\n",
        "\n",
        "df = pd.DataFrame([\n",
        "  ['Apple', 7, 5, 'Fruit'],\n",
        "  ['Banana', 3, 6, 'Fruit'],\n",
        "  ['Beef', 5, 2, 'Meal'],\n",
        "  ['Kimchi', 4, 8, 'Meal']],\n",
        "  columns=[\"Name\", \"Frequency\", \"Importance\", \"Type\"])\n",
        "\n",
        "print(df)\n",
        "print(df.groupby(['Type']).aggregate([min, max, np.average]))\n",
        "\n"
      ],
      "execution_count": 17,
      "outputs": [
        {
          "output_type": "stream",
          "text": [
            "     Name  Frequency  Importance   Type\n",
            "0   Apple          7           5  Fruit\n",
            "1  Banana          3           6  Fruit\n",
            "2    Beef          5           2   Meal\n",
            "3  Kimchi          4           8   Meal\n",
            "      Frequency             Importance            \n",
            "            min max average        min max average\n",
            "Type                                              \n",
            "Fruit         3   7     5.0          5   6     5.5\n",
            "Meal          4   5     4.5          2   8     5.0\n"
          ],
          "name": "stdout"
        }
      ]
    }
  ]
}