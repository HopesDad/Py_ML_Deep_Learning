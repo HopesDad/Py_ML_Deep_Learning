{
  "nbformat": 4,
  "nbformat_minor": 0,
  "metadata": {
    "colab": {
      "name": "python_part5.ipynb",
      "provenance": []
    },
    "kernelspec": {
      "name": "python3",
      "display_name": "Python 3"
    }
  },
  "cells": [
    {
      "cell_type": "markdown",
      "metadata": {
        "id": "6GJ6aVOHXmwT",
        "colab_type": "text"
      },
      "source": [
        "# 문자열.format()\n",
        " - 문자열의 대괄호 자리에 format 뒤의 괄호안에 들어있는 값을 하나씩 넣는다.\n",
        " - 문자열에 포함된 대괄호 개수 보다 format안에 들어 있는 값의 수가 많으면 정상 작동\n",
        " - print('{ 번 손님'.format(number,greeting)) - 문자열에 포함된 대괄호 개수 보다 format안에 들어 있는 값의 수가 적으면 에러\n",
        " - print('{}번 손님 {}'.format(number))"
      ]
    },
    {
      "cell_type": "code",
      "metadata": {
        "id": "Oj-PGvyUX_rz",
        "colab_type": "code",
        "colab": {
          "base_uri": "https://localhost:8080/",
          "height": 71
        },
        "outputId": "815f3ac2-1e33-426d-9775-1d0fca8a1736"
      },
      "source": [
        "#예시\n",
        "\n",
        "\n",
        "number = 20\n",
        "welcome = '환영합니다'\n",
        "base = '{} 번 손님 {}'\n",
        "\n",
        "# 아래 3개의 print는 같은 값을 출력\n",
        "\n",
        "print(number,'번 손님',welcome)\n",
        "print(base.format(number,welcome))\n",
        "print('{} 번 손님 {}'.format(number,welcome))\n",
        "# =>20 번 손님 환영."
      ],
      "execution_count": 3,
      "outputs": [
        {
          "output_type": "stream",
          "text": [
            "20 번 손님 환영합니다\n",
            "20 번 손님 환영합니다\n",
            "20 번 손님 환영합니다\n"
          ],
          "name": "stdout"
        }
      ]
    },
    {
      "cell_type": "markdown",
      "metadata": {
        "id": "v549KokbYkla",
        "colab_type": "text"
      },
      "source": [
        "# 문자열\n",
        "\n",
        "### '또는' \"로 문자열 만들기\n",
        " - '또는 \"로 글의 양쪽을 감싸면 문자열로 인식\n",
        " - '로 감싼 문자열 안에는 \"를 쓸 수 있다.\n",
        " - \"로 감싼 문자열 안에는 '를 쓸 수 있다."
      ]
    },
    {
      "cell_type": "code",
      "metadata": {
        "id": "Sp5Yhp71Y-H7",
        "colab_type": "code",
        "colab": {}
      },
      "source": [
        "string1 = '따옴표로 싼 문자열 안에는 큰따옴표(\")를 사용할 수 있다.'\n",
        "string2 = \"큰따옴표로 싼 문자열 안에는 따옴표(')를 사용할 수 있다.\""
      ],
      "execution_count": 0,
      "outputs": []
    },
    {
      "cell_type": "markdown",
      "metadata": {
        "id": "nYQ0xcLtZH88",
        "colab_type": "text"
      },
      "source": [
        "#따옴표/큰따옴표 3개로 문자열 만들기\n",
        " - 줄 바꿈도 인식 가능\n",
        " - 따옴표와 큰따옴표를 섞어 쓸 수 있다."
      ]
    },
    {
      "cell_type": "code",
      "metadata": {
        "id": "4puznL-YZN-S",
        "colab_type": "code",
        "colab": {}
      },
      "source": [
        "string3= \"\"\"줄도 바꾸고 큰따옴표\"와 따옴표'를 마음대로 쓸 수 있음\"\"\""
      ],
      "execution_count": 0,
      "outputs": []
    }
  ]
}