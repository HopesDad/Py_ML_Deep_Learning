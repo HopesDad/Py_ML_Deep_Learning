{
  "nbformat": 4,
  "nbformat_minor": 0,
  "metadata": {
    "colab": {
      "name": "Google_Driver_Connect.ipynb",
      "provenance": []
    },
    "kernelspec": {
      "name": "python3",
      "display_name": "Python 3"
    }
  },
  "cells": [
    {
      "cell_type": "code",
      "metadata": {
        "id": "fZ5CP7jFcx3i",
        "colab_type": "code",
        "colab": {}
      },
      "source": [
        "# 코랩 연동 방법 \n",
        "# 1. 구글 드라이버 연동 후 파일 꺼내기."
      ],
      "execution_count": 0,
      "outputs": []
    },
    {
      "cell_type": "code",
      "metadata": {
        "id": "Y2Nj8LmSWJF_",
        "colab_type": "code",
        "colab": {}
      },
      "source": [
        "# 구글 코랩 드라이버 연동\n",
        "\n",
        "import os, sys \n",
        "from google.colab import drive \n",
        "drive.mount('/content/mnt') \n",
        "nb_path = '/content/notebooks' \n",
        "os.symlink('/content/mnt/My Drive/Colab Notebooks', nb_path) \n",
        "sys.path.insert(0, nb_path)\n"
      ],
      "execution_count": 0,
      "outputs": []
    },
    {
      "cell_type": "code",
      "metadata": {
        "id": "bH6I6ieea_4Y",
        "colab_type": "code",
        "colab": {
          "base_uri": "https://localhost:8080/",
          "height": 35
        },
        "outputId": "6d6e984d-8dd4-4b28-8b2b-7a4029682407"
      },
      "source": [
        "pwd\n"
      ],
      "execution_count": 14,
      "outputs": [
        {
          "output_type": "execute_result",
          "data": {
            "text/plain": [
              "'/content'"
            ]
          },
          "metadata": {
            "tags": []
          },
          "execution_count": 14
        }
      ]
    },
    {
      "cell_type": "code",
      "metadata": {
        "id": "de0-Mm7TbJBY",
        "colab_type": "code",
        "colab": {
          "base_uri": "https://localhost:8080/",
          "height": 35
        },
        "outputId": "0a535b5e-1c91-4b6a-b26d-b1ea6b9106fa"
      },
      "source": [
        "ls"
      ],
      "execution_count": 15,
      "outputs": [
        {
          "output_type": "stream",
          "text": [
            "\u001b[0m\u001b[01;34mmnt\u001b[0m/  \u001b[01;36mnotebooks\u001b[0m@  \u001b[01;34msample_data\u001b[0m/\n"
          ],
          "name": "stdout"
        }
      ]
    },
    {
      "cell_type": "code",
      "metadata": {
        "id": "lWTzmPllbPeI",
        "colab_type": "code",
        "colab": {
          "base_uri": "https://localhost:8080/",
          "height": 53
        },
        "outputId": "e7d4ca3e-6290-4f5a-b4df-09e83544ad74"
      },
      "source": [
        "cd /content/mnt/My Drive/Colab Notebooks"
      ],
      "execution_count": 11,
      "outputs": [
        {
          "output_type": "stream",
          "text": [
            "[Errno 2] No such file or directory: '/content/mnt/My Drive/Colab Notebooks'\n",
            "/content\n"
          ],
          "name": "stdout"
        }
      ]
    }
  ]
}