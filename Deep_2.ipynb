{
  "nbformat": 4,
  "nbformat_minor": 0,
  "metadata": {
    "colab": {
      "name": "Deep_2.ipynb",
      "provenance": [],
      "collapsed_sections": [],
      "include_colab_link": true
    },
    "kernelspec": {
      "name": "python3",
      "display_name": "Python 3"
    }
  },
  "cells": [
    {
      "cell_type": "markdown",
      "metadata": {
        "id": "view-in-github",
        "colab_type": "text"
      },
      "source": [
        "<a href=\"https://colab.research.google.com/github/Zero-Sik/Py_L/blob/master/Deep_2.ipynb\" target=\"_parent\"><img src=\"https://colab.research.google.com/assets/colab-badge.svg\" alt=\"Open In Colab\"/></a>"
      ]
    },
    {
      "cell_type": "code",
      "metadata": {
        "id": "HLPKcEQWHxo7",
        "colab_type": "code",
        "colab": {}
      },
      "source": [
        "num_friends = [100, 49, 41, 40, 25, 44, 33, 22, 11]"
      ],
      "execution_count": 0,
      "outputs": []
    },
    {
      "cell_type": "markdown",
      "metadata": {
        "id": "TkkWWpQ8H06H",
        "colab_type": "text"
      },
      "source": [
        "# 데이터 셋\n",
        "\n",
        " ### 중심 경향성\n",
        "  #### 데이터의 중심이 어디 있는지를 나타내는 중심 경향성(central tendency) 지표는 매우 중요.\n",
        "  - 데이터의 값을 데이터 포인의 개수로 나눈 평균(average)을 사용"
      ]
    },
    {
      "cell_type": "code",
      "metadata": {
        "id": "Cicf3hSWKJ5S",
        "colab_type": "code",
        "colab": {
          "base_uri": "https://localhost:8080/",
          "height": 295
        },
        "outputId": "23fb7a99-0295-405e-ceaa-198c6a5429a6"
      },
      "source": [
        "from collections import Counter\n",
        "\n",
        "from matplotlib import pyplot as plt\n",
        "\n",
        "friend_counts = Counter(num_friends)\n",
        "xs = range(101) # 최댓값이 100\n",
        "ys = [friend_counts[x] for x in xs]\n",
        "\n",
        "plt.bar(xs, ys)\n",
        "plt.axis([0, 101, 0 , 25])\n",
        "plt.title(\"Histogram of Friend Counts\")\n",
        "plt.xlabel(\"# of friends\")\n",
        "plt.ylabel(\"# of people\")\n",
        "plt.show()"
      ],
      "execution_count": 12,
      "outputs": [
        {
          "output_type": "display_data",
          "data": {
            "image/png": "[encoded data removed]",
            "text/plain": [
              "<Figure size 432x288 with 1 Axes>"
            ]
          },
          "metadata": {
            "tags": []
          }
        }
      ]
    },
    {
      "cell_type": "code",
      "metadata": {
        "id": "YpClpLu5ILOd",
        "colab_type": "code",
        "colab": {
          "base_uri": "https://localhost:8080/",
          "height": 35
        },
        "outputId": "137b0596-996a-476e-bb3f-b510991aa9ac"
      },
      "source": [
        "from __future__ import division\n",
        "\n",
        "def mean(x):\n",
        "  return sum(x) / len(x)\n",
        "\n",
        "mean(num_friends)\n",
        "\n",
        "\n",
        "\n"
      ],
      "execution_count": 4,
      "outputs": [
        {
          "output_type": "execute_result",
          "data": {
            "text/plain": [
              "40.55555555555556"
            ]
          },
          "metadata": {
            "tags": []
          },
          "execution_count": 4
        }
      ]
    },
    {
      "cell_type": "markdown",
      "metadata": {
        "id": "fqfMVLztLsOm",
        "colab_type": "text"
      },
      "source": [
        "- 데이터 포인트가 두 개라면 평균은 두 데이터 포인트의 정중앙에 위치한 값일 것이다. 데이터의 개수를 추가할수록, 평균은 각 데이터 포인트의 값에 따라 이동하게 된다.\n",
        "- 가끔은 중앙값(median)도 필요할 것이다. 데이터 포인트의 개수가 홀수라면, 중앙값은 전체 데이터에서 가장 중앙에 있는 데이터 포인트를 의미.\n",
        "- 데이터 포인트의 개수가 짝수라면 중앙값은 전체 데이터에서 가장 중앙에 있는 두 데이터 포인트의 평균이다."
      ]
    },
    {
      "cell_type": "code",
      "metadata": {
        "id": "Q4dFmxZ-JGg-",
        "colab_type": "code",
        "colab": {
          "base_uri": "https://localhost:8080/",
          "height": 35
        },
        "outputId": "ee566b08-6b31-4e22-e820-7a04994c426e"
      },
      "source": [
        "def median(v):\n",
        "  # v의 중앙값을 계산\n",
        "  n = len(v)\n",
        "  sorted_v = sorted(v)\n",
        "  midpoint = n // 2\n",
        "\n",
        "\n",
        "  if n % 2 == 1:\n",
        "    # 데이터 포인트의 개수가 홀수면 중앙값을 반환\n",
        "    return sorted_v[midpoint]\n",
        "  else:\n",
        "    # 데이터 포인트의 개수가 짝수면 두 중앙값의 평균을 반환\n",
        "    lo = midpoint - 1\n",
        "    hi = midpoint\n",
        "    return (sorted_v[lo] + sorted_v[hi] / 2)\n",
        "median(num_friends)"
      ],
      "execution_count": 5,
      "outputs": [
        {
          "output_type": "execute_result",
          "data": {
            "text/plain": [
              "40"
            ]
          },
          "metadata": {
            "tags": []
          },
          "execution_count": 5
        }
      ]
    },
    {
      "cell_type": "markdown",
      "metadata": {
        "id": "cdCgw4QdLpEE",
        "colab_type": "text"
      },
      "source": [
        "- 평균은 중앙값보다 계산하기 간편하며, 데이터가 바뀌어도 값의 변화가 더 부드럽다. 만약 n개의 데이터 포인트가 주어졌을 때, 데이터 포인트 한 개의 값이 작은 수 e만큼 증가한다면 평균은 e / n 만큼 증가.\n"
      ]
    },
    {
      "cell_type": "code",
      "metadata": {
        "id": "2SB2hGLhMdcO",
        "colab_type": "code",
        "colab": {
          "base_uri": "https://localhost:8080/",
          "height": 35
        },
        "outputId": "44ef5a4e-02fa-4547-e715-0b5978d3479f"
      },
      "source": [
        "def quantile(x,p):\n",
        "  p_index = int(p * len(x))\n",
        "  return sorted(x)[p_index]\n",
        "\n",
        "\n",
        "quantile(num_friends, 0.10)\n",
        "quantile(num_friends, 0.25)\n",
        "quantile(num_friends, 0.75)\n",
        "quantile(num_friends, 0.90)"
      ],
      "execution_count": 14,
      "outputs": [
        {
          "output_type": "execute_result",
          "data": {
            "text/plain": [
              "100"
            ]
          },
          "metadata": {
            "tags": []
          },
          "execution_count": 14
        }
      ]
    }
  ]
}