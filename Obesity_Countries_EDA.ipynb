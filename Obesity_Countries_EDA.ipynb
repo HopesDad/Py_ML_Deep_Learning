{
  "nbformat": 4,
  "nbformat_minor": 0,
  "metadata": {
    "colab": {
      "name": "Obesity_Countries_EDA.ipynb",
      "provenance": [],
      "authorship_tag": "ABX9TyNfZkiD8VugOJ3MeQb1tHG8"
    },
    "kernelspec": {
      "name": "python3",
      "display_name": "Python 3"
    }
  },
  "cells": [
    {
      "cell_type": "markdown",
      "metadata": {
        "id": "_g2qBAvXzvv8",
        "colab_type": "text"
      },
      "source": [
        "## EDA of Obesity data\n"
      ]
    },
    {
      "cell_type": "code",
      "metadata": {
        "id": "Lq5qiYAnzzFR",
        "colab_type": "code",
        "colab": {}
      },
      "source": [
        "# This Python 3 enviroment comes with many helpul anlytics libraries installed\n",
        "# It is defined by the kaggle/python Docker image : https:// github.com/kaggle/docker-python\n",
        "# For exmaple, here's serveral helpful packages to load"
      ],
      "execution_count": 0,
      "outputs": []
    }
  ]
}