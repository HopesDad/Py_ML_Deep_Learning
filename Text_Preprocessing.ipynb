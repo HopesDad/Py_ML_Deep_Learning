{
  "nbformat": 4,
  "nbformat_minor": 0,
  "metadata": {
    "colab": {
      "name": "Text_Preprocessing.ipynb",
      "provenance": [],
      "collapsed_sections": [],
      "include_colab_link": true
    },
    "kernelspec": {
      "name": "python3",
      "display_name": "Python 3"
    },
    "accelerator": "GPU"
  },
  "cells": [
    {
      "cell_type": "markdown",
      "metadata": {
        "id": "view-in-github",
        "colab_type": "text"
      },
      "source": [
        "<a href=\"https://colab.research.google.com/github/Zero-Sik/Py_ML_Deep_Learning/blob/master/Text_Preprocessing.ipynb\" target=\"_parent\"><img src=\"https://colab.research.google.com/assets/colab-badge.svg\" alt=\"Open In Colab\"/></a>"
      ]
    },
    {
      "cell_type": "markdown",
      "metadata": {
        "id": "P27kCx2unVVz",
        "colab_type": "text"
      },
      "source": [
        "# 텍스트 전처리(Text preprocessing)\n",
        "\n",
        " - 자연어 처리에 있어서 텍스트 전처리는 매우 중요한 작업이다.\n",
        " - 텍스트 전처리는 용도에 맞게 텍스트를 사전에 처리하는 작업(요리에 있어서 재료를 제대로 손질 하지 않으면, 요리가 제대로 되지 않는 것과 같다.).\n",
        " - 텍스트에 대해서 제대로 된 전처리를 하지 않으면 뒤에서 배울 자연어 처리 기법들이 제대로 동작 안함.\n",
        " "
      ]
    },
    {
      "cell_type": "markdown",
      "metadata": {
        "id": "VWDX869xvCyS",
        "colab_type": "text"
      },
      "source": [
        "## 토큰화(Tokenization)\n",
        " - 자연어 처리에서 크롤링 등으로 얻어낸 코퍼스 데이터가 필요에 맞게 전처리되지 않은 상태라면, 해당 데이터를 사용하고자하는 용도에 맞게 토큰회(tokenization) & 정제(cleaning) & 정규화(normalization)하는 일을 하게 됨.\n",
        "\n",
        " - 주어진 코퍼스(corpus)에서 토큰(token)이라 불리는 단위로 나누는 작업을 토큰화(tokenization)라고 부름.\n",
        " - 토큰의 단위가 상황에 따라 다르지만, 보통 의미있는 단위로 토큰을 정의함.\n",
        " - "
      ]
    },
    {
      "cell_type": "markdown",
      "metadata": {
        "id": "uzTmwr1SxlNu",
        "colab_type": "text"
      },
      "source": [
        "### 단어 토큰화(Word Tokenization)\n",
        " - 단어(Word)는 단어 단위 외에도 단어구, 의미를 갖는 문자열로도 간주됨.\n",
        " - 예) 아래의 입력으로부터 구두점(punctuation)과 같은 문자는 제외 시키는 간단한 단어 토큰화 작업 실시.\n",
        "  -구두점이란, 은점(.), 컴마(,), 물음표(?), 세미콜론(;), 느낌표(!) 등과 같은 기호.\n",
        "  - 입력 : Time is an illusion. Lunchtime double so!\n",
        "   - 이러한 입력으로부터 구두점을 제외시킨 토큰화 작업의 결과는 다음과 같다.\n",
        "    - 출력 : \"Time\", \"is\", \"an\", \"illusion\", 'double', \"so\"\n",
        "\n",
        "  - 예제에서 토큰화 작업은 굉장히 간단하며, 구두점을 지운 뒤에 띄어쓰기(whitespace)를 기준으로 잘라냄.\n",
        "\n",
        "\n",
        " - 특수문자를 전부 제거하는 정제(cleaning) 작업을 수행하는 것만으로 해결되지 않음.\n",
        " - 구두점이나 특수문자를 전부 제거하면 토큰이 의미를 잃어버리는 경우가 발생.\n",
        "\n",
        "\n",
        "\n",
        "\n",
        "### 토큰화 중 생기는 선택의 순간\n",
        " - 토큰화의 기준\n",
        "  - 해당 데이터를 가지고 어떤 용도로 사용할 것인지에 따라, 그 용도에 영향이 없는 기준으로 정하면 된다.\n",
        "  - 예) 영어권 언어에서 아포스트로피를(')가 들어가있는 단어는 어떻게 토큰으로 분류해야될까라는 문제\n",
        "\n",
        "   - 예) Don't be fooled by the dark sounding name, Mr. Jone's Orphanage is as cheery as cheery goes for a pastry shop.\n",
        "   아포스트로피가 들어간 상황에서 Don't와 Jone's는 어떻게 토큰화 시킴?\n",
        "\n",
        "\n",
        "   - Don't\n",
        "   - Don t\n",
        "   - Dont\n",
        "\n",
        "   - Do n't\n",
        "\n",
        "   Jone's\n",
        "   - Jone s\n",
        "   - Jone\n",
        "   - Jones\n",
        "\n",
        "\n",
        "  - 원하는 결과가 나오도록 토큰화 도구를 직접 설계할 수도 있지만, 기존에 공개된 도구들을 사용하였을 때의 결과가 사용자의 목적과 일치한다면 해당 도구를 사용할 수 도 있을 것임.\n",
        "  - NLTK는 영어 코퍼스를 토큰화하기 위한 도구를 제공.\n",
        "  - 그 중 work_tokenize와 WordPunctTokenizer를 사용해서 NLTK에서는 아포스트로피를 어덯게 처리하는지 확인.\n",
        "  "
      ]
    },
    {
      "cell_type": "code",
      "metadata": {
        "id": "JXBV0m9B3JM8",
        "colab_type": "code",
        "outputId": "5b5d7b66-10b8-4bac-d190-5334c41e43c9",
        "colab": {
          "base_uri": "https://localhost:8080/",
          "height": 54
        }
      },
      "source": [
        "from tensorflow.keras.preprocessing.text import text_to_word_sequence\n",
        "print(text_to_word_sequence(\"Don't be fooled by the dark sounding name, Mr. Jone's Orphanage is as cheery as cheery goes for a pastry shop.\"))"
      ],
      "execution_count": 0,
      "outputs": [
        {
          "output_type": "stream",
          "text": [
            "[\"don't\", 'be', 'fooled', 'by', 'the', 'dark', 'sounding', 'name', 'mr', \"jone's\", 'orphanage', 'is', 'as', 'cheery', 'as', 'cheery', 'goes', 'for', 'a', 'pastry', 'shop']\n"
          ],
          "name": "stdout"
        }
      ]
    },
    {
      "cell_type": "markdown",
      "metadata": {
        "id": "zlQytE_M4fNQ",
        "colab_type": "text"
      },
      "source": [
        "- word_tokenize는 Don't를 Do와 n't로 분리하였으며, 반면 Jone's는 Jone과 's로 분리한 것을 확인."
      ]
    },
    {
      "cell_type": "code",
      "metadata": {
        "id": "iMU9T9Kr4Lzm",
        "colab_type": "code",
        "outputId": "08d32fde-67b9-419b-d2f7-a5e0f8827bc3",
        "colab": {
          "base_uri": "https://localhost:8080/",
          "height": 55
        }
      },
      "source": [
        "from nltk.tokenize import WordPunctTokenizer  #wordPunctTokenizer\n",
        "print(WordPunctTokenizer().tokenize(\"Don't be fooled by the dark sounding name, Mr. Jone's Orphanage is as cheery as cheery goes for a pastry shop.\"))"
      ],
      "execution_count": 0,
      "outputs": [
        {
          "output_type": "stream",
          "text": [
            "['Don', \"'\", 't', 'be', 'fooled', 'by', 'the', 'dark', 'sounding', 'name', ',', 'Mr', '.', 'Jone', \"'\", 's', 'Orphanage', 'is', 'as', 'cheery', 'as', 'cheery', 'goes', 'for', 'a', 'pastry', 'shop', '.']\n"
          ],
          "name": "stdout"
        }
      ]
    },
    {
      "cell_type": "markdown",
      "metadata": {
        "id": "SyZdyzOj5V2T",
        "colab_type": "text"
      },
      "source": [
        "- WordPunctTokenizer는 구두점을 별도로 분류하는 특징을 갖고 있기 때문에, 앞서 확인했던 word_tokenize와는 달리 Don't를 Don과 '와 t로 분리함.\n"
      ]
    },
    {
      "cell_type": "code",
      "metadata": {
        "id": "27eMQYre5hsr",
        "colab_type": "code",
        "outputId": "34c2a533-8740-46a2-c6db-151e47f2d116",
        "colab": {
          "base_uri": "https://localhost:8080/",
          "height": 55
        }
      },
      "source": [
        "from tensorflow.keras.preprocessing.text import text_to_word_sequence\n",
        "print(text_to_word_sequence(\"Don't be fooled by the dark sounding name, Mr. Jone's Orphanage is as cheery as cheery goes for a pastry shop.\"))"
      ],
      "execution_count": 0,
      "outputs": [
        {
          "output_type": "stream",
          "text": [
            "[\"don't\", 'be', 'fooled', 'by', 'the', 'dark', 'sounding', 'name', 'mr', \"jone's\", 'orphanage', 'is', 'as', 'cheery', 'as', 'cheery', 'goes', 'for', 'a', 'pastry', 'shop']\n"
          ],
          "name": "stdout"
        }
      ]
    },
    {
      "cell_type": "markdown",
      "metadata": {
        "id": "cgcfwceH5sy9",
        "colab_type": "text"
      },
      "source": [
        "- 케라스의 text_to_word_sequence는 기본적으로 모든 알파뱃을 소문자로 바꾸면서 온점이나 컴마, 느낌표 등의 구두점을 제거. 하지만 don't나 'jone's와 같은 경우 아포스트로피는 보존.\n"
      ]
    },
    {
      "cell_type": "markdown",
      "metadata": {
        "id": "LDq6_pBt55Ts",
        "colab_type": "text"
      },
      "source": [
        "### 토큰화에서 고려해야할 사항\n",
        " - 토큰화 작업을 단순하게 코퍼스에서 구두점을 제외하고 공백 기준으로 잘라내는 작업이라고 간주할 수 없다.\n",
        " - 이러한 일은 섬세한 알고리즘이 필요한데, 왜 섬세해야하는지 그 이유를 정리할 것.\n",
        "\n",
        "\n",
        "  - 1) 구두점이나 특수 문자를 단순 제외해서는 안 된다.\n",
        "   - 갖고 있는 코퍼스에서 단어들을 걸러낼 떄, 구두점이나 특수 문자를 단순히 제외하는 것은 옳지 않다.\n",
        "   -코퍼스에 대한 정제 작업을 진행하다보면 구두점조차도 하나의 토큰으로 분류함.\n",
        "  \n",
        "\n",
        "  - 2) 줄임말과 단어 내에 띄어쓰기가 있는 경우\n",
        "   - 토큰화 작업에서 종종 영어권 언어의 아포스트로피(')는 압축된 단어를 다시 펼치는 역할을 하기도 한다.\n",
        "   - 예) what're는 what are의 줄임말. we're는 we are의 줄임말. \n",
        "   - 토큰화 작업은 저러한 단어를 하나로 인식할 수 있는 능력도 가져야함.\n",
        "   \n",
        "\n",
        "  - 3) 표준 토큰화 예제\n",
        "   - 이해를 돕기 위해, 표준으로 쓰이고 있는 토큰화 방법 중 하나인 Penn Treeback Tokenization의 규칙\n",
        "\n",
        "\n",
        "    - 규칙 1. 하이푼으로 구성된 단어는 하나로 유지.\n",
        "    - 규칙 2. doesn't와 같이 아포스트로피 '접어'가 함께하는 단어는 분리\n",
        "   \n",
        "    - 해당 표준에 아래의 문장을 input을 넣어줌\n",
        "   \n",
        "   - \"Starting a home-based restaurant may be an ideal. it doesn't have a food chain or restaurant of their own.\"\n",
        "   \n",
        "\n",
        "\n",
        "\n",
        "   "
      ]
    },
    {
      "cell_type": "code",
      "metadata": {
        "id": "1yQqBV1h-Qa6",
        "colab_type": "code",
        "outputId": "051d0ebc-b1a8-4fe6-aabc-45f2bda50448",
        "colab": {
          "base_uri": "https://localhost:8080/",
          "height": 55
        }
      },
      "source": [
        "from nltk.tokenize import TreebankWordTokenizer\n",
        "tokenizer = TreebankWordTokenizer()\n",
        "text=\"Starting a home-based restaurant may be an ideal. it doesn't have a food chain or restaurant of their own.\"\n",
        "print(tokenizer.tokenize(text))\n",
        "\n"
      ],
      "execution_count": 0,
      "outputs": [
        {
          "output_type": "stream",
          "text": [
            "['Starting', 'a', 'home-based', 'restaurant', 'may', 'be', 'an', 'ideal.', 'it', 'does', \"n't\", 'have', 'a', 'food', 'chain', 'or', 'restaurant', 'of', 'their', 'own', '.']\n"
          ],
          "name": "stdout"
        }
      ]
    },
    {
      "cell_type": "markdown",
      "metadata": {
        "id": "fNQjlTE--aRt",
        "colab_type": "text"
      },
      "source": [
        "- 결과를 보면, 각각 규칙1과 규칙2에 따라서 horm-based는 하나의 토큰으로 취급하고 있으며, dosen't의 경우 dose와 n't는 분리 되었음."
      ]
    },
    {
      "cell_type": "markdown",
      "metadata": {
        "id": "xo2gBNG1-0uv",
        "colab_type": "text"
      },
      "source": [
        "### 문장 토큰화(Sentence Tokenization)\n",
        "\n",
        "\n",
        " - 토큰의 단위가 문장(sentence)일 떄의 방법.\n",
        "\n",
        " - 코퍼스 내에서 문장 단위로 구분하는 작업으로 떄로는 문장 분류(sentence segmentation)라고 부름,\n",
        "\n",
        "\n",
        " - 코퍼스는 문장 단위로 구분되어 있지 않는 가능성이 높음.\n",
        " - 사용하고자 하는 용도에 맞게 하기 위해서는 문장 토큰화가 필요함.\n",
        "\n",
        "\n",
        "\n",
        " - EX1) IP 192.168.56.31 서버에 들어가서 로그 파일 저장해서 youngsik3200@gmail.com로 결과 보내기.\n",
        "\n",
        "\n",
        " - EX2) Since I'm actively looking for Ph.D sutends, I get the same question a dozen times every year.\n",
        "\n",
        "\n",
        " - 첫 문장 : 보내줘.\n",
        " - 두 번쨰 문장 : year.\n",
        "  - 단순히 온점(.)으로 문장을 구분짓는다고 가정하면, 문장의 끝이 나오기 전에 이미 온점이 여러번 등장하여 예상한 결과가 나오지 않게 됨.\n",
        "\n",
        "  - 그렇기 때문에 사용하는 코퍼스가 어떤 국적의 언어인지, 또는 해당 코퍼스 내에서 특수문자들이 어떻게 사용되고 있는지에 따라서 직접 규칙들을 정의해볼 수 있다.\n",
        "  - 물론, 100% 정확도를 얻는 일은 쉬운 일이 아님.\n",
        "  - 갖고 있는 코퍼스 데이터에 오타나, 문장의 구성이 엉망이라면 정해놓은 규칙이 소용이 없을 수 있음\n",
        "\n",
        "\n",
        "  -NLTK에서는 영어 문장의 토큰화를 수행하는 sent_tokenize를 지원\n",
        "\n",
        "\n",
        "  \n"
      ]
    },
    {
      "cell_type": "code",
      "metadata": {
        "id": "CD_ckQmdCGdF",
        "colab_type": "code",
        "outputId": "95e571a0-b45a-48e9-c54f-587457437470",
        "colab": {
          "base_uri": "https://localhost:8080/",
          "height": 54
        }
      },
      "source": [
        "from nltk.tokenize import sent_tokenize\n",
        "text=\"His barber kept his word. But keeping such a huge secret to himself was driving him crazy. Finally, the barber went up a mountain and almost to the edge of a cliff. He dug a hole in the midst of some reeds. He looked about, to mae sure no one was near.\"\n",
        "print(sent_tokenize(text))\n",
        "# text에 저장된 여러 개의 문장들로부터 문장을 구분하는 코드.\n"
      ],
      "execution_count": 0,
      "outputs": [
        {
          "output_type": "stream",
          "text": [
            "['His barber kept his word.', 'But keeping such a huge secret to himself was driving him crazy.', 'Finally, the barber went up a mountain and almost to the edge of a cliff.', 'He dug a hole in the midst of some reeds.', 'He looked about, to mae sure no one was near.']\n"
          ],
          "name": "stdout"
        }
      ]
    },
    {
      "cell_type": "code",
      "metadata": {
        "id": "Zb_4FfRLDCJu",
        "colab_type": "code",
        "outputId": "4b84aa1f-67a7-423e-cb89-85d4a23d778a",
        "colab": {
          "base_uri": "https://localhost:8080/",
          "height": 34
        }
      },
      "source": [
        "from nltk.tokenize import sent_tokenize\n",
        "text=\"I am actively looking for Ph.D. students. and you are a Ph.D student.\"\n",
        "print(sent_tokenize(text))"
      ],
      "execution_count": 0,
      "outputs": [
        {
          "output_type": "stream",
          "text": [
            "['I am actively looking for Ph.D. students.', 'and you are a Ph.D student.']\n"
          ],
          "name": "stdout"
        }
      ]
    },
    {
      "cell_type": "markdown",
      "metadata": {
        "id": "HfEACJ_2GSng",
        "colab_type": "text"
      },
      "source": [
        "  - NLTK는 단순히 온점을 구분자로 하여 문장을 구분하지 않기 때문에, Ph.D.를 문장내의 단어로 인식하여 성공적으로 인식하는 것을 볼 수 있음.\n",
        "\n",
        "  - 물론 한국어에 대한 묹아 토큰화 도구가 존재함.\n",
        "  - 한국어 대해 문장 토큰화 도구가 여럿있지만, 여기에서는 박상길님이 개발한 KSS(Korean Sentence Splitter).\n",
        "\n",
        "\n",
        "  - pip install kss"
      ]
    },
    {
      "cell_type": "markdown",
      "metadata": {
        "id": "JOGeICHYHkkc",
        "colab_type": "text"
      },
      "source": [
        ""
      ]
    },
    {
      "cell_type": "code",
      "metadata": {
        "id": "sm894LliHca0",
        "colab_type": "code",
        "outputId": "e1f6c745-6b49-40e4-c03f-a757308048cb",
        "colab": {
          "base_uri": "https://localhost:8080/",
          "height": 367
        }
      },
      "source": [
        "import kss  # 한국어 문장 사용.\n",
        "text='딥 러닝 자연어 처리가 재미있기는 합니다. 그런데 문제는 영어보다 한국어로 할 때 너무 어려워요. 농담아니에요. 이제 해보면 알걸요?'\n",
        "print(kss.split_sentences(text))"
      ],
      "execution_count": 0,
      "outputs": [
        {
          "output_type": "error",
          "ename": "ModuleNotFoundError",
          "evalue": "ignored",
          "traceback": [
            "\u001b[0;31m---------------------------------------------------------------------------\u001b[0m",
            "\u001b[0;31mModuleNotFoundError\u001b[0m                       Traceback (most recent call last)",
            "\u001b[0;32m<ipython-input-33-91728840296b>\u001b[0m in \u001b[0;36m<module>\u001b[0;34m()\u001b[0m\n\u001b[0;32m----> 1\u001b[0;31m \u001b[0;32mimport\u001b[0m \u001b[0mkss\u001b[0m  \u001b[0;31m# 한국어 문장 사용.\u001b[0m\u001b[0;34m\u001b[0m\u001b[0;34m\u001b[0m\u001b[0m\n\u001b[0m\u001b[1;32m      2\u001b[0m \u001b[0mtext\u001b[0m\u001b[0;34m=\u001b[0m\u001b[0;34m'딥 러닝 자연어 처리가 재미있기는 합니다. 그런데 문제는 영어보다 한국어로 할 때 너무 어려워요. 농담아니에요. 이제 해보면 알걸요?'\u001b[0m\u001b[0;34m\u001b[0m\u001b[0;34m\u001b[0m\u001b[0m\n\u001b[1;32m      3\u001b[0m \u001b[0mprint\u001b[0m\u001b[0;34m(\u001b[0m\u001b[0mkss\u001b[0m\u001b[0;34m.\u001b[0m\u001b[0msplit_sentences\u001b[0m\u001b[0;34m(\u001b[0m\u001b[0mtext\u001b[0m\u001b[0;34m)\u001b[0m\u001b[0;34m)\u001b[0m\u001b[0;34m\u001b[0m\u001b[0;34m\u001b[0m\u001b[0m\n",
            "\u001b[0;31mModuleNotFoundError\u001b[0m: No module named 'kss'",
            "",
            "\u001b[0;31m---------------------------------------------------------------------------\u001b[0;32m\nNOTE: If your import is failing due to a missing package, you can\nmanually install dependencies using either !pip or !apt.\n\nTo view examples of installing some common dependencies, click the\n\"Open Examples\" button below.\n\u001b[0;31m---------------------------------------------------------------------------\u001b[0m\n"
          ]
        }
      ]
    },
    {
      "cell_type": "markdown",
      "metadata": {
        "id": "XYfkX-yFHp0C",
        "colab_type": "text"
      },
      "source": [
        "### 이진 분류기(Binary Classifier)\n",
        " - 문장 토큰화에서의 예외 사항을 발생시키는 온점의 처리를 위해서 입력에 따라 두 개의 클래스로 분류하는 이진 분류기 사용.\n",
        "\n",
        " - 이진 분류기는 앞서 언급했듯이, 임의로 정한 여러가지 규칙을 코딩한 함수일 수도 있으며, 머신 러닝을 통해 이진 분류기를 구현하기도 함.\n",
        "\n",
        " - 온점(.)이 어떤 클래스에 속하는지 결정을 위해서는 어떤 온점이 주로 약어(abbreviation)으로 쓰이는 지 알아야 함.\n",
        " - https://public.oed.com/how-to-use-the-oed/abbreviations/\n",
        " - 이러한 문장 토큰화를 수행하는 오픈 소스로는 NLTK, OpenNLP, 스탠포드 CoreNLP, splitta, LingPipe 등이 있습니다. 문장 토큰화 규칙을 짤 때, 발생할 수 있는 여러가지 예외사항을 다룬 참고 자료로 아래 링크를 보면 좋습니다."
      ]
    },
    {
      "cell_type": "markdown",
      "metadata": {
        "id": "4w1gsm4TIHy7",
        "colab_type": "text"
      },
      "source": [
        "### 한국어에서의 토큰화의 어려움\n",
        " - 영어는 New York과 같은 합성어나 He's 와 같이 줄임말에 대한 예외처리만 한다면 띄어쓰기(Whitespace)를 기준으로 하는 띄어쓰기 토큰화를 수행해도 단어 토큰화가 잘 작동함.\n",
        "\n",
        "\n",
        " - 한국어의 경우에는 띄어쓰기 단위가 되는 단위를 '어절'이라고 하는데, 즉 어절 토큰화는 한국어 NPL에서 지양되고 있다.\n",
        " - 어절 토큰화와 단어 토큰화가 같지 않기 때문입니다. 그 근본적인 이유는 한국어가 영어와ㅇ는 다른 형태를 가지는 언어인 교착어라는 점에서 기인합니다.\n",
        "\n",
        "\n",
        "- 한국어는 교착어다.\n",
        " - 같은 단어임에도 서로 다른 조사가 붙어서 다른 단어로 인식이 되면 자연어 처리가 힘들고 번거로워지는 경우가 많다. 대부분의 한국어 NPL에서 조사는 분리해줄 필요가 있다.\n",
        " - 즉, 띄어쓰기 단위가 영어처럼 독립적인 단어라면 띄어쓰기 단위로 토큰화를 하면 되겠지만 한국어는 어절이 독립적인 단어로 구성되는 것이 아니라 조사 등의 무언가가 붙어있는 경우가 많아서 이를 전부 분리해줘야 한다는 의미.\n",
        "\n",
        "\n",
        " - 한국어 토큰화에서는 형태소(morpheme)란 개념을 반드시 이해해야 한다. 형태소(morphome)란 뜻을 가진 가장 작은 말의 단위를 말함.\n",
        "\n",
        "  - 자립 형태소 : 접사,어미, 조사와 상관없이 자립하여 사용할 수 있는 형태소, 그 자체로 단어가 된다. 체언(명사, 대명사, 수사) 수식언(관형사, 부사), 감탄사 등이 있다.\n",
        "  - 의존 형태소 : 다른 형태소와 결합하여 사용되는 형태소, 접사, 어미, 조사, 어간을 말한다.\n",
        "\n",
        "\n",
        "   - 예를 들어.\n",
        "    - 문장 : 에디가 딥러닝 책을 읽다.\n",
        "    - 이를 형태소 단위로 분해하면 다음과 같다.\n",
        "     -자립 형태소: 에디, 딥러닝책\n",
        "     -의존 형태소 : -가, -을, -읽, -있, -다\n",
        "\n",
        "  -이를 통해 유추할 수 있는 것은 한국어에서 영어에서의 단어 토큰화와 유사한 형태를 얻으려면 어절 토큰화가 아니라 형태소 토큰화를 수행.\n",
        "\n",
        "- 2) 한국어는 띄어쓰기가 영어보다 잘 지켜지지 않는다.\n",
        " - 한국어 코퍼스가 뉴스 기사와 같이 띄어쓰기를 철저하게 지키려고 노력 함.\n"
      ]
    },
    {
      "cell_type": "markdown",
      "metadata": {
        "id": "dX66DXmCAdch",
        "colab_type": "text"
      },
      "source": [
        "# 정제(Cleaning) and 정규화(Normalization)\n",
        "\n",
        "\n",
        "- 코퍼스에서 용도에 맞게 토큰을 분류하는 작업을 정규화(tokenization)라고 하며, 토큰화 작업 전, 후에는 텍스트 데이터를 용도에 맞게 정제(cleaning) 및 정규화(nNormalization)하는 일이 항상 함께합니다. 정제 및 정규화의 목적은 각각 다음과 같습니다.\n",
        "\n",
        " - 정제 : 갖고 있는 코퍼스로부터 노이즈 데이터를 제거함.\n",
        " - 정규화 : 표현 방법이 다른 단어들을 통합시켜서 같은 단어로 만듬.\n",
        "\n",
        "\n",
        "- 정제 작업은 토큰화 작업에 방해가 되는 부분들을 배제시키고 토큰화 작업을 수행하기 위해서 토큰화 작업보다 앞서 이루어지기도 하지만, 토큰화 작업 이후에도 여전히 남아있는 노이즈들을 제거하기위해 지속적으로 이루어지기도 함.\n",
        "- 사실 완벽한 정제 작업은 어려운 편이라서, 대부분의 경우 이 정도면 됐다. 라는 일종의 합의점을 찾음.\n",
        "\n",
        "\n"
      ]
    },
    {
      "cell_type": "markdown",
      "metadata": {
        "id": "oWi2y-Y8BfEs",
        "colab_type": "text"
      },
      "source": [
        "## 1. 규칙에 기반한 표기가 다른 단어들의 통합\n",
        "\n",
        "\n",
        " - USA와 US는 같은 의미를 가지므로, 하나의 단어로 정규화해볼 수 있다. \n",
        " -uh-huh와 uhhuh는 형태는 다르지만 여전히 같은 의미를 가지고 있다.\n",
        " - 이러한 정규화를 거치게 되면 US를 찾아도 USA도 함께 찾을 수 있다.\n",
        " "
      ]
    },
    {
      "cell_type": "markdown",
      "metadata": {
        "id": "OjkYgk-OKbEA",
        "colab_type": "text"
      },
      "source": [
        "## 2. 대, 소문자 통합\n",
        "\n",
        " - Automobile이라는 단어가 문장의 첫 단어였기 때문에 A가 대문자였다고 생각해도, 여기에 소문자 변환을 사용하면, automoblie을 찾는 질의(query)에서, 결과로서 Automobile도 찾게 됨.\n",
        "\n",
        "  - 예) 검색 엔진에서 사용자가 페라리 차량에 관심이 있어서 페라리를 검색할 경우 a Farraricar라고 봐야하는데, 하지만, 검색 엔진은 소문자 변환을 적용했을 것이기 때문에 ferrari만 쳐도 원하는 결과를 얻을 수 있음.\n",
        "\n",
        "\n",
        " - 머신 러닝 시퀀스 모델로 더 정확하게 진행시킬 수 있습니다. 하지만, 만약 올바른 대문자 단어를 얻고 싶은 상황에서, 훈련에 사용하는 코퍼스가 사용자들이 단어의 대문자, 소문자의 올바른 사용 방법과 상관없이 소문자를 사용하는 사람들로부터 나온 데이터라면 이러한 방법 또한 그다지 도움이 되자 않음.\n",
        " - 결국에는 예외사항을 크게 고려하지 않고, 모든 코퍼스를 소문자로 바꾸는 것이 종종 더 실용적인 해결책이 되기도 함.\n",
        "\n",
        " \n"
      ]
    },
    {
      "cell_type": "markdown",
      "metadata": {
        "id": "BL1m7knSMgkI",
        "colab_type": "text"
      },
      "source": [
        "## 불필요한 단어의 제거 (Removing Unnecessary Words)\n",
        "\n",
        "\n",
        " - 정제 작업에서 제거해야하는 노이즈 데이터(noise data)는 자연어가 아니면서 아무 의미도 갖지 않는 글자들(특수 문자 등)을 의미.\n",
        " -분석 하고자 하는 목적에 맞지 않는 불필요 단어들을 노이즈 데이터라고 하기도 함.\n",
        "\n",
        "  - 불필요 단어들을 제거하는 방법으로는 불용어 제거와 등장 빈도가 적은 단어, 길이가 짧은 단어들을 제거하는 방법이 있다.\n",
        "\n",
        "\n",
        "\n",
        " - (1) 등장 빈도가 적은 단어(Removing Rare words)\n",
        "  - 텍스트 데이터에서 너무 적게 등장해서 자연어 처리에 도움이 되지 앟는 단어들이 존재\n",
        "  - 입력된 메일이 정상 메일인지 스팸 메일인지를 분류하는 스팸 메일 분류기를 설계한다고 가정\n",
        "   - 총 100,000개의 메일을 가지고 정상 메일에서는 어떤 단어들이 주로 등장하고, 스팸 메일에서는 어떤 단어들이 주로 등장하는지를 가지고 설계\n",
        "   - 이때 100,000개의 메일 데이터에서 총 합 5번 밖에 등장하지 않은 단어가 있다면 이 단어는 직관적으로 분류에 거의 도움이 되지 않은 것을 알 수 잇음.\n",
        "\n",
        " - (2) 길이가 짧은 단어(Removing words with very a short length)\n",
        "  - 영어권 언어에서는 길이가 짧은 단어를 삭제하는 것만으로 어느정도 자연어 처리에서 크게 의미가 없는 단어를 제거하는 효과를 볼 수 있음.\n",
        "  - 길이가 짧은 단어를 제거하는 2차 이유는 길이를 조건으로 텍스트를 삭제하면서 단어가 아닌 구두점들까지도 한꺼번에 제거하기 위함도 있다.\n",
        "  - 그 이유는?\n",
        "   - 단정적으로 말할 수는 없지만, 확실한 사실은 영어 단어의 길이가 한국어 단어의 길이보다는 평균적으로 길다.\n",
        "\n",
        "   - 이는 영어 단어와 한국어 단어에서 각 한 글자가 가진 의미의 크기가 다르다는 점에서 기인함.\n",
        "   "
      ]
    },
    {
      "cell_type": "code",
      "metadata": {
        "id": "4cGnmqMOU0PV",
        "colab_type": "code",
        "outputId": "15374ae9-6061-4c5d-d266-56af0f1e7676",
        "colab": {
          "base_uri": "https://localhost:8080/",
          "height": 35
        }
      },
      "source": [
        "import re\n",
        "text = \"I was wondering if anyone out there could enlighten me on this car.\"\n",
        "shortword = re.compile(r'\\W*\\b\\w{1,2}\\b')\n",
        "print(shortword.sub('', text))"
      ],
      "execution_count": 0,
      "outputs": [
        {
          "output_type": "stream",
          "text": [
            " was wondering anyone out there could enlighten this car.\n"
          ],
          "name": "stdout"
        }
      ]
    },
    {
      "cell_type": "markdown",
      "metadata": {
        "id": "piAWg-wQWQnD",
        "colab_type": "text"
      },
      "source": [
        "## - 정규 표현식(Regular Expression)\n",
        " - 얻어낸 코퍼스에서 노이즈 데이터의 특징을 잡아낼 수 있다면, 정규 표현식을 통해서 이를 제거할 수 있는 경우가 있으며, 가령 HTML 문서로부터 가져온 코퍼스라면 문서 여기저기에 HTML 태그가 있으며, 뉴스 기사를 크롤링 했다면, 기사마다 게재 시간이 적혀져 있을 수 있습니다.\n",
        " - 정규 표현식은 이러한 코퍼스 내에 계속해서 등장하는 글자들을 규칙에 기반하여 한 번에 제거 하는 방식으로 매우 유용.\n",
        "\n",
        " "
      ]
    },
    {
      "cell_type": "markdown",
      "metadata": {
        "id": "a1DCv4w1J8OX",
        "colab_type": "text"
      },
      "source": [
        "# 어간 추출(Stemming) and 표제어 추출(Lemmatization)\n",
        "\n",
        "- 하나의 단어로 일반화 시켜서 문서 내의 단어 수를 줄임.\n",
        "\n",
        "\n",
        "### 표제어 추출(Lemmatization)\n",
        " - 표제어는 한글로는 '표제어' 또는 '기본 사전형 단어' 정도의 의미.\n",
        " - 표제어 추출은 단어들로부터 표제어를 찾아가는 과정.\n",
        " - 표제어 추출은 단어들이 다른 형태를 가지더라도 그 뿌리 단어를 찾아가서 단어의 개수를 줄일 수 있는지 판단.\n",
        " - 예) am, are is는 서로 다른 스펠리이지만 그 뿌리 단어는 be 라고 부름.\n",
        " \n",
        "\n",
        " - 표제어 추출을 하는 가장 섬세한 방법은 단어의 형태학적 파싱을 먼저 진행하는 것.\n",
        " -형태소란 '의미를 가진 가장 작은 단위'를 뜻함.\n",
        " \n",
        "  -형태소는 두 가지 종류 어간(sterm)과 접사(affix)\n",
        "   - 어간 : 단어의 의미를 담고 있는 단어의 핵심 부분.\n",
        "   - 접사 : 단어에 추가적인 의미를 주는 부분\n",
        "\n",
        "  - 형태학적 파싱은 이 두 가지 구성 요소를 분리하는 작업.\n",
        "  - 가령, cats라는 단어에 대해 형태학적 파싱을 수행했다면, 형태학적 파싱은 결과로 cat(어간)dhk -s(접사)를 분리\n",
        "  - 꼭 두 가지 분리되지 않는 경우도 있ㅇ음. 단어 fox는 형태학적 파싱을 한다고  하더라도 더 이상 분리할 수 없다. fox는 독립적인 형태소이기 떄문.\n",
        "\n",
        "\n",
        "   -NLTK에서는 표제어 추출을 위한 도구 WordNetLemmatizer를 지원\n",
        "\n",
        "   \n",
        "\n",
        "\n"
      ]
    },
    {
      "cell_type": "code",
      "metadata": {
        "id": "7P8z5cUCiKdp",
        "colab_type": "code",
        "outputId": "a2e00670-2cbf-4326-958d-680fe51a88c8",
        "colab": {
          "base_uri": "https://localhost:8080/",
          "height": 34
        }
      },
      "source": [
        "from nltk.stem import WordNetLemmatizer\n",
        "n=WordNetLemmatizer()\n",
        "words=['policy', 'doing', 'organization', 'have', 'going', 'love', 'lives', 'fly', 'dies', 'watched', 'has', 'starting']\n",
        "print([n.lemmatize(w) for w in words])"
      ],
      "execution_count": 0,
      "outputs": [
        {
          "output_type": "stream",
          "text": [
            "['policy', 'doing', 'organization', 'have', 'going', 'love', 'life', 'fly', 'dy', 'watched', 'ha', 'starting']\n"
          ],
          "name": "stdout"
        }
      ]
    },
    {
      "cell_type": "markdown",
      "metadata": {
        "id": "kkCxJmMIihaJ",
        "colab_type": "text"
      },
      "source": [
        " - WordNetLemmatizer는 입력으로 단어가 동사 품사라는 사실을 알려줄 수 있다. 즉, dies와 watched, has가 문장에서 동사로 쓰였다는 것을 알려준다면 표제어 추출기는 품사의 정보를 보존하면서 정확한 Lemma를 출력하게 됨.\n",
        " "
      ]
    },
    {
      "cell_type": "markdown",
      "metadata": {
        "id": "ScFJ2ojniw8O",
        "colab_type": "text"
      },
      "source": [
        "### 어간 추출(Stemming)\n",
        " - 어간을 추출하는 작업을 어간 추출(stemming)이라고 함.\n",
        " -어간 추출은 형태학적 분석을 단순화한 버전이라고 함, 정해진 규칙만 보고 단어의 어미를 자르는 어림짐작의 작업이라고 볼 수 있음.\n",
        " - 어간 추출 알고리즘 중 하나인 포터 알고리즘(Porter Algorithm)을 사용.\n",
        "\n",
        " - input : This was not the map we found in Billy Bones's chest, but an accurate copy, complete in all things--names and heights and soundings--with the single exception of the red crosses and the written notes.\n",
        "\n",
        "\n",
        "\n",
        "\n",
        " "
      ]
    },
    {
      "cell_type": "code",
      "metadata": {
        "id": "4RboQ8GkmQYB",
        "colab_type": "code",
        "outputId": "60020712-8353-4880-ac10-9acbb8551971",
        "colab": {
          "base_uri": "https://localhost:8080/",
          "height": 72
        }
      },
      "source": [
        "from nltk.stem import PorterStemmer\n",
        "from nltk.tokenize import word_tokenize\n",
        "s = PorterStemmer()\n",
        "text=\"This was not the map we found in Billy Bones's chest, but an accurate copy, complete in all things--names and heights and soundings--with the single exception of the red crosses and the written notes.\"\n",
        "words=word_tokenize(text)\n",
        "print(words)\n",
        "\n",
        "\n",
        "print([s.stem(w) for w in words])"
      ],
      "execution_count": 0,
      "outputs": [
        {
          "output_type": "stream",
          "text": [
            "['This', 'was', 'not', 'the', 'map', 'we', 'found', 'in', 'Billy', 'Bones', \"'s\", 'chest', ',', 'but', 'an', 'accurate', 'copy', ',', 'complete', 'in', 'all', 'things', '--', 'names', 'and', 'heights', 'and', 'soundings', '--', 'with', 'the', 'single', 'exception', 'of', 'the', 'red', 'crosses', 'and', 'the', 'written', 'notes', '.']\n",
            "['thi', 'wa', 'not', 'the', 'map', 'we', 'found', 'in', 'billi', 'bone', \"'s\", 'chest', ',', 'but', 'an', 'accur', 'copi', ',', 'complet', 'in', 'all', 'thing', '--', 'name', 'and', 'height', 'and', 'sound', '--', 'with', 'the', 'singl', 'except', 'of', 'the', 'red', 'cross', 'and', 'the', 'written', 'note', '.']\n"
          ],
          "name": "stdout"
        }
      ]
    },
    {
      "cell_type": "markdown",
      "metadata": {
        "id": "c2wyN56SpTBD",
        "colab_type": "text"
      },
      "source": [
        "- 위의 알고리즘의 결과에는 사전에 없는 단어들도 포함.\n",
        " -어간 추출은 단순 규칙에 기반하여 이루어짐.\n",
        "\n",
        "\n",
        " -가령, 포터 알고리즘의 어간 추룰은 이러한 규칙을 가짐.\n",
        "  -ALZE -> AL\n",
        "  - ANCE -> 제거\n",
        "  - ICAL -> IC\n",
        "  "
      ]
    },
    {
      "cell_type": "code",
      "metadata": {
        "id": "yXLXL5kipiuZ",
        "colab_type": "code",
        "outputId": "4e27fce0-fbb3-4b69-cbb3-cb401fbcda99",
        "colab": {
          "base_uri": "https://localhost:8080/",
          "height": 53
        }
      },
      "source": [
        "words=['formalize', 'allowance', 'electricical']\n",
        "print([s.stem(w) for w in words])\n",
        "['formal', 'allow', 'electric']"
      ],
      "execution_count": 0,
      "outputs": [
        {
          "output_type": "stream",
          "text": [
            "['formal', 'allow', 'electric']\n"
          ],
          "name": "stdout"
        },
        {
          "output_type": "execute_result",
          "data": {
            "text/plain": [
              "['formal', 'allow', 'electric']"
            ]
          },
          "metadata": {
            "tags": []
          },
          "execution_count": 9
        }
      ]
    },
    {
      "cell_type": "markdown",
      "metadata": {
        "id": "LzQUS4aGpmEE",
        "colab_type": "text"
      },
      "source": [
        "- 위의 규칙에 따라서 다음과 같은 결과가 나옵니다.\n",
        "formalize → formal\n",
        "allowance → allow\n",
        "electricical → electric\n",
        "\n",
        "\n",
        " - 어간 추출 속도는 표제어 추출보다 일반적으로 빠른데, 포터 어간 추출기는 정밀하게 설계되어 정확도가 높으므로 영어 자연어 처리에서 어간 추출을 하고자 한다면 가장 준수한 선택이다.\n",
        " - NLTK에서는 포터 알고리즘 외에도 랭커스터 스태머(Lancaster Stemmer) 알고리즘을 지원.\n",
        " "
      ]
    },
    {
      "cell_type": "code",
      "metadata": {
        "id": "o9Ze_Jsnp_7a",
        "colab_type": "code",
        "outputId": "e7826cba-0e80-4a41-b576-dc9ef24c1443",
        "colab": {
          "base_uri": "https://localhost:8080/",
          "height": 35
        }
      },
      "source": [
        "from nltk.stem import PorterStemmer\n",
        "s = PorterStemmer()\n",
        "\n",
        "words=['policy', 'doing', 'organization', 'have', 'going', 'love', 'lives', 'fly', 'dies', 'watched', 'has', 'starting']\n",
        "print([s.stem(w) for w in words])"
      ],
      "execution_count": 0,
      "outputs": [
        {
          "output_type": "stream",
          "text": [
            "['polici', 'do', 'organ', 'have', 'go', 'love', 'live', 'fli', 'die', 'watch', 'ha', 'start']\n"
          ],
          "name": "stdout"
        }
      ]
    },
    {
      "cell_type": "code",
      "metadata": {
        "id": "0KwFrf2FqL5P",
        "colab_type": "code",
        "outputId": "cd094934-4931-495a-d6ad-1395ae0e8f20",
        "colab": {
          "base_uri": "https://localhost:8080/",
          "height": 35
        }
      },
      "source": [
        "from nltk.stem import LancasterStemmer\n",
        "l=LancasterStemmer()\n",
        "words=['policy', 'doing', 'organization', 'have', 'going', 'love', 'lives', 'fly', 'dies', 'watched', 'has', 'starting']\n",
        "print([l.stem(w) for w in words])"
      ],
      "execution_count": 0,
      "outputs": [
        {
          "output_type": "stream",
          "text": [
            "['policy', 'doing', 'org', 'hav', 'going', 'lov', 'liv', 'fly', 'die', 'watch', 'has', 'start']\n"
          ],
          "name": "stdout"
        }
      ]
    },
    {
      "cell_type": "markdown",
      "metadata": {
        "id": "Vho3kQinqNn8",
        "colab_type": "text"
      },
      "source": [
        "- 동일한 단어들의 나열에 대해서 두 스태머는 전혀 다른 결과를 보여줌.\n",
        "- 두 스태머 알고리즘은 섷로 다른 알고리즘을 사용하기 떄문.\n",
        "- 이미 알려진 알고리즘을 사용할 때는, 사용하고자 하는 코퍼스에 스태머를 적용해보고 어떤 스태머가 해당 코퍼스에 적합한지를 판단 후에 사용.\n",
        "\n",
        "\n",
        "- 이러한 규칙에 기반한 알고리즘을 종종 제대로 된 일반화를 수행하지 못할 수 있음.\n",
        "- 어간 추출을 하고나서 일반화가 지나치게 되거나, 또는 덜 되거나 하는 경우\n",
        "\n",
        "- 포터 알고리즘에서 orgnization을 어간 추출했을 떄의 표\n",
        " - organization - >organ\n",
        "\n",
        "\n",
        "- 표제어 추출과 어간 추출을 각각 수행했을 때 결과\n",
        "\n",
        "- Stemming\n",
        "am → am\n",
        "the going → the go\n",
        "having → hav\n",
        "\n",
        "Lemmatization\n",
        "am → be\n",
        "the going → the going\n",
        "having → have\n",
        "\n",
        "\n",
        "\n",
        "### 한국어에서의 어간 추출\n",
        "\n",
        "- 언\t품사\n",
        "체언\t명사,대명사, 수사\n",
        "수식언\t관형사, 부사\n",
        "관계언\t조사\n",
        "독립언\t감탄사\n",
        "용언\t동사, 형용사\n",
        "\n",
        "- 이 중 용언에 해당되는 '동사'와 '형용사'는 어간stem)과 어미(ending)의 결합으로 구성.\n",
        "\n",
        "- 활용(conjugation)\n",
        " -규칙 활용은 어간이 어미를 취할 떄, 어간(stem)이 어미(ending)을 가지는 일을 말함.\n",
        "\n",
        "\n",
        " - 어간 : 용언(동사, 형용사)을 활용할 때, 원칙적으로 모양이 변하지 않는 부분, 활용해서 어미에 선행되는 부분, 때론 어간의 모양도 바뀔 수 있음(예: 긋다, 긋고, 그어서, 그어라)\n",
        "\n",
        " - 어미 : 용언의 어간 뒤에 붙어서 활용하면서 변하는 부분이며, 여러 문법적 기능을 수행\n",
        "  활용은 어간이 어미를 취할 떄, 어간의 모습이 일정하다면, 규칙 활용, 어간이나 어미의 모습이 변하는 불규칙 활용으로 나뉨.\n",
        "\n",
        "\n",
        "\n",
        "- 규칙 활용\n",
        " - 규칙 활용은 어간이 어미를 취할 때,어간의 모습이 일정함.\n",
        "  (예 : 어간과 어미가 합쳐질 때, 어간의 형태가 바뀌지 않음을 보여줌 잡/어간 + 다/어미)\n",
        "\n",
        "\n",
        "   - 이 경우에는 어간이 어미가 불기전의 모습과 어미가 붙은 후의 모습이 같으므로, 규칙 기반으로 어미를 단순히 분리해주면 어간 추출이 됨.\n",
        "\n",
        "\n",
        "\n",
        "  - 불규칙 활용\n",
        "\n",
        "   - 어간이 어미를 취할 때 어간의 모습이 바뀌거나 취하는 어미가 특수한 어미일 경우\n",
        "\n",
        "\n",
        "   - 예를 들어 ‘듣-, 돕-, 곱-, 잇-, 오르-, 노랗-’ 등이 ‘듣/들-, 돕/도우-, 곱/고우-, 잇/이-, 올/올-, 노랗/노라-’와 같이 어간의 형식이 달라지는 일이 있거나 ‘오르+ 아/어→올라, 하+아/어→하여, 이르+아/어→이르러, 푸르+아/어→푸르러’와 같이 일반적인 어미가 아닌 특수한 어미를 취하는 경우 불규칙활용을 하는 예에 속합니다.\n",
        "\n",
        "   - 이 경우에는 어간이 어미가 붙는 과정에서 어간의 모습이 바뀌었으므로 단순한 분리만으로 어간이 추출이 되지 않고 좀 더 복잡한 규칙을 필요로 함.\n",
        "\n",
        "\n",
        "   아래의 링크는 다양한 불규칙 활용의 예를 보여줍니다.\n",
        "링크 : https://namu.wiki/w/한국어/불규칙%20활용\n",
        "\n",
        "\n",
        "\n",
        "\n",
        "\n",
        "\n",
        "\n"
      ]
    },
    {
      "cell_type": "markdown",
      "metadata": {
        "id": "fFk7RS6g2kl4",
        "colab_type": "text"
      },
      "source": [
        "# 불용어(Stopword)\n",
        "\n",
        "\n",
        " -갖고 있는 데이터에서 유의미한 단어 토큰만으로 선별하기 위해서는 큰 의미가 없는 단어 토큰을 제거하는 작업이 필요하며, 여기서 큰 의미가 없다라는 것은 자주 등장 하지만 분석을 하는 것에 있어서는 큰 도움이 되지 않는 단어들을 말함.\n",
        "\n",
        " - 예) i, my, me, over, 조사, 접미사 같은 단어들은 문장에서는 자주 등장하지만 실제 의미 분석을 하는데는 거의 기여하는 바가 없습니다. 이러한 단어들을 불용어(Stopword)라고 하며, NLTK에서는 위와 같은 100여개 이상의 영어 단어들을 불용어로 패키지 내에서 미리 정의.\n",
        "\n",
        "\n",
        " "
      ]
    },
    {
      "cell_type": "code",
      "metadata": {
        "id": "YV3iCJc83Wjb",
        "colab_type": "code",
        "colab": {}
      },
      "source": [
        "from nltk.corpus import stopwords  \n",
        "stopwords.words('english')[:10] \n",
        "\n",
        "['i', 'me', 'my', 'myself', 'we', 'our', 'ours', 'ourselves', 'you', 'your']  "
      ],
      "execution_count": 0,
      "outputs": []
    },
    {
      "cell_type": "markdown",
      "metadata": {
        "id": "KuVHXPL43YqL",
        "colab_type": "text"
      },
      "source": [
        "- NLTK 정의한 영어 불용어 리스트를 리턴합니다. 출력 결과 100개 이상이기 때문에 여기서는 간단히 10개만 확인.\n",
        "\n"
      ]
    },
    {
      "cell_type": "code",
      "metadata": {
        "id": "7jKqUZe93fzE",
        "colab_type": "code",
        "outputId": "66c36a48-67ab-4afa-fc92-7bc82bc2fe88",
        "colab": {
          "base_uri": "https://localhost:8080/",
          "height": 52
        }
      },
      "source": [
        "from nltk.corpus import stopwords \n",
        "from nltk.tokenize import word_tokenize\n",
        "\n",
        "example = \"Family is not an important thing. It's everthing.\"\n",
        "stop_words = set(stopwords.words('english'))\n",
        "\n",
        "\n",
        "word_tokens = word_tokenize(example)\n",
        "\n",
        "result = []\n",
        "\n",
        "for w in word_tokens:\n",
        "  if w not in stop_words:\n",
        "    result.append(w)\n",
        "\n",
        "\n",
        "print(word_tokens)\n",
        "print(result)"
      ],
      "execution_count": 0,
      "outputs": [
        {
          "output_type": "stream",
          "text": [
            "['Family', 'is', 'not', 'an', 'important', 'thing', '.', 'It', \"'s\", 'everthing', '.']\n",
            "['Family', 'important', 'thing', '.', 'It', \"'s\", 'everthing', '.']\n"
          ],
          "name": "stdout"
        }
      ]
    },
    {
      "cell_type": "markdown",
      "metadata": {
        "id": "3vhHet4zBgE0",
        "colab_type": "text"
      },
      "source": [
        "- 위 코드는 \"Family is not an important thing. It's everything 라는 임의의 문장을 정의하고, NLTK가 정의하고 있는 불용어를제외한 결과를 출력함.\n",
        " - 'is' 'not', 'an'과 같은 단어들이 문장에서 제거."
      ]
    },
    {
      "cell_type": "markdown",
      "metadata": {
        "id": "9CJf351uBv9V",
        "colab_type": "text"
      },
      "source": [
        "## 한국어에서 불용어 제거하기\n",
        "\n",
        " - 한국에서 불용어를 제거하는 방법으로는 간단하게 토큰화 후에 조사, 접속사 등을 제거하는 방법 있음.\n",
        " -불용어를 제거하려고 하다보면 조사나 접속사와 같은 단어들분만 아니라, 명사, 형용사와 같은 단어들 중에서 불용어로서 제거하고 싶은 단어들이 생기기도 함.\n",
        " - 결국 사용자가 직접 불용어 사전을 만들게 되는 경우가 많음.\n",
        " "
      ]
    },
    {
      "cell_type": "code",
      "metadata": {
        "id": "DCCk5iqnCBJf",
        "colab_type": "code",
        "outputId": "f785b6e8-f23c-4686-8a43-e6bc7c02960c",
        "colab": {
          "base_uri": "https://localhost:8080/",
          "height": 72
        }
      },
      "source": [
        "from nltk.corpus import stopwords \n",
        "from nltk.tokenize import word_tokenize \n",
        "\n",
        "example = \"고기를 아무렇게나 구우려고 하면 안 돼. 고기라고 다 같은 게 아니거든. 예컨대 삼겹살을 구울 때는 중요한 게 있지.\"\n",
        "stop_words = \"아무거나 아무렇게나 어찌하든지 같다 비슷하다 예컨대 이럴정도로 하면 아니거든\"\n",
        "# 위의 불용어는 명사가 아닌 단어 중에서 저자가 임의로 선정한 것으로 실제 의미있는 선정 기준이 아님\n",
        "stop_words=stop_words.split(' ')\n",
        "word_tokens = word_tokenize(example)\n",
        "\n",
        "\n",
        "result = []\n",
        "\n",
        "for w in word_tokens:\n",
        "  if w not in stop_words:\n",
        "    result.append(w)\n",
        "\n",
        "\n",
        "# 위의 4줄은 아래의 한 줄로 대체 가능\n",
        "# result=[word for word in word_tokens if not word in stop_words]\n",
        "\n",
        "\n",
        "print(word_tokens)\n",
        "print(result)"
      ],
      "execution_count": 0,
      "outputs": [
        {
          "output_type": "stream",
          "text": [
            "['고기를', '아무렇게나', '구우려고', '하면', '안', '돼', '.', '고기라고', '다', '같은', '게', '아니거든', '.', '예컨대', '삼겹살을', '구울', '때는', '중요한', '게', '있지', '.']\n",
            "['고기를', '구우려고', '안', '돼', '.', '고기라고', '다', '같은', '게', '.', '삼겹살을', '구울', '때는', '중요한', '게', '있지', '.']\n"
          ],
          "name": "stdout"
        }
      ]
    },
    {
      "cell_type": "markdown",
      "metadata": {
        "id": "DZdXsrvvEJZR",
        "colab_type": "text"
      },
      "source": [
        "# 정규 표현식(Regular Exression)\n",
        "\n",
        "### 정규 표현식 문법과 모듈 함수\n",
        " - 파이썬에서는 정규 표현식 모듈 re을 지원하므로, 이를 이용하면 특정 규칙이 있는 텍스트 데이터를 빠르게 정제할 수 있다.\n",
        " -정규 표현식에 대해서 실습\n",
        "\n",
        "  - 1) 정규 표현식 문법\n",
        "   - ![image.png](data:image/png;base64,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)\n",
        "\n",
        "   \n"
      ]
    },
    {
      "cell_type": "markdown",
      "metadata": {
        "id": "N5ICsmgGFALP",
        "colab_type": "text"
      },
      "source": [
        "- 정규표현식 모듈 함수\n",
        " - ![image.png](data:image/png;base64,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)\n",
        "\n",
        " -re.compile()에 정규 표현식을 컴파일 하고, re.search()를 통해 해당 정규 표현식이 입력 텍스트와 매치되는지를 확인."
      ]
    },
    {
      "cell_type": "markdown",
      "metadata": {
        "id": "4d08Ge7sGFyF",
        "colab_type": "text"
      },
      "source": [
        "- .  < --- 기호\n",
        "\n",
        "\n",
        " - .은 한 개의 임의의 문자를 나타냄. \n",
        "  -예) 정규 표현식이 a,c라고 합시다. a와 c 사이에는 어떤 1개의 문자라도 올 수 잇음. 즉, akc,azc,avc,a5c,a!c와 같은 형태는 모두 a,c의 정규 표현식과 매치 함.\n",
        "\n",
        "\n",
        "  i"
      ]
    },
    {
      "cell_type": "code",
      "metadata": {
        "id": "yb2L_9gsLwED",
        "colab_type": "code",
        "outputId": "700a3d39-78d2-45d2-ebec-67a48ebf05e5",
        "colab": {
          "base_uri": "https://localhost:8080/",
          "height": 34
        }
      },
      "source": [
        "import re\n",
        "r=re.compile(\"a.c\")\n",
        "r.search(\"kkk\") # 아무런 결과도 출력되지 않는다.\n",
        "r.search(\"abc\")"
      ],
      "execution_count": 0,
      "outputs": [
        {
          "output_type": "execute_result",
          "data": {
            "text/plain": [
              "<_sre.SRE_Match object; span=(0, 3), match='abc'>"
            ]
          },
          "metadata": {
            "tags": []
          },
          "execution_count": 3
        }
      ]
    },
    {
      "cell_type": "markdown",
      "metadata": {
        "id": "iHkm2mKAN16O",
        "colab_type": "text"
      },
      "source": [
        "- 위의 코드는 search의 입력으로 들어오는 문자열에 정규표현식 패턴 a,c이 존재하는 지 확인하는 코드\n",
        "\n",
        "\n"
      ]
    },
    {
      "cell_type": "markdown",
      "metadata": {
        "id": "OtwACSCsN8BX",
        "colab_type": "text"
      },
      "source": [
        "- ? 기호\n",
        " - ?는 ? 앞의 문자가 존재할 수도 있고, 존재하지 않을 수도 있는 경우를 나타냄.\n",
        "  - 예) 정규 표현식이 ab?c라고 함. 이 경우 이 정규 표현식에서의 b는 있다고 취급할 수도 있고, 없다고 취급할 수 있음. 즉, abc와 ac모두 매치 가능.\n",
        "\n"
      ]
    },
    {
      "cell_type": "code",
      "metadata": {
        "id": "hd10g6slOMXa",
        "colab_type": "code",
        "outputId": "450ef55b-5832-441a-a6b5-b528a34c9c13",
        "colab": {
          "base_uri": "https://localhost:8080/",
          "height": 34
        }
      },
      "source": [
        "import re\n",
        "r=re.compile(\"ab?c\")\n",
        "r.search(\"abbc\") # 아무런 결과도 출력되지 않는다.\n",
        "r.search(\"abc\")\n",
        "# b가 있는 것으로 판단하여 abc를 매치하는 것을 볼 수 있음.\n",
        "r.search(\"ac\")"
      ],
      "execution_count": 0,
      "outputs": [
        {
          "output_type": "execute_result",
          "data": {
            "text/plain": [
              "<_sre.SRE_Match object; span=(0, 2), match='ac'>"
            ]
          },
          "metadata": {
            "tags": []
          },
          "execution_count": 5
        }
      ]
    },
    {
      "cell_type": "markdown",
      "metadata": {
        "id": "iOVwjWedH1j5",
        "colab_type": "text"
      },
      "source": [
        " - * 기호 \n",
        "  - *은 바로 앞의 문자가 0개 이상일 경우를 나타냄.\n",
        "   - 앞의 문자는 존재하지 않을 수도 있으며, 또는 여러 개잉ㄹ 수도 있다.\n",
        "   - 예) 정규 표현식이 abc라고 하자. 그렇다면 ac, abc, abbc, abbbc 등과 매치할 수 있으며 b의 갯수는 무수히 많아도 상관 없다.\n",
        "   "
      ]
    },
    {
      "cell_type": "code",
      "metadata": {
        "id": "lpzdSU1MIYsW",
        "colab_type": "code",
        "outputId": "44366f2b-9f5b-4f2a-de7b-5b9638f453b3",
        "colab": {
          "base_uri": "https://localhost:8080/",
          "height": 34
        }
      },
      "source": [
        "import re\n",
        "r=re.compile(\"ab*c\")\n",
        "r.search(\"a\") # 아무런 결과도 출력되지 않는다.\n",
        "r.search(\"ac\")\n",
        "\n",
        "r.search(\"abbbbc\") "
      ],
      "execution_count": 0,
      "outputs": [
        {
          "output_type": "execute_result",
          "data": {
            "text/plain": [
              "<_sre.SRE_Match object; span=(0, 6), match='abbbbc'>"
            ]
          },
          "metadata": {
            "tags": []
          },
          "execution_count": 8
        }
      ]
    },
    {
      "cell_type": "markdown",
      "metadata": {
        "id": "mvvFFgGmIwYp",
        "colab_type": "text"
      },
      "source": [
        "- + 기호\n",
        " - + 는 * 와 유사함.  하지만 다른 점은 앞의 문자가 최소 1개 이상이여야 한다는 점.\n",
        " - 예 ) 정규 표현식이 ab+c라고 한다면, ac는 매치 안됨. \n",
        "\n",
        " "
      ]
    },
    {
      "cell_type": "code",
      "metadata": {
        "id": "bV8wy5kMJMVf",
        "colab_type": "code",
        "outputId": "765f69af-a008-4170-937c-672beca69ec0",
        "colab": {
          "base_uri": "https://localhost:8080/",
          "height": 34
        }
      },
      "source": [
        "import re\n",
        "r =re.compile(\"ab*c\")\n",
        "r.search(\"ac\")\n",
        "\n",
        "\n",
        "r.search(\"abc\")"
      ],
      "execution_count": 0,
      "outputs": [
        {
          "output_type": "execute_result",
          "data": {
            "text/plain": [
              "<_sre.SRE_Match object; span=(0, 3), match='abc'>"
            ]
          },
          "metadata": {
            "tags": []
          },
          "execution_count": 9
        }
      ]
    },
    {
      "cell_type": "markdown",
      "metadata": {
        "id": "HOWyDciEJV-b",
        "colab_type": "text"
      },
      "source": [
        "- ^ 기호\n",
        " - ^ 는 시작되는 글자를 자정합니다. 가령 정규표현식이 ^a라면 a로 시작되는 문자열만 찾음.\n",
        " "
      ]
    },
    {
      "cell_type": "code",
      "metadata": {
        "id": "caLkqlnpJb2w",
        "colab_type": "code",
        "outputId": "fe163848-5d8d-4043-b56a-5c1c379b5a37",
        "colab": {
          "base_uri": "https://localhost:8080/",
          "height": 34
        }
      },
      "source": [
        "import re\n",
        "r=re.compile(\"^a\")\n",
        "r.search(\"bbc\") \n",
        "\n",
        "r.search(\"ab\")\n",
        "\n",
        "# bbc는 a로 시작되지 않지만, ab는 a로 시작되기 때문에 매치 됨.\n"
      ],
      "execution_count": 0,
      "outputs": [
        {
          "output_type": "execute_result",
          "data": {
            "text/plain": [
              "<_sre.SRE_Match object; span=(0, 1), match='a'>"
            ]
          },
          "metadata": {
            "tags": []
          },
          "execution_count": 10
        }
      ]
    },
    {
      "cell_type": "markdown",
      "metadata": {
        "id": "HyM9FB9rJmJ5",
        "colab_type": "text"
      },
      "source": [
        "- {숫자1, 숫자2} 기호\n",
        "\n",
        " - 문자에 해당 기호를 붙이면, 해당 문자를 숫자1 이상 숫자2 이하만큼 반복\n",
        " - 예를 들어서 정규  표현식이 ab{2,8}c라면 a와 c 사이에 b가 존재하면서 b는 2개 이상 8개 이하인 문자열에 대해서 매치\n",
        "\n",
        " "
      ]
    },
    {
      "cell_type": "code",
      "metadata": {
        "id": "bTBUiNVIKfG6",
        "colab_type": "code",
        "outputId": "5df6c5cd-37a0-4374-c2fc-8799c87ddc3a",
        "colab": {
          "base_uri": "https://localhost:8080/",
          "height": 34
        }
      },
      "source": [
        "import re\n",
        "r=re.compile(\"ab{2,8}c\")\n",
        "r.search(\"ac\") # 아무런 결과도 출력되지 않는다.\n",
        "r.search(\"ac\") # 아무런 결과도 출력되지 않는다.\n",
        "r.search(\"abc\") # 아무런 결과도 출력되지 않는다.\n",
        "r.search(\"abbc\")"
      ],
      "execution_count": 0,
      "outputs": [
        {
          "output_type": "execute_result",
          "data": {
            "text/plain": [
              "<_sre.SRE_Match object; span=(0, 4), match='abbc'>"
            ]
          },
          "metadata": {
            "tags": []
          },
          "execution_count": 15
        }
      ]
    },
    {
      "cell_type": "markdown",
      "metadata": {
        "id": "u14uj8paK60n",
        "colab_type": "text"
      },
      "source": [
        "- {숫자,} 기호\n",
        " - 문자에 해당 기호를 붙이면 해당 문자를 숫자 이상 만큼 반복.\n",
        " - 예) 정규  표현식이 a{2,}bc라면 뒤에 bc가 붙으면서 a의 갯수가 2개 이상인 경우인 문자열과 매치.\n",
        " - 또한 만약 {0,}을 쓴다면 *와 동일한 의미가 되며, {1.}을 쓴다면 +와 동일한 의미\n",
        " "
      ]
    },
    {
      "cell_type": "code",
      "metadata": {
        "id": "1JEvJGHFLWWp",
        "colab_type": "code",
        "outputId": "b69edb63-2814-43d2-d8be-4d6c968318a1",
        "colab": {
          "base_uri": "https://localhost:8080/",
          "height": 34
        }
      },
      "source": [
        "import re\n",
        "r=re.compile(\"[abc]\") # [abc]는 [a-c]와 같다.\n",
        "r.search(\"zzz\") # 아무런 결과도 출력되지 않는다.\n",
        "r.search(\"a\")"
      ],
      "execution_count": 0,
      "outputs": [
        {
          "output_type": "execute_result",
          "data": {
            "text/plain": [
              "<_sre.SRE_Match object; span=(0, 1), match='a'>"
            ]
          },
          "metadata": {
            "tags": []
          },
          "execution_count": 19
        }
      ]
    },
    {
      "cell_type": "markdown",
      "metadata": {
        "id": "03v_m4kXsFEd",
        "colab_type": "text"
      },
      "source": [
        "- [] 기호\n",
        " - [] 안에 문자들을 넣으면 그 문자들 중 한 개의 문자와 매치라는 의미를 가짐.\n",
        "  예를 들어서 정규 표현식이 [abc]라면, a 또는 b또는 c가 들어가있는 문자열과 매치됨.\n",
        "\n",
        "\n",
        "  "
      ]
    },
    {
      "cell_type": "code",
      "metadata": {
        "id": "lA79U8P1sO2Y",
        "colab_type": "code",
        "colab": {
          "base_uri": "https://localhost:8080/",
          "height": 34
        },
        "outputId": "c742e3f1-a52b-464a-fea3-0864c9e82dba"
      },
      "source": [
        "import re\n",
        "\n",
        "r = re.compile(\"[abc]\")\n",
        "r.search(\"zzz\")\n",
        "\n",
        "\n",
        "r.search(\"a\")\n",
        "\n",
        "r.search(\"aaaaaaa\")\n",
        "\n",
        "\n",
        "\n",
        "r.search(\"baac\")"
      ],
      "execution_count": 3,
      "outputs": [
        {
          "output_type": "execute_result",
          "data": {
            "text/plain": [
              "<_sre.SRE_Match object; span=(0, 1), match='b'>"
            ]
          },
          "metadata": {
            "tags": []
          },
          "execution_count": 3
        }
      ]
    },
    {
      "cell_type": "markdown",
      "metadata": {
        "id": "OU7v84O-sgXT",
        "colab_type": "text"
      },
      "source": [
        " - [^ 문자 기호\n",
        "  - ^와는 완전히 다른 의미\n",
        "  - 여기서는 ^ 기호 뒤에 붙은 문자들을 제외한 모든 문자 매치하는 역할을 함.\n",
        "  - [^ abc] 라는 정규 표현식이 있다면, a 또는 b 또는 c가 들어간 문자열을 제외한 모든 문자열을 매치.\n",
        "  i"
      ]
    },
    {
      "cell_type": "code",
      "metadata": {
        "id": "ewkWM9pjsucH",
        "colab_type": "code",
        "colab": {}
      },
      "source": [
        "mport re\n",
        "r=re.compile(\"[^abc]\")\n",
        "r.search(\"a\") # 아무런 결과도 출력되지 않는다.\n",
        "r.search(\"ab\") # 아무런 결과도 출력되지 않는다.\n",
        "r.search(\"b\") # 아무런 결과도 출력되지 않는다.\n",
        "r.search(\"d\")"
      ],
      "execution_count": 0,
      "outputs": []
    },
    {
      "cell_type": "markdown",
      "metadata": {
        "id": "pbzd-Uvct7yt",
        "colab_type": "text"
      },
      "source": [
        "### 정규 표현식 모듈 함수 예제\n",
        " - 지금까지 정규 표현시 문법에 대해 이해를 위해 정규 표현식 모듈 함수 중에서 re.compile()과 re.serach()를 사용함.\n",
        " - 다른 정규 표현식 모듈 함수 예제\n",
        "\n",
        "  - re.match() 와 re.search() 차이\n",
        "   -search()가 정규 표현식 전체에 대해서 문자열이 매치 하는지를 본다면, match()는 문자열의 첫 부분부터 정규 표현식과 매치하는지를 확인.\n",
        "\n",
        "   - 문자열 중간에 찾을 패턴이 있다고 하더라도, match 함수는 문자열의 시작에서 패턴이 일치하지 않으면 찾지 않음.\n",
        "\n",
        "   \n",
        "\n",
        "\n",
        "\n",
        " #### re.match()"
      ]
    },
    {
      "cell_type": "code",
      "metadata": {
        "id": "7brqj02JwSXL",
        "colab_type": "code",
        "colab": {
          "base_uri": "https://localhost:8080/",
          "height": 34
        },
        "outputId": "3beac26a-62b4-4a4e-d225-c3faffc43223"
      },
      "source": [
        "import re\n",
        "r = re.compile(\"ab.\")\n",
        "\n",
        "r.search(\"kkkabc\") # <_sre.SRE_Match object; span=(3, 6), match='abc'>\n",
        "\n",
        "r.match(\"kkkabc\")\n",
        "\n",
        "r.match(\"abckkk\") # <_sre.SRE_Match object; span=(0, 3), match='abc'>\n",
        "# ab. 다음에는 어떤 한 글자가 조재할 수 있다는 패턴을 의미.\n",
        "# search 모듈 함수에 kkabc라는 문자열을 넣어 매치되는지 확인한다면.\n",
        "# abc라는 문자열에 매치되어 Match object를 리턴.\n",
        "# 하지만 match 모듈 함수의 경우 앞 부분이 ab.와 매치되지 않기 때문에, 아무런 결과도 출력되지 않음.\n",
        "# 시작 부분에서 패턴과 매치되었기 때문에 정상적으로 Match object를 리턴.\n"
      ],
      "execution_count": 6,
      "outputs": [
        {
          "output_type": "execute_result",
          "data": {
            "text/plain": [
              "<_sre.SRE_Match object; span=(0, 3), match='abc'>"
            ]
          },
          "metadata": {
            "tags": []
          },
          "execution_count": 6
        }
      ]
    },
    {
      "cell_type": "markdown",
      "metadata": {
        "id": "_1swgRHJw_Gz",
        "colab_type": "text"
      },
      "source": [
        "#### re.split()\n",
        " - split() 함수는 입력된 정규 표현식을 기준으로 문자열들을 분리하여 리스트로 리턴.\n",
        " - 자연어 처리에 있어서 가장 많이 사용되는 정규 표현식 함수 중 하나,\n",
        "\n",
        "\n",
        " "
      ]
    },
    {
      "cell_type": "code",
      "metadata": {
        "id": "UbU5a1svxPox",
        "colab_type": "code",
        "colab": {
          "base_uri": "https://localhost:8080/",
          "height": 34
        },
        "outputId": "93f22da9-db91-4b0f-f1f7-cdf9a9911bca"
      },
      "source": [
        "import re\n",
        "text=\"사과 딸기 수박 메론 바나나\"\n",
        "re.split(\" \",text)"
      ],
      "execution_count": 8,
      "outputs": [
        {
          "output_type": "execute_result",
          "data": {
            "text/plain": [
              "['사과', '딸기', '수박', '메론', '바나나']"
            ]
          },
          "metadata": {
            "tags": []
          },
          "execution_count": 8
        }
      ]
    },
    {
      "cell_type": "code",
      "metadata": {
        "id": "3WvECDTYyKoa",
        "colab_type": "code",
        "colab": {
          "base_uri": "https://localhost:8080/",
          "height": 34
        },
        "outputId": "6560bd32-ce92-43b0-ea8f-6146b0eae5fa"
      },
      "source": [
        "import re\n",
        "text=\"\"\"사과\n",
        "딸기\n",
        "수박\n",
        "메론\n",
        "바나나\"\"\"\n",
        "re.split(\"\\n\",text)"
      ],
      "execution_count": 9,
      "outputs": [
        {
          "output_type": "execute_result",
          "data": {
            "text/plain": [
              "['사과', '딸기', '수박', '메론', '바나나']"
            ]
          },
          "metadata": {
            "tags": []
          },
          "execution_count": 9
        }
      ]
    },
    {
      "cell_type": "code",
      "metadata": {
        "id": "ConhhzY4yTvL",
        "colab_type": "code",
        "colab": {
          "base_uri": "https://localhost:8080/",
          "height": 34
        },
        "outputId": "66d8eb88-1b20-471c-d2ee-f46ab20c7ba0"
      },
      "source": [
        "import re\n",
        "text=\"사과*딸기*수박*메론*바나나\"\n",
        "re.split(\"\\+\", text)"
      ],
      "execution_count": 10,
      "outputs": [
        {
          "output_type": "execute_result",
          "data": {
            "text/plain": [
              "['사과*딸기*수박*메론*바나나']"
            ]
          },
          "metadata": {
            "tags": []
          },
          "execution_count": 10
        }
      ]
    },
    {
      "cell_type": "code",
      "metadata": {
        "id": "m4oL76Thydu8",
        "colab_type": "code",
        "colab": {}
      },
      "source": [
        "#### re.findall()\n",
        " - 함수는 정규 표현식과 매치되는 모든 문자열들을 리스트로 리턴하니다. 단, 매치 되는 문자열이 없다면 빈 리스트를 리턴.\n",
        " "
      ],
      "execution_count": 0,
      "outputs": []
    },
    {
      "cell_type": "code",
      "metadata": {
        "id": "K0eGcKs_yuWT",
        "colab_type": "code",
        "colab": {
          "base_uri": "https://localhost:8080/",
          "height": 34
        },
        "outputId": "cc5dff22-1bf5-4663-ede6-946050f07ad8"
      },
      "source": [
        "import re\n",
        "text=\"\"\"이름 : 김철수\n",
        "전화번호 : 010 - 1234 - 1234\n",
        "나이 : 30\n",
        "성별 : 남\"\"\"  \n",
        "re.findall(\"\\d+\",text)\n",
        "# 정규 표현식으로 숫자를 입려가핮, 전체 텍스트로부터 숫자만 찾아내서 리스트로 리턴하는 것을 볼 수 있습니다.\n",
        "# 만약 입력 텍스트에 숫자가 없다면 빈 리스트를 리턴.\n",
        "\n",
        "re.findall(\"\\d+\",\"문자열입니다.\")\n",
        "\n"
      ],
      "execution_count": 15,
      "outputs": [
        {
          "output_type": "execute_result",
          "data": {
            "text/plain": [
              "[]"
            ]
          },
          "metadata": {
            "tags": []
          },
          "execution_count": 15
        }
      ]
    },
    {
      "cell_type": "markdown",
      "metadata": {
        "id": "5GxzNxH6zFlh",
        "colab_type": "text"
      },
      "source": [
        "#### re.sub()\n",
        " - 함수는 정규 표현식 패턴과 일치 하는 문자열을 찾아 다른 문자열로 대체할 수 있다."
      ]
    },
    {
      "cell_type": "code",
      "metadata": {
        "id": "slJ-93hRzLZp",
        "colab_type": "code",
        "colab": {
          "base_uri": "https://localhost:8080/",
          "height": 54
        },
        "outputId": "9b1c96b7-6376-46b0-dde2-7fcb05209f2d"
      },
      "source": [
        "import re\n",
        "text=\"Regular expression : A regular expression, regex or regexp[1] (sometimes called a rational expression)[2][3] is, in theoretical computer science and formal language theory, a sequence of characters that define a search pattern.\"\n",
        "re.sub('[^a-zA-Z]',' ',text)\n",
        "# 영어 문자에 각주 등과 같은 이유로 특수 문자가 섞여있으며, 자연어 처리를 위해 특수 문자를 제거하고 싶다면\n",
        "# 알파벳 외의 문자는 공백으로 처리하는 등으로 사용."
      ],
      "execution_count": 16,
      "outputs": [
        {
          "output_type": "execute_result",
          "data": {
            "text/plain": [
              "'Regular expression   A regular expression  regex or regexp     sometimes called a rational expression        is  in theoretical computer science and formal language theory  a sequence of characters that define a search pattern '"
            ]
          },
          "metadata": {
            "tags": []
          },
          "execution_count": 16
        }
      ]
    },
    {
      "cell_type": "markdown",
      "metadata": {
        "id": "zD4kpnrGzdDn",
        "colab_type": "text"
      },
      "source": [
        "### 정규 표현식 텍스트 전처리 예제\n"
      ]
    },
    {
      "cell_type": "code",
      "metadata": {
        "id": "iGScha2pzeym",
        "colab_type": "code",
        "colab": {
          "base_uri": "https://localhost:8080/",
          "height": 34
        },
        "outputId": "62349d71-ae2a-4c8d-eabc-f0b02f30ffc3"
      },
      "source": [
        "import re  \n",
        "\n",
        "text = \"\"\"100 John    PROF\n",
        "101 James   STUD\n",
        "102 Mac   STUD\"\"\"  \n",
        "\n",
        "re.split('\\s+', text)  \n",
        "\n",
        "#'\\s+'는 공백을 찾아내는 정규표현식입니다. 뒤에 붙는 +는 최소 1개 이상의 패턴을 찾아낸다는 의미입니다.\n",
        "# s는 공백을 의미하기 때문에 최소 1개 이상의 공백인 패턴을 찾아냄.\n",
        "# "
      ],
      "execution_count": 18,
      "outputs": [
        {
          "output_type": "execute_result",
          "data": {
            "text/plain": [
              "['100', 'John', 'PROF', '101', 'James', 'STUD', '102', 'Mac', 'STUD']"
            ]
          },
          "metadata": {
            "tags": []
          },
          "execution_count": 18
        }
      ]
    },
    {
      "cell_type": "code",
      "metadata": {
        "id": "jqeL0EVfz4hx",
        "colab_type": "code",
        "colab": {
          "base_uri": "https://localhost:8080/",
          "height": 34
        },
        "outputId": "55d95d5e-028b-4055-a3f4-9ce936f32a7d"
      },
      "source": [
        "re.findall('\\d+',text)  \n",
        "# 숫자에 해당되는 정규표현식 +를 붙였으므로 최소 1개이상의 숫자에 해당하는 값을 의미함. \n",
        "# findall은 해당 정규 표현식에 일치하는 값을 찾아내는 메소드\n",
        "\n",
        "\n"
      ],
      "execution_count": 19,
      "outputs": [
        {
          "output_type": "execute_result",
          "data": {
            "text/plain": [
              "['100', '101', '102']"
            ]
          },
          "metadata": {
            "tags": []
          },
          "execution_count": 19
        }
      ]
    },
    {
      "cell_type": "markdown",
      "metadata": {
        "id": "p_GeLDEa0nwM",
        "colab_type": "text"
      },
      "source": [
        "- 해당 코드의 결과는 위와 같습니다. 이번에는 텍스트로부터 대문자인 행의 값만 가져오고 싶다고 합시다. 이 경우에는 정규 표현식에 대문자를 기준으로 매치시키면 됩니다. 하지만 정규 표현식에 대문자라는 기준만을 넣을 경우에는 문자열을 가져오는 것이 아니라 모든 대문자 각각을 갖고오게 됩니다."
      ]
    },
    {
      "cell_type": "code",
      "metadata": {
        "id": "5SrVf3ut0rrT",
        "colab_type": "code",
        "colab": {
          "base_uri": "https://localhost:8080/",
          "height": 34
        },
        "outputId": "7008df31-99f2-45e0-8bf4-3d30007d67c2"
      },
      "source": [
        "re.findall('[A-Z]',text)"
      ],
      "execution_count": 20,
      "outputs": [
        {
          "output_type": "execute_result",
          "data": {
            "text/plain": [
              "['J', 'P', 'R', 'O', 'F', 'J', 'S', 'T', 'U', 'D', 'M', 'S', 'T', 'U', 'D']"
            ]
          },
          "metadata": {
            "tags": []
          },
          "execution_count": 20
        }
      ]
    },
    {
      "cell_type": "markdown",
      "metadata": {
        "id": "LgRcVioR05Da",
        "colab_type": "text"
      },
      "source": [
        "- 여러가지 방법이 있겠찌만, 대문자가 연속적으로 4번 등장하는 경우로 조건을 추가."
      ]
    }
  ]
}