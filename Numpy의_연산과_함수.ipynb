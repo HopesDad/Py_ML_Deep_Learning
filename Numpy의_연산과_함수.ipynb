{
  "nbformat": 4,
  "nbformat_minor": 0,
  "metadata": {
    "colab": {
      "name": "Numpy의 연산과 함수.ipynb",
      "provenance": [],
      "authorship_tag": "ABX9TyOwUOTLQj+MKHJNWxayBbtQ"
    },
    "kernelspec": {
      "name": "python3",
      "display_name": "Python 3"
    }
  },
  "cells": [
    {
      "cell_type": "markdown",
      "metadata": {
        "id": "5GFmHOAl6Um5",
        "colab_type": "text"
      },
      "source": [
        "## Numpy의 연산과 함수\n",
        "\n",
        "\n",
        "> Numpy는 배열에 대한 기본적인  사칙연산을 지원.\n",
        "\n"
      ]
    },
    {
      "cell_type": "markdown",
      "metadata": {
        "id": "v0mU-vG06ZNg",
        "colab_type": "text"
      },
      "source": [
        "- Python의 Numpy 라이브러리는 기본적인 상수 연산이 가능합니다."
      ]
    },
    {
      "cell_type": "code",
      "metadata": {
        "id": "aBydKNck35pY",
        "colab_type": "code",
        "colab": {
          "base_uri": "https://localhost:8080/",
          "height": 54
        },
        "outputId": "176545fe-ec8b-4cb3-a883-e3291548d204"
      },
      "source": [
        "import numpy as np\n",
        "\n",
        "array = np.random.randint(1, 10 , size=4).reshape(2,2)\n",
        "result_array = array * 10\n",
        "print(result_array)"
      ],
      "execution_count": 1,
      "outputs": [
        {
          "output_type": "stream",
          "text": [
            "[[60 50]\n",
            " [90 60]]\n"
          ],
          "name": "stdout"
        }
      ]
    },
    {
      "cell_type": "markdown",
      "metadata": {
        "id": "n0UbOcj861y-",
        "colab_type": "text"
      },
      "source": [
        "- 서로 다른 형태의 Numpy 연산이 가능합니다.\n"
      ]
    },
    {
      "cell_type": "code",
      "metadata": {
        "id": "97mnJzsF63_s",
        "colab_type": "code",
        "colab": {
          "base_uri": "https://localhost:8080/",
          "height": 163
        },
        "outputId": "52486923-1fd3-4637-aea7-a9a36f85eb1e"
      },
      "source": [
        "import numpy as np\n",
        "\n",
        "array1 = np.arange(4).reshape(2,2)\n",
        "print(array1)\n",
        "print(\"------------------------\")\n",
        "array2 = np.arange(2)\n",
        "print(array2)\n",
        "print(\"---------------------\")\n",
        "array3 = array1 + array2\n",
        "print(array3)\n",
        "print(\"---------------------\")"
      ],
      "execution_count": 10,
      "outputs": [
        {
          "output_type": "stream",
          "text": [
            "[[0 1]\n",
            " [2 3]]\n",
            "------------------------\n",
            "[0 1]\n",
            "---------------------\n",
            "[[0 2]\n",
            " [2 4]]\n",
            "---------------------\n"
          ],
          "name": "stdout"
        }
      ]
    },
    {
      "cell_type": "code",
      "metadata": {
        "id": "5yo37xvj8Ae3",
        "colab_type": "code",
        "colab": {
          "base_uri": "https://localhost:8080/",
          "height": 326
        },
        "outputId": "5c1772e3-28c3-406a-8e13-fca456e0a28d"
      },
      "source": [
        "import numpy as np\n",
        "\n",
        "array1 = np.arange(0, 8).reshape(2,4)\n",
        "print(array1)\n",
        "print(\"-------------------------------------\")\n",
        "array2 = np.arange(0, 8).reshape(2,4)\n",
        "array3 = np.concatenate([array1, array2], axis=0)\n",
        "print(array3)\n",
        "print(\"--------------------------------------\")\n",
        "array4 = np.arange(0,4).reshape(4,1)\n",
        "\n",
        "print(array4)\n",
        "print(\"----------------------------------\")\n",
        "\n",
        "print(array3 + array4)\n"
      ],
      "execution_count": 15,
      "outputs": [
        {
          "output_type": "stream",
          "text": [
            "[[0 1 2 3]\n",
            " [4 5 6 7]]\n",
            "-------------------------------------\n",
            "[[0 1 2 3]\n",
            " [4 5 6 7]\n",
            " [0 1 2 3]\n",
            " [4 5 6 7]]\n",
            "--------------------------------------\n",
            "[[0]\n",
            " [1]\n",
            " [2]\n",
            " [3]]\n",
            "----------------------------------\n",
            "[[ 0  1  2  3]\n",
            " [ 5  6  7  8]\n",
            " [ 2  3  4  5]\n",
            " [ 7  8  9 10]]\n"
          ],
          "name": "stdout"
        }
      ]
    },
    {
      "cell_type": "markdown",
      "metadata": {
        "id": "KHYZnlo_99e_",
        "colab_type": "text"
      },
      "source": [
        "- Numpy의 마스킹 연산이 가능합니다."
      ]
    },
    {
      "cell_type": "code",
      "metadata": {
        "id": "HkQtgXKR9_sm",
        "colab_type": "code",
        "colab": {
          "base_uri": "https://localhost:8080/",
          "height": 272
        },
        "outputId": "e266db47-c27a-45e3-b229-5b917177172a"
      },
      "source": [
        "import numpy as np\n",
        "\n",
        "# Numpy 원소의 값을 조건에 따라 바꿀 때는 다음과 같이 합니다.\n",
        "# 반복문을 이용할 때보다 매우 빠르게 동작합니다.\n",
        "# 대체로 이미지 처리(Image Prossing)에서 자주 활용\n",
        "array1 = np.arange(16).reshape(4,4)\n",
        "print(array1)\n",
        "\n",
        "print(\"---------------------------\")\n",
        "\n",
        "array2 = array1 <10\n",
        "print(array2)\n",
        "print(\"----------------------------\")\n",
        "\n",
        "array1[array2] = 1000\n",
        "print(array1)"
      ],
      "execution_count": 18,
      "outputs": [
        {
          "output_type": "stream",
          "text": [
            "[[ 0  1  2  3]\n",
            " [ 4  5  6  7]\n",
            " [ 8  9 10 11]\n",
            " [12 13 14 15]]\n",
            "---------------------------\n",
            "[[ True  True  True  True]\n",
            " [ True  True  True  True]\n",
            " [ True  True False False]\n",
            " [False False False False]]\n",
            "----------------------------\n",
            "[[1000 1000 1000 1000]\n",
            " [1000 1000 1000 1000]\n",
            " [1000 1000   10   11]\n",
            " [  12   13   14   15]]\n"
          ],
          "name": "stdout"
        }
      ]
    },
    {
      "cell_type": "markdown",
      "metadata": {
        "id": "MFAWhVun-fkv",
        "colab_type": "text"
      },
      "source": [
        "- Numpy는 다양한 집계 함수가 존재합니다.\n",
        "\n"
      ]
    },
    {
      "cell_type": "code",
      "metadata": {
        "id": "qA9dj6p6-hYf",
        "colab_type": "code",
        "colab": {
          "base_uri": "https://localhost:8080/",
          "height": 90
        },
        "outputId": "45a5a897-eaf4-4e26-e025-c0a559377877"
      },
      "source": [
        "import numpy as np\n",
        "\n",
        "array = np.arange(16).reshape(4, 4)\n",
        "\n",
        "print(\"최대값:\", np.max(array))\n",
        "print(\"최소값:\", np.min(array))\n",
        "print(\"합계:\", np.sum(array))\n",
        "print(\"평균값:\", np.mean(array))"
      ],
      "execution_count": 23,
      "outputs": [
        {
          "output_type": "stream",
          "text": [
            "최대값: 15\n",
            "최소값: 0\n",
            "합계: 120\n",
            "평균값: 7.5\n"
          ],
          "name": "stdout"
        }
      ]
    },
    {
      "cell_type": "code",
      "metadata": {
        "id": "F5AUpDnz-4Xn",
        "colab_type": "code",
        "colab": {
          "base_uri": "https://localhost:8080/",
          "height": 108
        },
        "outputId": "4fbdc249-f424-40e4-b571-f03959f089d4"
      },
      "source": [
        "import numpy as np\n",
        "\n",
        "array = np.arange(16).reshape(4,4)\n",
        "\n",
        "print(array)\n",
        "\n",
        "print(\"합계 : \", np.sum(array, axis=0))\n"
      ],
      "execution_count": 28,
      "outputs": [
        {
          "output_type": "stream",
          "text": [
            "[[ 0  1  2  3]\n",
            " [ 4  5  6  7]\n",
            " [ 8  9 10 11]\n",
            " [12 13 14 15]]\n",
            "합계 :  [24 28 32 36]\n"
          ],
          "name": "stdout"
        }
      ]
    }
  ]
}