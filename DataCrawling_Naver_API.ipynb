{
  "nbformat": 4,
  "nbformat_minor": 0,
  "metadata": {
    "colab": {
      "name": "DataCrawling_Naver_API.ipynb",
      "provenance": [],
      "authorship_tag": "ABX9TyPBdl+Uc+Em4jsZg1sETZOi"
    },
    "kernelspec": {
      "name": "python3",
      "display_name": "Python 3"
    }
  },
  "cells": [
    {
      "cell_type": "markdown",
      "metadata": {
        "id": "-Wntx1YAeYDp",
        "colab_type": "text"
      },
      "source": [
        "# 네이버 개발자센터에서 가져온 API입니다. \n",
        " - 너무 소스가 길기 때문에 간략하게 정리 해보겠습니다.\n"
      ]
    },
    {
      "cell_type": "code",
      "metadata": {
        "id": "zaHqItvhN2d8",
        "colab_type": "code",
        "colab": {}
      },
      "source": [
        "#-*- coding: utf-8 -*-\n",
        "import os\n",
        "import sys\n",
        "import urllib.request\n",
        "client_id = \"YOUR_CLIENT_ID\"\n",
        "client_secret = \"YOUR_CLIENT_SECRET\"\n",
        "url = \"https://openapi.naver.com/v1/datalab/search\";\n",
        "body = \"{\\\"startDate\\\":\\\"2017-01-01\\\",\\\"endDate\\\":\\\"2017-04-30\\\",\\\"timeUnit\\\":\\\"month\\\",\\\"keywordGroups\\\":[{\\\"groupName\\\":\\\"한글\\\",\\\"keywords\\\":[\\\"한글\\\",\\\"korean\\\"]},{\\\"groupName\\\":\\\"영어\\\",\\\"keywords\\\":[\\\"영어\\\",\\\"english\\\"]}],\\\"device\\\":\\\"pc\\\",\\\"ages\\\":[\\\"1\\\",\\\"2\\\"],\\\"gender\\\":\\\"f\\\"}\";\n",
        "\n",
        "request = urllib.request.Request(url)\n",
        "request.add_header(\"X-Naver-Client-Id\",client_id)\n",
        "request.add_header(\"X-Naver-Client-Secret\",client_secret)\n",
        "request.add_header(\"Content-Type\",\"application/json\")\n",
        "response = urllib.request.urlopen(request, data=body.encode(\"utf-8\"))\n",
        "rescode = response.getcode()\n",
        "if(rescode==200):\n",
        "    response_body = response.read()\n",
        "    print(response_body.decode('utf-8'))\n",
        "else:\n",
        "    print(\"Error Code:\" + rescode)\n",
        "\n"
      ],
      "execution_count": 0,
      "outputs": []
    },
    {
      "cell_type": "code",
      "metadata": {
        "id": "FjX07EHIejIR",
        "colab_type": "code",
        "colab": {}
      },
      "source": [
        "#간략하게 정리한 소스 \n"
      ],
      "execution_count": 0,
      "outputs": []
    },
    {
      "cell_type": "code",
      "metadata": {
        "id": "pJSO3l9aekZK",
        "colab_type": "code",
        "colab": {}
      },
      "source": [
        "import requests\n",
        "from urllib.parse import urlparse\n",
        "\n",
        "url = \"https://openapi.naver.com/v1/search/blog?query\" + keyword\n",
        "\n",
        "result = requests.get(urlparse(url).geturl(),\n",
        "                      headers={\"X-Naver-Clinet-Id\":\"YOUR_CLIENT_ID\",\n",
        "                               \"X-Naver-Client-Secret\":\"YOUR_CLIENT_SECRET\"})\n",
        "\n",
        "\n",
        "json_obj = result.json()\n",
        "\n",
        "print(json_obj)"
      ],
      "execution_count": 0,
      "outputs": []
    }
  ]
}