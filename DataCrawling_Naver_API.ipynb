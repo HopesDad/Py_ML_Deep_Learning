{
  "nbformat": 4,
  "nbformat_minor": 0,
  "metadata": {
    "colab": {
      "name": "DataCrawling_Naver_API.ipynb",
      "provenance": [],
      "collapsed_sections": [],
      "toc_visible": true,
      "mount_file_id": "1VLM3NH5EUaJk5Rvgm4rUgJEBwcVxUq_C",
      "authorship_tag": "ABX9TyMj6a+5tfR2mk65KaLCVebA"
    },
    "kernelspec": {
      "name": "python3",
      "display_name": "Python 3"
    }
  },
  "cells": [
    {
      "cell_type": "markdown",
      "metadata": {
        "id": "-Wntx1YAeYDp",
        "colab_type": "text"
      },
      "source": [
        "# 네이버 개발자센터에서 가져온 API입니다. \n",
        " - 너무 소스가 길기 때문에 간략하게 정리 해보겠습니다.\n"
      ]
    },
    {
      "cell_type": "code",
      "metadata": {
        "id": "zaHqItvhN2d8",
        "colab_type": "code",
        "colab": {}
      },
      "source": [
        "#-*- coding: utf-8 -*-\n",
        "import os\n",
        "import sys\n",
        "import urllib.request\n",
        "client_id = \"YOUR_CLIENT_ID\"\n",
        "client_secret = \"YOUR_CLIENT_SECRET\"\n",
        "url = \"https://openapi.naver.com/v1/datalab/search\";\n",
        "body = \"{\\\"startDate\\\":\\\"2017-01-01\\\",\\\"endDate\\\":\\\"2017-04-30\\\",\\\"timeUnit\\\":\\\"month\\\",\\\"keywordGroups\\\":[{\\\"groupName\\\":\\\"한글\\\",\\\"keywords\\\":[\\\"한글\\\",\\\"korean\\\"]},{\\\"groupName\\\":\\\"영어\\\",\\\"keywords\\\":[\\\"영어\\\",\\\"english\\\"]}],\\\"device\\\":\\\"pc\\\",\\\"ages\\\":[\\\"1\\\",\\\"2\\\"],\\\"gender\\\":\\\"f\\\"}\";\n",
        "\n",
        "request = urllib.request.Request(url)\n",
        "request.add_header(\"X-Naver-Client-Id\",client_id)\n",
        "request.add_header(\"X-Naver-Client-Secret\",client_secret)\n",
        "request.add_header(\"Content-Type\",\"application/json\")\n",
        "response = urllib.request.urlopen(request, data=body.encode(\"utf-8\"))\n",
        "rescode = response.getcode()\n",
        "if(rescode==200):\n",
        "    response_body = response.read()\n",
        "    print(response_body.decode('utf-8'))\n",
        "else:\n",
        "    print(\"Error Code:\" + rescode)\n",
        "\n"
      ],
      "execution_count": 0,
      "outputs": []
    },
    {
      "cell_type": "code",
      "metadata": {
        "id": "FjX07EHIejIR",
        "colab_type": "code",
        "colab": {}
      },
      "source": [
        "#간략하게 정리한 소스 \n"
      ],
      "execution_count": 0,
      "outputs": []
    },
    {
      "cell_type": "code",
      "metadata": {
        "id": "pJSO3l9aekZK",
        "colab_type": "code",
        "outputId": "bb9061b9-de73-4825-ffc1-29fac3a0005b",
        "colab": {
          "base_uri": "https://localhost:8080/",
          "height": 35
        }
      },
      "source": [
        "import requests\n",
        "from urllib.parse import urlparse\n",
        "\n",
        "keyword = \"\"\n",
        "\n",
        "url = \"https://openapi.naver.com/v1/search/blog?query\" + keyword\n",
        "\n",
        " result = requests.get(url=url, headers = {\"X-naver-Clinet-Id\":\"ID입력\",\n",
        "                        \"X-Naver-Client-Secret\":\"Secret 입력\"})\n",
        "\n",
        "\n",
        "json_obj = result.json()\n",
        "\n",
        "print(json_obj)\n",
        "\n",
        "#KeyWord를 받아서 네이버 검색 API를 거친 후 json_obj를 반환한다.\n",
        "\n"
      ],
      "execution_count": 0,
      "outputs": [
        {
          "output_type": "stream",
          "text": [
            "{'errorMessage': 'Not Exist Client ID : Authentication failed. (인증에 실패했습니다.)', 'errorCode': '024'}\n"
          ],
          "name": "stdout"
        }
      ]
    },
    {
      "cell_type": "code",
      "metadata": {
        "id": "bVq-SoKKg_F3",
        "colab_type": "code",
        "colab": {}
      },
      "source": [
        "#이제 call 하는 함수를 만들어 키워드를 입력한 후, 그 검색 결과를 한번에 100개씩 받아보는 함수 생성\n",
        "\n",
        "import requests\n",
        "\n",
        "from urllib.parse import quote\n",
        "\n",
        "def call(keyword, start):\n",
        "  encText = quote(keyword)\n",
        "  url = \"https/openapi.naver.com/v1/search/blog?query\" + encText + \"&display=100\" + \"&start\" + str(start)\n",
        "\n",
        " result = requests.get(url=url, headers = {\"X-naver-Clinet-Id\":\"ID입력\",\n",
        "                        \"X-Naver-Client-Secret\":\"Secret 입력\"})\n",
        "  \n",
        "  print(result) # Response [200]\n",
        "  \n",
        "  return result.json()\n",
        "\n",
        "\n",
        "#dispay=100은 한번에 100개의 검색 결과를 보여준다는 것이고, &start=은 그 뒤의 숫자에 따라 어느순서의 검색 결과부터 출력하는지를 결정.\n",
        "#뒤의 숫자는 그냥 두면 int 속성을 가지게 되므로, str()을 사용하여 string으로 바꾸어 url을 완성.\n",
        "\n",
        "\n",
        "\n",
        "\n"
      ],
      "execution_count": 0,
      "outputs": []
    },
    {
      "cell_type": "markdown",
      "metadata": {
        "id": "QqWCKzAJobjW",
        "colab_type": "text"
      },
      "source": [
        "# 데이터 수집 후 저장하기\n",
        "\n",
        " - 검색 결과를 한번에 1000개 수집 json 파일에 저장"
      ]
    },
    {
      "cell_type": "code",
      "metadata": {
        "id": "1XCD98Xsosgl",
        "colab_type": "code",
        "colab": {}
      },
      "source": [
        "# api_caller.py\n",
        " \n",
        "import requests\n",
        "from urllib.parse import quote\n",
        "\n",
        "# 네이버 api call\n",
        "\n",
        "def call(keyword, start):\n",
        " encText = quote(keyword)\n",
        " result = requests.get(url=url, headers = {\"X-naver-Clinet-Id\":\"ID입력\",\n",
        "                        \"X-Naver-Client-Secret\":\"Secret 입력\"})\n",
        " \n",
        " print(result) #Resposen [200]\n",
        " return result.json()\n",
        "\n",
        "\n",
        "# 1000개의 검색 결과 받아오기\n",
        "def get1000results(keyword):\n",
        "    list = []\n",
        "    for num in range(0,10):\n",
        "        list = list + call(keyword, num * 100 + 1)[\"items\"] # list 안에 키값이 ’item’인 애들만 넣기\n",
        "    return list"
      ],
      "execution_count": 0,
      "outputs": []
    },
    {
      "cell_type": "code",
      "metadata": {
        "id": "JCS8XE2lsFE5",
        "colab_type": "code",
        "colab": {
          "base_uri": "https://localhost:8080/",
          "height": 127
        },
        "outputId": "69532db6-d79e-4787-eced-9fa621acf950"
      },
      "source": [
        "from google.colab import drive\n",
        "drive.mount(\"libs/naver_api_call\")"
      ],
      "execution_count": 21,
      "outputs": [
        {
          "output_type": "stream",
          "text": [
            "Go to this URL in a browser: https://accounts.google.com/o/oauth2/auth?client_id=947318989803-6bn6qk8qdgf4n4g3pfee6491hc0brc4i.apps.googleusercontent.com&redirect_uri=urn%3aietf%3awg%3aoauth%3a2.0%3aoob&response_type=code&scope=email%20https%3a%2f%2fwww.googleapis.com%2fauth%2fdocs.test%20https%3a%2f%2fwww.googleapis.com%2fauth%2fdrive%20https%3a%2f%2fwww.googleapis.com%2fauth%2fdrive.photos.readonly%20https%3a%2f%2fwww.googleapis.com%2fauth%2fpeopleapi.readonly\n",
            "\n",
            "Enter your authorization code:\n",
            "··········\n",
            "Mounted at libs/naver_api_call\n"
          ],
          "name": "stdout"
        }
      ]
    },
    {
      "cell_type": "code",
      "metadata": {
        "id": "oSeAyNlOxOon",
        "colab_type": "code",
        "colab": {}
      },
      "source": [
        "#함수 만듬 -> 네이버 API CALL을 하고, 1000개의 키워드 검색 결과를 받아온 후, 이를 JSON 파일 저장\n",
        "\n",
        "# 01_collect.py\n",
        "\n",
        "\n",
        "from libs.naver_api_call.api_caller import get1000results\n",
        "import json\n",
        "list= []\n",
        "result = get1000results(\"강남역 맛집\")\n",
        "result_2 = get1000results(\"강남역 찻집\")\n",
        "list = list + reulst + result_2"
      ],
      "execution_count": 0,
      "outputs": []
    },
    {
      "cell_type": "code",
      "metadata": {
        "id": "Si6YKdflxMa3",
        "colab_type": "code",
        "colab": {}
      },
      "source": [
        "# 02_analyze_pd.py\n",
        " \n",
        "import pandas as pd\n",
        " \n",
        "df = pd.read_json(\"./gangnam.json\")\n",
        "print(df.count())  # 각 key 별 숫자 출력\n",
        " \n",
        "df_sum = df.groupby(\"bloggername\").count()  # groupby() 함수를 사용하여 bloggername별로 출력\n",
        "print(df_sum)\n",
        " \n",
        "bloggernames = df['bloggername']  # bloggername 만 출력\n",
        "print(bloggernames)"
      ],
      "execution_count": 0,
      "outputs": []
    }
  ]
}