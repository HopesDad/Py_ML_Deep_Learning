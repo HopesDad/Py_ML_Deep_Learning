{
  "nbformat": 4,
  "nbformat_minor": 0,
  "metadata": {
    "colab": {
      "name": "DataCrawling_Naver_API.ipynb",
      "provenance": [],
      "collapsed_sections": [],
      "authorship_tag": "ABX9TyMf2e52s88CKLArCndZje4o"
    },
    "kernelspec": {
      "name": "python3",
      "display_name": "Python 3"
    }
  },
  "cells": [
    {
      "cell_type": "markdown",
      "metadata": {
        "id": "-Wntx1YAeYDp",
        "colab_type": "text"
      },
      "source": [
        "# 네이버 개발자센터에서 가져온 API입니다. \n",
        " - 너무 소스가 길기 때문에 간략하게 정리 해보겠습니다.\n"
      ]
    },
    {
      "cell_type": "code",
      "metadata": {
        "id": "zaHqItvhN2d8",
        "colab_type": "code",
        "colab": {}
      },
      "source": [
        "#-*- coding: utf-8 -*-\n",
        "import os\n",
        "import sys\n",
        "import urllib.request\n",
        "client_id = \"YOUR_CLIENT_ID\"\n",
        "client_secret = \"YOUR_CLIENT_SECRET\"\n",
        "url = \"https://openapi.naver.com/v1/datalab/search\";\n",
        "body = \"{\\\"startDate\\\":\\\"2017-01-01\\\",\\\"endDate\\\":\\\"2017-04-30\\\",\\\"timeUnit\\\":\\\"month\\\",\\\"keywordGroups\\\":[{\\\"groupName\\\":\\\"한글\\\",\\\"keywords\\\":[\\\"한글\\\",\\\"korean\\\"]},{\\\"groupName\\\":\\\"영어\\\",\\\"keywords\\\":[\\\"영어\\\",\\\"english\\\"]}],\\\"device\\\":\\\"pc\\\",\\\"ages\\\":[\\\"1\\\",\\\"2\\\"],\\\"gender\\\":\\\"f\\\"}\";\n",
        "\n",
        "request = urllib.request.Request(url)\n",
        "request.add_header(\"X-Naver-Client-Id\",client_id)\n",
        "request.add_header(\"X-Naver-Client-Secret\",client_secret)\n",
        "request.add_header(\"Content-Type\",\"application/json\")\n",
        "response = urllib.request.urlopen(request, data=body.encode(\"utf-8\"))\n",
        "rescode = response.getcode()\n",
        "if(rescode==200):\n",
        "    response_body = response.read()\n",
        "    print(response_body.decode('utf-8'))\n",
        "else:\n",
        "    print(\"Error Code:\" + rescode)\n",
        "\n"
      ],
      "execution_count": 0,
      "outputs": []
    },
    {
      "cell_type": "code",
      "metadata": {
        "id": "FjX07EHIejIR",
        "colab_type": "code",
        "colab": {}
      },
      "source": [
        "#간략하게 정리한 소스 \n"
      ],
      "execution_count": 0,
      "outputs": []
    },
    {
      "cell_type": "code",
      "metadata": {
        "id": "pJSO3l9aekZK",
        "colab_type": "code",
        "colab": {
          "base_uri": "https://localhost:8080/",
          "height": 35
        },
        "outputId": "bb9061b9-de73-4825-ffc1-29fac3a0005b"
      },
      "source": [
        "import requests\n",
        "from urllib.parse import urlparse\n",
        "\n",
        "keyword = \"\"\n",
        "\n",
        "url = \"https://openapi.naver.com/v1/search/blog?query\" + keyword\n",
        "\n",
        "result = requests.get(urlparse(url).geturl(),\n",
        "                      headers={\"X-Naver-Clinet-Id\":\"\",\n",
        "                               \"X-Naver-Client-Secret\":\"\"})\n",
        "\n",
        "\n",
        "json_obj = result.json()\n",
        "\n",
        "print(json_obj)\n",
        "\n",
        "#KeyWord를 받아서 네이버 검색 API를 거친 후 json_obj를 반환한다.\n",
        "\n"
      ],
      "execution_count": 5,
      "outputs": [
        {
          "output_type": "stream",
          "text": [
            "{'errorMessage': 'Not Exist Client ID : Authentication failed. (인증에 실패했습니다.)', 'errorCode': '024'}\n"
          ],
          "name": "stdout"
        }
      ]
    },
    {
      "cell_type": "code",
      "metadata": {
        "id": "bVq-SoKKg_F3",
        "colab_type": "code",
        "colab": {}
      },
      "source": [
        "#이제 call 하는 함수를 만들어 키워드를 입력한 후, 그 검색 결과를 한번에 100개씩 받아보는 함수 생성\n",
        "\n",
        "import requests\n",
        "\n",
        "from urllib.parse import quote\n",
        "\n",
        "def call(keyword, start):\n",
        "  encText = quote(keyword)\n",
        "  url = \"https/openapi.naver.com/v1/search/blog?query\" + encText + \"&display=100\" + \"&start\" + str(start)\n",
        "\n",
        "  result = requests.get(url=url, headers = {\"X-naver-Clinet-Id\":\"\",\n",
        "                        \"X-Naver-Client-Secret\":\"\"})\n",
        "  \n",
        "  print(result) # Response [200]\n",
        "  \n",
        "  return result.json()\n",
        "\n",
        "\n",
        "#dispay=100은 한번에 100개의 검색 결과를 보여준다는 것이고, &start=은 그 뒤의 숫자에 따라 어느순서의 검색 결과부터 출력하는지를 결정.\n",
        "#뒤의 숫자는 그냥 두면 int 속성을 가지게 되므로, str()을 사용하여 string으로 바꾸어 url을 완성.\n",
        "\n",
        "\n",
        "\n",
        "\n"
      ],
      "execution_count": 0,
      "outputs": []
    },
    {
      "cell_type": "markdown",
      "metadata": {
        "id": "QqWCKzAJobjW",
        "colab_type": "text"
      },
      "source": [
        "# 데이터 수집 후 저장하기\n",
        "\n",
        " - 검색 결과를 한번에 1000개 수집 json 파일에 저장"
      ]
    },
    {
      "cell_type": "code",
      "metadata": {
        "id": "1XCD98Xsosgl",
        "colab_type": "code",
        "colab": {
          "base_uri": "https://localhost:8080/",
          "height": 136
        },
        "outputId": "af334fc9-924b-43cb-b2e6-9843bfb846c6"
      },
      "source": [
        "#api_caller.py\n",
        "\n",
        "import requests\n",
        "from urllib.parser import quote\n",
        "\n",
        "# 네이버 api call\n",
        "\n",
        "def call(keyword, start):\n",
        "  encText = quote(keyword)\n",
        "result = requests.get(urlparse(url).geturl(),\n",
        "                      headers={\"X-Naver-Clinet-Id\":\"\",\n",
        "                               \"X-Naver-Client-Secret\":\"\"})\n",
        " \n",
        "print(result) #Resposen [200]\n",
        "return result.json()\n",
        "\n",
        "\n",
        "\n",
        "# 1000개의 검색 결과 받아오기\n",
        "def get1000results(keyword):\n",
        "    list = []\n",
        "    for num in range(0,10):\n",
        "        list = list + call(keyword, num * 100 + 1)[['items'] # list 안에 키값이 ’item’인 애들만 넣기\n",
        "    return list\n"
      ],
      "execution_count": 17,
      "outputs": [
        {
          "output_type": "error",
          "ename": "SyntaxError",
          "evalue": "ignored",
          "traceback": [
            "\u001b[0;36m  File \u001b[0;32m\"<ipython-input-17-6993a01d6dce>\"\u001b[0;36m, line \u001b[0;32m24\u001b[0m\n\u001b[0;31m    return list\u001b[0m\n\u001b[0m         ^\u001b[0m\n\u001b[0;31mSyntaxError\u001b[0m\u001b[0;31m:\u001b[0m invalid syntax\n"
          ]
        }
      ]
    }
  ]
}