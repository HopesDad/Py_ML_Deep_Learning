{
  "nbformat": 4,
  "nbformat_minor": 0,
  "metadata": {
    "colab": {
      "name": "Pandas기본 사용법.ipynb",
      "provenance": [],
      "authorship_tag": "ABX9TyMzKJCe9uCts2yy73Xfzl1C"
    },
    "kernelspec": {
      "name": "python3",
      "display_name": "Python 3"
    }
  },
  "cells": [
    {
      "cell_type": "markdown",
      "metadata": {
        "id": "AsQJMVKctEHR",
        "colab_type": "text"
      },
      "source": [
        "# Pandas의 기본 사용법\n",
        "\n",
        " 판다스(Pandas)란?\n",
        "\n",
        "  - 데이터를 효과적으로 처리하고, 보여줄 수 있도록 도와주는 라이브러리\n",
        "  - Numpy와 함께 사용되어 다양한 연계적인 기능을 제공\n",
        "  - 인덱스(Index)에 따라 데이터를 나열하므로 사전(Dictionary) 자료형에 가깝다\n",
        "  - 시리즈(Series)를 기본적인 자료형으로 사용합니다.\n",
        "\n"
      ]
    },
    {
      "cell_type": "code",
      "metadata": {
        "id": "IpG-xc7DtUmD",
        "colab_type": "code",
        "colab": {
          "base_uri": "https://localhost:8080/",
          "height": 105
        },
        "outputId": "44be2a79-c2c3-4194-cf6a-5b82e4efd232"
      },
      "source": [
        "# 시리즈(Series)\n",
        " # - 시리즈는 인덱스와 값으로 구성됩니다.\n",
        "\n",
        "import pandas as pd\n",
        "\n",
        "array = pd.Series(['사과', '바나나', '당근'], index=['a', 'b', 'c'])\n",
        "\n",
        "print(array)\n",
        "print(array['a'])"
      ],
      "execution_count": 3,
      "outputs": [
        {
          "output_type": "stream",
          "text": [
            "a     사과\n",
            "b    바나나\n",
            "c     당근\n",
            "dtype: object\n",
            "사과\n"
          ],
          "name": "stdout"
        }
      ]
    }
  ]
}