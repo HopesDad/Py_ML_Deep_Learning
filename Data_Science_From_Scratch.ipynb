{
  "nbformat": 4,
  "nbformat_minor": 0,
  "metadata": {
    "colab": {
      "name": "Data_Science_From_Scratch.ipynb",
      "provenance": [],
      "include_colab_link": true
    },
    "kernelspec": {
      "name": "python3",
      "display_name": "Python 3"
    }
  },
  "cells": [
    {
      "cell_type": "markdown",
      "metadata": {
        "id": "view-in-github",
        "colab_type": "text"
      },
      "source": [
        "<a href=\"https://colab.research.google.com/github/Zero-Sik/Py_ML_Deep_Learning/blob/master/Data_Science_From_Scratch.ipynb\" target=\"_parent\"><img src=\"https://colab.research.google.com/assets/colab-badge.svg\" alt=\"Open In Colab\"/></a>"
      ]
    },
    {
      "cell_type": "markdown",
      "metadata": {
        "id": "OBT9jJBLXkpV",
        "colab_type": "text"
      },
      "source": [
        "# 데이터 과학의 선형대수\n",
        " - 다양한 데이터 과학 기술과 개념을 뒷받침 해주는 분야.\n",
        "\n",
        "\n",
        " ### 벡터\n",
        "  - 벡터는 벡터끼리 더하거나 상수와 곱해지면 새로운 벡터를 생성하는 개념적인 도구이다.\n",
        "  - 벡터는 어떤 유용한 차원의 공간에 존재하는 점들이다. 대부분의 데이터, 특히 숫자로 표현된 데이터는 벡터로 표현할 수 있다. \n",
        "\n",
        "  "
      ]
    },
    {
      "cell_type": "code",
      "metadata": {
        "id": "Bg8oWhQzxUv2",
        "colab_type": "code",
        "colab": {}
      },
      "source": [
        "height_weight = [70,\n",
        "                 170,\n",
        "                 40]\n",
        "grades = [\n",
        "          90,\n",
        "          80,\n",
        "          75,\n",
        "          62\n",
        "]\n",
        "\n",
        "def vector_add(v,w):\n",
        "  #각 성분끼리 더한다\n",
        "  return [v_i + W_i\n",
        "          for v_i, w_i in zip(v,w)]\n",
        "\n",
        "\n",
        "\n",
        "def vector_subtract(v,w):\n",
        "  #각 성분끼리 뺀다\n",
        "\n",
        "  return [v_i - w_i\n",
        "          for v_i, w_i in zip(v,w)]\n",
        "\n",
        "\n",
        "# 또한, 가끔씩 벡터로 구성된 list에서 모든 벡터의 각 성분을 더하고 싶은 경우도 있다. 즉, 새로운 벡터의 첫 성분은 모든 벡터의 첫 번째 성분을 더한 값, \n",
        "# 두 번째 성분은 모든 벡터의 두 번째 성분을 더한 값등으로 구성.\n",
        "\n",
        "def vector_sum(v,w):\n",
        "  #모든 벡터의 각 성분들끼리 더한다.\n",
        "\n",
        "  result = vectors[0]                   # 첫 번째 벡터부터 시작해서\n",
        "  for vector in vectors[1:]:            #나머지 벡터들을\n",
        "    result = vector_add(result,vector)  #더해 준다.\n",
        "  return result\n",
        "\n",
        "\n",
        "# 이 방법은 벡터 list에 vector_add를 누적시켜서 적용하는 것과 다를 것이 없다. 즉, reduce를 사용해서더 간략하고 일반적인 함수로 표현할 것.\n",
        "\n",
        "def vector_sum(vectors):\n",
        "  return reduce(vector_add, vectors)\n",
        "\n",
        "\n",
        "\n",
        "  # 또한, 벡터에 스칼라를 곱해 줄 수 있어야 한다. 스칼라 곱셈은 벡터의 각 원소마다 스칼라 값을 곱해 주는 방법으로 가단하게 구현할 수 있다.\n",
        "\n",
        "\n",
        "def scalar_multiply(c,v):\n",
        "  #c는 숫자, v는 벡터\n",
        "  return [c * v_i for v_i in v]\n",
        "\n",
        "\n",
        "\n",
        "# 벡터로 구성된 list가 주어졌을 때 각 성분별 평균을 구할 수도 있다.\n",
        "\n",
        "def vector_mean(vectors):\n",
        "  #i번째 성분이 입력된 벡터의 i번째 성분의 평균을 의미하는 벡터를 계산해 준다\n",
        "  n = len(vectors)\n",
        "  return scalar_multiply(1/n, vector_sum(vectos))\n",
        "\n",
        "\n",
        "\n",
        "# 벡터의 내적은 조금 덜 중요해 보일 수 있으며, 내적은 벡터의 각 성분별 곱한 값을 더 해준 값이다.\n",
        "\n",
        "\n",
        "def dot(v,w):\n",
        "  return sum(v_i * w_i for v_i, w_i in zip(v,w))\n",
        "\n",
        "\n",
        "\n",
        "# 내적의 개념을 사용하면, 각 성분의 제곱 값의 합을 쉽게 구할 수 있음.\n",
        "\n",
        "def su_of_squares(v):\n",
        " return dot(v,v)"
      ],
      "execution_count": 0,
      "outputs": []
    },
    {
      "cell_type": "code",
      "metadata": {
        "id": "LpSIaO0g0AVX",
        "colab_type": "code",
        "colab": {}
      },
      "source": [
        "import math\n",
        "\n",
        "def magnitude(v):\n",
        "  return math.sqrt(sum_of_squares(v))  #math.sqrt는 제곱근을 계산해 주는 함수.\n",
        "\n",
        "\n",
        "\n",
        "# 두 벡터간의 거리를 계산하기 위해 필요한 모든 것이 준비 되었으며, 두 벡터간의 거리는 다음과 같다.\n",
        "\n",
        "def squared_distance(v,w):\n",
        "  return sum_of_squares(vector_subtrat(v,w))\n",
        "\n",
        "\n",
        "\n",
        "def distance(v,w):\n",
        "  return math.sqrt(squared_distance(v,w))  #간단명료.\n",
        "\n",
        "\n"
      ],
      "execution_count": 0,
      "outputs": []
    },
    {
      "cell_type": "markdown",
      "metadata": {
        "id": "Vj8m01RM0pSy",
        "colab_type": "text"
      },
      "source": [
        ""
      ]
    }
  ]
}